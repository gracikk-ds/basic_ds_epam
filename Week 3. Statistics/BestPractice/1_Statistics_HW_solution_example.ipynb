{
  "nbformat": 4,
  "nbformat_minor": 0,
  "metadata": {
    "kernelspec": {
      "display_name": "Python 3",
      "language": "python",
      "name": "python3"
    },
    "language_info": {
      "codemirror_mode": {
        "name": "ipython",
        "version": 3
      },
      "file_extension": ".py",
      "mimetype": "text/x-python",
      "name": "python",
      "nbconvert_exporter": "python",
      "pygments_lexer": "ipython3",
      "version": "3.7.6-final"
    },
    "toc": {
      "base_numbering": 1,
      "nav_menu": {},
      "number_sections": true,
      "sideBar": true,
      "skip_h1_title": false,
      "title_cell": "Table of Contents",
      "title_sidebar": "Contents",
      "toc_cell": false,
      "toc_position": {},
      "toc_section_display": true,
      "toc_window_display": false
    },
    "colab": {
      "name": "1_Statistics_HW_solution_example.ipynb",
      "provenance": [],
      "collapsed_sections": [
        "NcGsZBUYeiXF"
      ]
    }
  },
  "cells": [
    {
      "cell_type": "markdown",
      "metadata": {
        "id": "4iDoi_tKeiWT"
      },
      "source": [
        "# Homework for statistics module"
      ]
    },
    {
      "cell_type": "markdown",
      "metadata": {
        "id": "rpTApBmReiWU"
      },
      "source": [
        "Rules for code style:\n",
        "* All the code in this notebook\n",
        "* Imports are provided in the head of the notebook\n",
        "* All the cells could be ran in the right order from the top to the bottom\n",
        "* Commentaries are required\n",
        "* All the plots should have: title, axis labels and summaries (if necessary)\n",
        "* Main summaries are provided in cells using markdown **(your analysis of the results and data is very important!!!)**\n",
        "* Try to use functions and classes to reduce duplicated code blocks to minimum\n",
        "\n",
        "Also you can use $\\LaTeX$ to write formulas. F.e. $\\bar{y} = \\frac{1}{n}\\sum_{i=1}^n \\hat{x}_i$ or on a new line:\n",
        "$$\n",
        "    \\bar{y} = \\frac{1}{n}\\sum_{i=1}^n \\hat{x}_i\n",
        "$$\n",
        "To do so, you can write anything between $\\$ \\quad \\$$ (или $ \\$\\$ \\quad\\$\\$ $)."
      ]
    },
    {
      "cell_type": "markdown",
      "metadata": {
        "id": "WDi2Y6V_eiWU"
      },
      "source": [
        "### Criteria (50 points total):\n",
        "* Task 1 (17 points)\n",
        "\n",
        "    * Requested formulas are provided - 4 points\n",
        "    * All necessary experiments are done - 6 points\n",
        "    * Results are analysed with commentaries - 7 points\n",
        "* Tasks 2.1 и 2.2 (16 points)\n",
        "\n",
        "    * Visualization and/or simple exploratory data analysis are implemented - 2 points\n",
        "    * Hypotheses are tested - 2 points\n",
        "    * Results are analysed with commentaries - 4 points\n",
        "* Task 3 (13 points)\n",
        "\n",
        "    * Visualization and/or simple exploratory data analysis are implemented - 2 points\n",
        "    * Hypotheses are tested - 4 points\n",
        "    * Data was aggregated properly - 2 points\n",
        "    * Results are analysed with commentaries - 5 points\n",
        "* Extra points:\n",
        "\n",
        "    * 4 points in case clear, \"pythonic\" and understandable code style.\n",
        "\n",
        "Good work: 40+ points."
      ]
    },
    {
      "cell_type": "code",
      "metadata": {
        "id": "PElB6m7SeiWV",
        "colab": {
          "base_uri": "https://localhost:8080/"
        },
        "outputId": "6354f909-1778-44da-92ec-9c314b8281b4"
      },
      "source": [
        "!pip install bds_courseware \n",
        "\n",
        "from bds_courseware import read_drive_dataset\n",
        "from bds_courseware import HOMEWORK_DATASETS\n",
        "\n",
        "import pandas as pd\n",
        "import numpy as np\n",
        "import scipy.stats as st\n",
        "import math\n",
        "\n",
        "import matplotlib.pyplot as plt\n",
        "%matplotlib inline\n",
        "\n",
        "import seaborn as sns\n",
        "plt.style.use('bmh')\n",
        "\n",
        "from pylab import rcParams\n",
        "\n",
        "# plots in svg look more precise\n",
        "%config InlineBackend.figure_format = 'svg'"
      ],
      "execution_count": null,
      "outputs": [
        {
          "output_type": "stream",
          "text": [
            "Requirement already satisfied: bds_courseware in /usr/local/lib/python3.7/dist-packages (1.0.3)\n",
            "Requirement already satisfied: gdown in /usr/local/lib/python3.7/dist-packages (from bds_courseware) (3.6.4)\n",
            "Requirement already satisfied: pandas>=1.0.5 in /usr/local/lib/python3.7/dist-packages (from bds_courseware) (1.1.5)\n",
            "Requirement already satisfied: pytz>=2017.2 in /usr/local/lib/python3.7/dist-packages (from pandas>=1.0.5->bds_courseware) (2018.9)\n",
            "Requirement already satisfied: numpy>=1.15.4 in /usr/local/lib/python3.7/dist-packages (from pandas>=1.0.5->bds_courseware) (1.19.5)\n",
            "Requirement already satisfied: python-dateutil>=2.7.3 in /usr/local/lib/python3.7/dist-packages (from pandas>=1.0.5->bds_courseware) (2.8.1)\n",
            "Requirement already satisfied: six>=1.5 in /usr/local/lib/python3.7/dist-packages (from python-dateutil>=2.7.3->pandas>=1.0.5->bds_courseware) (1.15.0)\n",
            "Requirement already satisfied: requests in /usr/local/lib/python3.7/dist-packages (from gdown->bds_courseware) (2.23.0)\n",
            "Requirement already satisfied: tqdm in /usr/local/lib/python3.7/dist-packages (from gdown->bds_courseware) (4.41.1)\n",
            "Requirement already satisfied: chardet<4,>=3.0.2 in /usr/local/lib/python3.7/dist-packages (from requests->gdown->bds_courseware) (3.0.4)\n",
            "Requirement already satisfied: idna<3,>=2.5 in /usr/local/lib/python3.7/dist-packages (from requests->gdown->bds_courseware) (2.10)\n",
            "Requirement already satisfied: certifi>=2017.4.17 in /usr/local/lib/python3.7/dist-packages (from requests->gdown->bds_courseware) (2021.5.30)\n",
            "Requirement already satisfied: urllib3!=1.25.0,!=1.25.1,<1.26,>=1.21.1 in /usr/local/lib/python3.7/dist-packages (from requests->gdown->bds_courseware) (1.24.3)\n"
          ],
          "name": "stdout"
        }
      ]
    },
    {
      "cell_type": "markdown",
      "metadata": {
        "id": "n1KtvaVFeiWY"
      },
      "source": [
        "# Task 1\n",
        "\n",
        "## Stratification\n",
        "\n",
        "The example:\n",
        "\n",
        "Let's assume, we need to estimate a mean votes count for every election candidate. Suppose there are 3 cities in a country: 1 million factory workers live in city A, 2 million office workers live in city B, and 3 million senior citizens live in city B. We can choose a random sample of 60 votes from the entire population, but there is some chance that the random sample will be poorly balanced between these cities and, therefore, will be biased and of little use (\"average temperature in the hospital\"), causing a significant error in the estimation. Instead, if we choose to use a simple random sample of 10, 20 and 30 votes from cities A, B and C, respectively, we can get a smaller error in the estimate with the same total sample size. This technique is called stratification.\n",
        "\n",
        "\n",
        "### The task\n",
        "\n",
        "Suppose the population is a mixture of 3 normally distributed CBs. In other words, the population can be divided into 3 strata.\n",
        "$$\n",
        "    F(X) = a_1 F(X_1) + a_2 F(X_2) + a_3 F(X_3)\n",
        "$$\n",
        "\n",
        "**Goals:**  \n",
        "\n",
        "1. Derive (for example, in the block below, using Markdown) the formulas for point estimates of the mathematical expectation and variance for the average value of subsamples formed in different ways:\n",
        "- random selection from the entire population;\n",
        "- random selection of strata in proportion to shares;\n",
        "- random selection according to the optimal sub-sampling.\n",
        "\n",
        "2. Calculate point estimates of the mathematical expectation and variance of the mean value for each data sampling method from p.1, provided:\n",
        "* Experiments should be conducted for 3 cases (for every method from p.1 each):\n",
        "     * all strata have the same mat. expectations and variance;\n",
        "     * strata have different mat. expectations, but the same variance;\n",
        "     * strata have different mat. expectations and variance.\n",
        "* For each sampling method plot histogram of General Population data (using matplotlib or seaborn packages);\n",
        "* Plot boxplots for sample mean estimated using each sampling method on a single figure to compare the results. Repeat for each experiment.\n",
        "* You are provided with `GeneralPopulation` class. It already has all necessary methods for sampling and creating general population as a mixture of strata.\n",
        "* Your goal is to write functions to conduct experiments and visualize the results.\n",
        "* Also provide commentaries as summaries and analysis of results after each visualization.\n",
        "\n"
      ]
    },
    {
      "cell_type": "markdown",
      "metadata": {
        "id": "rWcWGrjEeiWY"
      },
      "source": [
        "## Solution for Task 1"
      ]
    },
    {
      "cell_type": "markdown",
      "metadata": {
        "id": "9VKm24xHeiWZ"
      },
      "source": [
        "### Formulas:"
      ]
    },
    {
      "cell_type": "markdown",
      "metadata": {
        "id": "o8N9c3toeiWZ"
      },
      "source": [
        "$x_1, x_2, ..., x_N$ - general population (GP) with volume $N$."
      ]
    },
    {
      "cell_type": "markdown",
      "metadata": {
        "id": "MUSsXX2LeiWZ"
      },
      "source": [
        "Methematical expectation (ME) for GP:"
      ]
    },
    {
      "cell_type": "markdown",
      "metadata": {
        "id": "toC1RSXBeiWa"
      },
      "source": [
        "$$\n",
        "\\mu = \\frac{1}{N} \\sum_{i=1}^N x_i\n",
        "$$"
      ]
    },
    {
      "cell_type": "markdown",
      "metadata": {
        "id": "56IpbupveiWa"
      },
      "source": [
        "We assume that objects are sampled from GP randomly <b>with replacement</b>\n",
        "\n",
        "$(X_1, X_2, ..., X_n)$ - sample from GP.\n",
        "\n",
        "$n$ - sample volume."
      ]
    },
    {
      "cell_type": "markdown",
      "metadata": {
        "id": "aiYJ8eA_eiWb"
      },
      "source": [
        "Pointwise <b>ME estimation</b> for GP is sample mean:"
      ]
    },
    {
      "cell_type": "markdown",
      "metadata": {
        "id": "ns3jUdiUeiWb"
      },
      "source": [
        "$$\n",
        "\\bar{X} = \\frac{1}{n} \\sum_{i=1}^n X_i\n",
        "$$"
      ]
    },
    {
      "cell_type": "markdown",
      "metadata": {
        "id": "LKDuAfNXeiWb"
      },
      "source": [
        "ME for $\\bar{X}$:"
      ]
    },
    {
      "cell_type": "markdown",
      "metadata": {
        "id": "bq11Vl2GeiWc"
      },
      "source": [
        "$$\n",
        "E\\bar{X} = \\frac{1}{n} \\sum_{i=1}^n EX_i = \\mu\n",
        "$$"
      ]
    },
    {
      "cell_type": "markdown",
      "metadata": {
        "id": "juE0exSyeiWc"
      },
      "source": [
        "Dispersion for $\\bar{X}$:"
      ]
    },
    {
      "cell_type": "markdown",
      "metadata": {
        "id": "z8u981wFeiWc"
      },
      "source": [
        "$$\n",
        "Var(\\bar{X}) = \\frac{1}{n^2} \\sum_{i=1}^n \\sum_{j=1}^n Cov(X_i, X_j)\n",
        "$$"
      ]
    },
    {
      "cell_type": "markdown",
      "metadata": {
        "id": "iOmoantleiWd"
      },
      "source": [
        "Since objects are sampled with replacement, $Cov(X_i, X_j) = 0, i \\ne j$. So:"
      ]
    },
    {
      "cell_type": "markdown",
      "metadata": {
        "id": "omY7mhv6eiWd"
      },
      "source": [
        "$$\n",
        "Var(\\bar{X}) = \\frac{1}{n^2} \\sum_{i=1}^n Var(X_i) = \\frac{\\sigma^2}{n}\n",
        "$$"
      ]
    },
    {
      "cell_type": "markdown",
      "metadata": {
        "id": "QFM2aqGJeiWd"
      },
      "source": [
        "#### Stratified sample point estimations:"
      ]
    },
    {
      "cell_type": "markdown",
      "metadata": {
        "id": "vZZ1LuxCeiWe"
      },
      "source": [
        "Sample of volume $n_k$ is derived from strata $k$:\n",
        "\n",
        "$(X_{1k}, X_{2k}, ..., X_{n_k k}), k = \\bar{1,L}$"
      ]
    },
    {
      "cell_type": "markdown",
      "metadata": {
        "id": "26je2XLHeiWe"
      },
      "source": [
        "Then sample mean for $k$-th strata:"
      ]
    },
    {
      "cell_type": "markdown",
      "metadata": {
        "id": "jIl0iTAUeiWf"
      },
      "source": [
        "$$\n",
        "\\bar{X_k} = \\frac{1}{n_k} \\sum_{i=1}^{n_k} X_{ik}\n",
        "$$"
      ]
    },
    {
      "cell_type": "markdown",
      "metadata": {
        "id": "jxDkzDNSeiWf"
      },
      "source": [
        "ME for a mixture of all strata:"
      ]
    },
    {
      "cell_type": "markdown",
      "metadata": {
        "id": "cwbsIIuKeiWf"
      },
      "source": [
        "$$\n",
        "\\mu = \\sum_{k=1}^L W_k \\mu_k \\Rightarrow \\bar{X_S} = \\sum_{k=1}^L W_k \\bar{X_k}\n",
        "$$"
      ]
    },
    {
      "cell_type": "markdown",
      "metadata": {
        "id": "Y9nin-dBeiWj"
      },
      "source": [
        "$W_k$ - ratio of $k$-th strata."
      ]
    },
    {
      "cell_type": "markdown",
      "metadata": {
        "id": "1EqVmIN2eiWk"
      },
      "source": [
        "ME for $\\bar{X_S}$:"
      ]
    },
    {
      "cell_type": "markdown",
      "metadata": {
        "id": "Rs7iinPveiWk"
      },
      "source": [
        "$$\n",
        "E\\bar{X_S} = \\sum_{k=1}^L W_k E\\bar{X_k} = \\sum_{k=1}^L W_k \\mu_k\n",
        "$$"
      ]
    },
    {
      "cell_type": "markdown",
      "metadata": {
        "id": "UQYCxzaeeiWk"
      },
      "source": [
        "Dispersion for $\\bar{X_S}$:"
      ]
    },
    {
      "cell_type": "markdown",
      "metadata": {
        "id": "sE1N65RyeiWl"
      },
      "source": [
        "$$\n",
        "D(\\bar{X_S}) = \\sum_{k=1}^L {W_k}^2 D (\\bar{X_k}) = \\sum_{k=1}^L {W_k}^2 \\frac{{\\sigma_k}^2}{n_k}\n",
        "$$"
      ]
    },
    {
      "cell_type": "markdown",
      "metadata": {
        "id": "BL8re3pXeiWl"
      },
      "source": [
        "#### Sample volumes if they are sampled proportionally:"
      ]
    },
    {
      "cell_type": "markdown",
      "metadata": {
        "id": "w8PvtY5ceiWl"
      },
      "source": [
        "$$\n",
        "n_k = n W_k, k = \\bar{1,L}, n = n_1 + n_2 + ... + n_L\n",
        "$$"
      ]
    },
    {
      "cell_type": "markdown",
      "metadata": {
        "id": "hyhPTdMFeiWm"
      },
      "source": [
        "#### Sample volumes if they are optimal sampled (Neyman's method):"
      ]
    },
    {
      "cell_type": "markdown",
      "metadata": {
        "id": "C47aobwaeiWn"
      },
      "source": [
        "$$\n",
        "n_k = \\tilde{n_k} = n \\frac{W_k \\sigma_k}{\\sum_{k=1}^L W_k \\sigma_k} , k = \\bar{1,L}, n = n_1 + n_2 + ... + n_L\n",
        "$$"
      ]
    },
    {
      "cell_type": "code",
      "metadata": {
        "id": "Oph4XwtFR1SP"
      },
      "source": [
        "class GeneralPopulation:\n",
        "\n",
        "  def __init__(self, \n",
        "               means: [float], \n",
        "               stds: [float], \n",
        "               sizes: [int], \n",
        "               random_state: int = 15\n",
        "               ):\n",
        "    \"\"\"\n",
        "    Initializes our General Population and saves the given distributions\n",
        "    \n",
        "    :param means: List of expectations for normal distributions\n",
        "    :param stds: List of standard deviations for normal distributions\n",
        "    :param sizes: How many objects will be in each strata\n",
        "    :param random_state: Parameter fixing randomness. Needed so that when conducting\n",
        "    experiment repeatedly with the same input parameters, the results remained the same\n",
        "    \"\"\"\n",
        "    self.strats = [st.norm(mean, std) for mean, std in zip(means, stds)]\n",
        "    self._sample(sizes)\n",
        "    self.random_state = random_state\n",
        "\n",
        "  def _sample(self, sizes):\n",
        "        \"\"\"Creates a general population sample as a mixture of strata\n",
        "        \n",
        "        :param sizes: List with sample sizes of the corresponding normal distributions\n",
        "        \"\"\"\n",
        "        self.strats_samples = [rv.rvs(size) for rv, size in zip(self.strats, sizes)]\n",
        "        self.general_samples = np.hstack(self.strats_samples)\n",
        "        self.N = self.general_samples.shape[0]\n",
        "        \n",
        "        # number of strata\n",
        "        self.count_strats = len(sizes)\n",
        "        \n",
        "        # ratios for every strata in GP\n",
        "        self.ws = [size/self.N for size in sizes]\n",
        "        \n",
        "        # ME and Std for GP\n",
        "        self.m = np.mean(self.general_samples)\n",
        "        self.sigma = np.std(self.general_samples)\n",
        "        \n",
        "        # ME and std for all strata\n",
        "        self.ms = [np.mean(strat_sample) for strat_sample in self.strats_samples]\n",
        "        self.sigmas = [np.std(strat_sample) for strat_sample in self.strats_samples]\n",
        "\n",
        "  def random_subsampling(self, size):\n",
        "      \"\"\"Creates a random subset of the entire population\n",
        "      \n",
        "      :param sizes: subsample size\n",
        "      \"\"\"\n",
        "      rc = np.random.choice(self.general_samples, size=size) \n",
        "      return rc\n",
        "      \n",
        "  def proportional_subsampling(self, size):\n",
        "      \"\"\"Creates a subsample with the number of elements, proportional shares of strata\n",
        "      \n",
        "      :param sizes: subsample size\n",
        "      \"\"\"\n",
        "      self.strats_size_proport = [int(np.floor(size*w)) for w in self.ws]\n",
        "      \n",
        "      rc = []\n",
        "      for k in range(len(self.strats_size_proport)):\n",
        "          rc.append(np.random.choice(self.strats_samples[k],\n",
        "                                      size=self.strats_size_proport[k]))\n",
        "      \n",
        "      return rc\n",
        "      \n",
        "  def optimal_subsampling(self, size):\n",
        "      \"\"\"Creates a subsample with the optimal number of elements relative to strata\n",
        "      \n",
        "      :param sizes: subsample size\n",
        "      \"\"\"\n",
        "      sum_denom = 0\n",
        "      for k in range(self.count_strats):\n",
        "          sum_denom += self.ws[k] * self.sigmas[k]\n",
        "      \n",
        "      self.strats_size_optimal = [int(np.floor((size*w*sigma)/sum_denom)) for w, sigma in zip(self.ws, self.sigmas)]\n",
        "      if 0 in self.strats_size_optimal:\n",
        "          raise ValueError('Strats size is 0, please change variance of smallest strat!')\n",
        "      \n",
        "      rc = []\n",
        "      for k in range(len(self.strats_size_optimal)):\n",
        "          rc.append(np.random.choice(self.strats_samples[k],\n",
        "                                      size=self.strats_size_optimal[k]))\n",
        "      \n",
        "      return rc   \n",
        "\n",
        "  def run_experiments(self, n_sub, subsampling_method, n_experiments=1000):\n",
        "      \"\"\"Conducts a series of experiments and saves the results\n",
        "      \n",
        "      :param subsampling_method: method for creating a subsample\n",
        "      :param n_experiments: number of experiment starts\n",
        "      \"\"\"\n",
        "      means_s = []\n",
        "      \n",
        "      if(len(self.general_samples)<100):\n",
        "          n_sub = 20\n",
        "      \n",
        "      if(subsampling_method == 'random_subsampling'):\n",
        "          for n in range(n_experiments):\n",
        "              rc = self.random_subsampling(n_sub)\n",
        "              \n",
        "              mean = rc.sum()/len(rc)\n",
        "              means_s.append(mean)\n",
        "              \n",
        "      else:\n",
        "          for n in range(n_experiments):\n",
        "              if(subsampling_method == 'proportional_subsampling'):\n",
        "                  rc = self.proportional_subsampling(n_sub)\n",
        "              elif(subsampling_method == 'optimal_subsampling'):\n",
        "                  rc = self.optimal_subsampling(n_sub)\n",
        "              \n",
        "              strats_mean = []\n",
        "      \n",
        "              for k in range(len(rc)):\n",
        "                  strats_mean.append(sum(rc[k])/len(rc[k]))\n",
        "      \n",
        "              # Mean for a mixture\n",
        "              means_s.append(sum([w_k*mean_k for w_k, mean_k in zip(self.ws, strats_mean)]))\n",
        "              \n",
        "      return means_s"
      ],
      "execution_count": null,
      "outputs": []
    },
    {
      "cell_type": "markdown",
      "metadata": {
        "id": "IX8vSdUHZgEM"
      },
      "source": [
        "Function for histogram plot:"
      ]
    },
    {
      "cell_type": "code",
      "metadata": {
        "id": "uF-mRxqWZfK5"
      },
      "source": [
        "def plot_gp_density(general_population: GeneralPopulation, bins: int = 15, title_postfix: str = ''):\n",
        "  rcParams['figure.figsize'] = 5, 3\n",
        "  plt.hist(general_population.general_samples, bins=bins)\n",
        "  title = f'Density for {title_postfix} GP'\n",
        "  plt.title(title)\n",
        "  plt.show()"
      ],
      "execution_count": null,
      "outputs": []
    },
    {
      "cell_type": "markdown",
      "metadata": {
        "id": "EpOBGqKiZ2aH"
      },
      "source": [
        "Function for plotting Boxplots for sample mean:"
      ]
    },
    {
      "cell_type": "code",
      "metadata": {
        "id": "-eSmYeyzZ5YH"
      },
      "source": [
        "def plot_boxplots(general_population: GeneralPopulation, n_sub: int):\n",
        "  means_random = general_population.run_experiments(n_sub, 'random_subsampling')\n",
        "  means_proport = general_population.run_experiments(n_sub, 'proportional_subsampling')\n",
        "  means_optimal = general_population.run_experiments(n_sub, 'optimal_subsampling')\n",
        "\n",
        "  means_lists = pd.DataFrame(\n",
        "    {'1 random subsampling': means_random,\n",
        "      '2 proportional subsampling': means_proport,\n",
        "      '3 optimal subsampling': means_optimal\n",
        "    })\n",
        "\n",
        "  rcParams['figure.figsize'] = 7, 6\n",
        "  sns.boxplot(data=means_lists, width=0.3)\n",
        "  plt.title('Sample mean distributions for 3 sampling methods')\n",
        "  plt.show()"
      ],
      "execution_count": null,
      "outputs": []
    },
    {
      "cell_type": "markdown",
      "metadata": {
        "id": "q_GuUm45X7SI"
      },
      "source": [
        "**Parameters for each General Population**  \n",
        "You can use these or specify your own parameters for strata:"
      ]
    },
    {
      "cell_type": "code",
      "metadata": {
        "id": "v9rcOe_sFCSk"
      },
      "source": [
        "SIZES = (150, 150, 150)\n",
        "N_SUBSAMPLE = 150\n",
        "EQUAL_MEAN_EQUAL_STDS_ARGS = {'means': [0, 0, 0], 'stds': [3, 3, 3], 'sizes': SIZES}\n",
        "DIFFERENT_MEAN_EQUAL_STDS_ARGS = {'means': [15, -1, -17], 'stds': [3, 3, 3], 'sizes':SIZES}\n",
        "EQUAL_MEAN_DIFFERENT_STDS_ARGS = {'means': [0, 0, 0], 'stds': [3, 7, 11], 'sizes':SIZES}"
      ],
      "execution_count": null,
      "outputs": []
    },
    {
      "cell_type": "markdown",
      "metadata": {
        "id": "orRbY36dYVd-"
      },
      "source": [
        "**Initialization**"
      ]
    },
    {
      "cell_type": "code",
      "metadata": {
        "id": "d9T_MD9-VExD"
      },
      "source": [
        "emes_population = GeneralPopulation(**EQUAL_MEAN_EQUAL_STDS_ARGS)\n",
        "dmes_population = GeneralPopulation(**DIFFERENT_MEAN_EQUAL_STDS_ARGS)\n",
        "emds_population = GeneralPopulation(**EQUAL_MEAN_DIFFERENT_STDS_ARGS)"
      ],
      "execution_count": null,
      "outputs": []
    },
    {
      "cell_type": "markdown",
      "metadata": {
        "id": "nfn7YyyZYelr"
      },
      "source": [
        "**General population with EQUAL means and EQUAL STDs of strata**  \n",
        "Distribution histogram:"
      ]
    },
    {
      "cell_type": "code",
      "metadata": {
        "colab": {
          "base_uri": "https://localhost:8080/",
          "height": 297
        },
        "id": "LlUnz57JVmpV",
        "outputId": "b8058e67-30ec-4a70-a8e0-a9f2592c78b4"
      },
      "source": [
        "plot_gp_density(emes_population, title_postfix='EMES')"
      ],
      "execution_count": null,
      "outputs": [
        {
          "output_type": "display_data",
          "data": {
            "text/plain": [
              "<Figure size 360x216 with 1 Axes>"
            ],
            "image/svg+xml": "<?xml version=\"1.0\" encoding=\"utf-8\" standalone=\"no\"?>\n<!DOCTYPE svg PUBLIC \"-//W3C//DTD SVG 1.1//EN\"\n  \"http://www.w3.org/Graphics/SVG/1.1/DTD/svg11.dtd\">\n<!-- Created with matplotlib (https://matplotlib.org/) -->\n<svg height=\"207.599875pt\" version=\"1.1\" viewBox=\"0 0 309.625 207.599875\" width=\"309.625pt\" xmlns=\"http://www.w3.org/2000/svg\" xmlns:xlink=\"http://www.w3.org/1999/xlink\">\n <defs>\n  <style type=\"text/css\">\n*{stroke-linecap:butt;stroke-linejoin:round;}\n  </style>\n </defs>\n <g id=\"figure_1\">\n  <g id=\"patch_1\">\n   <path d=\"M 0 207.599875 \nL 309.625 207.599875 \nL 309.625 0 \nL 0 0 \nz\n\" style=\"fill:none;\"/>\n  </g>\n  <g id=\"axes_1\">\n   <g id=\"patch_2\">\n    <path d=\"M 23.425 187.22175 \nL 302.425 187.22175 \nL 302.425 24.14175 \nL 23.425 24.14175 \nz\n\" style=\"fill:#eeeeee;\"/>\n   </g>\n   <g id=\"patch_3\">\n    <path clip-path=\"url(#pca2ee1b0b2)\" d=\"M 36.106818 187.22175 \nL 53.015909 187.22175 \nL 53.015909 184.832299 \nL 36.106818 184.832299 \nz\n\" style=\"fill:#348abd;\"/>\n   </g>\n   <g id=\"patch_4\">\n    <path clip-path=\"url(#pca2ee1b0b2)\" d=\"M 53.015909 187.22175 \nL 69.925 187.22175 \nL 69.925 177.663948 \nL 53.015909 177.663948 \nz\n\" style=\"fill:#348abd;\"/>\n   </g>\n   <g id=\"patch_5\">\n    <path clip-path=\"url(#pca2ee1b0b2)\" d=\"M 69.925 187.22175 \nL 86.834091 187.22175 \nL 86.834091 168.106146 \nL 69.925 168.106146 \nz\n\" style=\"fill:#348abd;\"/>\n   </g>\n   <g id=\"patch_6\">\n    <path clip-path=\"url(#pca2ee1b0b2)\" d=\"M 86.834091 187.22175 \nL 103.743182 187.22175 \nL 103.743182 139.432739 \nL 86.834091 139.432739 \nz\n\" style=\"fill:#348abd;\"/>\n   </g>\n   <g id=\"patch_7\">\n    <path clip-path=\"url(#pca2ee1b0b2)\" d=\"M 103.743182 187.22175 \nL 120.652273 187.22175 \nL 120.652273 103.590981 \nL 103.743182 103.590981 \nz\n\" style=\"fill:#348abd;\"/>\n   </g>\n   <g id=\"patch_8\">\n    <path clip-path=\"url(#pca2ee1b0b2)\" d=\"M 120.652273 187.22175 \nL 137.561364 187.22175 \nL 137.561364 79.696475 \nL 120.652273 79.696475 \nz\n\" style=\"fill:#348abd;\"/>\n   </g>\n   <g id=\"patch_9\">\n    <path clip-path=\"url(#pca2ee1b0b2)\" d=\"M 137.561364 187.22175 \nL 154.470455 187.22175 \nL 154.470455 46.244168 \nL 137.561364 46.244168 \nz\n\" style=\"fill:#348abd;\"/>\n   </g>\n   <g id=\"patch_10\">\n    <path clip-path=\"url(#pca2ee1b0b2)\" d=\"M 154.470455 187.22175 \nL 171.379545 187.22175 \nL 171.379545 31.907464 \nL 154.470455 31.907464 \nz\n\" style=\"fill:#348abd;\"/>\n   </g>\n   <g id=\"patch_11\">\n    <path clip-path=\"url(#pca2ee1b0b2)\" d=\"M 171.379545 187.22175 \nL 188.288636 187.22175 \nL 188.288636 36.686365 \nL 171.379545 36.686365 \nz\n\" style=\"fill:#348abd;\"/>\n   </g>\n   <g id=\"patch_12\">\n    <path clip-path=\"url(#pca2ee1b0b2)\" d=\"M 188.288636 187.22175 \nL 205.197727 187.22175 \nL 205.197727 34.296915 \nL 188.288636 34.296915 \nz\n\" style=\"fill:#348abd;\"/>\n   </g>\n   <g id=\"patch_13\">\n    <path clip-path=\"url(#pca2ee1b0b2)\" d=\"M 205.197727 187.22175 \nL 222.106818 187.22175 \nL 222.106818 115.538234 \nL 205.197727 115.538234 \nz\n\" style=\"fill:#348abd;\"/>\n   </g>\n   <g id=\"patch_14\">\n    <path clip-path=\"url(#pca2ee1b0b2)\" d=\"M 222.106818 187.22175 \nL 239.015909 187.22175 \nL 239.015909 125.096036 \nL 222.106818 125.096036 \nz\n\" style=\"fill:#348abd;\"/>\n   </g>\n   <g id=\"patch_15\">\n    <path clip-path=\"url(#pca2ee1b0b2)\" d=\"M 239.015909 187.22175 \nL 255.925 187.22175 \nL 255.925 141.82219 \nL 239.015909 141.82219 \nz\n\" style=\"fill:#348abd;\"/>\n   </g>\n   <g id=\"patch_16\">\n    <path clip-path=\"url(#pca2ee1b0b2)\" d=\"M 255.925 187.22175 \nL 272.834091 187.22175 \nL 272.834091 168.106146 \nL 255.925 168.106146 \nz\n\" style=\"fill:#348abd;\"/>\n   </g>\n   <g id=\"patch_17\">\n    <path clip-path=\"url(#pca2ee1b0b2)\" d=\"M 272.834091 187.22175 \nL 289.743182 187.22175 \nL 289.743182 180.053398 \nL 272.834091 180.053398 \nz\n\" style=\"fill:#348abd;\"/>\n   </g>\n   <g id=\"matplotlib.axis_1\">\n    <g id=\"xtick_1\">\n     <g id=\"line2d_1\">\n      <path clip-path=\"url(#pca2ee1b0b2)\" d=\"M 42.864676 187.22175 \nL 42.864676 24.14175 \n\" style=\"fill:none;stroke:#b2b2b2;stroke-dasharray:1.85,0.8;stroke-dashoffset:0;stroke-width:0.5;\"/>\n     </g>\n     <g id=\"line2d_2\">\n      <defs>\n       <path d=\"M 0 0 \nL 0 -3.5 \n\" id=\"ma08146f5ae\" style=\"stroke:#000000;stroke-width:0.8;\"/>\n      </defs>\n      <g>\n       <use style=\"stroke:#000000;stroke-width:0.8;\" x=\"42.864676\" xlink:href=\"#ma08146f5ae\" y=\"187.22175\"/>\n      </g>\n     </g>\n     <g id=\"text_1\">\n      <!-- −8 -->\n      <defs>\n       <path d=\"M 10.59375 35.5 \nL 73.1875 35.5 \nL 73.1875 27.203125 \nL 10.59375 27.203125 \nz\n\" id=\"DejaVuSans-8722\"/>\n       <path d=\"M 31.78125 34.625 \nQ 24.75 34.625 20.71875 30.859375 \nQ 16.703125 27.09375 16.703125 20.515625 \nQ 16.703125 13.921875 20.71875 10.15625 \nQ 24.75 6.390625 31.78125 6.390625 \nQ 38.8125 6.390625 42.859375 10.171875 \nQ 46.921875 13.96875 46.921875 20.515625 \nQ 46.921875 27.09375 42.890625 30.859375 \nQ 38.875 34.625 31.78125 34.625 \nz\nM 21.921875 38.8125 \nQ 15.578125 40.375 12.03125 44.71875 \nQ 8.5 49.078125 8.5 55.328125 \nQ 8.5 64.0625 14.71875 69.140625 \nQ 20.953125 74.21875 31.78125 74.21875 \nQ 42.671875 74.21875 48.875 69.140625 \nQ 55.078125 64.0625 55.078125 55.328125 \nQ 55.078125 49.078125 51.53125 44.71875 \nQ 48 40.375 41.703125 38.8125 \nQ 48.828125 37.15625 52.796875 32.3125 \nQ 56.78125 27.484375 56.78125 20.515625 \nQ 56.78125 9.90625 50.3125 4.234375 \nQ 43.84375 -1.421875 31.78125 -1.421875 \nQ 19.734375 -1.421875 13.25 4.234375 \nQ 6.78125 9.90625 6.78125 20.515625 \nQ 6.78125 27.484375 10.78125 32.3125 \nQ 14.796875 37.15625 21.921875 38.8125 \nz\nM 18.3125 54.390625 \nQ 18.3125 48.734375 21.84375 45.5625 \nQ 25.390625 42.390625 31.78125 42.390625 \nQ 38.140625 42.390625 41.71875 45.5625 \nQ 45.3125 48.734375 45.3125 54.390625 \nQ 45.3125 60.0625 41.71875 63.234375 \nQ 38.140625 66.40625 31.78125 66.40625 \nQ 25.390625 66.40625 21.84375 63.234375 \nQ 18.3125 60.0625 18.3125 54.390625 \nz\n\" id=\"DejaVuSans-56\"/>\n      </defs>\n      <g transform=\"translate(35.493583 198.320188)scale(0.1 -0.1)\">\n       <use xlink:href=\"#DejaVuSans-8722\"/>\n       <use x=\"83.789062\" xlink:href=\"#DejaVuSans-56\"/>\n      </g>\n     </g>\n    </g>\n    <g id=\"xtick_2\">\n     <g id=\"line2d_3\">\n      <path clip-path=\"url(#pca2ee1b0b2)\" d=\"M 74.392313 187.22175 \nL 74.392313 24.14175 \n\" style=\"fill:none;stroke:#b2b2b2;stroke-dasharray:1.85,0.8;stroke-dashoffset:0;stroke-width:0.5;\"/>\n     </g>\n     <g id=\"line2d_4\">\n      <g>\n       <use style=\"stroke:#000000;stroke-width:0.8;\" x=\"74.392313\" xlink:href=\"#ma08146f5ae\" y=\"187.22175\"/>\n      </g>\n     </g>\n     <g id=\"text_2\">\n      <!-- −6 -->\n      <defs>\n       <path d=\"M 33.015625 40.375 \nQ 26.375 40.375 22.484375 35.828125 \nQ 18.609375 31.296875 18.609375 23.390625 \nQ 18.609375 15.53125 22.484375 10.953125 \nQ 26.375 6.390625 33.015625 6.390625 \nQ 39.65625 6.390625 43.53125 10.953125 \nQ 47.40625 15.53125 47.40625 23.390625 \nQ 47.40625 31.296875 43.53125 35.828125 \nQ 39.65625 40.375 33.015625 40.375 \nz\nM 52.59375 71.296875 \nL 52.59375 62.3125 \nQ 48.875 64.0625 45.09375 64.984375 \nQ 41.3125 65.921875 37.59375 65.921875 \nQ 27.828125 65.921875 22.671875 59.328125 \nQ 17.53125 52.734375 16.796875 39.40625 \nQ 19.671875 43.65625 24.015625 45.921875 \nQ 28.375 48.1875 33.59375 48.1875 \nQ 44.578125 48.1875 50.953125 41.515625 \nQ 57.328125 34.859375 57.328125 23.390625 \nQ 57.328125 12.15625 50.6875 5.359375 \nQ 44.046875 -1.421875 33.015625 -1.421875 \nQ 20.359375 -1.421875 13.671875 8.265625 \nQ 6.984375 17.96875 6.984375 36.375 \nQ 6.984375 53.65625 15.1875 63.9375 \nQ 23.390625 74.21875 37.203125 74.21875 \nQ 40.921875 74.21875 44.703125 73.484375 \nQ 48.484375 72.75 52.59375 71.296875 \nz\n\" id=\"DejaVuSans-54\"/>\n      </defs>\n      <g transform=\"translate(67.021219 198.320188)scale(0.1 -0.1)\">\n       <use xlink:href=\"#DejaVuSans-8722\"/>\n       <use x=\"83.789062\" xlink:href=\"#DejaVuSans-54\"/>\n      </g>\n     </g>\n    </g>\n    <g id=\"xtick_3\">\n     <g id=\"line2d_5\">\n      <path clip-path=\"url(#pca2ee1b0b2)\" d=\"M 105.919949 187.22175 \nL 105.919949 24.14175 \n\" style=\"fill:none;stroke:#b2b2b2;stroke-dasharray:1.85,0.8;stroke-dashoffset:0;stroke-width:0.5;\"/>\n     </g>\n     <g id=\"line2d_6\">\n      <g>\n       <use style=\"stroke:#000000;stroke-width:0.8;\" x=\"105.919949\" xlink:href=\"#ma08146f5ae\" y=\"187.22175\"/>\n      </g>\n     </g>\n     <g id=\"text_3\">\n      <!-- −4 -->\n      <defs>\n       <path d=\"M 37.796875 64.3125 \nL 12.890625 25.390625 \nL 37.796875 25.390625 \nz\nM 35.203125 72.90625 \nL 47.609375 72.90625 \nL 47.609375 25.390625 \nL 58.015625 25.390625 \nL 58.015625 17.1875 \nL 47.609375 17.1875 \nL 47.609375 0 \nL 37.796875 0 \nL 37.796875 17.1875 \nL 4.890625 17.1875 \nL 4.890625 26.703125 \nz\n\" id=\"DejaVuSans-52\"/>\n      </defs>\n      <g transform=\"translate(98.548856 198.320188)scale(0.1 -0.1)\">\n       <use xlink:href=\"#DejaVuSans-8722\"/>\n       <use x=\"83.789062\" xlink:href=\"#DejaVuSans-52\"/>\n      </g>\n     </g>\n    </g>\n    <g id=\"xtick_4\">\n     <g id=\"line2d_7\">\n      <path clip-path=\"url(#pca2ee1b0b2)\" d=\"M 137.447586 187.22175 \nL 137.447586 24.14175 \n\" style=\"fill:none;stroke:#b2b2b2;stroke-dasharray:1.85,0.8;stroke-dashoffset:0;stroke-width:0.5;\"/>\n     </g>\n     <g id=\"line2d_8\">\n      <g>\n       <use style=\"stroke:#000000;stroke-width:0.8;\" x=\"137.447586\" xlink:href=\"#ma08146f5ae\" y=\"187.22175\"/>\n      </g>\n     </g>\n     <g id=\"text_4\">\n      <!-- −2 -->\n      <defs>\n       <path d=\"M 19.1875 8.296875 \nL 53.609375 8.296875 \nL 53.609375 0 \nL 7.328125 0 \nL 7.328125 8.296875 \nQ 12.9375 14.109375 22.625 23.890625 \nQ 32.328125 33.6875 34.8125 36.53125 \nQ 39.546875 41.84375 41.421875 45.53125 \nQ 43.3125 49.21875 43.3125 52.78125 \nQ 43.3125 58.59375 39.234375 62.25 \nQ 35.15625 65.921875 28.609375 65.921875 \nQ 23.96875 65.921875 18.8125 64.3125 \nQ 13.671875 62.703125 7.8125 59.421875 \nL 7.8125 69.390625 \nQ 13.765625 71.78125 18.9375 73 \nQ 24.125 74.21875 28.421875 74.21875 \nQ 39.75 74.21875 46.484375 68.546875 \nQ 53.21875 62.890625 53.21875 53.421875 \nQ 53.21875 48.921875 51.53125 44.890625 \nQ 49.859375 40.875 45.40625 35.40625 \nQ 44.1875 33.984375 37.640625 27.21875 \nQ 31.109375 20.453125 19.1875 8.296875 \nz\n\" id=\"DejaVuSans-50\"/>\n      </defs>\n      <g transform=\"translate(130.076492 198.320188)scale(0.1 -0.1)\">\n       <use xlink:href=\"#DejaVuSans-8722\"/>\n       <use x=\"83.789062\" xlink:href=\"#DejaVuSans-50\"/>\n      </g>\n     </g>\n    </g>\n    <g id=\"xtick_5\">\n     <g id=\"line2d_9\">\n      <path clip-path=\"url(#pca2ee1b0b2)\" d=\"M 168.975222 187.22175 \nL 168.975222 24.14175 \n\" style=\"fill:none;stroke:#b2b2b2;stroke-dasharray:1.85,0.8;stroke-dashoffset:0;stroke-width:0.5;\"/>\n     </g>\n     <g id=\"line2d_10\">\n      <g>\n       <use style=\"stroke:#000000;stroke-width:0.8;\" x=\"168.975222\" xlink:href=\"#ma08146f5ae\" y=\"187.22175\"/>\n      </g>\n     </g>\n     <g id=\"text_5\">\n      <!-- 0 -->\n      <defs>\n       <path d=\"M 31.78125 66.40625 \nQ 24.171875 66.40625 20.328125 58.90625 \nQ 16.5 51.421875 16.5 36.375 \nQ 16.5 21.390625 20.328125 13.890625 \nQ 24.171875 6.390625 31.78125 6.390625 \nQ 39.453125 6.390625 43.28125 13.890625 \nQ 47.125 21.390625 47.125 36.375 \nQ 47.125 51.421875 43.28125 58.90625 \nQ 39.453125 66.40625 31.78125 66.40625 \nz\nM 31.78125 74.21875 \nQ 44.046875 74.21875 50.515625 64.515625 \nQ 56.984375 54.828125 56.984375 36.375 \nQ 56.984375 17.96875 50.515625 8.265625 \nQ 44.046875 -1.421875 31.78125 -1.421875 \nQ 19.53125 -1.421875 13.0625 8.265625 \nQ 6.59375 17.96875 6.59375 36.375 \nQ 6.59375 54.828125 13.0625 64.515625 \nQ 19.53125 74.21875 31.78125 74.21875 \nz\n\" id=\"DejaVuSans-48\"/>\n      </defs>\n      <g transform=\"translate(165.793972 198.320188)scale(0.1 -0.1)\">\n       <use xlink:href=\"#DejaVuSans-48\"/>\n      </g>\n     </g>\n    </g>\n    <g id=\"xtick_6\">\n     <g id=\"line2d_11\">\n      <path clip-path=\"url(#pca2ee1b0b2)\" d=\"M 200.502859 187.22175 \nL 200.502859 24.14175 \n\" style=\"fill:none;stroke:#b2b2b2;stroke-dasharray:1.85,0.8;stroke-dashoffset:0;stroke-width:0.5;\"/>\n     </g>\n     <g id=\"line2d_12\">\n      <g>\n       <use style=\"stroke:#000000;stroke-width:0.8;\" x=\"200.502859\" xlink:href=\"#ma08146f5ae\" y=\"187.22175\"/>\n      </g>\n     </g>\n     <g id=\"text_6\">\n      <!-- 2 -->\n      <g transform=\"translate(197.321609 198.320188)scale(0.1 -0.1)\">\n       <use xlink:href=\"#DejaVuSans-50\"/>\n      </g>\n     </g>\n    </g>\n    <g id=\"xtick_7\">\n     <g id=\"line2d_13\">\n      <path clip-path=\"url(#pca2ee1b0b2)\" d=\"M 232.030495 187.22175 \nL 232.030495 24.14175 \n\" style=\"fill:none;stroke:#b2b2b2;stroke-dasharray:1.85,0.8;stroke-dashoffset:0;stroke-width:0.5;\"/>\n     </g>\n     <g id=\"line2d_14\">\n      <g>\n       <use style=\"stroke:#000000;stroke-width:0.8;\" x=\"232.030495\" xlink:href=\"#ma08146f5ae\" y=\"187.22175\"/>\n      </g>\n     </g>\n     <g id=\"text_7\">\n      <!-- 4 -->\n      <g transform=\"translate(228.849245 198.320188)scale(0.1 -0.1)\">\n       <use xlink:href=\"#DejaVuSans-52\"/>\n      </g>\n     </g>\n    </g>\n    <g id=\"xtick_8\">\n     <g id=\"line2d_15\">\n      <path clip-path=\"url(#pca2ee1b0b2)\" d=\"M 263.558132 187.22175 \nL 263.558132 24.14175 \n\" style=\"fill:none;stroke:#b2b2b2;stroke-dasharray:1.85,0.8;stroke-dashoffset:0;stroke-width:0.5;\"/>\n     </g>\n     <g id=\"line2d_16\">\n      <g>\n       <use style=\"stroke:#000000;stroke-width:0.8;\" x=\"263.558132\" xlink:href=\"#ma08146f5ae\" y=\"187.22175\"/>\n      </g>\n     </g>\n     <g id=\"text_8\">\n      <!-- 6 -->\n      <g transform=\"translate(260.376882 198.320188)scale(0.1 -0.1)\">\n       <use xlink:href=\"#DejaVuSans-54\"/>\n      </g>\n     </g>\n    </g>\n    <g id=\"xtick_9\">\n     <g id=\"line2d_17\">\n      <path clip-path=\"url(#pca2ee1b0b2)\" d=\"M 295.085768 187.22175 \nL 295.085768 24.14175 \n\" style=\"fill:none;stroke:#b2b2b2;stroke-dasharray:1.85,0.8;stroke-dashoffset:0;stroke-width:0.5;\"/>\n     </g>\n     <g id=\"line2d_18\">\n      <g>\n       <use style=\"stroke:#000000;stroke-width:0.8;\" x=\"295.085768\" xlink:href=\"#ma08146f5ae\" y=\"187.22175\"/>\n      </g>\n     </g>\n     <g id=\"text_9\">\n      <!-- 8 -->\n      <g transform=\"translate(291.904518 198.320188)scale(0.1 -0.1)\">\n       <use xlink:href=\"#DejaVuSans-56\"/>\n      </g>\n     </g>\n    </g>\n   </g>\n   <g id=\"matplotlib.axis_2\">\n    <g id=\"ytick_1\">\n     <g id=\"line2d_19\">\n      <path clip-path=\"url(#pca2ee1b0b2)\" d=\"M 23.425 187.22175 \nL 302.425 187.22175 \n\" style=\"fill:none;stroke:#b2b2b2;stroke-dasharray:1.85,0.8;stroke-dashoffset:0;stroke-width:0.5;\"/>\n     </g>\n     <g id=\"line2d_20\">\n      <defs>\n       <path d=\"M 0 0 \nL 3.5 0 \n\" id=\"m2369276b2d\" style=\"stroke:#000000;stroke-width:0.8;\"/>\n      </defs>\n      <g>\n       <use style=\"stroke:#000000;stroke-width:0.8;\" x=\"23.425\" xlink:href=\"#m2369276b2d\" y=\"187.22175\"/>\n      </g>\n     </g>\n     <g id=\"text_10\">\n      <!-- 0 -->\n      <g transform=\"translate(13.5625 191.020969)scale(0.1 -0.1)\">\n       <use xlink:href=\"#DejaVuSans-48\"/>\n      </g>\n     </g>\n    </g>\n    <g id=\"ytick_2\">\n     <g id=\"line2d_21\">\n      <path clip-path=\"url(#pca2ee1b0b2)\" d=\"M 23.425 163.327245 \nL 302.425 163.327245 \n\" style=\"fill:none;stroke:#b2b2b2;stroke-dasharray:1.85,0.8;stroke-dashoffset:0;stroke-width:0.5;\"/>\n     </g>\n     <g id=\"line2d_22\">\n      <g>\n       <use style=\"stroke:#000000;stroke-width:0.8;\" x=\"23.425\" xlink:href=\"#m2369276b2d\" y=\"163.327245\"/>\n      </g>\n     </g>\n     <g id=\"text_11\">\n      <!-- 10 -->\n      <defs>\n       <path d=\"M 12.40625 8.296875 \nL 28.515625 8.296875 \nL 28.515625 63.921875 \nL 10.984375 60.40625 \nL 10.984375 69.390625 \nL 28.421875 72.90625 \nL 38.28125 72.90625 \nL 38.28125 8.296875 \nL 54.390625 8.296875 \nL 54.390625 0 \nL 12.40625 0 \nz\n\" id=\"DejaVuSans-49\"/>\n      </defs>\n      <g transform=\"translate(7.2 167.126463)scale(0.1 -0.1)\">\n       <use xlink:href=\"#DejaVuSans-49\"/>\n       <use x=\"63.623047\" xlink:href=\"#DejaVuSans-48\"/>\n      </g>\n     </g>\n    </g>\n    <g id=\"ytick_3\">\n     <g id=\"line2d_23\">\n      <path clip-path=\"url(#pca2ee1b0b2)\" d=\"M 23.425 139.432739 \nL 302.425 139.432739 \n\" style=\"fill:none;stroke:#b2b2b2;stroke-dasharray:1.85,0.8;stroke-dashoffset:0;stroke-width:0.5;\"/>\n     </g>\n     <g id=\"line2d_24\">\n      <g>\n       <use style=\"stroke:#000000;stroke-width:0.8;\" x=\"23.425\" xlink:href=\"#m2369276b2d\" y=\"139.432739\"/>\n      </g>\n     </g>\n     <g id=\"text_12\">\n      <!-- 20 -->\n      <g transform=\"translate(7.2 143.231958)scale(0.1 -0.1)\">\n       <use xlink:href=\"#DejaVuSans-50\"/>\n       <use x=\"63.623047\" xlink:href=\"#DejaVuSans-48\"/>\n      </g>\n     </g>\n    </g>\n    <g id=\"ytick_4\">\n     <g id=\"line2d_25\">\n      <path clip-path=\"url(#pca2ee1b0b2)\" d=\"M 23.425 115.538234 \nL 302.425 115.538234 \n\" style=\"fill:none;stroke:#b2b2b2;stroke-dasharray:1.85,0.8;stroke-dashoffset:0;stroke-width:0.5;\"/>\n     </g>\n     <g id=\"line2d_26\">\n      <g>\n       <use style=\"stroke:#000000;stroke-width:0.8;\" x=\"23.425\" xlink:href=\"#m2369276b2d\" y=\"115.538234\"/>\n      </g>\n     </g>\n     <g id=\"text_13\">\n      <!-- 30 -->\n      <defs>\n       <path d=\"M 40.578125 39.3125 \nQ 47.65625 37.796875 51.625 33 \nQ 55.609375 28.21875 55.609375 21.1875 \nQ 55.609375 10.40625 48.1875 4.484375 \nQ 40.765625 -1.421875 27.09375 -1.421875 \nQ 22.515625 -1.421875 17.65625 -0.515625 \nQ 12.796875 0.390625 7.625 2.203125 \nL 7.625 11.71875 \nQ 11.71875 9.328125 16.59375 8.109375 \nQ 21.484375 6.890625 26.8125 6.890625 \nQ 36.078125 6.890625 40.9375 10.546875 \nQ 45.796875 14.203125 45.796875 21.1875 \nQ 45.796875 27.640625 41.28125 31.265625 \nQ 36.765625 34.90625 28.71875 34.90625 \nL 20.21875 34.90625 \nL 20.21875 43.015625 \nL 29.109375 43.015625 \nQ 36.375 43.015625 40.234375 45.921875 \nQ 44.09375 48.828125 44.09375 54.296875 \nQ 44.09375 59.90625 40.109375 62.90625 \nQ 36.140625 65.921875 28.71875 65.921875 \nQ 24.65625 65.921875 20.015625 65.03125 \nQ 15.375 64.15625 9.8125 62.3125 \nL 9.8125 71.09375 \nQ 15.4375 72.65625 20.34375 73.4375 \nQ 25.25 74.21875 29.59375 74.21875 \nQ 40.828125 74.21875 47.359375 69.109375 \nQ 53.90625 64.015625 53.90625 55.328125 \nQ 53.90625 49.265625 50.4375 45.09375 \nQ 46.96875 40.921875 40.578125 39.3125 \nz\n\" id=\"DejaVuSans-51\"/>\n      </defs>\n      <g transform=\"translate(7.2 119.337452)scale(0.1 -0.1)\">\n       <use xlink:href=\"#DejaVuSans-51\"/>\n       <use x=\"63.623047\" xlink:href=\"#DejaVuSans-48\"/>\n      </g>\n     </g>\n    </g>\n    <g id=\"ytick_5\">\n     <g id=\"line2d_27\">\n      <path clip-path=\"url(#pca2ee1b0b2)\" d=\"M 23.425 91.643728 \nL 302.425 91.643728 \n\" style=\"fill:none;stroke:#b2b2b2;stroke-dasharray:1.85,0.8;stroke-dashoffset:0;stroke-width:0.5;\"/>\n     </g>\n     <g id=\"line2d_28\">\n      <g>\n       <use style=\"stroke:#000000;stroke-width:0.8;\" x=\"23.425\" xlink:href=\"#m2369276b2d\" y=\"91.643728\"/>\n      </g>\n     </g>\n     <g id=\"text_14\">\n      <!-- 40 -->\n      <g transform=\"translate(7.2 95.442947)scale(0.1 -0.1)\">\n       <use xlink:href=\"#DejaVuSans-52\"/>\n       <use x=\"63.623047\" xlink:href=\"#DejaVuSans-48\"/>\n      </g>\n     </g>\n    </g>\n    <g id=\"ytick_6\">\n     <g id=\"line2d_29\">\n      <path clip-path=\"url(#pca2ee1b0b2)\" d=\"M 23.425 67.749223 \nL 302.425 67.749223 \n\" style=\"fill:none;stroke:#b2b2b2;stroke-dasharray:1.85,0.8;stroke-dashoffset:0;stroke-width:0.5;\"/>\n     </g>\n     <g id=\"line2d_30\">\n      <g>\n       <use style=\"stroke:#000000;stroke-width:0.8;\" x=\"23.425\" xlink:href=\"#m2369276b2d\" y=\"67.749223\"/>\n      </g>\n     </g>\n     <g id=\"text_15\">\n      <!-- 50 -->\n      <defs>\n       <path d=\"M 10.796875 72.90625 \nL 49.515625 72.90625 \nL 49.515625 64.59375 \nL 19.828125 64.59375 \nL 19.828125 46.734375 \nQ 21.96875 47.46875 24.109375 47.828125 \nQ 26.265625 48.1875 28.421875 48.1875 \nQ 40.625 48.1875 47.75 41.5 \nQ 54.890625 34.8125 54.890625 23.390625 \nQ 54.890625 11.625 47.5625 5.09375 \nQ 40.234375 -1.421875 26.90625 -1.421875 \nQ 22.3125 -1.421875 17.546875 -0.640625 \nQ 12.796875 0.140625 7.71875 1.703125 \nL 7.71875 11.625 \nQ 12.109375 9.234375 16.796875 8.0625 \nQ 21.484375 6.890625 26.703125 6.890625 \nQ 35.15625 6.890625 40.078125 11.328125 \nQ 45.015625 15.765625 45.015625 23.390625 \nQ 45.015625 31 40.078125 35.4375 \nQ 35.15625 39.890625 26.703125 39.890625 \nQ 22.75 39.890625 18.8125 39.015625 \nQ 14.890625 38.140625 10.796875 36.28125 \nz\n\" id=\"DejaVuSans-53\"/>\n      </defs>\n      <g transform=\"translate(7.2 71.548441)scale(0.1 -0.1)\">\n       <use xlink:href=\"#DejaVuSans-53\"/>\n       <use x=\"63.623047\" xlink:href=\"#DejaVuSans-48\"/>\n      </g>\n     </g>\n    </g>\n    <g id=\"ytick_7\">\n     <g id=\"line2d_31\">\n      <path clip-path=\"url(#pca2ee1b0b2)\" d=\"M 23.425 43.854717 \nL 302.425 43.854717 \n\" style=\"fill:none;stroke:#b2b2b2;stroke-dasharray:1.85,0.8;stroke-dashoffset:0;stroke-width:0.5;\"/>\n     </g>\n     <g id=\"line2d_32\">\n      <g>\n       <use style=\"stroke:#000000;stroke-width:0.8;\" x=\"23.425\" xlink:href=\"#m2369276b2d\" y=\"43.854717\"/>\n      </g>\n     </g>\n     <g id=\"text_16\">\n      <!-- 60 -->\n      <g transform=\"translate(7.2 47.653936)scale(0.1 -0.1)\">\n       <use xlink:href=\"#DejaVuSans-54\"/>\n       <use x=\"63.623047\" xlink:href=\"#DejaVuSans-48\"/>\n      </g>\n     </g>\n    </g>\n   </g>\n   <g id=\"patch_18\">\n    <path d=\"M 23.425 187.22175 \nL 23.425 24.14175 \n\" style=\"fill:none;stroke:#bcbcbc;stroke-linecap:square;stroke-linejoin:miter;stroke-width:0.8;\"/>\n   </g>\n   <g id=\"patch_19\">\n    <path d=\"M 302.425 187.22175 \nL 302.425 24.14175 \n\" style=\"fill:none;stroke:#bcbcbc;stroke-linecap:square;stroke-linejoin:miter;stroke-width:0.8;\"/>\n   </g>\n   <g id=\"patch_20\">\n    <path d=\"M 23.425 187.22175 \nL 302.425 187.22175 \n\" style=\"fill:none;stroke:#bcbcbc;stroke-linecap:square;stroke-linejoin:miter;stroke-width:0.8;\"/>\n   </g>\n   <g id=\"patch_21\">\n    <path d=\"M 23.425 24.14175 \nL 302.425 24.14175 \n\" style=\"fill:none;stroke:#bcbcbc;stroke-linecap:square;stroke-linejoin:miter;stroke-width:0.8;\"/>\n   </g>\n   <g id=\"text_17\">\n    <!-- Density for EMES GP -->\n    <defs>\n     <path d=\"M 19.671875 64.796875 \nL 19.671875 8.109375 \nL 31.59375 8.109375 \nQ 46.6875 8.109375 53.6875 14.9375 \nQ 60.6875 21.78125 60.6875 36.53125 \nQ 60.6875 51.171875 53.6875 57.984375 \nQ 46.6875 64.796875 31.59375 64.796875 \nz\nM 9.8125 72.90625 \nL 30.078125 72.90625 \nQ 51.265625 72.90625 61.171875 64.09375 \nQ 71.09375 55.28125 71.09375 36.53125 \nQ 71.09375 17.671875 61.125 8.828125 \nQ 51.171875 0 30.078125 0 \nL 9.8125 0 \nz\n\" id=\"DejaVuSans-68\"/>\n     <path d=\"M 56.203125 29.59375 \nL 56.203125 25.203125 \nL 14.890625 25.203125 \nQ 15.484375 15.921875 20.484375 11.0625 \nQ 25.484375 6.203125 34.421875 6.203125 \nQ 39.59375 6.203125 44.453125 7.46875 \nQ 49.3125 8.734375 54.109375 11.28125 \nL 54.109375 2.78125 \nQ 49.265625 0.734375 44.1875 -0.34375 \nQ 39.109375 -1.421875 33.890625 -1.421875 \nQ 20.796875 -1.421875 13.15625 6.1875 \nQ 5.515625 13.8125 5.515625 26.8125 \nQ 5.515625 40.234375 12.765625 48.109375 \nQ 20.015625 56 32.328125 56 \nQ 43.359375 56 49.78125 48.890625 \nQ 56.203125 41.796875 56.203125 29.59375 \nz\nM 47.21875 32.234375 \nQ 47.125 39.59375 43.09375 43.984375 \nQ 39.0625 48.390625 32.421875 48.390625 \nQ 24.90625 48.390625 20.390625 44.140625 \nQ 15.875 39.890625 15.1875 32.171875 \nz\n\" id=\"DejaVuSans-101\"/>\n     <path d=\"M 54.890625 33.015625 \nL 54.890625 0 \nL 45.90625 0 \nL 45.90625 32.71875 \nQ 45.90625 40.484375 42.875 44.328125 \nQ 39.84375 48.1875 33.796875 48.1875 \nQ 26.515625 48.1875 22.3125 43.546875 \nQ 18.109375 38.921875 18.109375 30.90625 \nL 18.109375 0 \nL 9.078125 0 \nL 9.078125 54.6875 \nL 18.109375 54.6875 \nL 18.109375 46.1875 \nQ 21.34375 51.125 25.703125 53.5625 \nQ 30.078125 56 35.796875 56 \nQ 45.21875 56 50.046875 50.171875 \nQ 54.890625 44.34375 54.890625 33.015625 \nz\n\" id=\"DejaVuSans-110\"/>\n     <path d=\"M 44.28125 53.078125 \nL 44.28125 44.578125 \nQ 40.484375 46.53125 36.375 47.5 \nQ 32.28125 48.484375 27.875 48.484375 \nQ 21.1875 48.484375 17.84375 46.4375 \nQ 14.5 44.390625 14.5 40.28125 \nQ 14.5 37.15625 16.890625 35.375 \nQ 19.28125 33.59375 26.515625 31.984375 \nL 29.59375 31.296875 \nQ 39.15625 29.25 43.1875 25.515625 \nQ 47.21875 21.78125 47.21875 15.09375 \nQ 47.21875 7.46875 41.1875 3.015625 \nQ 35.15625 -1.421875 24.609375 -1.421875 \nQ 20.21875 -1.421875 15.453125 -0.5625 \nQ 10.6875 0.296875 5.421875 2 \nL 5.421875 11.28125 \nQ 10.40625 8.6875 15.234375 7.390625 \nQ 20.0625 6.109375 24.8125 6.109375 \nQ 31.15625 6.109375 34.5625 8.28125 \nQ 37.984375 10.453125 37.984375 14.40625 \nQ 37.984375 18.0625 35.515625 20.015625 \nQ 33.0625 21.96875 24.703125 23.78125 \nL 21.578125 24.515625 \nQ 13.234375 26.265625 9.515625 29.90625 \nQ 5.8125 33.546875 5.8125 39.890625 \nQ 5.8125 47.609375 11.28125 51.796875 \nQ 16.75 56 26.8125 56 \nQ 31.78125 56 36.171875 55.265625 \nQ 40.578125 54.546875 44.28125 53.078125 \nz\n\" id=\"DejaVuSans-115\"/>\n     <path d=\"M 9.421875 54.6875 \nL 18.40625 54.6875 \nL 18.40625 0 \nL 9.421875 0 \nz\nM 9.421875 75.984375 \nL 18.40625 75.984375 \nL 18.40625 64.59375 \nL 9.421875 64.59375 \nz\n\" id=\"DejaVuSans-105\"/>\n     <path d=\"M 18.3125 70.21875 \nL 18.3125 54.6875 \nL 36.8125 54.6875 \nL 36.8125 47.703125 \nL 18.3125 47.703125 \nL 18.3125 18.015625 \nQ 18.3125 11.328125 20.140625 9.421875 \nQ 21.96875 7.515625 27.59375 7.515625 \nL 36.8125 7.515625 \nL 36.8125 0 \nL 27.59375 0 \nQ 17.1875 0 13.234375 3.875 \nQ 9.28125 7.765625 9.28125 18.015625 \nL 9.28125 47.703125 \nL 2.6875 47.703125 \nL 2.6875 54.6875 \nL 9.28125 54.6875 \nL 9.28125 70.21875 \nz\n\" id=\"DejaVuSans-116\"/>\n     <path d=\"M 32.171875 -5.078125 \nQ 28.375 -14.84375 24.75 -17.8125 \nQ 21.140625 -20.796875 15.09375 -20.796875 \nL 7.90625 -20.796875 \nL 7.90625 -13.28125 \nL 13.1875 -13.28125 \nQ 16.890625 -13.28125 18.9375 -11.515625 \nQ 21 -9.765625 23.484375 -3.21875 \nL 25.09375 0.875 \nL 2.984375 54.6875 \nL 12.5 54.6875 \nL 29.59375 11.921875 \nL 46.6875 54.6875 \nL 56.203125 54.6875 \nz\n\" id=\"DejaVuSans-121\"/>\n     <path id=\"DejaVuSans-32\"/>\n     <path d=\"M 37.109375 75.984375 \nL 37.109375 68.5 \nL 28.515625 68.5 \nQ 23.6875 68.5 21.796875 66.546875 \nQ 19.921875 64.59375 19.921875 59.515625 \nL 19.921875 54.6875 \nL 34.71875 54.6875 \nL 34.71875 47.703125 \nL 19.921875 47.703125 \nL 19.921875 0 \nL 10.890625 0 \nL 10.890625 47.703125 \nL 2.296875 47.703125 \nL 2.296875 54.6875 \nL 10.890625 54.6875 \nL 10.890625 58.5 \nQ 10.890625 67.625 15.140625 71.796875 \nQ 19.390625 75.984375 28.609375 75.984375 \nz\n\" id=\"DejaVuSans-102\"/>\n     <path d=\"M 30.609375 48.390625 \nQ 23.390625 48.390625 19.1875 42.75 \nQ 14.984375 37.109375 14.984375 27.296875 \nQ 14.984375 17.484375 19.15625 11.84375 \nQ 23.34375 6.203125 30.609375 6.203125 \nQ 37.796875 6.203125 41.984375 11.859375 \nQ 46.1875 17.53125 46.1875 27.296875 \nQ 46.1875 37.015625 41.984375 42.703125 \nQ 37.796875 48.390625 30.609375 48.390625 \nz\nM 30.609375 56 \nQ 42.328125 56 49.015625 48.375 \nQ 55.71875 40.765625 55.71875 27.296875 \nQ 55.71875 13.875 49.015625 6.21875 \nQ 42.328125 -1.421875 30.609375 -1.421875 \nQ 18.84375 -1.421875 12.171875 6.21875 \nQ 5.515625 13.875 5.515625 27.296875 \nQ 5.515625 40.765625 12.171875 48.375 \nQ 18.84375 56 30.609375 56 \nz\n\" id=\"DejaVuSans-111\"/>\n     <path d=\"M 41.109375 46.296875 \nQ 39.59375 47.171875 37.8125 47.578125 \nQ 36.03125 48 33.890625 48 \nQ 26.265625 48 22.1875 43.046875 \nQ 18.109375 38.09375 18.109375 28.8125 \nL 18.109375 0 \nL 9.078125 0 \nL 9.078125 54.6875 \nL 18.109375 54.6875 \nL 18.109375 46.1875 \nQ 20.953125 51.171875 25.484375 53.578125 \nQ 30.03125 56 36.53125 56 \nQ 37.453125 56 38.578125 55.875 \nQ 39.703125 55.765625 41.0625 55.515625 \nz\n\" id=\"DejaVuSans-114\"/>\n     <path d=\"M 9.8125 72.90625 \nL 55.90625 72.90625 \nL 55.90625 64.59375 \nL 19.671875 64.59375 \nL 19.671875 43.015625 \nL 54.390625 43.015625 \nL 54.390625 34.71875 \nL 19.671875 34.71875 \nL 19.671875 8.296875 \nL 56.78125 8.296875 \nL 56.78125 0 \nL 9.8125 0 \nz\n\" id=\"DejaVuSans-69\"/>\n     <path d=\"M 9.8125 72.90625 \nL 24.515625 72.90625 \nL 43.109375 23.296875 \nL 61.8125 72.90625 \nL 76.515625 72.90625 \nL 76.515625 0 \nL 66.890625 0 \nL 66.890625 64.015625 \nL 48.09375 14.015625 \nL 38.1875 14.015625 \nL 19.390625 64.015625 \nL 19.390625 0 \nL 9.8125 0 \nz\n\" id=\"DejaVuSans-77\"/>\n     <path d=\"M 53.515625 70.515625 \nL 53.515625 60.890625 \nQ 47.90625 63.578125 42.921875 64.890625 \nQ 37.9375 66.21875 33.296875 66.21875 \nQ 25.25 66.21875 20.875 63.09375 \nQ 16.5 59.96875 16.5 54.203125 \nQ 16.5 49.359375 19.40625 46.890625 \nQ 22.3125 44.4375 30.421875 42.921875 \nL 36.375 41.703125 \nQ 47.40625 39.59375 52.65625 34.296875 \nQ 57.90625 29 57.90625 20.125 \nQ 57.90625 9.515625 50.796875 4.046875 \nQ 43.703125 -1.421875 29.984375 -1.421875 \nQ 24.8125 -1.421875 18.96875 -0.25 \nQ 13.140625 0.921875 6.890625 3.21875 \nL 6.890625 13.375 \nQ 12.890625 10.015625 18.65625 8.296875 \nQ 24.421875 6.59375 29.984375 6.59375 \nQ 38.421875 6.59375 43.015625 9.90625 \nQ 47.609375 13.234375 47.609375 19.390625 \nQ 47.609375 24.75 44.3125 27.78125 \nQ 41.015625 30.8125 33.5 32.328125 \nL 27.484375 33.5 \nQ 16.453125 35.6875 11.515625 40.375 \nQ 6.59375 45.0625 6.59375 53.421875 \nQ 6.59375 63.09375 13.40625 68.65625 \nQ 20.21875 74.21875 32.171875 74.21875 \nQ 37.3125 74.21875 42.625 73.28125 \nQ 47.953125 72.359375 53.515625 70.515625 \nz\n\" id=\"DejaVuSans-83\"/>\n     <path d=\"M 59.515625 10.40625 \nL 59.515625 29.984375 \nL 43.40625 29.984375 \nL 43.40625 38.09375 \nL 69.28125 38.09375 \nL 69.28125 6.78125 \nQ 63.578125 2.734375 56.6875 0.65625 \nQ 49.8125 -1.421875 42 -1.421875 \nQ 24.90625 -1.421875 15.25 8.5625 \nQ 5.609375 18.5625 5.609375 36.375 \nQ 5.609375 54.25 15.25 64.234375 \nQ 24.90625 74.21875 42 74.21875 \nQ 49.125 74.21875 55.546875 72.453125 \nQ 61.96875 70.703125 67.390625 67.28125 \nL 67.390625 56.78125 \nQ 61.921875 61.421875 55.765625 63.765625 \nQ 49.609375 66.109375 42.828125 66.109375 \nQ 29.4375 66.109375 22.71875 58.640625 \nQ 16.015625 51.171875 16.015625 36.375 \nQ 16.015625 21.625 22.71875 14.15625 \nQ 29.4375 6.6875 42.828125 6.6875 \nQ 48.046875 6.6875 52.140625 7.59375 \nQ 56.25 8.5 59.515625 10.40625 \nz\n\" id=\"DejaVuSans-71\"/>\n     <path d=\"M 19.671875 64.796875 \nL 19.671875 37.40625 \nL 32.078125 37.40625 \nQ 38.96875 37.40625 42.71875 40.96875 \nQ 46.484375 44.53125 46.484375 51.125 \nQ 46.484375 57.671875 42.71875 61.234375 \nQ 38.96875 64.796875 32.078125 64.796875 \nz\nM 9.8125 72.90625 \nL 32.078125 72.90625 \nQ 44.34375 72.90625 50.609375 67.359375 \nQ 56.890625 61.8125 56.890625 51.125 \nQ 56.890625 40.328125 50.609375 34.8125 \nQ 44.34375 29.296875 32.078125 29.296875 \nL 19.671875 29.296875 \nL 19.671875 0 \nL 9.8125 0 \nz\n\" id=\"DejaVuSans-80\"/>\n    </defs>\n    <g transform=\"translate(88.9855 18.14175)scale(0.144 -0.144)\">\n     <use xlink:href=\"#DejaVuSans-68\"/>\n     <use x=\"77.001953\" xlink:href=\"#DejaVuSans-101\"/>\n     <use x=\"138.525391\" xlink:href=\"#DejaVuSans-110\"/>\n     <use x=\"201.904297\" xlink:href=\"#DejaVuSans-115\"/>\n     <use x=\"254.003906\" xlink:href=\"#DejaVuSans-105\"/>\n     <use x=\"281.787109\" xlink:href=\"#DejaVuSans-116\"/>\n     <use x=\"320.996094\" xlink:href=\"#DejaVuSans-121\"/>\n     <use x=\"380.175781\" xlink:href=\"#DejaVuSans-32\"/>\n     <use x=\"411.962891\" xlink:href=\"#DejaVuSans-102\"/>\n     <use x=\"447.167969\" xlink:href=\"#DejaVuSans-111\"/>\n     <use x=\"508.349609\" xlink:href=\"#DejaVuSans-114\"/>\n     <use x=\"549.462891\" xlink:href=\"#DejaVuSans-32\"/>\n     <use x=\"581.25\" xlink:href=\"#DejaVuSans-69\"/>\n     <use x=\"644.433594\" xlink:href=\"#DejaVuSans-77\"/>\n     <use x=\"730.712891\" xlink:href=\"#DejaVuSans-69\"/>\n     <use x=\"793.896484\" xlink:href=\"#DejaVuSans-83\"/>\n     <use x=\"857.373047\" xlink:href=\"#DejaVuSans-32\"/>\n     <use x=\"889.160156\" xlink:href=\"#DejaVuSans-71\"/>\n     <use x=\"966.650391\" xlink:href=\"#DejaVuSans-80\"/>\n    </g>\n   </g>\n  </g>\n </g>\n <defs>\n  <clipPath id=\"pca2ee1b0b2\">\n   <rect height=\"163.08\" width=\"279\" x=\"23.425\" y=\"24.14175\"/>\n  </clipPath>\n </defs>\n</svg>\n"
          },
          "metadata": {
            "tags": [],
            "needs_background": "light"
          }
        }
      ]
    },
    {
      "cell_type": "markdown",
      "metadata": {
        "id": "ujqYqKU4Y7Ag"
      },
      "source": [
        "Boxplots for sample mean:"
      ]
    },
    {
      "cell_type": "code",
      "metadata": {
        "colab": {
          "base_uri": "https://localhost:8080/",
          "height": 515
        },
        "id": "A9ciZoCraRzZ",
        "outputId": "5505dbb6-0b02-4817-9ef6-7fda585ff62d"
      },
      "source": [
        "plot_boxplots(emes_population, N_SUBSAMPLE)"
      ],
      "execution_count": null,
      "outputs": [
        {
          "output_type": "display_data",
          "data": {
            "text/plain": [
              "<Figure size 504x432 with 1 Axes>"
            ],
            "image/svg+xml": "<?xml version=\"1.0\" encoding=\"utf-8\" standalone=\"no\"?>\n<!DOCTYPE svg PUBLIC \"-//W3C//DTD SVG 1.1//EN\"\n  \"http://www.w3.org/Graphics/SVG/1.1/DTD/svg11.dtd\">\n<!-- Created with matplotlib (https://matplotlib.org/) -->\n<svg height=\"370.679875pt\" version=\"1.1\" viewBox=\"0 0 432.782812 370.679875\" width=\"432.782812pt\" xmlns=\"http://www.w3.org/2000/svg\" xmlns:xlink=\"http://www.w3.org/1999/xlink\">\n <defs>\n  <style type=\"text/css\">\n*{stroke-linecap:butt;stroke-linejoin:round;}\n  </style>\n </defs>\n <g id=\"figure_1\">\n  <g id=\"patch_1\">\n   <path d=\"M 0 370.679875 \nL 432.782812 370.679875 \nL 432.782812 0 \nL 0 0 \nz\n\" style=\"fill:none;\"/>\n  </g>\n  <g id=\"axes_1\">\n   <g id=\"patch_2\">\n    <path d=\"M 34.982813 350.30175 \nL 425.582813 350.30175 \nL 425.582813 24.14175 \nL 34.982813 24.14175 \nz\n\" style=\"fill:#eeeeee;\"/>\n   </g>\n   <g id=\"patch_3\">\n    <path clip-path=\"url(#p3fdc0bbb56)\" d=\"M 80.552813 213.58138 \nL 119.612813 213.58138 \nL 119.612813 154.968735 \nL 80.552813 154.968735 \nL 80.552813 213.58138 \nz\n\" style=\"fill:#4586ac;stroke:#343434;stroke-linejoin:miter;stroke-width:2;\"/>\n   </g>\n   <g id=\"patch_4\">\n    <path clip-path=\"url(#p3fdc0bbb56)\" d=\"M 210.752813 214.262589 \nL 249.812812 214.262589 \nL 249.812812 155.236305 \nL 210.752813 155.236305 \nL 210.752813 214.262589 \nz\n\" style=\"fill:#921a33;stroke:#343434;stroke-linejoin:miter;stroke-width:2;\"/>\n   </g>\n   <g id=\"patch_5\">\n    <path clip-path=\"url(#p3fdc0bbb56)\" d=\"M 340.952812 214.396358 \nL 380.012812 214.396358 \nL 380.012812 151.491304 \nL 340.952812 151.491304 \nL 340.952812 214.396358 \nz\n\" style=\"fill:#7d709e;stroke:#343434;stroke-linejoin:miter;stroke-width:2;\"/>\n   </g>\n   <g id=\"matplotlib.axis_1\">\n    <g id=\"xtick_1\">\n     <g id=\"line2d_1\">\n      <defs>\n       <path d=\"M 0 0 \nL 0 -3.5 \n\" id=\"m1aa65cfedc\" style=\"stroke:#000000;stroke-width:0.8;\"/>\n      </defs>\n      <g>\n       <use style=\"stroke:#000000;stroke-width:0.8;\" x=\"100.082813\" xlink:href=\"#m1aa65cfedc\" y=\"350.30175\"/>\n      </g>\n     </g>\n     <g id=\"text_1\">\n      <!-- 1 random subsampling -->\n      <defs>\n       <path d=\"M 12.40625 8.296875 \nL 28.515625 8.296875 \nL 28.515625 63.921875 \nL 10.984375 60.40625 \nL 10.984375 69.390625 \nL 28.421875 72.90625 \nL 38.28125 72.90625 \nL 38.28125 8.296875 \nL 54.390625 8.296875 \nL 54.390625 0 \nL 12.40625 0 \nz\n\" id=\"DejaVuSans-49\"/>\n       <path id=\"DejaVuSans-32\"/>\n       <path d=\"M 41.109375 46.296875 \nQ 39.59375 47.171875 37.8125 47.578125 \nQ 36.03125 48 33.890625 48 \nQ 26.265625 48 22.1875 43.046875 \nQ 18.109375 38.09375 18.109375 28.8125 \nL 18.109375 0 \nL 9.078125 0 \nL 9.078125 54.6875 \nL 18.109375 54.6875 \nL 18.109375 46.1875 \nQ 20.953125 51.171875 25.484375 53.578125 \nQ 30.03125 56 36.53125 56 \nQ 37.453125 56 38.578125 55.875 \nQ 39.703125 55.765625 41.0625 55.515625 \nz\n\" id=\"DejaVuSans-114\"/>\n       <path d=\"M 34.28125 27.484375 \nQ 23.390625 27.484375 19.1875 25 \nQ 14.984375 22.515625 14.984375 16.5 \nQ 14.984375 11.71875 18.140625 8.90625 \nQ 21.296875 6.109375 26.703125 6.109375 \nQ 34.1875 6.109375 38.703125 11.40625 \nQ 43.21875 16.703125 43.21875 25.484375 \nL 43.21875 27.484375 \nz\nM 52.203125 31.203125 \nL 52.203125 0 \nL 43.21875 0 \nL 43.21875 8.296875 \nQ 40.140625 3.328125 35.546875 0.953125 \nQ 30.953125 -1.421875 24.3125 -1.421875 \nQ 15.921875 -1.421875 10.953125 3.296875 \nQ 6 8.015625 6 15.921875 \nQ 6 25.140625 12.171875 29.828125 \nQ 18.359375 34.515625 30.609375 34.515625 \nL 43.21875 34.515625 \nL 43.21875 35.40625 \nQ 43.21875 41.609375 39.140625 45 \nQ 35.0625 48.390625 27.6875 48.390625 \nQ 23 48.390625 18.546875 47.265625 \nQ 14.109375 46.140625 10.015625 43.890625 \nL 10.015625 52.203125 \nQ 14.9375 54.109375 19.578125 55.046875 \nQ 24.21875 56 28.609375 56 \nQ 40.484375 56 46.34375 49.84375 \nQ 52.203125 43.703125 52.203125 31.203125 \nz\n\" id=\"DejaVuSans-97\"/>\n       <path d=\"M 54.890625 33.015625 \nL 54.890625 0 \nL 45.90625 0 \nL 45.90625 32.71875 \nQ 45.90625 40.484375 42.875 44.328125 \nQ 39.84375 48.1875 33.796875 48.1875 \nQ 26.515625 48.1875 22.3125 43.546875 \nQ 18.109375 38.921875 18.109375 30.90625 \nL 18.109375 0 \nL 9.078125 0 \nL 9.078125 54.6875 \nL 18.109375 54.6875 \nL 18.109375 46.1875 \nQ 21.34375 51.125 25.703125 53.5625 \nQ 30.078125 56 35.796875 56 \nQ 45.21875 56 50.046875 50.171875 \nQ 54.890625 44.34375 54.890625 33.015625 \nz\n\" id=\"DejaVuSans-110\"/>\n       <path d=\"M 45.40625 46.390625 \nL 45.40625 75.984375 \nL 54.390625 75.984375 \nL 54.390625 0 \nL 45.40625 0 \nL 45.40625 8.203125 \nQ 42.578125 3.328125 38.25 0.953125 \nQ 33.9375 -1.421875 27.875 -1.421875 \nQ 17.96875 -1.421875 11.734375 6.484375 \nQ 5.515625 14.40625 5.515625 27.296875 \nQ 5.515625 40.1875 11.734375 48.09375 \nQ 17.96875 56 27.875 56 \nQ 33.9375 56 38.25 53.625 \nQ 42.578125 51.265625 45.40625 46.390625 \nz\nM 14.796875 27.296875 \nQ 14.796875 17.390625 18.875 11.75 \nQ 22.953125 6.109375 30.078125 6.109375 \nQ 37.203125 6.109375 41.296875 11.75 \nQ 45.40625 17.390625 45.40625 27.296875 \nQ 45.40625 37.203125 41.296875 42.84375 \nQ 37.203125 48.484375 30.078125 48.484375 \nQ 22.953125 48.484375 18.875 42.84375 \nQ 14.796875 37.203125 14.796875 27.296875 \nz\n\" id=\"DejaVuSans-100\"/>\n       <path d=\"M 30.609375 48.390625 \nQ 23.390625 48.390625 19.1875 42.75 \nQ 14.984375 37.109375 14.984375 27.296875 \nQ 14.984375 17.484375 19.15625 11.84375 \nQ 23.34375 6.203125 30.609375 6.203125 \nQ 37.796875 6.203125 41.984375 11.859375 \nQ 46.1875 17.53125 46.1875 27.296875 \nQ 46.1875 37.015625 41.984375 42.703125 \nQ 37.796875 48.390625 30.609375 48.390625 \nz\nM 30.609375 56 \nQ 42.328125 56 49.015625 48.375 \nQ 55.71875 40.765625 55.71875 27.296875 \nQ 55.71875 13.875 49.015625 6.21875 \nQ 42.328125 -1.421875 30.609375 -1.421875 \nQ 18.84375 -1.421875 12.171875 6.21875 \nQ 5.515625 13.875 5.515625 27.296875 \nQ 5.515625 40.765625 12.171875 48.375 \nQ 18.84375 56 30.609375 56 \nz\n\" id=\"DejaVuSans-111\"/>\n       <path d=\"M 52 44.1875 \nQ 55.375 50.25 60.0625 53.125 \nQ 64.75 56 71.09375 56 \nQ 79.640625 56 84.28125 50.015625 \nQ 88.921875 44.046875 88.921875 33.015625 \nL 88.921875 0 \nL 79.890625 0 \nL 79.890625 32.71875 \nQ 79.890625 40.578125 77.09375 44.375 \nQ 74.3125 48.1875 68.609375 48.1875 \nQ 61.625 48.1875 57.5625 43.546875 \nQ 53.515625 38.921875 53.515625 30.90625 \nL 53.515625 0 \nL 44.484375 0 \nL 44.484375 32.71875 \nQ 44.484375 40.625 41.703125 44.40625 \nQ 38.921875 48.1875 33.109375 48.1875 \nQ 26.21875 48.1875 22.15625 43.53125 \nQ 18.109375 38.875 18.109375 30.90625 \nL 18.109375 0 \nL 9.078125 0 \nL 9.078125 54.6875 \nL 18.109375 54.6875 \nL 18.109375 46.1875 \nQ 21.1875 51.21875 25.484375 53.609375 \nQ 29.78125 56 35.6875 56 \nQ 41.65625 56 45.828125 52.96875 \nQ 50 49.953125 52 44.1875 \nz\n\" id=\"DejaVuSans-109\"/>\n       <path d=\"M 44.28125 53.078125 \nL 44.28125 44.578125 \nQ 40.484375 46.53125 36.375 47.5 \nQ 32.28125 48.484375 27.875 48.484375 \nQ 21.1875 48.484375 17.84375 46.4375 \nQ 14.5 44.390625 14.5 40.28125 \nQ 14.5 37.15625 16.890625 35.375 \nQ 19.28125 33.59375 26.515625 31.984375 \nL 29.59375 31.296875 \nQ 39.15625 29.25 43.1875 25.515625 \nQ 47.21875 21.78125 47.21875 15.09375 \nQ 47.21875 7.46875 41.1875 3.015625 \nQ 35.15625 -1.421875 24.609375 -1.421875 \nQ 20.21875 -1.421875 15.453125 -0.5625 \nQ 10.6875 0.296875 5.421875 2 \nL 5.421875 11.28125 \nQ 10.40625 8.6875 15.234375 7.390625 \nQ 20.0625 6.109375 24.8125 6.109375 \nQ 31.15625 6.109375 34.5625 8.28125 \nQ 37.984375 10.453125 37.984375 14.40625 \nQ 37.984375 18.0625 35.515625 20.015625 \nQ 33.0625 21.96875 24.703125 23.78125 \nL 21.578125 24.515625 \nQ 13.234375 26.265625 9.515625 29.90625 \nQ 5.8125 33.546875 5.8125 39.890625 \nQ 5.8125 47.609375 11.28125 51.796875 \nQ 16.75 56 26.8125 56 \nQ 31.78125 56 36.171875 55.265625 \nQ 40.578125 54.546875 44.28125 53.078125 \nz\n\" id=\"DejaVuSans-115\"/>\n       <path d=\"M 8.5 21.578125 \nL 8.5 54.6875 \nL 17.484375 54.6875 \nL 17.484375 21.921875 \nQ 17.484375 14.15625 20.5 10.265625 \nQ 23.53125 6.390625 29.59375 6.390625 \nQ 36.859375 6.390625 41.078125 11.03125 \nQ 45.3125 15.671875 45.3125 23.6875 \nL 45.3125 54.6875 \nL 54.296875 54.6875 \nL 54.296875 0 \nL 45.3125 0 \nL 45.3125 8.40625 \nQ 42.046875 3.421875 37.71875 1 \nQ 33.40625 -1.421875 27.6875 -1.421875 \nQ 18.265625 -1.421875 13.375 4.4375 \nQ 8.5 10.296875 8.5 21.578125 \nz\nM 31.109375 56 \nz\n\" id=\"DejaVuSans-117\"/>\n       <path d=\"M 48.6875 27.296875 \nQ 48.6875 37.203125 44.609375 42.84375 \nQ 40.53125 48.484375 33.40625 48.484375 \nQ 26.265625 48.484375 22.1875 42.84375 \nQ 18.109375 37.203125 18.109375 27.296875 \nQ 18.109375 17.390625 22.1875 11.75 \nQ 26.265625 6.109375 33.40625 6.109375 \nQ 40.53125 6.109375 44.609375 11.75 \nQ 48.6875 17.390625 48.6875 27.296875 \nz\nM 18.109375 46.390625 \nQ 20.953125 51.265625 25.265625 53.625 \nQ 29.59375 56 35.59375 56 \nQ 45.5625 56 51.78125 48.09375 \nQ 58.015625 40.1875 58.015625 27.296875 \nQ 58.015625 14.40625 51.78125 6.484375 \nQ 45.5625 -1.421875 35.59375 -1.421875 \nQ 29.59375 -1.421875 25.265625 0.953125 \nQ 20.953125 3.328125 18.109375 8.203125 \nL 18.109375 0 \nL 9.078125 0 \nL 9.078125 75.984375 \nL 18.109375 75.984375 \nz\n\" id=\"DejaVuSans-98\"/>\n       <path d=\"M 18.109375 8.203125 \nL 18.109375 -20.796875 \nL 9.078125 -20.796875 \nL 9.078125 54.6875 \nL 18.109375 54.6875 \nL 18.109375 46.390625 \nQ 20.953125 51.265625 25.265625 53.625 \nQ 29.59375 56 35.59375 56 \nQ 45.5625 56 51.78125 48.09375 \nQ 58.015625 40.1875 58.015625 27.296875 \nQ 58.015625 14.40625 51.78125 6.484375 \nQ 45.5625 -1.421875 35.59375 -1.421875 \nQ 29.59375 -1.421875 25.265625 0.953125 \nQ 20.953125 3.328125 18.109375 8.203125 \nz\nM 48.6875 27.296875 \nQ 48.6875 37.203125 44.609375 42.84375 \nQ 40.53125 48.484375 33.40625 48.484375 \nQ 26.265625 48.484375 22.1875 42.84375 \nQ 18.109375 37.203125 18.109375 27.296875 \nQ 18.109375 17.390625 22.1875 11.75 \nQ 26.265625 6.109375 33.40625 6.109375 \nQ 40.53125 6.109375 44.609375 11.75 \nQ 48.6875 17.390625 48.6875 27.296875 \nz\n\" id=\"DejaVuSans-112\"/>\n       <path d=\"M 9.421875 75.984375 \nL 18.40625 75.984375 \nL 18.40625 0 \nL 9.421875 0 \nz\n\" id=\"DejaVuSans-108\"/>\n       <path d=\"M 9.421875 54.6875 \nL 18.40625 54.6875 \nL 18.40625 0 \nL 9.421875 0 \nz\nM 9.421875 75.984375 \nL 18.40625 75.984375 \nL 18.40625 64.59375 \nL 9.421875 64.59375 \nz\n\" id=\"DejaVuSans-105\"/>\n       <path d=\"M 45.40625 27.984375 \nQ 45.40625 37.75 41.375 43.109375 \nQ 37.359375 48.484375 30.078125 48.484375 \nQ 22.859375 48.484375 18.828125 43.109375 \nQ 14.796875 37.75 14.796875 27.984375 \nQ 14.796875 18.265625 18.828125 12.890625 \nQ 22.859375 7.515625 30.078125 7.515625 \nQ 37.359375 7.515625 41.375 12.890625 \nQ 45.40625 18.265625 45.40625 27.984375 \nz\nM 54.390625 6.78125 \nQ 54.390625 -7.171875 48.1875 -13.984375 \nQ 42 -20.796875 29.203125 -20.796875 \nQ 24.46875 -20.796875 20.265625 -20.09375 \nQ 16.0625 -19.390625 12.109375 -17.921875 \nL 12.109375 -9.1875 \nQ 16.0625 -11.328125 19.921875 -12.34375 \nQ 23.78125 -13.375 27.78125 -13.375 \nQ 36.625 -13.375 41.015625 -8.765625 \nQ 45.40625 -4.15625 45.40625 5.171875 \nL 45.40625 9.625 \nQ 42.625 4.78125 38.28125 2.390625 \nQ 33.9375 0 27.875 0 \nQ 17.828125 0 11.671875 7.65625 \nQ 5.515625 15.328125 5.515625 27.984375 \nQ 5.515625 40.671875 11.671875 48.328125 \nQ 17.828125 56 27.875 56 \nQ 33.9375 56 38.28125 53.609375 \nQ 42.625 51.21875 45.40625 46.390625 \nL 45.40625 54.6875 \nL 54.390625 54.6875 \nz\n\" id=\"DejaVuSans-103\"/>\n      </defs>\n      <g transform=\"translate(42.549219 361.400187)scale(0.1 -0.1)\">\n       <use xlink:href=\"#DejaVuSans-49\"/>\n       <use x=\"63.623047\" xlink:href=\"#DejaVuSans-32\"/>\n       <use x=\"95.410156\" xlink:href=\"#DejaVuSans-114\"/>\n       <use x=\"136.523438\" xlink:href=\"#DejaVuSans-97\"/>\n       <use x=\"197.802734\" xlink:href=\"#DejaVuSans-110\"/>\n       <use x=\"261.181641\" xlink:href=\"#DejaVuSans-100\"/>\n       <use x=\"324.658203\" xlink:href=\"#DejaVuSans-111\"/>\n       <use x=\"385.839844\" xlink:href=\"#DejaVuSans-109\"/>\n       <use x=\"483.251953\" xlink:href=\"#DejaVuSans-32\"/>\n       <use x=\"515.039062\" xlink:href=\"#DejaVuSans-115\"/>\n       <use x=\"567.138672\" xlink:href=\"#DejaVuSans-117\"/>\n       <use x=\"630.517578\" xlink:href=\"#DejaVuSans-98\"/>\n       <use x=\"693.994141\" xlink:href=\"#DejaVuSans-115\"/>\n       <use x=\"746.09375\" xlink:href=\"#DejaVuSans-97\"/>\n       <use x=\"807.373047\" xlink:href=\"#DejaVuSans-109\"/>\n       <use x=\"904.785156\" xlink:href=\"#DejaVuSans-112\"/>\n       <use x=\"968.261719\" xlink:href=\"#DejaVuSans-108\"/>\n       <use x=\"996.044922\" xlink:href=\"#DejaVuSans-105\"/>\n       <use x=\"1023.828125\" xlink:href=\"#DejaVuSans-110\"/>\n       <use x=\"1087.207031\" xlink:href=\"#DejaVuSans-103\"/>\n      </g>\n     </g>\n    </g>\n    <g id=\"xtick_2\">\n     <g id=\"line2d_2\">\n      <g>\n       <use style=\"stroke:#000000;stroke-width:0.8;\" x=\"230.282812\" xlink:href=\"#m1aa65cfedc\" y=\"350.30175\"/>\n      </g>\n     </g>\n     <g id=\"text_2\">\n      <!-- 2 proportional subsampling -->\n      <defs>\n       <path d=\"M 19.1875 8.296875 \nL 53.609375 8.296875 \nL 53.609375 0 \nL 7.328125 0 \nL 7.328125 8.296875 \nQ 12.9375 14.109375 22.625 23.890625 \nQ 32.328125 33.6875 34.8125 36.53125 \nQ 39.546875 41.84375 41.421875 45.53125 \nQ 43.3125 49.21875 43.3125 52.78125 \nQ 43.3125 58.59375 39.234375 62.25 \nQ 35.15625 65.921875 28.609375 65.921875 \nQ 23.96875 65.921875 18.8125 64.3125 \nQ 13.671875 62.703125 7.8125 59.421875 \nL 7.8125 69.390625 \nQ 13.765625 71.78125 18.9375 73 \nQ 24.125 74.21875 28.421875 74.21875 \nQ 39.75 74.21875 46.484375 68.546875 \nQ 53.21875 62.890625 53.21875 53.421875 \nQ 53.21875 48.921875 51.53125 44.890625 \nQ 49.859375 40.875 45.40625 35.40625 \nQ 44.1875 33.984375 37.640625 27.21875 \nQ 31.109375 20.453125 19.1875 8.296875 \nz\n\" id=\"DejaVuSans-50\"/>\n       <path d=\"M 18.3125 70.21875 \nL 18.3125 54.6875 \nL 36.8125 54.6875 \nL 36.8125 47.703125 \nL 18.3125 47.703125 \nL 18.3125 18.015625 \nQ 18.3125 11.328125 20.140625 9.421875 \nQ 21.96875 7.515625 27.59375 7.515625 \nL 36.8125 7.515625 \nL 36.8125 0 \nL 27.59375 0 \nQ 17.1875 0 13.234375 3.875 \nQ 9.28125 7.765625 9.28125 18.015625 \nL 9.28125 47.703125 \nL 2.6875 47.703125 \nL 2.6875 54.6875 \nL 9.28125 54.6875 \nL 9.28125 70.21875 \nz\n\" id=\"DejaVuSans-116\"/>\n      </defs>\n      <g transform=\"translate(161.645312 361.400187)scale(0.1 -0.1)\">\n       <use xlink:href=\"#DejaVuSans-50\"/>\n       <use x=\"63.623047\" xlink:href=\"#DejaVuSans-32\"/>\n       <use x=\"95.410156\" xlink:href=\"#DejaVuSans-112\"/>\n       <use x=\"158.886719\" xlink:href=\"#DejaVuSans-114\"/>\n       <use x=\"197.75\" xlink:href=\"#DejaVuSans-111\"/>\n       <use x=\"258.931641\" xlink:href=\"#DejaVuSans-112\"/>\n       <use x=\"322.408203\" xlink:href=\"#DejaVuSans-111\"/>\n       <use x=\"383.589844\" xlink:href=\"#DejaVuSans-114\"/>\n       <use x=\"424.703125\" xlink:href=\"#DejaVuSans-116\"/>\n       <use x=\"463.912109\" xlink:href=\"#DejaVuSans-105\"/>\n       <use x=\"491.695312\" xlink:href=\"#DejaVuSans-111\"/>\n       <use x=\"552.876953\" xlink:href=\"#DejaVuSans-110\"/>\n       <use x=\"616.255859\" xlink:href=\"#DejaVuSans-97\"/>\n       <use x=\"677.535156\" xlink:href=\"#DejaVuSans-108\"/>\n       <use x=\"705.318359\" xlink:href=\"#DejaVuSans-32\"/>\n       <use x=\"737.105469\" xlink:href=\"#DejaVuSans-115\"/>\n       <use x=\"789.205078\" xlink:href=\"#DejaVuSans-117\"/>\n       <use x=\"852.583984\" xlink:href=\"#DejaVuSans-98\"/>\n       <use x=\"916.060547\" xlink:href=\"#DejaVuSans-115\"/>\n       <use x=\"968.160156\" xlink:href=\"#DejaVuSans-97\"/>\n       <use x=\"1029.439453\" xlink:href=\"#DejaVuSans-109\"/>\n       <use x=\"1126.851562\" xlink:href=\"#DejaVuSans-112\"/>\n       <use x=\"1190.328125\" xlink:href=\"#DejaVuSans-108\"/>\n       <use x=\"1218.111328\" xlink:href=\"#DejaVuSans-105\"/>\n       <use x=\"1245.894531\" xlink:href=\"#DejaVuSans-110\"/>\n       <use x=\"1309.273438\" xlink:href=\"#DejaVuSans-103\"/>\n      </g>\n     </g>\n    </g>\n    <g id=\"xtick_3\">\n     <g id=\"line2d_3\">\n      <g>\n       <use style=\"stroke:#000000;stroke-width:0.8;\" x=\"360.482812\" xlink:href=\"#m1aa65cfedc\" y=\"350.30175\"/>\n      </g>\n     </g>\n     <g id=\"text_3\">\n      <!-- 3 optimal subsampling -->\n      <defs>\n       <path d=\"M 40.578125 39.3125 \nQ 47.65625 37.796875 51.625 33 \nQ 55.609375 28.21875 55.609375 21.1875 \nQ 55.609375 10.40625 48.1875 4.484375 \nQ 40.765625 -1.421875 27.09375 -1.421875 \nQ 22.515625 -1.421875 17.65625 -0.515625 \nQ 12.796875 0.390625 7.625 2.203125 \nL 7.625 11.71875 \nQ 11.71875 9.328125 16.59375 8.109375 \nQ 21.484375 6.890625 26.8125 6.890625 \nQ 36.078125 6.890625 40.9375 10.546875 \nQ 45.796875 14.203125 45.796875 21.1875 \nQ 45.796875 27.640625 41.28125 31.265625 \nQ 36.765625 34.90625 28.71875 34.90625 \nL 20.21875 34.90625 \nL 20.21875 43.015625 \nL 29.109375 43.015625 \nQ 36.375 43.015625 40.234375 45.921875 \nQ 44.09375 48.828125 44.09375 54.296875 \nQ 44.09375 59.90625 40.109375 62.90625 \nQ 36.140625 65.921875 28.71875 65.921875 \nQ 24.65625 65.921875 20.015625 65.03125 \nQ 15.375 64.15625 9.8125 62.3125 \nL 9.8125 71.09375 \nQ 15.4375 72.65625 20.34375 73.4375 \nQ 25.25 74.21875 29.59375 74.21875 \nQ 40.828125 74.21875 47.359375 69.109375 \nQ 53.90625 64.015625 53.90625 55.328125 \nQ 53.90625 49.265625 50.4375 45.09375 \nQ 46.96875 40.921875 40.578125 39.3125 \nz\n\" id=\"DejaVuSans-51\"/>\n      </defs>\n      <g transform=\"translate(303.435156 361.400187)scale(0.1 -0.1)\">\n       <use xlink:href=\"#DejaVuSans-51\"/>\n       <use x=\"63.623047\" xlink:href=\"#DejaVuSans-32\"/>\n       <use x=\"95.410156\" xlink:href=\"#DejaVuSans-111\"/>\n       <use x=\"156.591797\" xlink:href=\"#DejaVuSans-112\"/>\n       <use x=\"220.068359\" xlink:href=\"#DejaVuSans-116\"/>\n       <use x=\"259.277344\" xlink:href=\"#DejaVuSans-105\"/>\n       <use x=\"287.060547\" xlink:href=\"#DejaVuSans-109\"/>\n       <use x=\"384.472656\" xlink:href=\"#DejaVuSans-97\"/>\n       <use x=\"445.751953\" xlink:href=\"#DejaVuSans-108\"/>\n       <use x=\"473.535156\" xlink:href=\"#DejaVuSans-32\"/>\n       <use x=\"505.322266\" xlink:href=\"#DejaVuSans-115\"/>\n       <use x=\"557.421875\" xlink:href=\"#DejaVuSans-117\"/>\n       <use x=\"620.800781\" xlink:href=\"#DejaVuSans-98\"/>\n       <use x=\"684.277344\" xlink:href=\"#DejaVuSans-115\"/>\n       <use x=\"736.376953\" xlink:href=\"#DejaVuSans-97\"/>\n       <use x=\"797.65625\" xlink:href=\"#DejaVuSans-109\"/>\n       <use x=\"895.068359\" xlink:href=\"#DejaVuSans-112\"/>\n       <use x=\"958.544922\" xlink:href=\"#DejaVuSans-108\"/>\n       <use x=\"986.328125\" xlink:href=\"#DejaVuSans-105\"/>\n       <use x=\"1014.111328\" xlink:href=\"#DejaVuSans-110\"/>\n       <use x=\"1077.490234\" xlink:href=\"#DejaVuSans-103\"/>\n      </g>\n     </g>\n    </g>\n   </g>\n   <g id=\"matplotlib.axis_2\">\n    <g id=\"ytick_1\">\n     <g id=\"line2d_4\">\n      <path clip-path=\"url(#p3fdc0bbb56)\" d=\"M 34.982813 330.956336 \nL 425.582813 330.956336 \n\" style=\"fill:none;stroke:#b2b2b2;stroke-dasharray:1.85,0.8;stroke-dashoffset:0;stroke-width:0.5;\"/>\n     </g>\n     <g id=\"line2d_5\">\n      <defs>\n       <path d=\"M 0 0 \nL 3.5 0 \n\" id=\"mcc1867a185\" style=\"stroke:#000000;stroke-width:0.8;\"/>\n      </defs>\n      <g>\n       <use style=\"stroke:#000000;stroke-width:0.8;\" x=\"34.982813\" xlink:href=\"#mcc1867a185\" y=\"330.956336\"/>\n      </g>\n     </g>\n     <g id=\"text_4\">\n      <!-- −0.8 -->\n      <defs>\n       <path d=\"M 10.59375 35.5 \nL 73.1875 35.5 \nL 73.1875 27.203125 \nL 10.59375 27.203125 \nz\n\" id=\"DejaVuSans-8722\"/>\n       <path d=\"M 31.78125 66.40625 \nQ 24.171875 66.40625 20.328125 58.90625 \nQ 16.5 51.421875 16.5 36.375 \nQ 16.5 21.390625 20.328125 13.890625 \nQ 24.171875 6.390625 31.78125 6.390625 \nQ 39.453125 6.390625 43.28125 13.890625 \nQ 47.125 21.390625 47.125 36.375 \nQ 47.125 51.421875 43.28125 58.90625 \nQ 39.453125 66.40625 31.78125 66.40625 \nz\nM 31.78125 74.21875 \nQ 44.046875 74.21875 50.515625 64.515625 \nQ 56.984375 54.828125 56.984375 36.375 \nQ 56.984375 17.96875 50.515625 8.265625 \nQ 44.046875 -1.421875 31.78125 -1.421875 \nQ 19.53125 -1.421875 13.0625 8.265625 \nQ 6.59375 17.96875 6.59375 36.375 \nQ 6.59375 54.828125 13.0625 64.515625 \nQ 19.53125 74.21875 31.78125 74.21875 \nz\n\" id=\"DejaVuSans-48\"/>\n       <path d=\"M 10.6875 12.40625 \nL 21 12.40625 \nL 21 0 \nL 10.6875 0 \nz\n\" id=\"DejaVuSans-46\"/>\n       <path d=\"M 31.78125 34.625 \nQ 24.75 34.625 20.71875 30.859375 \nQ 16.703125 27.09375 16.703125 20.515625 \nQ 16.703125 13.921875 20.71875 10.15625 \nQ 24.75 6.390625 31.78125 6.390625 \nQ 38.8125 6.390625 42.859375 10.171875 \nQ 46.921875 13.96875 46.921875 20.515625 \nQ 46.921875 27.09375 42.890625 30.859375 \nQ 38.875 34.625 31.78125 34.625 \nz\nM 21.921875 38.8125 \nQ 15.578125 40.375 12.03125 44.71875 \nQ 8.5 49.078125 8.5 55.328125 \nQ 8.5 64.0625 14.71875 69.140625 \nQ 20.953125 74.21875 31.78125 74.21875 \nQ 42.671875 74.21875 48.875 69.140625 \nQ 55.078125 64.0625 55.078125 55.328125 \nQ 55.078125 49.078125 51.53125 44.71875 \nQ 48 40.375 41.703125 38.8125 \nQ 48.828125 37.15625 52.796875 32.3125 \nQ 56.78125 27.484375 56.78125 20.515625 \nQ 56.78125 9.90625 50.3125 4.234375 \nQ 43.84375 -1.421875 31.78125 -1.421875 \nQ 19.734375 -1.421875 13.25 4.234375 \nQ 6.78125 9.90625 6.78125 20.515625 \nQ 6.78125 27.484375 10.78125 32.3125 \nQ 14.796875 37.15625 21.921875 38.8125 \nz\nM 18.3125 54.390625 \nQ 18.3125 48.734375 21.84375 45.5625 \nQ 25.390625 42.390625 31.78125 42.390625 \nQ 38.140625 42.390625 41.71875 45.5625 \nQ 45.3125 48.734375 45.3125 54.390625 \nQ 45.3125 60.0625 41.71875 63.234375 \nQ 38.140625 66.40625 31.78125 66.40625 \nQ 25.390625 66.40625 21.84375 63.234375 \nQ 18.3125 60.0625 18.3125 54.390625 \nz\n\" id=\"DejaVuSans-56\"/>\n      </defs>\n      <g transform=\"translate(7.2 334.755555)scale(0.1 -0.1)\">\n       <use xlink:href=\"#DejaVuSans-8722\"/>\n       <use x=\"83.789062\" xlink:href=\"#DejaVuSans-48\"/>\n       <use x=\"147.412109\" xlink:href=\"#DejaVuSans-46\"/>\n       <use x=\"179.199219\" xlink:href=\"#DejaVuSans-56\"/>\n      </g>\n     </g>\n    </g>\n    <g id=\"ytick_2\">\n     <g id=\"line2d_6\">\n      <path clip-path=\"url(#p3fdc0bbb56)\" d=\"M 34.982813 293.060382 \nL 425.582813 293.060382 \n\" style=\"fill:none;stroke:#b2b2b2;stroke-dasharray:1.85,0.8;stroke-dashoffset:0;stroke-width:0.5;\"/>\n     </g>\n     <g id=\"line2d_7\">\n      <g>\n       <use style=\"stroke:#000000;stroke-width:0.8;\" x=\"34.982813\" xlink:href=\"#mcc1867a185\" y=\"293.060382\"/>\n      </g>\n     </g>\n     <g id=\"text_5\">\n      <!-- −0.6 -->\n      <defs>\n       <path d=\"M 33.015625 40.375 \nQ 26.375 40.375 22.484375 35.828125 \nQ 18.609375 31.296875 18.609375 23.390625 \nQ 18.609375 15.53125 22.484375 10.953125 \nQ 26.375 6.390625 33.015625 6.390625 \nQ 39.65625 6.390625 43.53125 10.953125 \nQ 47.40625 15.53125 47.40625 23.390625 \nQ 47.40625 31.296875 43.53125 35.828125 \nQ 39.65625 40.375 33.015625 40.375 \nz\nM 52.59375 71.296875 \nL 52.59375 62.3125 \nQ 48.875 64.0625 45.09375 64.984375 \nQ 41.3125 65.921875 37.59375 65.921875 \nQ 27.828125 65.921875 22.671875 59.328125 \nQ 17.53125 52.734375 16.796875 39.40625 \nQ 19.671875 43.65625 24.015625 45.921875 \nQ 28.375 48.1875 33.59375 48.1875 \nQ 44.578125 48.1875 50.953125 41.515625 \nQ 57.328125 34.859375 57.328125 23.390625 \nQ 57.328125 12.15625 50.6875 5.359375 \nQ 44.046875 -1.421875 33.015625 -1.421875 \nQ 20.359375 -1.421875 13.671875 8.265625 \nQ 6.984375 17.96875 6.984375 36.375 \nQ 6.984375 53.65625 15.1875 63.9375 \nQ 23.390625 74.21875 37.203125 74.21875 \nQ 40.921875 74.21875 44.703125 73.484375 \nQ 48.484375 72.75 52.59375 71.296875 \nz\n\" id=\"DejaVuSans-54\"/>\n      </defs>\n      <g transform=\"translate(7.2 296.859601)scale(0.1 -0.1)\">\n       <use xlink:href=\"#DejaVuSans-8722\"/>\n       <use x=\"83.789062\" xlink:href=\"#DejaVuSans-48\"/>\n       <use x=\"147.412109\" xlink:href=\"#DejaVuSans-46\"/>\n       <use x=\"179.199219\" xlink:href=\"#DejaVuSans-54\"/>\n      </g>\n     </g>\n    </g>\n    <g id=\"ytick_3\">\n     <g id=\"line2d_8\">\n      <path clip-path=\"url(#p3fdc0bbb56)\" d=\"M 34.982813 255.164429 \nL 425.582813 255.164429 \n\" style=\"fill:none;stroke:#b2b2b2;stroke-dasharray:1.85,0.8;stroke-dashoffset:0;stroke-width:0.5;\"/>\n     </g>\n     <g id=\"line2d_9\">\n      <g>\n       <use style=\"stroke:#000000;stroke-width:0.8;\" x=\"34.982813\" xlink:href=\"#mcc1867a185\" y=\"255.164429\"/>\n      </g>\n     </g>\n     <g id=\"text_6\">\n      <!-- −0.4 -->\n      <defs>\n       <path d=\"M 37.796875 64.3125 \nL 12.890625 25.390625 \nL 37.796875 25.390625 \nz\nM 35.203125 72.90625 \nL 47.609375 72.90625 \nL 47.609375 25.390625 \nL 58.015625 25.390625 \nL 58.015625 17.1875 \nL 47.609375 17.1875 \nL 47.609375 0 \nL 37.796875 0 \nL 37.796875 17.1875 \nL 4.890625 17.1875 \nL 4.890625 26.703125 \nz\n\" id=\"DejaVuSans-52\"/>\n      </defs>\n      <g transform=\"translate(7.2 258.963647)scale(0.1 -0.1)\">\n       <use xlink:href=\"#DejaVuSans-8722\"/>\n       <use x=\"83.789062\" xlink:href=\"#DejaVuSans-48\"/>\n       <use x=\"147.412109\" xlink:href=\"#DejaVuSans-46\"/>\n       <use x=\"179.199219\" xlink:href=\"#DejaVuSans-52\"/>\n      </g>\n     </g>\n    </g>\n    <g id=\"ytick_4\">\n     <g id=\"line2d_10\">\n      <path clip-path=\"url(#p3fdc0bbb56)\" d=\"M 34.982813 217.268475 \nL 425.582813 217.268475 \n\" style=\"fill:none;stroke:#b2b2b2;stroke-dasharray:1.85,0.8;stroke-dashoffset:0;stroke-width:0.5;\"/>\n     </g>\n     <g id=\"line2d_11\">\n      <g>\n       <use style=\"stroke:#000000;stroke-width:0.8;\" x=\"34.982813\" xlink:href=\"#mcc1867a185\" y=\"217.268475\"/>\n      </g>\n     </g>\n     <g id=\"text_7\">\n      <!-- −0.2 -->\n      <g transform=\"translate(7.2 221.067694)scale(0.1 -0.1)\">\n       <use xlink:href=\"#DejaVuSans-8722\"/>\n       <use x=\"83.789062\" xlink:href=\"#DejaVuSans-48\"/>\n       <use x=\"147.412109\" xlink:href=\"#DejaVuSans-46\"/>\n       <use x=\"179.199219\" xlink:href=\"#DejaVuSans-50\"/>\n      </g>\n     </g>\n    </g>\n    <g id=\"ytick_5\">\n     <g id=\"line2d_12\">\n      <path clip-path=\"url(#p3fdc0bbb56)\" d=\"M 34.982813 179.372521 \nL 425.582813 179.372521 \n\" style=\"fill:none;stroke:#b2b2b2;stroke-dasharray:1.85,0.8;stroke-dashoffset:0;stroke-width:0.5;\"/>\n     </g>\n     <g id=\"line2d_13\">\n      <g>\n       <use style=\"stroke:#000000;stroke-width:0.8;\" x=\"34.982813\" xlink:href=\"#mcc1867a185\" y=\"179.372521\"/>\n      </g>\n     </g>\n     <g id=\"text_8\">\n      <!-- 0.0 -->\n      <g transform=\"translate(15.579688 183.17174)scale(0.1 -0.1)\">\n       <use xlink:href=\"#DejaVuSans-48\"/>\n       <use x=\"63.623047\" xlink:href=\"#DejaVuSans-46\"/>\n       <use x=\"95.410156\" xlink:href=\"#DejaVuSans-48\"/>\n      </g>\n     </g>\n    </g>\n    <g id=\"ytick_6\">\n     <g id=\"line2d_14\">\n      <path clip-path=\"url(#p3fdc0bbb56)\" d=\"M 34.982813 141.476567 \nL 425.582813 141.476567 \n\" style=\"fill:none;stroke:#b2b2b2;stroke-dasharray:1.85,0.8;stroke-dashoffset:0;stroke-width:0.5;\"/>\n     </g>\n     <g id=\"line2d_15\">\n      <g>\n       <use style=\"stroke:#000000;stroke-width:0.8;\" x=\"34.982813\" xlink:href=\"#mcc1867a185\" y=\"141.476567\"/>\n      </g>\n     </g>\n     <g id=\"text_9\">\n      <!-- 0.2 -->\n      <g transform=\"translate(15.579688 145.275786)scale(0.1 -0.1)\">\n       <use xlink:href=\"#DejaVuSans-48\"/>\n       <use x=\"63.623047\" xlink:href=\"#DejaVuSans-46\"/>\n       <use x=\"95.410156\" xlink:href=\"#DejaVuSans-50\"/>\n      </g>\n     </g>\n    </g>\n    <g id=\"ytick_7\">\n     <g id=\"line2d_16\">\n      <path clip-path=\"url(#p3fdc0bbb56)\" d=\"M 34.982813 103.580613 \nL 425.582813 103.580613 \n\" style=\"fill:none;stroke:#b2b2b2;stroke-dasharray:1.85,0.8;stroke-dashoffset:0;stroke-width:0.5;\"/>\n     </g>\n     <g id=\"line2d_17\">\n      <g>\n       <use style=\"stroke:#000000;stroke-width:0.8;\" x=\"34.982813\" xlink:href=\"#mcc1867a185\" y=\"103.580613\"/>\n      </g>\n     </g>\n     <g id=\"text_10\">\n      <!-- 0.4 -->\n      <g transform=\"translate(15.579688 107.379832)scale(0.1 -0.1)\">\n       <use xlink:href=\"#DejaVuSans-48\"/>\n       <use x=\"63.623047\" xlink:href=\"#DejaVuSans-46\"/>\n       <use x=\"95.410156\" xlink:href=\"#DejaVuSans-52\"/>\n      </g>\n     </g>\n    </g>\n    <g id=\"ytick_8\">\n     <g id=\"line2d_18\">\n      <path clip-path=\"url(#p3fdc0bbb56)\" d=\"M 34.982813 65.68466 \nL 425.582813 65.68466 \n\" style=\"fill:none;stroke:#b2b2b2;stroke-dasharray:1.85,0.8;stroke-dashoffset:0;stroke-width:0.5;\"/>\n     </g>\n     <g id=\"line2d_19\">\n      <g>\n       <use style=\"stroke:#000000;stroke-width:0.8;\" x=\"34.982813\" xlink:href=\"#mcc1867a185\" y=\"65.68466\"/>\n      </g>\n     </g>\n     <g id=\"text_11\">\n      <!-- 0.6 -->\n      <g transform=\"translate(15.579688 69.483878)scale(0.1 -0.1)\">\n       <use xlink:href=\"#DejaVuSans-48\"/>\n       <use x=\"63.623047\" xlink:href=\"#DejaVuSans-46\"/>\n       <use x=\"95.410156\" xlink:href=\"#DejaVuSans-54\"/>\n      </g>\n     </g>\n    </g>\n    <g id=\"ytick_9\">\n     <g id=\"line2d_20\">\n      <path clip-path=\"url(#p3fdc0bbb56)\" d=\"M 34.982813 27.788706 \nL 425.582813 27.788706 \n\" style=\"fill:none;stroke:#b2b2b2;stroke-dasharray:1.85,0.8;stroke-dashoffset:0;stroke-width:0.5;\"/>\n     </g>\n     <g id=\"line2d_21\">\n      <g>\n       <use style=\"stroke:#000000;stroke-width:0.8;\" x=\"34.982813\" xlink:href=\"#mcc1867a185\" y=\"27.788706\"/>\n      </g>\n     </g>\n     <g id=\"text_12\">\n      <!-- 0.8 -->\n      <g transform=\"translate(15.579688 31.587924)scale(0.1 -0.1)\">\n       <use xlink:href=\"#DejaVuSans-48\"/>\n       <use x=\"63.623047\" xlink:href=\"#DejaVuSans-46\"/>\n       <use x=\"95.410156\" xlink:href=\"#DejaVuSans-56\"/>\n      </g>\n     </g>\n    </g>\n   </g>\n   <g id=\"line2d_22\">\n    <path clip-path=\"url(#p3fdc0bbb56)\" d=\"M 100.082813 213.58138 \nL 100.082813 295.549884 \n\" style=\"fill:none;stroke:#343434;stroke-linecap:square;stroke-width:2;\"/>\n   </g>\n   <g id=\"line2d_23\">\n    <path clip-path=\"url(#p3fdc0bbb56)\" d=\"M 100.082813 154.968735 \nL 100.082813 69.59021 \n\" style=\"fill:none;stroke:#343434;stroke-linecap:square;stroke-width:2;\"/>\n   </g>\n   <g id=\"line2d_24\">\n    <path clip-path=\"url(#p3fdc0bbb56)\" d=\"M 90.317813 295.549884 \nL 109.847813 295.549884 \n\" style=\"fill:none;stroke:#343434;stroke-linecap:square;stroke-width:2;\"/>\n   </g>\n   <g id=\"line2d_25\">\n    <path clip-path=\"url(#p3fdc0bbb56)\" d=\"M 90.317813 69.59021 \nL 109.847813 69.59021 \n\" style=\"fill:none;stroke:#343434;stroke-linecap:square;stroke-width:2;\"/>\n   </g>\n   <g id=\"line2d_26\">\n    <defs>\n     <path d=\"M -0 3.535534 \nL 2.12132 0 \nL -0 -3.535534 \nL -2.12132 -0 \nz\n\" id=\"m7e40ad05f1\" style=\"stroke:#343434;stroke-linejoin:miter;\"/>\n    </defs>\n    <g clip-path=\"url(#p3fdc0bbb56)\">\n     <use style=\"fill:#343434;stroke:#343434;stroke-linejoin:miter;\" x=\"100.082813\" xlink:href=\"#m7e40ad05f1\" y=\"317.522977\"/>\n     <use style=\"fill:#343434;stroke:#343434;stroke-linejoin:miter;\" x=\"100.082813\" xlink:href=\"#m7e40ad05f1\" y=\"305.489179\"/>\n     <use style=\"fill:#343434;stroke:#343434;stroke-linejoin:miter;\" x=\"100.082813\" xlink:href=\"#m7e40ad05f1\" y=\"310.766617\"/>\n     <use style=\"fill:#343434;stroke:#343434;stroke-linejoin:miter;\" x=\"100.082813\" xlink:href=\"#m7e40ad05f1\" y=\"313.753727\"/>\n     <use style=\"fill:#343434;stroke:#343434;stroke-linejoin:miter;\" x=\"100.082813\" xlink:href=\"#m7e40ad05f1\" y=\"303.442322\"/>\n     <use style=\"fill:#343434;stroke:#343434;stroke-linejoin:miter;\" x=\"100.082813\" xlink:href=\"#m7e40ad05f1\" y=\"64.115944\"/>\n     <use style=\"fill:#343434;stroke:#343434;stroke-linejoin:miter;\" x=\"100.082813\" xlink:href=\"#m7e40ad05f1\" y=\"61.015963\"/>\n     <use style=\"fill:#343434;stroke:#343434;stroke-linejoin:miter;\" x=\"100.082813\" xlink:href=\"#m7e40ad05f1\" y=\"51.162779\"/>\n     <use style=\"fill:#343434;stroke:#343434;stroke-linejoin:miter;\" x=\"100.082813\" xlink:href=\"#m7e40ad05f1\" y=\"64.482246\"/>\n     <use style=\"fill:#343434;stroke:#343434;stroke-linejoin:miter;\" x=\"100.082813\" xlink:href=\"#m7e40ad05f1\" y=\"44.300406\"/>\n    </g>\n   </g>\n   <g id=\"line2d_27\">\n    <path clip-path=\"url(#p3fdc0bbb56)\" d=\"M 230.282812 214.262589 \nL 230.282812 294.752962 \n\" style=\"fill:none;stroke:#343434;stroke-linecap:square;stroke-width:2;\"/>\n   </g>\n   <g id=\"line2d_28\">\n    <path clip-path=\"url(#p3fdc0bbb56)\" d=\"M 230.282812 155.236305 \nL 230.282812 73.555693 \n\" style=\"fill:none;stroke:#343434;stroke-linecap:square;stroke-width:2;\"/>\n   </g>\n   <g id=\"line2d_29\">\n    <path clip-path=\"url(#p3fdc0bbb56)\" d=\"M 220.517812 294.752962 \nL 240.047812 294.752962 \n\" style=\"fill:none;stroke:#343434;stroke-linecap:square;stroke-width:2;\"/>\n   </g>\n   <g id=\"line2d_30\">\n    <path clip-path=\"url(#p3fdc0bbb56)\" d=\"M 220.517812 73.555693 \nL 240.047812 73.555693 \n\" style=\"fill:none;stroke:#343434;stroke-linecap:square;stroke-width:2;\"/>\n   </g>\n   <g id=\"line2d_31\">\n    <g clip-path=\"url(#p3fdc0bbb56)\">\n     <use style=\"fill:#343434;stroke:#343434;stroke-linejoin:miter;\" x=\"230.282812\" xlink:href=\"#m7e40ad05f1\" y=\"335.476295\"/>\n     <use style=\"fill:#343434;stroke:#343434;stroke-linejoin:miter;\" x=\"230.282812\" xlink:href=\"#m7e40ad05f1\" y=\"332.386629\"/>\n     <use style=\"fill:#343434;stroke:#343434;stroke-linejoin:miter;\" x=\"230.282812\" xlink:href=\"#m7e40ad05f1\" y=\"304.439054\"/>\n     <use style=\"fill:#343434;stroke:#343434;stroke-linejoin:miter;\" x=\"230.282812\" xlink:href=\"#m7e40ad05f1\" y=\"325.075628\"/>\n     <use style=\"fill:#343434;stroke:#343434;stroke-linejoin:miter;\" x=\"230.282812\" xlink:href=\"#m7e40ad05f1\" y=\"313.800316\"/>\n     <use style=\"fill:#343434;stroke:#343434;stroke-linejoin:miter;\" x=\"230.282812\" xlink:href=\"#m7e40ad05f1\" y=\"319.903895\"/>\n     <use style=\"fill:#343434;stroke:#343434;stroke-linejoin:miter;\" x=\"230.282812\" xlink:href=\"#m7e40ad05f1\" y=\"64.40303\"/>\n     <use style=\"fill:#343434;stroke:#343434;stroke-linejoin:miter;\" x=\"230.282812\" xlink:href=\"#m7e40ad05f1\" y=\"40.722833\"/>\n     <use style=\"fill:#343434;stroke:#343434;stroke-linejoin:miter;\" x=\"230.282812\" xlink:href=\"#m7e40ad05f1\" y=\"48.615658\"/>\n     <use style=\"fill:#343434;stroke:#343434;stroke-linejoin:miter;\" x=\"230.282812\" xlink:href=\"#m7e40ad05f1\" y=\"46.770341\"/>\n     <use style=\"fill:#343434;stroke:#343434;stroke-linejoin:miter;\" x=\"230.282812\" xlink:href=\"#m7e40ad05f1\" y=\"50.698433\"/>\n     <use style=\"fill:#343434;stroke:#343434;stroke-linejoin:miter;\" x=\"230.282812\" xlink:href=\"#m7e40ad05f1\" y=\"55.775564\"/>\n     <use style=\"fill:#343434;stroke:#343434;stroke-linejoin:miter;\" x=\"230.282812\" xlink:href=\"#m7e40ad05f1\" y=\"54.617143\"/>\n     <use style=\"fill:#343434;stroke:#343434;stroke-linejoin:miter;\" x=\"230.282812\" xlink:href=\"#m7e40ad05f1\" y=\"54.616966\"/>\n     <use style=\"fill:#343434;stroke:#343434;stroke-linejoin:miter;\" x=\"230.282812\" xlink:href=\"#m7e40ad05f1\" y=\"56.60507\"/>\n    </g>\n   </g>\n   <g id=\"line2d_32\">\n    <path clip-path=\"url(#p3fdc0bbb56)\" d=\"M 360.482812 214.396358 \nL 360.482812 304.216683 \n\" style=\"fill:none;stroke:#343434;stroke-linecap:square;stroke-width:2;\"/>\n   </g>\n   <g id=\"line2d_33\">\n    <path clip-path=\"url(#p3fdc0bbb56)\" d=\"M 360.482812 151.491304 \nL 360.482812 59.497495 \n\" style=\"fill:none;stroke:#343434;stroke-linecap:square;stroke-width:2;\"/>\n   </g>\n   <g id=\"line2d_34\">\n    <path clip-path=\"url(#p3fdc0bbb56)\" d=\"M 350.717812 304.216683 \nL 370.247813 304.216683 \n\" style=\"fill:none;stroke:#343434;stroke-linecap:square;stroke-width:2;\"/>\n   </g>\n   <g id=\"line2d_35\">\n    <path clip-path=\"url(#p3fdc0bbb56)\" d=\"M 350.717812 59.497495 \nL 370.247813 59.497495 \n\" style=\"fill:none;stroke:#343434;stroke-linecap:square;stroke-width:2;\"/>\n   </g>\n   <g id=\"line2d_36\">\n    <g clip-path=\"url(#p3fdc0bbb56)\">\n     <use style=\"fill:#343434;stroke:#343434;stroke-linejoin:miter;\" x=\"360.482812\" xlink:href=\"#m7e40ad05f1\" y=\"334.293197\"/>\n     <use style=\"fill:#343434;stroke:#343434;stroke-linejoin:miter;\" x=\"360.482812\" xlink:href=\"#m7e40ad05f1\" y=\"334.690514\"/>\n     <use style=\"fill:#343434;stroke:#343434;stroke-linejoin:miter;\" x=\"360.482812\" xlink:href=\"#m7e40ad05f1\" y=\"51.542118\"/>\n     <use style=\"fill:#343434;stroke:#343434;stroke-linejoin:miter;\" x=\"360.482812\" xlink:href=\"#m7e40ad05f1\" y=\"38.967205\"/>\n     <use style=\"fill:#343434;stroke:#343434;stroke-linejoin:miter;\" x=\"360.482812\" xlink:href=\"#m7e40ad05f1\" y=\"39.257563\"/>\n     <use style=\"fill:#343434;stroke:#343434;stroke-linejoin:miter;\" x=\"360.482812\" xlink:href=\"#m7e40ad05f1\" y=\"50.610629\"/>\n    </g>\n   </g>\n   <g id=\"line2d_37\">\n    <path clip-path=\"url(#p3fdc0bbb56)\" d=\"M 80.552813 182.731718 \nL 119.612813 182.731718 \n\" style=\"fill:none;stroke:#343434;stroke-linecap:square;stroke-width:2;\"/>\n   </g>\n   <g id=\"line2d_38\">\n    <path clip-path=\"url(#p3fdc0bbb56)\" d=\"M 210.752813 183.110266 \nL 249.812812 183.110266 \n\" style=\"fill:none;stroke:#343434;stroke-linecap:square;stroke-width:2;\"/>\n   </g>\n   <g id=\"line2d_39\">\n    <path clip-path=\"url(#p3fdc0bbb56)\" d=\"M 340.952812 179.939681 \nL 380.012812 179.939681 \n\" style=\"fill:none;stroke:#343434;stroke-linecap:square;stroke-width:2;\"/>\n   </g>\n   <g id=\"patch_6\">\n    <path d=\"M 34.982813 350.30175 \nL 34.982813 24.14175 \n\" style=\"fill:none;stroke:#bcbcbc;stroke-linecap:square;stroke-linejoin:miter;stroke-width:0.8;\"/>\n   </g>\n   <g id=\"patch_7\">\n    <path d=\"M 425.582813 350.30175 \nL 425.582813 24.14175 \n\" style=\"fill:none;stroke:#bcbcbc;stroke-linecap:square;stroke-linejoin:miter;stroke-width:0.8;\"/>\n   </g>\n   <g id=\"patch_8\">\n    <path d=\"M 34.982813 350.30175 \nL 425.582812 350.30175 \n\" style=\"fill:none;stroke:#bcbcbc;stroke-linecap:square;stroke-linejoin:miter;stroke-width:0.8;\"/>\n   </g>\n   <g id=\"patch_9\">\n    <path d=\"M 34.982813 24.14175 \nL 425.582812 24.14175 \n\" style=\"fill:none;stroke:#bcbcbc;stroke-linecap:square;stroke-linejoin:miter;stroke-width:0.8;\"/>\n   </g>\n   <g id=\"text_13\">\n    <!-- Sample mean distributions for 3 sampling methods -->\n    <defs>\n     <path d=\"M 53.515625 70.515625 \nL 53.515625 60.890625 \nQ 47.90625 63.578125 42.921875 64.890625 \nQ 37.9375 66.21875 33.296875 66.21875 \nQ 25.25 66.21875 20.875 63.09375 \nQ 16.5 59.96875 16.5 54.203125 \nQ 16.5 49.359375 19.40625 46.890625 \nQ 22.3125 44.4375 30.421875 42.921875 \nL 36.375 41.703125 \nQ 47.40625 39.59375 52.65625 34.296875 \nQ 57.90625 29 57.90625 20.125 \nQ 57.90625 9.515625 50.796875 4.046875 \nQ 43.703125 -1.421875 29.984375 -1.421875 \nQ 24.8125 -1.421875 18.96875 -0.25 \nQ 13.140625 0.921875 6.890625 3.21875 \nL 6.890625 13.375 \nQ 12.890625 10.015625 18.65625 8.296875 \nQ 24.421875 6.59375 29.984375 6.59375 \nQ 38.421875 6.59375 43.015625 9.90625 \nQ 47.609375 13.234375 47.609375 19.390625 \nQ 47.609375 24.75 44.3125 27.78125 \nQ 41.015625 30.8125 33.5 32.328125 \nL 27.484375 33.5 \nQ 16.453125 35.6875 11.515625 40.375 \nQ 6.59375 45.0625 6.59375 53.421875 \nQ 6.59375 63.09375 13.40625 68.65625 \nQ 20.21875 74.21875 32.171875 74.21875 \nQ 37.3125 74.21875 42.625 73.28125 \nQ 47.953125 72.359375 53.515625 70.515625 \nz\n\" id=\"DejaVuSans-83\"/>\n     <path d=\"M 56.203125 29.59375 \nL 56.203125 25.203125 \nL 14.890625 25.203125 \nQ 15.484375 15.921875 20.484375 11.0625 \nQ 25.484375 6.203125 34.421875 6.203125 \nQ 39.59375 6.203125 44.453125 7.46875 \nQ 49.3125 8.734375 54.109375 11.28125 \nL 54.109375 2.78125 \nQ 49.265625 0.734375 44.1875 -0.34375 \nQ 39.109375 -1.421875 33.890625 -1.421875 \nQ 20.796875 -1.421875 13.15625 6.1875 \nQ 5.515625 13.8125 5.515625 26.8125 \nQ 5.515625 40.234375 12.765625 48.109375 \nQ 20.015625 56 32.328125 56 \nQ 43.359375 56 49.78125 48.890625 \nQ 56.203125 41.796875 56.203125 29.59375 \nz\nM 47.21875 32.234375 \nQ 47.125 39.59375 43.09375 43.984375 \nQ 39.0625 48.390625 32.421875 48.390625 \nQ 24.90625 48.390625 20.390625 44.140625 \nQ 15.875 39.890625 15.1875 32.171875 \nz\n\" id=\"DejaVuSans-101\"/>\n     <path d=\"M 37.109375 75.984375 \nL 37.109375 68.5 \nL 28.515625 68.5 \nQ 23.6875 68.5 21.796875 66.546875 \nQ 19.921875 64.59375 19.921875 59.515625 \nL 19.921875 54.6875 \nL 34.71875 54.6875 \nL 34.71875 47.703125 \nL 19.921875 47.703125 \nL 19.921875 0 \nL 10.890625 0 \nL 10.890625 47.703125 \nL 2.296875 47.703125 \nL 2.296875 54.6875 \nL 10.890625 54.6875 \nL 10.890625 58.5 \nQ 10.890625 67.625 15.140625 71.796875 \nQ 19.390625 75.984375 28.609375 75.984375 \nz\n\" id=\"DejaVuSans-102\"/>\n     <path d=\"M 54.890625 33.015625 \nL 54.890625 0 \nL 45.90625 0 \nL 45.90625 32.71875 \nQ 45.90625 40.484375 42.875 44.328125 \nQ 39.84375 48.1875 33.796875 48.1875 \nQ 26.515625 48.1875 22.3125 43.546875 \nQ 18.109375 38.921875 18.109375 30.90625 \nL 18.109375 0 \nL 9.078125 0 \nL 9.078125 75.984375 \nL 18.109375 75.984375 \nL 18.109375 46.1875 \nQ 21.34375 51.125 25.703125 53.5625 \nQ 30.078125 56 35.796875 56 \nQ 45.21875 56 50.046875 50.171875 \nQ 54.890625 44.34375 54.890625 33.015625 \nz\n\" id=\"DejaVuSans-104\"/>\n    </defs>\n    <g transform=\"translate(45.437438 18.14175)scale(0.144 -0.144)\">\n     <use xlink:href=\"#DejaVuSans-83\"/>\n     <use x=\"63.476562\" xlink:href=\"#DejaVuSans-97\"/>\n     <use x=\"124.755859\" xlink:href=\"#DejaVuSans-109\"/>\n     <use x=\"222.167969\" xlink:href=\"#DejaVuSans-112\"/>\n     <use x=\"285.644531\" xlink:href=\"#DejaVuSans-108\"/>\n     <use x=\"313.427734\" xlink:href=\"#DejaVuSans-101\"/>\n     <use x=\"374.951172\" xlink:href=\"#DejaVuSans-32\"/>\n     <use x=\"406.738281\" xlink:href=\"#DejaVuSans-109\"/>\n     <use x=\"504.150391\" xlink:href=\"#DejaVuSans-101\"/>\n     <use x=\"565.673828\" xlink:href=\"#DejaVuSans-97\"/>\n     <use x=\"626.953125\" xlink:href=\"#DejaVuSans-110\"/>\n     <use x=\"690.332031\" xlink:href=\"#DejaVuSans-32\"/>\n     <use x=\"722.119141\" xlink:href=\"#DejaVuSans-100\"/>\n     <use x=\"785.595703\" xlink:href=\"#DejaVuSans-105\"/>\n     <use x=\"813.378906\" xlink:href=\"#DejaVuSans-115\"/>\n     <use x=\"865.478516\" xlink:href=\"#DejaVuSans-116\"/>\n     <use x=\"904.6875\" xlink:href=\"#DejaVuSans-114\"/>\n     <use x=\"945.800781\" xlink:href=\"#DejaVuSans-105\"/>\n     <use x=\"973.583984\" xlink:href=\"#DejaVuSans-98\"/>\n     <use x=\"1037.060547\" xlink:href=\"#DejaVuSans-117\"/>\n     <use x=\"1100.439453\" xlink:href=\"#DejaVuSans-116\"/>\n     <use x=\"1139.648438\" xlink:href=\"#DejaVuSans-105\"/>\n     <use x=\"1167.431641\" xlink:href=\"#DejaVuSans-111\"/>\n     <use x=\"1228.613281\" xlink:href=\"#DejaVuSans-110\"/>\n     <use x=\"1291.992188\" xlink:href=\"#DejaVuSans-115\"/>\n     <use x=\"1344.091797\" xlink:href=\"#DejaVuSans-32\"/>\n     <use x=\"1375.878906\" xlink:href=\"#DejaVuSans-102\"/>\n     <use x=\"1411.083984\" xlink:href=\"#DejaVuSans-111\"/>\n     <use x=\"1472.265625\" xlink:href=\"#DejaVuSans-114\"/>\n     <use x=\"1513.378906\" xlink:href=\"#DejaVuSans-32\"/>\n     <use x=\"1545.166016\" xlink:href=\"#DejaVuSans-51\"/>\n     <use x=\"1608.789062\" xlink:href=\"#DejaVuSans-32\"/>\n     <use x=\"1640.576172\" xlink:href=\"#DejaVuSans-115\"/>\n     <use x=\"1692.675781\" xlink:href=\"#DejaVuSans-97\"/>\n     <use x=\"1753.955078\" xlink:href=\"#DejaVuSans-109\"/>\n     <use x=\"1851.367188\" xlink:href=\"#DejaVuSans-112\"/>\n     <use x=\"1914.84375\" xlink:href=\"#DejaVuSans-108\"/>\n     <use x=\"1942.626953\" xlink:href=\"#DejaVuSans-105\"/>\n     <use x=\"1970.410156\" xlink:href=\"#DejaVuSans-110\"/>\n     <use x=\"2033.789062\" xlink:href=\"#DejaVuSans-103\"/>\n     <use x=\"2097.265625\" xlink:href=\"#DejaVuSans-32\"/>\n     <use x=\"2129.052734\" xlink:href=\"#DejaVuSans-109\"/>\n     <use x=\"2226.464844\" xlink:href=\"#DejaVuSans-101\"/>\n     <use x=\"2287.988281\" xlink:href=\"#DejaVuSans-116\"/>\n     <use x=\"2327.197266\" xlink:href=\"#DejaVuSans-104\"/>\n     <use x=\"2390.576172\" xlink:href=\"#DejaVuSans-111\"/>\n     <use x=\"2451.757812\" xlink:href=\"#DejaVuSans-100\"/>\n     <use x=\"2515.234375\" xlink:href=\"#DejaVuSans-115\"/>\n    </g>\n   </g>\n  </g>\n </g>\n <defs>\n  <clipPath id=\"p3fdc0bbb56\">\n   <rect height=\"326.16\" width=\"390.6\" x=\"34.982813\" y=\"24.14175\"/>\n  </clipPath>\n </defs>\n</svg>\n"
          },
          "metadata": {
            "tags": [],
            "needs_background": "light"
          }
        }
      ]
    },
    {
      "cell_type": "markdown",
      "metadata": {
        "id": "UQ-ZhUg6ZRb5"
      },
      "source": [
        "**General population with DIFFERENT means and EQUAL STDs of strata**  \n",
        "Distribution histogram:"
      ]
    },
    {
      "cell_type": "code",
      "metadata": {
        "colab": {
          "base_uri": "https://localhost:8080/",
          "height": 297
        },
        "id": "xguj1fNlV0zp",
        "outputId": "6ec10d95-f938-4a3e-ed41-c19a1eedffea"
      },
      "source": [
        "plot_gp_density(dmes_population, title_postfix='DMES')"
      ],
      "execution_count": null,
      "outputs": [
        {
          "output_type": "display_data",
          "data": {
            "text/plain": [
              "<Figure size 360x216 with 1 Axes>"
            ],
            "image/svg+xml": "<?xml version=\"1.0\" encoding=\"utf-8\" standalone=\"no\"?>\n<!DOCTYPE svg PUBLIC \"-//W3C//DTD SVG 1.1//EN\"\n  \"http://www.w3.org/Graphics/SVG/1.1/DTD/svg11.dtd\">\n<!-- Created with matplotlib (https://matplotlib.org/) -->\n<svg height=\"207.599875pt\" version=\"1.1\" viewBox=\"0 0 309.625 207.599875\" width=\"309.625pt\" xmlns=\"http://www.w3.org/2000/svg\" xmlns:xlink=\"http://www.w3.org/1999/xlink\">\n <defs>\n  <style type=\"text/css\">\n*{stroke-linecap:butt;stroke-linejoin:round;}\n  </style>\n </defs>\n <g id=\"figure_1\">\n  <g id=\"patch_1\">\n   <path d=\"M 0 207.599875 \nL 309.625 207.599875 \nL 309.625 0 \nL 0 0 \nz\n\" style=\"fill:none;\"/>\n  </g>\n  <g id=\"axes_1\">\n   <g id=\"patch_2\">\n    <path d=\"M 23.425 187.22175 \nL 302.425 187.22175 \nL 302.425 24.14175 \nL 23.425 24.14175 \nz\n\" style=\"fill:#eeeeee;\"/>\n   </g>\n   <g id=\"patch_3\">\n    <path clip-path=\"url(#p535bc6f44b)\" d=\"M 36.106818 187.22175 \nL 53.015909 187.22175 \nL 53.015909 182.442849 \nL 36.106818 182.442849 \nz\n\" style=\"fill:#348abd;\"/>\n   </g>\n   <g id=\"patch_4\">\n    <path clip-path=\"url(#p535bc6f44b)\" d=\"M 53.015909 187.22175 \nL 69.925 187.22175 \nL 69.925 141.82219 \nL 53.015909 141.82219 \nz\n\" style=\"fill:#348abd;\"/>\n   </g>\n   <g id=\"patch_5\">\n    <path clip-path=\"url(#p535bc6f44b)\" d=\"M 69.925 187.22175 \nL 86.834091 187.22175 \nL 86.834091 41.465266 \nL 69.925 41.465266 \nz\n\" style=\"fill:#348abd;\"/>\n   </g>\n   <g id=\"patch_6\">\n    <path clip-path=\"url(#p535bc6f44b)\" d=\"M 86.834091 187.22175 \nL 103.743182 187.22175 \nL 103.743182 70.138673 \nL 86.834091 70.138673 \nz\n\" style=\"fill:#348abd;\"/>\n   </g>\n   <g id=\"patch_7\">\n    <path clip-path=\"url(#p535bc6f44b)\" d=\"M 103.743182 187.22175 \nL 120.652273 187.22175 \nL 120.652273 148.990541 \nL 103.743182 148.990541 \nz\n\" style=\"fill:#348abd;\"/>\n   </g>\n   <g id=\"patch_8\">\n    <path clip-path=\"url(#p535bc6f44b)\" d=\"M 120.652273 187.22175 \nL 137.561364 187.22175 \nL 137.561364 175.274497 \nL 120.652273 175.274497 \nz\n\" style=\"fill:#348abd;\"/>\n   </g>\n   <g id=\"patch_9\">\n    <path clip-path=\"url(#p535bc6f44b)\" d=\"M 137.561364 187.22175 \nL 154.470455 187.22175 \nL 154.470455 137.043288 \nL 137.561364 137.043288 \nz\n\" style=\"fill:#348abd;\"/>\n   </g>\n   <g id=\"patch_10\">\n    <path clip-path=\"url(#p535bc6f44b)\" d=\"M 154.470455 187.22175 \nL 171.379545 187.22175 \nL 171.379545 43.854717 \nL 154.470455 43.854717 \nz\n\" style=\"fill:#348abd;\"/>\n   </g>\n   <g id=\"patch_11\">\n    <path clip-path=\"url(#p535bc6f44b)\" d=\"M 171.379545 187.22175 \nL 188.288636 187.22175 \nL 188.288636 67.749223 \nL 171.379545 67.749223 \nz\n\" style=\"fill:#348abd;\"/>\n   </g>\n   <g id=\"patch_12\">\n    <path clip-path=\"url(#p535bc6f44b)\" d=\"M 188.288636 187.22175 \nL 205.197727 187.22175 \nL 205.197727 153.769442 \nL 188.288636 153.769442 \nz\n\" style=\"fill:#348abd;\"/>\n   </g>\n   <g id=\"patch_13\">\n    <path clip-path=\"url(#p535bc6f44b)\" d=\"M 205.197727 187.22175 \nL 222.106818 187.22175 \nL 222.106818 163.327245 \nL 205.197727 163.327245 \nz\n\" style=\"fill:#348abd;\"/>\n   </g>\n   <g id=\"patch_14\">\n    <path clip-path=\"url(#p535bc6f44b)\" d=\"M 222.106818 187.22175 \nL 239.015909 187.22175 \nL 239.015909 127.485486 \nL 222.106818 127.485486 \nz\n\" style=\"fill:#348abd;\"/>\n   </g>\n   <g id=\"patch_15\">\n    <path clip-path=\"url(#p535bc6f44b)\" d=\"M 239.015909 187.22175 \nL 255.925 187.22175 \nL 255.925 31.907464 \nL 239.015909 31.907464 \nz\n\" style=\"fill:#348abd;\"/>\n   </g>\n   <g id=\"patch_16\">\n    <path clip-path=\"url(#p535bc6f44b)\" d=\"M 255.925 187.22175 \nL 272.834091 187.22175 \nL 272.834091 91.643728 \nL 255.925 91.643728 \nz\n\" style=\"fill:#348abd;\"/>\n   </g>\n   <g id=\"patch_17\">\n    <path clip-path=\"url(#p535bc6f44b)\" d=\"M 272.834091 187.22175 \nL 289.743182 187.22175 \nL 289.743182 156.158893 \nL 272.834091 156.158893 \nz\n\" style=\"fill:#348abd;\"/>\n   </g>\n   <g id=\"matplotlib.axis_1\">\n    <g id=\"xtick_1\">\n     <g id=\"line2d_1\">\n      <path clip-path=\"url(#p535bc6f44b)\" d=\"M 71.128568 187.22175 \nL 71.128568 24.14175 \n\" style=\"fill:none;stroke:#b2b2b2;stroke-dasharray:1.85,0.8;stroke-dashoffset:0;stroke-width:0.5;\"/>\n     </g>\n     <g id=\"line2d_2\">\n      <defs>\n       <path d=\"M 0 0 \nL 0 -3.5 \n\" id=\"m5d86a96055\" style=\"stroke:#000000;stroke-width:0.8;\"/>\n      </defs>\n      <g>\n       <use style=\"stroke:#000000;stroke-width:0.8;\" x=\"71.128568\" xlink:href=\"#m5d86a96055\" y=\"187.22175\"/>\n      </g>\n     </g>\n     <g id=\"text_1\">\n      <!-- −20 -->\n      <defs>\n       <path d=\"M 10.59375 35.5 \nL 73.1875 35.5 \nL 73.1875 27.203125 \nL 10.59375 27.203125 \nz\n\" id=\"DejaVuSans-8722\"/>\n       <path d=\"M 19.1875 8.296875 \nL 53.609375 8.296875 \nL 53.609375 0 \nL 7.328125 0 \nL 7.328125 8.296875 \nQ 12.9375 14.109375 22.625 23.890625 \nQ 32.328125 33.6875 34.8125 36.53125 \nQ 39.546875 41.84375 41.421875 45.53125 \nQ 43.3125 49.21875 43.3125 52.78125 \nQ 43.3125 58.59375 39.234375 62.25 \nQ 35.15625 65.921875 28.609375 65.921875 \nQ 23.96875 65.921875 18.8125 64.3125 \nQ 13.671875 62.703125 7.8125 59.421875 \nL 7.8125 69.390625 \nQ 13.765625 71.78125 18.9375 73 \nQ 24.125 74.21875 28.421875 74.21875 \nQ 39.75 74.21875 46.484375 68.546875 \nQ 53.21875 62.890625 53.21875 53.421875 \nQ 53.21875 48.921875 51.53125 44.890625 \nQ 49.859375 40.875 45.40625 35.40625 \nQ 44.1875 33.984375 37.640625 27.21875 \nQ 31.109375 20.453125 19.1875 8.296875 \nz\n\" id=\"DejaVuSans-50\"/>\n       <path d=\"M 31.78125 66.40625 \nQ 24.171875 66.40625 20.328125 58.90625 \nQ 16.5 51.421875 16.5 36.375 \nQ 16.5 21.390625 20.328125 13.890625 \nQ 24.171875 6.390625 31.78125 6.390625 \nQ 39.453125 6.390625 43.28125 13.890625 \nQ 47.125 21.390625 47.125 36.375 \nQ 47.125 51.421875 43.28125 58.90625 \nQ 39.453125 66.40625 31.78125 66.40625 \nz\nM 31.78125 74.21875 \nQ 44.046875 74.21875 50.515625 64.515625 \nQ 56.984375 54.828125 56.984375 36.375 \nQ 56.984375 17.96875 50.515625 8.265625 \nQ 44.046875 -1.421875 31.78125 -1.421875 \nQ 19.53125 -1.421875 13.0625 8.265625 \nQ 6.59375 17.96875 6.59375 36.375 \nQ 6.59375 54.828125 13.0625 64.515625 \nQ 19.53125 74.21875 31.78125 74.21875 \nz\n\" id=\"DejaVuSans-48\"/>\n      </defs>\n      <g transform=\"translate(60.576224 198.320188)scale(0.1 -0.1)\">\n       <use xlink:href=\"#DejaVuSans-8722\"/>\n       <use x=\"83.789062\" xlink:href=\"#DejaVuSans-50\"/>\n       <use x=\"147.412109\" xlink:href=\"#DejaVuSans-48\"/>\n      </g>\n     </g>\n    </g>\n    <g id=\"xtick_2\">\n     <g id=\"line2d_3\">\n      <path clip-path=\"url(#p535bc6f44b)\" d=\"M 123.165644 187.22175 \nL 123.165644 24.14175 \n\" style=\"fill:none;stroke:#b2b2b2;stroke-dasharray:1.85,0.8;stroke-dashoffset:0;stroke-width:0.5;\"/>\n     </g>\n     <g id=\"line2d_4\">\n      <g>\n       <use style=\"stroke:#000000;stroke-width:0.8;\" x=\"123.165644\" xlink:href=\"#m5d86a96055\" y=\"187.22175\"/>\n      </g>\n     </g>\n     <g id=\"text_2\">\n      <!-- −10 -->\n      <defs>\n       <path d=\"M 12.40625 8.296875 \nL 28.515625 8.296875 \nL 28.515625 63.921875 \nL 10.984375 60.40625 \nL 10.984375 69.390625 \nL 28.421875 72.90625 \nL 38.28125 72.90625 \nL 38.28125 8.296875 \nL 54.390625 8.296875 \nL 54.390625 0 \nL 12.40625 0 \nz\n\" id=\"DejaVuSans-49\"/>\n      </defs>\n      <g transform=\"translate(112.6133 198.320188)scale(0.1 -0.1)\">\n       <use xlink:href=\"#DejaVuSans-8722\"/>\n       <use x=\"83.789062\" xlink:href=\"#DejaVuSans-49\"/>\n       <use x=\"147.412109\" xlink:href=\"#DejaVuSans-48\"/>\n      </g>\n     </g>\n    </g>\n    <g id=\"xtick_3\">\n     <g id=\"line2d_5\">\n      <path clip-path=\"url(#p535bc6f44b)\" d=\"M 175.20272 187.22175 \nL 175.20272 24.14175 \n\" style=\"fill:none;stroke:#b2b2b2;stroke-dasharray:1.85,0.8;stroke-dashoffset:0;stroke-width:0.5;\"/>\n     </g>\n     <g id=\"line2d_6\">\n      <g>\n       <use style=\"stroke:#000000;stroke-width:0.8;\" x=\"175.20272\" xlink:href=\"#m5d86a96055\" y=\"187.22175\"/>\n      </g>\n     </g>\n     <g id=\"text_3\">\n      <!-- 0 -->\n      <g transform=\"translate(172.02147 198.320188)scale(0.1 -0.1)\">\n       <use xlink:href=\"#DejaVuSans-48\"/>\n      </g>\n     </g>\n    </g>\n    <g id=\"xtick_4\">\n     <g id=\"line2d_7\">\n      <path clip-path=\"url(#p535bc6f44b)\" d=\"M 227.239796 187.22175 \nL 227.239796 24.14175 \n\" style=\"fill:none;stroke:#b2b2b2;stroke-dasharray:1.85,0.8;stroke-dashoffset:0;stroke-width:0.5;\"/>\n     </g>\n     <g id=\"line2d_8\">\n      <g>\n       <use style=\"stroke:#000000;stroke-width:0.8;\" x=\"227.239796\" xlink:href=\"#m5d86a96055\" y=\"187.22175\"/>\n      </g>\n     </g>\n     <g id=\"text_4\">\n      <!-- 10 -->\n      <g transform=\"translate(220.877296 198.320188)scale(0.1 -0.1)\">\n       <use xlink:href=\"#DejaVuSans-49\"/>\n       <use x=\"63.623047\" xlink:href=\"#DejaVuSans-48\"/>\n      </g>\n     </g>\n    </g>\n    <g id=\"xtick_5\">\n     <g id=\"line2d_9\">\n      <path clip-path=\"url(#p535bc6f44b)\" d=\"M 279.276872 187.22175 \nL 279.276872 24.14175 \n\" style=\"fill:none;stroke:#b2b2b2;stroke-dasharray:1.85,0.8;stroke-dashoffset:0;stroke-width:0.5;\"/>\n     </g>\n     <g id=\"line2d_10\">\n      <g>\n       <use style=\"stroke:#000000;stroke-width:0.8;\" x=\"279.276872\" xlink:href=\"#m5d86a96055\" y=\"187.22175\"/>\n      </g>\n     </g>\n     <g id=\"text_5\">\n      <!-- 20 -->\n      <g transform=\"translate(272.914372 198.320188)scale(0.1 -0.1)\">\n       <use xlink:href=\"#DejaVuSans-50\"/>\n       <use x=\"63.623047\" xlink:href=\"#DejaVuSans-48\"/>\n      </g>\n     </g>\n    </g>\n   </g>\n   <g id=\"matplotlib.axis_2\">\n    <g id=\"ytick_1\">\n     <g id=\"line2d_11\">\n      <path clip-path=\"url(#p535bc6f44b)\" d=\"M 23.425 187.22175 \nL 302.425 187.22175 \n\" style=\"fill:none;stroke:#b2b2b2;stroke-dasharray:1.85,0.8;stroke-dashoffset:0;stroke-width:0.5;\"/>\n     </g>\n     <g id=\"line2d_12\">\n      <defs>\n       <path d=\"M 0 0 \nL 3.5 0 \n\" id=\"m1fc4755b57\" style=\"stroke:#000000;stroke-width:0.8;\"/>\n      </defs>\n      <g>\n       <use style=\"stroke:#000000;stroke-width:0.8;\" x=\"23.425\" xlink:href=\"#m1fc4755b57\" y=\"187.22175\"/>\n      </g>\n     </g>\n     <g id=\"text_6\">\n      <!-- 0 -->\n      <g transform=\"translate(13.5625 191.020969)scale(0.1 -0.1)\">\n       <use xlink:href=\"#DejaVuSans-48\"/>\n      </g>\n     </g>\n    </g>\n    <g id=\"ytick_2\">\n     <g id=\"line2d_13\">\n      <path clip-path=\"url(#p535bc6f44b)\" d=\"M 23.425 163.327245 \nL 302.425 163.327245 \n\" style=\"fill:none;stroke:#b2b2b2;stroke-dasharray:1.85,0.8;stroke-dashoffset:0;stroke-width:0.5;\"/>\n     </g>\n     <g id=\"line2d_14\">\n      <g>\n       <use style=\"stroke:#000000;stroke-width:0.8;\" x=\"23.425\" xlink:href=\"#m1fc4755b57\" y=\"163.327245\"/>\n      </g>\n     </g>\n     <g id=\"text_7\">\n      <!-- 10 -->\n      <g transform=\"translate(7.2 167.126463)scale(0.1 -0.1)\">\n       <use xlink:href=\"#DejaVuSans-49\"/>\n       <use x=\"63.623047\" xlink:href=\"#DejaVuSans-48\"/>\n      </g>\n     </g>\n    </g>\n    <g id=\"ytick_3\">\n     <g id=\"line2d_15\">\n      <path clip-path=\"url(#p535bc6f44b)\" d=\"M 23.425 139.432739 \nL 302.425 139.432739 \n\" style=\"fill:none;stroke:#b2b2b2;stroke-dasharray:1.85,0.8;stroke-dashoffset:0;stroke-width:0.5;\"/>\n     </g>\n     <g id=\"line2d_16\">\n      <g>\n       <use style=\"stroke:#000000;stroke-width:0.8;\" x=\"23.425\" xlink:href=\"#m1fc4755b57\" y=\"139.432739\"/>\n      </g>\n     </g>\n     <g id=\"text_8\">\n      <!-- 20 -->\n      <g transform=\"translate(7.2 143.231958)scale(0.1 -0.1)\">\n       <use xlink:href=\"#DejaVuSans-50\"/>\n       <use x=\"63.623047\" xlink:href=\"#DejaVuSans-48\"/>\n      </g>\n     </g>\n    </g>\n    <g id=\"ytick_4\">\n     <g id=\"line2d_17\">\n      <path clip-path=\"url(#p535bc6f44b)\" d=\"M 23.425 115.538234 \nL 302.425 115.538234 \n\" style=\"fill:none;stroke:#b2b2b2;stroke-dasharray:1.85,0.8;stroke-dashoffset:0;stroke-width:0.5;\"/>\n     </g>\n     <g id=\"line2d_18\">\n      <g>\n       <use style=\"stroke:#000000;stroke-width:0.8;\" x=\"23.425\" xlink:href=\"#m1fc4755b57\" y=\"115.538234\"/>\n      </g>\n     </g>\n     <g id=\"text_9\">\n      <!-- 30 -->\n      <defs>\n       <path d=\"M 40.578125 39.3125 \nQ 47.65625 37.796875 51.625 33 \nQ 55.609375 28.21875 55.609375 21.1875 \nQ 55.609375 10.40625 48.1875 4.484375 \nQ 40.765625 -1.421875 27.09375 -1.421875 \nQ 22.515625 -1.421875 17.65625 -0.515625 \nQ 12.796875 0.390625 7.625 2.203125 \nL 7.625 11.71875 \nQ 11.71875 9.328125 16.59375 8.109375 \nQ 21.484375 6.890625 26.8125 6.890625 \nQ 36.078125 6.890625 40.9375 10.546875 \nQ 45.796875 14.203125 45.796875 21.1875 \nQ 45.796875 27.640625 41.28125 31.265625 \nQ 36.765625 34.90625 28.71875 34.90625 \nL 20.21875 34.90625 \nL 20.21875 43.015625 \nL 29.109375 43.015625 \nQ 36.375 43.015625 40.234375 45.921875 \nQ 44.09375 48.828125 44.09375 54.296875 \nQ 44.09375 59.90625 40.109375 62.90625 \nQ 36.140625 65.921875 28.71875 65.921875 \nQ 24.65625 65.921875 20.015625 65.03125 \nQ 15.375 64.15625 9.8125 62.3125 \nL 9.8125 71.09375 \nQ 15.4375 72.65625 20.34375 73.4375 \nQ 25.25 74.21875 29.59375 74.21875 \nQ 40.828125 74.21875 47.359375 69.109375 \nQ 53.90625 64.015625 53.90625 55.328125 \nQ 53.90625 49.265625 50.4375 45.09375 \nQ 46.96875 40.921875 40.578125 39.3125 \nz\n\" id=\"DejaVuSans-51\"/>\n      </defs>\n      <g transform=\"translate(7.2 119.337452)scale(0.1 -0.1)\">\n       <use xlink:href=\"#DejaVuSans-51\"/>\n       <use x=\"63.623047\" xlink:href=\"#DejaVuSans-48\"/>\n      </g>\n     </g>\n    </g>\n    <g id=\"ytick_5\">\n     <g id=\"line2d_19\">\n      <path clip-path=\"url(#p535bc6f44b)\" d=\"M 23.425 91.643728 \nL 302.425 91.643728 \n\" style=\"fill:none;stroke:#b2b2b2;stroke-dasharray:1.85,0.8;stroke-dashoffset:0;stroke-width:0.5;\"/>\n     </g>\n     <g id=\"line2d_20\">\n      <g>\n       <use style=\"stroke:#000000;stroke-width:0.8;\" x=\"23.425\" xlink:href=\"#m1fc4755b57\" y=\"91.643728\"/>\n      </g>\n     </g>\n     <g id=\"text_10\">\n      <!-- 40 -->\n      <defs>\n       <path d=\"M 37.796875 64.3125 \nL 12.890625 25.390625 \nL 37.796875 25.390625 \nz\nM 35.203125 72.90625 \nL 47.609375 72.90625 \nL 47.609375 25.390625 \nL 58.015625 25.390625 \nL 58.015625 17.1875 \nL 47.609375 17.1875 \nL 47.609375 0 \nL 37.796875 0 \nL 37.796875 17.1875 \nL 4.890625 17.1875 \nL 4.890625 26.703125 \nz\n\" id=\"DejaVuSans-52\"/>\n      </defs>\n      <g transform=\"translate(7.2 95.442947)scale(0.1 -0.1)\">\n       <use xlink:href=\"#DejaVuSans-52\"/>\n       <use x=\"63.623047\" xlink:href=\"#DejaVuSans-48\"/>\n      </g>\n     </g>\n    </g>\n    <g id=\"ytick_6\">\n     <g id=\"line2d_21\">\n      <path clip-path=\"url(#p535bc6f44b)\" d=\"M 23.425 67.749223 \nL 302.425 67.749223 \n\" style=\"fill:none;stroke:#b2b2b2;stroke-dasharray:1.85,0.8;stroke-dashoffset:0;stroke-width:0.5;\"/>\n     </g>\n     <g id=\"line2d_22\">\n      <g>\n       <use style=\"stroke:#000000;stroke-width:0.8;\" x=\"23.425\" xlink:href=\"#m1fc4755b57\" y=\"67.749223\"/>\n      </g>\n     </g>\n     <g id=\"text_11\">\n      <!-- 50 -->\n      <defs>\n       <path d=\"M 10.796875 72.90625 \nL 49.515625 72.90625 \nL 49.515625 64.59375 \nL 19.828125 64.59375 \nL 19.828125 46.734375 \nQ 21.96875 47.46875 24.109375 47.828125 \nQ 26.265625 48.1875 28.421875 48.1875 \nQ 40.625 48.1875 47.75 41.5 \nQ 54.890625 34.8125 54.890625 23.390625 \nQ 54.890625 11.625 47.5625 5.09375 \nQ 40.234375 -1.421875 26.90625 -1.421875 \nQ 22.3125 -1.421875 17.546875 -0.640625 \nQ 12.796875 0.140625 7.71875 1.703125 \nL 7.71875 11.625 \nQ 12.109375 9.234375 16.796875 8.0625 \nQ 21.484375 6.890625 26.703125 6.890625 \nQ 35.15625 6.890625 40.078125 11.328125 \nQ 45.015625 15.765625 45.015625 23.390625 \nQ 45.015625 31 40.078125 35.4375 \nQ 35.15625 39.890625 26.703125 39.890625 \nQ 22.75 39.890625 18.8125 39.015625 \nQ 14.890625 38.140625 10.796875 36.28125 \nz\n\" id=\"DejaVuSans-53\"/>\n      </defs>\n      <g transform=\"translate(7.2 71.548441)scale(0.1 -0.1)\">\n       <use xlink:href=\"#DejaVuSans-53\"/>\n       <use x=\"63.623047\" xlink:href=\"#DejaVuSans-48\"/>\n      </g>\n     </g>\n    </g>\n    <g id=\"ytick_7\">\n     <g id=\"line2d_23\">\n      <path clip-path=\"url(#p535bc6f44b)\" d=\"M 23.425 43.854717 \nL 302.425 43.854717 \n\" style=\"fill:none;stroke:#b2b2b2;stroke-dasharray:1.85,0.8;stroke-dashoffset:0;stroke-width:0.5;\"/>\n     </g>\n     <g id=\"line2d_24\">\n      <g>\n       <use style=\"stroke:#000000;stroke-width:0.8;\" x=\"23.425\" xlink:href=\"#m1fc4755b57\" y=\"43.854717\"/>\n      </g>\n     </g>\n     <g id=\"text_12\">\n      <!-- 60 -->\n      <defs>\n       <path d=\"M 33.015625 40.375 \nQ 26.375 40.375 22.484375 35.828125 \nQ 18.609375 31.296875 18.609375 23.390625 \nQ 18.609375 15.53125 22.484375 10.953125 \nQ 26.375 6.390625 33.015625 6.390625 \nQ 39.65625 6.390625 43.53125 10.953125 \nQ 47.40625 15.53125 47.40625 23.390625 \nQ 47.40625 31.296875 43.53125 35.828125 \nQ 39.65625 40.375 33.015625 40.375 \nz\nM 52.59375 71.296875 \nL 52.59375 62.3125 \nQ 48.875 64.0625 45.09375 64.984375 \nQ 41.3125 65.921875 37.59375 65.921875 \nQ 27.828125 65.921875 22.671875 59.328125 \nQ 17.53125 52.734375 16.796875 39.40625 \nQ 19.671875 43.65625 24.015625 45.921875 \nQ 28.375 48.1875 33.59375 48.1875 \nQ 44.578125 48.1875 50.953125 41.515625 \nQ 57.328125 34.859375 57.328125 23.390625 \nQ 57.328125 12.15625 50.6875 5.359375 \nQ 44.046875 -1.421875 33.015625 -1.421875 \nQ 20.359375 -1.421875 13.671875 8.265625 \nQ 6.984375 17.96875 6.984375 36.375 \nQ 6.984375 53.65625 15.1875 63.9375 \nQ 23.390625 74.21875 37.203125 74.21875 \nQ 40.921875 74.21875 44.703125 73.484375 \nQ 48.484375 72.75 52.59375 71.296875 \nz\n\" id=\"DejaVuSans-54\"/>\n      </defs>\n      <g transform=\"translate(7.2 47.653936)scale(0.1 -0.1)\">\n       <use xlink:href=\"#DejaVuSans-54\"/>\n       <use x=\"63.623047\" xlink:href=\"#DejaVuSans-48\"/>\n      </g>\n     </g>\n    </g>\n   </g>\n   <g id=\"patch_18\">\n    <path d=\"M 23.425 187.22175 \nL 23.425 24.14175 \n\" style=\"fill:none;stroke:#bcbcbc;stroke-linecap:square;stroke-linejoin:miter;stroke-width:0.8;\"/>\n   </g>\n   <g id=\"patch_19\">\n    <path d=\"M 302.425 187.22175 \nL 302.425 24.14175 \n\" style=\"fill:none;stroke:#bcbcbc;stroke-linecap:square;stroke-linejoin:miter;stroke-width:0.8;\"/>\n   </g>\n   <g id=\"patch_20\">\n    <path d=\"M 23.425 187.22175 \nL 302.425 187.22175 \n\" style=\"fill:none;stroke:#bcbcbc;stroke-linecap:square;stroke-linejoin:miter;stroke-width:0.8;\"/>\n   </g>\n   <g id=\"patch_21\">\n    <path d=\"M 23.425 24.14175 \nL 302.425 24.14175 \n\" style=\"fill:none;stroke:#bcbcbc;stroke-linecap:square;stroke-linejoin:miter;stroke-width:0.8;\"/>\n   </g>\n   <g id=\"text_13\">\n    <!-- Density for DMES GP -->\n    <defs>\n     <path d=\"M 19.671875 64.796875 \nL 19.671875 8.109375 \nL 31.59375 8.109375 \nQ 46.6875 8.109375 53.6875 14.9375 \nQ 60.6875 21.78125 60.6875 36.53125 \nQ 60.6875 51.171875 53.6875 57.984375 \nQ 46.6875 64.796875 31.59375 64.796875 \nz\nM 9.8125 72.90625 \nL 30.078125 72.90625 \nQ 51.265625 72.90625 61.171875 64.09375 \nQ 71.09375 55.28125 71.09375 36.53125 \nQ 71.09375 17.671875 61.125 8.828125 \nQ 51.171875 0 30.078125 0 \nL 9.8125 0 \nz\n\" id=\"DejaVuSans-68\"/>\n     <path d=\"M 56.203125 29.59375 \nL 56.203125 25.203125 \nL 14.890625 25.203125 \nQ 15.484375 15.921875 20.484375 11.0625 \nQ 25.484375 6.203125 34.421875 6.203125 \nQ 39.59375 6.203125 44.453125 7.46875 \nQ 49.3125 8.734375 54.109375 11.28125 \nL 54.109375 2.78125 \nQ 49.265625 0.734375 44.1875 -0.34375 \nQ 39.109375 -1.421875 33.890625 -1.421875 \nQ 20.796875 -1.421875 13.15625 6.1875 \nQ 5.515625 13.8125 5.515625 26.8125 \nQ 5.515625 40.234375 12.765625 48.109375 \nQ 20.015625 56 32.328125 56 \nQ 43.359375 56 49.78125 48.890625 \nQ 56.203125 41.796875 56.203125 29.59375 \nz\nM 47.21875 32.234375 \nQ 47.125 39.59375 43.09375 43.984375 \nQ 39.0625 48.390625 32.421875 48.390625 \nQ 24.90625 48.390625 20.390625 44.140625 \nQ 15.875 39.890625 15.1875 32.171875 \nz\n\" id=\"DejaVuSans-101\"/>\n     <path d=\"M 54.890625 33.015625 \nL 54.890625 0 \nL 45.90625 0 \nL 45.90625 32.71875 \nQ 45.90625 40.484375 42.875 44.328125 \nQ 39.84375 48.1875 33.796875 48.1875 \nQ 26.515625 48.1875 22.3125 43.546875 \nQ 18.109375 38.921875 18.109375 30.90625 \nL 18.109375 0 \nL 9.078125 0 \nL 9.078125 54.6875 \nL 18.109375 54.6875 \nL 18.109375 46.1875 \nQ 21.34375 51.125 25.703125 53.5625 \nQ 30.078125 56 35.796875 56 \nQ 45.21875 56 50.046875 50.171875 \nQ 54.890625 44.34375 54.890625 33.015625 \nz\n\" id=\"DejaVuSans-110\"/>\n     <path d=\"M 44.28125 53.078125 \nL 44.28125 44.578125 \nQ 40.484375 46.53125 36.375 47.5 \nQ 32.28125 48.484375 27.875 48.484375 \nQ 21.1875 48.484375 17.84375 46.4375 \nQ 14.5 44.390625 14.5 40.28125 \nQ 14.5 37.15625 16.890625 35.375 \nQ 19.28125 33.59375 26.515625 31.984375 \nL 29.59375 31.296875 \nQ 39.15625 29.25 43.1875 25.515625 \nQ 47.21875 21.78125 47.21875 15.09375 \nQ 47.21875 7.46875 41.1875 3.015625 \nQ 35.15625 -1.421875 24.609375 -1.421875 \nQ 20.21875 -1.421875 15.453125 -0.5625 \nQ 10.6875 0.296875 5.421875 2 \nL 5.421875 11.28125 \nQ 10.40625 8.6875 15.234375 7.390625 \nQ 20.0625 6.109375 24.8125 6.109375 \nQ 31.15625 6.109375 34.5625 8.28125 \nQ 37.984375 10.453125 37.984375 14.40625 \nQ 37.984375 18.0625 35.515625 20.015625 \nQ 33.0625 21.96875 24.703125 23.78125 \nL 21.578125 24.515625 \nQ 13.234375 26.265625 9.515625 29.90625 \nQ 5.8125 33.546875 5.8125 39.890625 \nQ 5.8125 47.609375 11.28125 51.796875 \nQ 16.75 56 26.8125 56 \nQ 31.78125 56 36.171875 55.265625 \nQ 40.578125 54.546875 44.28125 53.078125 \nz\n\" id=\"DejaVuSans-115\"/>\n     <path d=\"M 9.421875 54.6875 \nL 18.40625 54.6875 \nL 18.40625 0 \nL 9.421875 0 \nz\nM 9.421875 75.984375 \nL 18.40625 75.984375 \nL 18.40625 64.59375 \nL 9.421875 64.59375 \nz\n\" id=\"DejaVuSans-105\"/>\n     <path d=\"M 18.3125 70.21875 \nL 18.3125 54.6875 \nL 36.8125 54.6875 \nL 36.8125 47.703125 \nL 18.3125 47.703125 \nL 18.3125 18.015625 \nQ 18.3125 11.328125 20.140625 9.421875 \nQ 21.96875 7.515625 27.59375 7.515625 \nL 36.8125 7.515625 \nL 36.8125 0 \nL 27.59375 0 \nQ 17.1875 0 13.234375 3.875 \nQ 9.28125 7.765625 9.28125 18.015625 \nL 9.28125 47.703125 \nL 2.6875 47.703125 \nL 2.6875 54.6875 \nL 9.28125 54.6875 \nL 9.28125 70.21875 \nz\n\" id=\"DejaVuSans-116\"/>\n     <path d=\"M 32.171875 -5.078125 \nQ 28.375 -14.84375 24.75 -17.8125 \nQ 21.140625 -20.796875 15.09375 -20.796875 \nL 7.90625 -20.796875 \nL 7.90625 -13.28125 \nL 13.1875 -13.28125 \nQ 16.890625 -13.28125 18.9375 -11.515625 \nQ 21 -9.765625 23.484375 -3.21875 \nL 25.09375 0.875 \nL 2.984375 54.6875 \nL 12.5 54.6875 \nL 29.59375 11.921875 \nL 46.6875 54.6875 \nL 56.203125 54.6875 \nz\n\" id=\"DejaVuSans-121\"/>\n     <path id=\"DejaVuSans-32\"/>\n     <path d=\"M 37.109375 75.984375 \nL 37.109375 68.5 \nL 28.515625 68.5 \nQ 23.6875 68.5 21.796875 66.546875 \nQ 19.921875 64.59375 19.921875 59.515625 \nL 19.921875 54.6875 \nL 34.71875 54.6875 \nL 34.71875 47.703125 \nL 19.921875 47.703125 \nL 19.921875 0 \nL 10.890625 0 \nL 10.890625 47.703125 \nL 2.296875 47.703125 \nL 2.296875 54.6875 \nL 10.890625 54.6875 \nL 10.890625 58.5 \nQ 10.890625 67.625 15.140625 71.796875 \nQ 19.390625 75.984375 28.609375 75.984375 \nz\n\" id=\"DejaVuSans-102\"/>\n     <path d=\"M 30.609375 48.390625 \nQ 23.390625 48.390625 19.1875 42.75 \nQ 14.984375 37.109375 14.984375 27.296875 \nQ 14.984375 17.484375 19.15625 11.84375 \nQ 23.34375 6.203125 30.609375 6.203125 \nQ 37.796875 6.203125 41.984375 11.859375 \nQ 46.1875 17.53125 46.1875 27.296875 \nQ 46.1875 37.015625 41.984375 42.703125 \nQ 37.796875 48.390625 30.609375 48.390625 \nz\nM 30.609375 56 \nQ 42.328125 56 49.015625 48.375 \nQ 55.71875 40.765625 55.71875 27.296875 \nQ 55.71875 13.875 49.015625 6.21875 \nQ 42.328125 -1.421875 30.609375 -1.421875 \nQ 18.84375 -1.421875 12.171875 6.21875 \nQ 5.515625 13.875 5.515625 27.296875 \nQ 5.515625 40.765625 12.171875 48.375 \nQ 18.84375 56 30.609375 56 \nz\n\" id=\"DejaVuSans-111\"/>\n     <path d=\"M 41.109375 46.296875 \nQ 39.59375 47.171875 37.8125 47.578125 \nQ 36.03125 48 33.890625 48 \nQ 26.265625 48 22.1875 43.046875 \nQ 18.109375 38.09375 18.109375 28.8125 \nL 18.109375 0 \nL 9.078125 0 \nL 9.078125 54.6875 \nL 18.109375 54.6875 \nL 18.109375 46.1875 \nQ 20.953125 51.171875 25.484375 53.578125 \nQ 30.03125 56 36.53125 56 \nQ 37.453125 56 38.578125 55.875 \nQ 39.703125 55.765625 41.0625 55.515625 \nz\n\" id=\"DejaVuSans-114\"/>\n     <path d=\"M 9.8125 72.90625 \nL 24.515625 72.90625 \nL 43.109375 23.296875 \nL 61.8125 72.90625 \nL 76.515625 72.90625 \nL 76.515625 0 \nL 66.890625 0 \nL 66.890625 64.015625 \nL 48.09375 14.015625 \nL 38.1875 14.015625 \nL 19.390625 64.015625 \nL 19.390625 0 \nL 9.8125 0 \nz\n\" id=\"DejaVuSans-77\"/>\n     <path d=\"M 9.8125 72.90625 \nL 55.90625 72.90625 \nL 55.90625 64.59375 \nL 19.671875 64.59375 \nL 19.671875 43.015625 \nL 54.390625 43.015625 \nL 54.390625 34.71875 \nL 19.671875 34.71875 \nL 19.671875 8.296875 \nL 56.78125 8.296875 \nL 56.78125 0 \nL 9.8125 0 \nz\n\" id=\"DejaVuSans-69\"/>\n     <path d=\"M 53.515625 70.515625 \nL 53.515625 60.890625 \nQ 47.90625 63.578125 42.921875 64.890625 \nQ 37.9375 66.21875 33.296875 66.21875 \nQ 25.25 66.21875 20.875 63.09375 \nQ 16.5 59.96875 16.5 54.203125 \nQ 16.5 49.359375 19.40625 46.890625 \nQ 22.3125 44.4375 30.421875 42.921875 \nL 36.375 41.703125 \nQ 47.40625 39.59375 52.65625 34.296875 \nQ 57.90625 29 57.90625 20.125 \nQ 57.90625 9.515625 50.796875 4.046875 \nQ 43.703125 -1.421875 29.984375 -1.421875 \nQ 24.8125 -1.421875 18.96875 -0.25 \nQ 13.140625 0.921875 6.890625 3.21875 \nL 6.890625 13.375 \nQ 12.890625 10.015625 18.65625 8.296875 \nQ 24.421875 6.59375 29.984375 6.59375 \nQ 38.421875 6.59375 43.015625 9.90625 \nQ 47.609375 13.234375 47.609375 19.390625 \nQ 47.609375 24.75 44.3125 27.78125 \nQ 41.015625 30.8125 33.5 32.328125 \nL 27.484375 33.5 \nQ 16.453125 35.6875 11.515625 40.375 \nQ 6.59375 45.0625 6.59375 53.421875 \nQ 6.59375 63.09375 13.40625 68.65625 \nQ 20.21875 74.21875 32.171875 74.21875 \nQ 37.3125 74.21875 42.625 73.28125 \nQ 47.953125 72.359375 53.515625 70.515625 \nz\n\" id=\"DejaVuSans-83\"/>\n     <path d=\"M 59.515625 10.40625 \nL 59.515625 29.984375 \nL 43.40625 29.984375 \nL 43.40625 38.09375 \nL 69.28125 38.09375 \nL 69.28125 6.78125 \nQ 63.578125 2.734375 56.6875 0.65625 \nQ 49.8125 -1.421875 42 -1.421875 \nQ 24.90625 -1.421875 15.25 8.5625 \nQ 5.609375 18.5625 5.609375 36.375 \nQ 5.609375 54.25 15.25 64.234375 \nQ 24.90625 74.21875 42 74.21875 \nQ 49.125 74.21875 55.546875 72.453125 \nQ 61.96875 70.703125 67.390625 67.28125 \nL 67.390625 56.78125 \nQ 61.921875 61.421875 55.765625 63.765625 \nQ 49.609375 66.109375 42.828125 66.109375 \nQ 29.4375 66.109375 22.71875 58.640625 \nQ 16.015625 51.171875 16.015625 36.375 \nQ 16.015625 21.625 22.71875 14.15625 \nQ 29.4375 6.6875 42.828125 6.6875 \nQ 48.046875 6.6875 52.140625 7.59375 \nQ 56.25 8.5 59.515625 10.40625 \nz\n\" id=\"DejaVuSans-71\"/>\n     <path d=\"M 19.671875 64.796875 \nL 19.671875 37.40625 \nL 32.078125 37.40625 \nQ 38.96875 37.40625 42.71875 40.96875 \nQ 46.484375 44.53125 46.484375 51.125 \nQ 46.484375 57.671875 42.71875 61.234375 \nQ 38.96875 64.796875 32.078125 64.796875 \nz\nM 9.8125 72.90625 \nL 32.078125 72.90625 \nQ 44.34375 72.90625 50.609375 67.359375 \nQ 56.890625 61.8125 56.890625 51.125 \nQ 56.890625 40.328125 50.609375 34.8125 \nQ 44.34375 29.296875 32.078125 29.296875 \nL 19.671875 29.296875 \nL 19.671875 0 \nL 9.8125 0 \nz\n\" id=\"DejaVuSans-80\"/>\n    </defs>\n    <g transform=\"translate(87.991 18.14175)scale(0.144 -0.144)\">\n     <use xlink:href=\"#DejaVuSans-68\"/>\n     <use x=\"77.001953\" xlink:href=\"#DejaVuSans-101\"/>\n     <use x=\"138.525391\" xlink:href=\"#DejaVuSans-110\"/>\n     <use x=\"201.904297\" xlink:href=\"#DejaVuSans-115\"/>\n     <use x=\"254.003906\" xlink:href=\"#DejaVuSans-105\"/>\n     <use x=\"281.787109\" xlink:href=\"#DejaVuSans-116\"/>\n     <use x=\"320.996094\" xlink:href=\"#DejaVuSans-121\"/>\n     <use x=\"380.175781\" xlink:href=\"#DejaVuSans-32\"/>\n     <use x=\"411.962891\" xlink:href=\"#DejaVuSans-102\"/>\n     <use x=\"447.167969\" xlink:href=\"#DejaVuSans-111\"/>\n     <use x=\"508.349609\" xlink:href=\"#DejaVuSans-114\"/>\n     <use x=\"549.462891\" xlink:href=\"#DejaVuSans-32\"/>\n     <use x=\"581.25\" xlink:href=\"#DejaVuSans-68\"/>\n     <use x=\"658.251953\" xlink:href=\"#DejaVuSans-77\"/>\n     <use x=\"744.53125\" xlink:href=\"#DejaVuSans-69\"/>\n     <use x=\"807.714844\" xlink:href=\"#DejaVuSans-83\"/>\n     <use x=\"871.191406\" xlink:href=\"#DejaVuSans-32\"/>\n     <use x=\"902.978516\" xlink:href=\"#DejaVuSans-71\"/>\n     <use x=\"980.46875\" xlink:href=\"#DejaVuSans-80\"/>\n    </g>\n   </g>\n  </g>\n </g>\n <defs>\n  <clipPath id=\"p535bc6f44b\">\n   <rect height=\"163.08\" width=\"279\" x=\"23.425\" y=\"24.14175\"/>\n  </clipPath>\n </defs>\n</svg>\n"
          },
          "metadata": {
            "tags": [],
            "needs_background": "light"
          }
        }
      ]
    },
    {
      "cell_type": "markdown",
      "metadata": {
        "id": "ITjK3WLMZZ5y"
      },
      "source": [
        "Boxplots for sample mean:"
      ]
    },
    {
      "cell_type": "code",
      "metadata": {
        "colab": {
          "base_uri": "https://localhost:8080/",
          "height": 515
        },
        "id": "MvhmembBXBw3",
        "outputId": "dc651663-54fb-4fb8-be9d-84070ce3135d"
      },
      "source": [
        "plot_boxplots(dmes_population, N_SUBSAMPLE)"
      ],
      "execution_count": null,
      "outputs": [
        {
          "output_type": "display_data",
          "data": {
            "text/plain": [
              "<Figure size 504x432 with 1 Axes>"
            ],
            "image/svg+xml": "<?xml version=\"1.0\" encoding=\"utf-8\" standalone=\"no\"?>\n<!DOCTYPE svg PUBLIC \"-//W3C//DTD SVG 1.1//EN\"\n  \"http://www.w3.org/Graphics/SVG/1.1/DTD/svg11.dtd\">\n<!-- Created with matplotlib (https://matplotlib.org/) -->\n<svg height=\"370.679875pt\" version=\"1.1\" viewBox=\"0 0 423.242187 370.679875\" width=\"423.242187pt\" xmlns=\"http://www.w3.org/2000/svg\" xmlns:xlink=\"http://www.w3.org/1999/xlink\">\n <defs>\n  <style type=\"text/css\">\n*{stroke-linecap:butt;stroke-linejoin:round;}\n  </style>\n </defs>\n <g id=\"figure_1\">\n  <g id=\"patch_1\">\n   <path d=\"M 0 370.679875 \nL 423.242187 370.679875 \nL 423.242187 0 \nL 0 0 \nz\n\" style=\"fill:none;\"/>\n  </g>\n  <g id=\"axes_1\">\n   <g id=\"patch_2\">\n    <path d=\"M 25.442188 350.30175 \nL 416.042188 350.30175 \nL 416.042188 24.14175 \nL 25.442188 24.14175 \nz\n\" style=\"fill:#eeeeee;\"/>\n   </g>\n   <g id=\"patch_3\">\n    <path clip-path=\"url(#pfbb116ee0c)\" d=\"M 71.012187 211.700386 \nL 110.072187 211.700386 \nL 110.072187 148.968411 \nL 71.012187 148.968411 \nL 71.012187 211.700386 \nz\n\" style=\"fill:#4586ac;stroke:#343434;stroke-linejoin:miter;stroke-width:2;\"/>\n   </g>\n   <g id=\"patch_4\">\n    <path clip-path=\"url(#pfbb116ee0c)\" d=\"M 201.212187 190.224837 \nL 240.272187 190.224837 \nL 240.272187 174.805258 \nL 201.212187 174.805258 \nL 201.212187 190.224837 \nz\n\" style=\"fill:#921a33;stroke:#343434;stroke-linejoin:miter;stroke-width:2;\"/>\n   </g>\n   <g id=\"patch_5\">\n    <path clip-path=\"url(#pfbb116ee0c)\" d=\"M 331.412188 190.298177 \nL 370.472187 190.298177 \nL 370.472187 174.82795 \nL 331.412188 174.82795 \nL 331.412188 190.298177 \nz\n\" style=\"fill:#7d709e;stroke:#343434;stroke-linejoin:miter;stroke-width:2;\"/>\n   </g>\n   <g id=\"matplotlib.axis_1\">\n    <g id=\"xtick_1\">\n     <g id=\"line2d_1\">\n      <defs>\n       <path d=\"M 0 0 \nL 0 -3.5 \n\" id=\"me4e1c45e80\" style=\"stroke:#000000;stroke-width:0.8;\"/>\n      </defs>\n      <g>\n       <use style=\"stroke:#000000;stroke-width:0.8;\" x=\"90.542187\" xlink:href=\"#me4e1c45e80\" y=\"350.30175\"/>\n      </g>\n     </g>\n     <g id=\"text_1\">\n      <!-- 1 random subsampling -->\n      <defs>\n       <path d=\"M 12.40625 8.296875 \nL 28.515625 8.296875 \nL 28.515625 63.921875 \nL 10.984375 60.40625 \nL 10.984375 69.390625 \nL 28.421875 72.90625 \nL 38.28125 72.90625 \nL 38.28125 8.296875 \nL 54.390625 8.296875 \nL 54.390625 0 \nL 12.40625 0 \nz\n\" id=\"DejaVuSans-49\"/>\n       <path id=\"DejaVuSans-32\"/>\n       <path d=\"M 41.109375 46.296875 \nQ 39.59375 47.171875 37.8125 47.578125 \nQ 36.03125 48 33.890625 48 \nQ 26.265625 48 22.1875 43.046875 \nQ 18.109375 38.09375 18.109375 28.8125 \nL 18.109375 0 \nL 9.078125 0 \nL 9.078125 54.6875 \nL 18.109375 54.6875 \nL 18.109375 46.1875 \nQ 20.953125 51.171875 25.484375 53.578125 \nQ 30.03125 56 36.53125 56 \nQ 37.453125 56 38.578125 55.875 \nQ 39.703125 55.765625 41.0625 55.515625 \nz\n\" id=\"DejaVuSans-114\"/>\n       <path d=\"M 34.28125 27.484375 \nQ 23.390625 27.484375 19.1875 25 \nQ 14.984375 22.515625 14.984375 16.5 \nQ 14.984375 11.71875 18.140625 8.90625 \nQ 21.296875 6.109375 26.703125 6.109375 \nQ 34.1875 6.109375 38.703125 11.40625 \nQ 43.21875 16.703125 43.21875 25.484375 \nL 43.21875 27.484375 \nz\nM 52.203125 31.203125 \nL 52.203125 0 \nL 43.21875 0 \nL 43.21875 8.296875 \nQ 40.140625 3.328125 35.546875 0.953125 \nQ 30.953125 -1.421875 24.3125 -1.421875 \nQ 15.921875 -1.421875 10.953125 3.296875 \nQ 6 8.015625 6 15.921875 \nQ 6 25.140625 12.171875 29.828125 \nQ 18.359375 34.515625 30.609375 34.515625 \nL 43.21875 34.515625 \nL 43.21875 35.40625 \nQ 43.21875 41.609375 39.140625 45 \nQ 35.0625 48.390625 27.6875 48.390625 \nQ 23 48.390625 18.546875 47.265625 \nQ 14.109375 46.140625 10.015625 43.890625 \nL 10.015625 52.203125 \nQ 14.9375 54.109375 19.578125 55.046875 \nQ 24.21875 56 28.609375 56 \nQ 40.484375 56 46.34375 49.84375 \nQ 52.203125 43.703125 52.203125 31.203125 \nz\n\" id=\"DejaVuSans-97\"/>\n       <path d=\"M 54.890625 33.015625 \nL 54.890625 0 \nL 45.90625 0 \nL 45.90625 32.71875 \nQ 45.90625 40.484375 42.875 44.328125 \nQ 39.84375 48.1875 33.796875 48.1875 \nQ 26.515625 48.1875 22.3125 43.546875 \nQ 18.109375 38.921875 18.109375 30.90625 \nL 18.109375 0 \nL 9.078125 0 \nL 9.078125 54.6875 \nL 18.109375 54.6875 \nL 18.109375 46.1875 \nQ 21.34375 51.125 25.703125 53.5625 \nQ 30.078125 56 35.796875 56 \nQ 45.21875 56 50.046875 50.171875 \nQ 54.890625 44.34375 54.890625 33.015625 \nz\n\" id=\"DejaVuSans-110\"/>\n       <path d=\"M 45.40625 46.390625 \nL 45.40625 75.984375 \nL 54.390625 75.984375 \nL 54.390625 0 \nL 45.40625 0 \nL 45.40625 8.203125 \nQ 42.578125 3.328125 38.25 0.953125 \nQ 33.9375 -1.421875 27.875 -1.421875 \nQ 17.96875 -1.421875 11.734375 6.484375 \nQ 5.515625 14.40625 5.515625 27.296875 \nQ 5.515625 40.1875 11.734375 48.09375 \nQ 17.96875 56 27.875 56 \nQ 33.9375 56 38.25 53.625 \nQ 42.578125 51.265625 45.40625 46.390625 \nz\nM 14.796875 27.296875 \nQ 14.796875 17.390625 18.875 11.75 \nQ 22.953125 6.109375 30.078125 6.109375 \nQ 37.203125 6.109375 41.296875 11.75 \nQ 45.40625 17.390625 45.40625 27.296875 \nQ 45.40625 37.203125 41.296875 42.84375 \nQ 37.203125 48.484375 30.078125 48.484375 \nQ 22.953125 48.484375 18.875 42.84375 \nQ 14.796875 37.203125 14.796875 27.296875 \nz\n\" id=\"DejaVuSans-100\"/>\n       <path d=\"M 30.609375 48.390625 \nQ 23.390625 48.390625 19.1875 42.75 \nQ 14.984375 37.109375 14.984375 27.296875 \nQ 14.984375 17.484375 19.15625 11.84375 \nQ 23.34375 6.203125 30.609375 6.203125 \nQ 37.796875 6.203125 41.984375 11.859375 \nQ 46.1875 17.53125 46.1875 27.296875 \nQ 46.1875 37.015625 41.984375 42.703125 \nQ 37.796875 48.390625 30.609375 48.390625 \nz\nM 30.609375 56 \nQ 42.328125 56 49.015625 48.375 \nQ 55.71875 40.765625 55.71875 27.296875 \nQ 55.71875 13.875 49.015625 6.21875 \nQ 42.328125 -1.421875 30.609375 -1.421875 \nQ 18.84375 -1.421875 12.171875 6.21875 \nQ 5.515625 13.875 5.515625 27.296875 \nQ 5.515625 40.765625 12.171875 48.375 \nQ 18.84375 56 30.609375 56 \nz\n\" id=\"DejaVuSans-111\"/>\n       <path d=\"M 52 44.1875 \nQ 55.375 50.25 60.0625 53.125 \nQ 64.75 56 71.09375 56 \nQ 79.640625 56 84.28125 50.015625 \nQ 88.921875 44.046875 88.921875 33.015625 \nL 88.921875 0 \nL 79.890625 0 \nL 79.890625 32.71875 \nQ 79.890625 40.578125 77.09375 44.375 \nQ 74.3125 48.1875 68.609375 48.1875 \nQ 61.625 48.1875 57.5625 43.546875 \nQ 53.515625 38.921875 53.515625 30.90625 \nL 53.515625 0 \nL 44.484375 0 \nL 44.484375 32.71875 \nQ 44.484375 40.625 41.703125 44.40625 \nQ 38.921875 48.1875 33.109375 48.1875 \nQ 26.21875 48.1875 22.15625 43.53125 \nQ 18.109375 38.875 18.109375 30.90625 \nL 18.109375 0 \nL 9.078125 0 \nL 9.078125 54.6875 \nL 18.109375 54.6875 \nL 18.109375 46.1875 \nQ 21.1875 51.21875 25.484375 53.609375 \nQ 29.78125 56 35.6875 56 \nQ 41.65625 56 45.828125 52.96875 \nQ 50 49.953125 52 44.1875 \nz\n\" id=\"DejaVuSans-109\"/>\n       <path d=\"M 44.28125 53.078125 \nL 44.28125 44.578125 \nQ 40.484375 46.53125 36.375 47.5 \nQ 32.28125 48.484375 27.875 48.484375 \nQ 21.1875 48.484375 17.84375 46.4375 \nQ 14.5 44.390625 14.5 40.28125 \nQ 14.5 37.15625 16.890625 35.375 \nQ 19.28125 33.59375 26.515625 31.984375 \nL 29.59375 31.296875 \nQ 39.15625 29.25 43.1875 25.515625 \nQ 47.21875 21.78125 47.21875 15.09375 \nQ 47.21875 7.46875 41.1875 3.015625 \nQ 35.15625 -1.421875 24.609375 -1.421875 \nQ 20.21875 -1.421875 15.453125 -0.5625 \nQ 10.6875 0.296875 5.421875 2 \nL 5.421875 11.28125 \nQ 10.40625 8.6875 15.234375 7.390625 \nQ 20.0625 6.109375 24.8125 6.109375 \nQ 31.15625 6.109375 34.5625 8.28125 \nQ 37.984375 10.453125 37.984375 14.40625 \nQ 37.984375 18.0625 35.515625 20.015625 \nQ 33.0625 21.96875 24.703125 23.78125 \nL 21.578125 24.515625 \nQ 13.234375 26.265625 9.515625 29.90625 \nQ 5.8125 33.546875 5.8125 39.890625 \nQ 5.8125 47.609375 11.28125 51.796875 \nQ 16.75 56 26.8125 56 \nQ 31.78125 56 36.171875 55.265625 \nQ 40.578125 54.546875 44.28125 53.078125 \nz\n\" id=\"DejaVuSans-115\"/>\n       <path d=\"M 8.5 21.578125 \nL 8.5 54.6875 \nL 17.484375 54.6875 \nL 17.484375 21.921875 \nQ 17.484375 14.15625 20.5 10.265625 \nQ 23.53125 6.390625 29.59375 6.390625 \nQ 36.859375 6.390625 41.078125 11.03125 \nQ 45.3125 15.671875 45.3125 23.6875 \nL 45.3125 54.6875 \nL 54.296875 54.6875 \nL 54.296875 0 \nL 45.3125 0 \nL 45.3125 8.40625 \nQ 42.046875 3.421875 37.71875 1 \nQ 33.40625 -1.421875 27.6875 -1.421875 \nQ 18.265625 -1.421875 13.375 4.4375 \nQ 8.5 10.296875 8.5 21.578125 \nz\nM 31.109375 56 \nz\n\" id=\"DejaVuSans-117\"/>\n       <path d=\"M 48.6875 27.296875 \nQ 48.6875 37.203125 44.609375 42.84375 \nQ 40.53125 48.484375 33.40625 48.484375 \nQ 26.265625 48.484375 22.1875 42.84375 \nQ 18.109375 37.203125 18.109375 27.296875 \nQ 18.109375 17.390625 22.1875 11.75 \nQ 26.265625 6.109375 33.40625 6.109375 \nQ 40.53125 6.109375 44.609375 11.75 \nQ 48.6875 17.390625 48.6875 27.296875 \nz\nM 18.109375 46.390625 \nQ 20.953125 51.265625 25.265625 53.625 \nQ 29.59375 56 35.59375 56 \nQ 45.5625 56 51.78125 48.09375 \nQ 58.015625 40.1875 58.015625 27.296875 \nQ 58.015625 14.40625 51.78125 6.484375 \nQ 45.5625 -1.421875 35.59375 -1.421875 \nQ 29.59375 -1.421875 25.265625 0.953125 \nQ 20.953125 3.328125 18.109375 8.203125 \nL 18.109375 0 \nL 9.078125 0 \nL 9.078125 75.984375 \nL 18.109375 75.984375 \nz\n\" id=\"DejaVuSans-98\"/>\n       <path d=\"M 18.109375 8.203125 \nL 18.109375 -20.796875 \nL 9.078125 -20.796875 \nL 9.078125 54.6875 \nL 18.109375 54.6875 \nL 18.109375 46.390625 \nQ 20.953125 51.265625 25.265625 53.625 \nQ 29.59375 56 35.59375 56 \nQ 45.5625 56 51.78125 48.09375 \nQ 58.015625 40.1875 58.015625 27.296875 \nQ 58.015625 14.40625 51.78125 6.484375 \nQ 45.5625 -1.421875 35.59375 -1.421875 \nQ 29.59375 -1.421875 25.265625 0.953125 \nQ 20.953125 3.328125 18.109375 8.203125 \nz\nM 48.6875 27.296875 \nQ 48.6875 37.203125 44.609375 42.84375 \nQ 40.53125 48.484375 33.40625 48.484375 \nQ 26.265625 48.484375 22.1875 42.84375 \nQ 18.109375 37.203125 18.109375 27.296875 \nQ 18.109375 17.390625 22.1875 11.75 \nQ 26.265625 6.109375 33.40625 6.109375 \nQ 40.53125 6.109375 44.609375 11.75 \nQ 48.6875 17.390625 48.6875 27.296875 \nz\n\" id=\"DejaVuSans-112\"/>\n       <path d=\"M 9.421875 75.984375 \nL 18.40625 75.984375 \nL 18.40625 0 \nL 9.421875 0 \nz\n\" id=\"DejaVuSans-108\"/>\n       <path d=\"M 9.421875 54.6875 \nL 18.40625 54.6875 \nL 18.40625 0 \nL 9.421875 0 \nz\nM 9.421875 75.984375 \nL 18.40625 75.984375 \nL 18.40625 64.59375 \nL 9.421875 64.59375 \nz\n\" id=\"DejaVuSans-105\"/>\n       <path d=\"M 45.40625 27.984375 \nQ 45.40625 37.75 41.375 43.109375 \nQ 37.359375 48.484375 30.078125 48.484375 \nQ 22.859375 48.484375 18.828125 43.109375 \nQ 14.796875 37.75 14.796875 27.984375 \nQ 14.796875 18.265625 18.828125 12.890625 \nQ 22.859375 7.515625 30.078125 7.515625 \nQ 37.359375 7.515625 41.375 12.890625 \nQ 45.40625 18.265625 45.40625 27.984375 \nz\nM 54.390625 6.78125 \nQ 54.390625 -7.171875 48.1875 -13.984375 \nQ 42 -20.796875 29.203125 -20.796875 \nQ 24.46875 -20.796875 20.265625 -20.09375 \nQ 16.0625 -19.390625 12.109375 -17.921875 \nL 12.109375 -9.1875 \nQ 16.0625 -11.328125 19.921875 -12.34375 \nQ 23.78125 -13.375 27.78125 -13.375 \nQ 36.625 -13.375 41.015625 -8.765625 \nQ 45.40625 -4.15625 45.40625 5.171875 \nL 45.40625 9.625 \nQ 42.625 4.78125 38.28125 2.390625 \nQ 33.9375 0 27.875 0 \nQ 17.828125 0 11.671875 7.65625 \nQ 5.515625 15.328125 5.515625 27.984375 \nQ 5.515625 40.671875 11.671875 48.328125 \nQ 17.828125 56 27.875 56 \nQ 33.9375 56 38.28125 53.609375 \nQ 42.625 51.21875 45.40625 46.390625 \nL 45.40625 54.6875 \nL 54.390625 54.6875 \nz\n\" id=\"DejaVuSans-103\"/>\n      </defs>\n      <g transform=\"translate(33.008594 361.400187)scale(0.1 -0.1)\">\n       <use xlink:href=\"#DejaVuSans-49\"/>\n       <use x=\"63.623047\" xlink:href=\"#DejaVuSans-32\"/>\n       <use x=\"95.410156\" xlink:href=\"#DejaVuSans-114\"/>\n       <use x=\"136.523438\" xlink:href=\"#DejaVuSans-97\"/>\n       <use x=\"197.802734\" xlink:href=\"#DejaVuSans-110\"/>\n       <use x=\"261.181641\" xlink:href=\"#DejaVuSans-100\"/>\n       <use x=\"324.658203\" xlink:href=\"#DejaVuSans-111\"/>\n       <use x=\"385.839844\" xlink:href=\"#DejaVuSans-109\"/>\n       <use x=\"483.251953\" xlink:href=\"#DejaVuSans-32\"/>\n       <use x=\"515.039062\" xlink:href=\"#DejaVuSans-115\"/>\n       <use x=\"567.138672\" xlink:href=\"#DejaVuSans-117\"/>\n       <use x=\"630.517578\" xlink:href=\"#DejaVuSans-98\"/>\n       <use x=\"693.994141\" xlink:href=\"#DejaVuSans-115\"/>\n       <use x=\"746.09375\" xlink:href=\"#DejaVuSans-97\"/>\n       <use x=\"807.373047\" xlink:href=\"#DejaVuSans-109\"/>\n       <use x=\"904.785156\" xlink:href=\"#DejaVuSans-112\"/>\n       <use x=\"968.261719\" xlink:href=\"#DejaVuSans-108\"/>\n       <use x=\"996.044922\" xlink:href=\"#DejaVuSans-105\"/>\n       <use x=\"1023.828125\" xlink:href=\"#DejaVuSans-110\"/>\n       <use x=\"1087.207031\" xlink:href=\"#DejaVuSans-103\"/>\n      </g>\n     </g>\n    </g>\n    <g id=\"xtick_2\">\n     <g id=\"line2d_2\">\n      <g>\n       <use style=\"stroke:#000000;stroke-width:0.8;\" x=\"220.742188\" xlink:href=\"#me4e1c45e80\" y=\"350.30175\"/>\n      </g>\n     </g>\n     <g id=\"text_2\">\n      <!-- 2 proportional subsampling -->\n      <defs>\n       <path d=\"M 19.1875 8.296875 \nL 53.609375 8.296875 \nL 53.609375 0 \nL 7.328125 0 \nL 7.328125 8.296875 \nQ 12.9375 14.109375 22.625 23.890625 \nQ 32.328125 33.6875 34.8125 36.53125 \nQ 39.546875 41.84375 41.421875 45.53125 \nQ 43.3125 49.21875 43.3125 52.78125 \nQ 43.3125 58.59375 39.234375 62.25 \nQ 35.15625 65.921875 28.609375 65.921875 \nQ 23.96875 65.921875 18.8125 64.3125 \nQ 13.671875 62.703125 7.8125 59.421875 \nL 7.8125 69.390625 \nQ 13.765625 71.78125 18.9375 73 \nQ 24.125 74.21875 28.421875 74.21875 \nQ 39.75 74.21875 46.484375 68.546875 \nQ 53.21875 62.890625 53.21875 53.421875 \nQ 53.21875 48.921875 51.53125 44.890625 \nQ 49.859375 40.875 45.40625 35.40625 \nQ 44.1875 33.984375 37.640625 27.21875 \nQ 31.109375 20.453125 19.1875 8.296875 \nz\n\" id=\"DejaVuSans-50\"/>\n       <path d=\"M 18.3125 70.21875 \nL 18.3125 54.6875 \nL 36.8125 54.6875 \nL 36.8125 47.703125 \nL 18.3125 47.703125 \nL 18.3125 18.015625 \nQ 18.3125 11.328125 20.140625 9.421875 \nQ 21.96875 7.515625 27.59375 7.515625 \nL 36.8125 7.515625 \nL 36.8125 0 \nL 27.59375 0 \nQ 17.1875 0 13.234375 3.875 \nQ 9.28125 7.765625 9.28125 18.015625 \nL 9.28125 47.703125 \nL 2.6875 47.703125 \nL 2.6875 54.6875 \nL 9.28125 54.6875 \nL 9.28125 70.21875 \nz\n\" id=\"DejaVuSans-116\"/>\n      </defs>\n      <g transform=\"translate(152.104688 361.400187)scale(0.1 -0.1)\">\n       <use xlink:href=\"#DejaVuSans-50\"/>\n       <use x=\"63.623047\" xlink:href=\"#DejaVuSans-32\"/>\n       <use x=\"95.410156\" xlink:href=\"#DejaVuSans-112\"/>\n       <use x=\"158.886719\" xlink:href=\"#DejaVuSans-114\"/>\n       <use x=\"197.75\" xlink:href=\"#DejaVuSans-111\"/>\n       <use x=\"258.931641\" xlink:href=\"#DejaVuSans-112\"/>\n       <use x=\"322.408203\" xlink:href=\"#DejaVuSans-111\"/>\n       <use x=\"383.589844\" xlink:href=\"#DejaVuSans-114\"/>\n       <use x=\"424.703125\" xlink:href=\"#DejaVuSans-116\"/>\n       <use x=\"463.912109\" xlink:href=\"#DejaVuSans-105\"/>\n       <use x=\"491.695312\" xlink:href=\"#DejaVuSans-111\"/>\n       <use x=\"552.876953\" xlink:href=\"#DejaVuSans-110\"/>\n       <use x=\"616.255859\" xlink:href=\"#DejaVuSans-97\"/>\n       <use x=\"677.535156\" xlink:href=\"#DejaVuSans-108\"/>\n       <use x=\"705.318359\" xlink:href=\"#DejaVuSans-32\"/>\n       <use x=\"737.105469\" xlink:href=\"#DejaVuSans-115\"/>\n       <use x=\"789.205078\" xlink:href=\"#DejaVuSans-117\"/>\n       <use x=\"852.583984\" xlink:href=\"#DejaVuSans-98\"/>\n       <use x=\"916.060547\" xlink:href=\"#DejaVuSans-115\"/>\n       <use x=\"968.160156\" xlink:href=\"#DejaVuSans-97\"/>\n       <use x=\"1029.439453\" xlink:href=\"#DejaVuSans-109\"/>\n       <use x=\"1126.851562\" xlink:href=\"#DejaVuSans-112\"/>\n       <use x=\"1190.328125\" xlink:href=\"#DejaVuSans-108\"/>\n       <use x=\"1218.111328\" xlink:href=\"#DejaVuSans-105\"/>\n       <use x=\"1245.894531\" xlink:href=\"#DejaVuSans-110\"/>\n       <use x=\"1309.273438\" xlink:href=\"#DejaVuSans-103\"/>\n      </g>\n     </g>\n    </g>\n    <g id=\"xtick_3\">\n     <g id=\"line2d_3\">\n      <g>\n       <use style=\"stroke:#000000;stroke-width:0.8;\" x=\"350.942187\" xlink:href=\"#me4e1c45e80\" y=\"350.30175\"/>\n      </g>\n     </g>\n     <g id=\"text_3\">\n      <!-- 3 optimal subsampling -->\n      <defs>\n       <path d=\"M 40.578125 39.3125 \nQ 47.65625 37.796875 51.625 33 \nQ 55.609375 28.21875 55.609375 21.1875 \nQ 55.609375 10.40625 48.1875 4.484375 \nQ 40.765625 -1.421875 27.09375 -1.421875 \nQ 22.515625 -1.421875 17.65625 -0.515625 \nQ 12.796875 0.390625 7.625 2.203125 \nL 7.625 11.71875 \nQ 11.71875 9.328125 16.59375 8.109375 \nQ 21.484375 6.890625 26.8125 6.890625 \nQ 36.078125 6.890625 40.9375 10.546875 \nQ 45.796875 14.203125 45.796875 21.1875 \nQ 45.796875 27.640625 41.28125 31.265625 \nQ 36.765625 34.90625 28.71875 34.90625 \nL 20.21875 34.90625 \nL 20.21875 43.015625 \nL 29.109375 43.015625 \nQ 36.375 43.015625 40.234375 45.921875 \nQ 44.09375 48.828125 44.09375 54.296875 \nQ 44.09375 59.90625 40.109375 62.90625 \nQ 36.140625 65.921875 28.71875 65.921875 \nQ 24.65625 65.921875 20.015625 65.03125 \nQ 15.375 64.15625 9.8125 62.3125 \nL 9.8125 71.09375 \nQ 15.4375 72.65625 20.34375 73.4375 \nQ 25.25 74.21875 29.59375 74.21875 \nQ 40.828125 74.21875 47.359375 69.109375 \nQ 53.90625 64.015625 53.90625 55.328125 \nQ 53.90625 49.265625 50.4375 45.09375 \nQ 46.96875 40.921875 40.578125 39.3125 \nz\n\" id=\"DejaVuSans-51\"/>\n      </defs>\n      <g transform=\"translate(293.894531 361.400187)scale(0.1 -0.1)\">\n       <use xlink:href=\"#DejaVuSans-51\"/>\n       <use x=\"63.623047\" xlink:href=\"#DejaVuSans-32\"/>\n       <use x=\"95.410156\" xlink:href=\"#DejaVuSans-111\"/>\n       <use x=\"156.591797\" xlink:href=\"#DejaVuSans-112\"/>\n       <use x=\"220.068359\" xlink:href=\"#DejaVuSans-116\"/>\n       <use x=\"259.277344\" xlink:href=\"#DejaVuSans-105\"/>\n       <use x=\"287.060547\" xlink:href=\"#DejaVuSans-109\"/>\n       <use x=\"384.472656\" xlink:href=\"#DejaVuSans-97\"/>\n       <use x=\"445.751953\" xlink:href=\"#DejaVuSans-108\"/>\n       <use x=\"473.535156\" xlink:href=\"#DejaVuSans-32\"/>\n       <use x=\"505.322266\" xlink:href=\"#DejaVuSans-115\"/>\n       <use x=\"557.421875\" xlink:href=\"#DejaVuSans-117\"/>\n       <use x=\"620.800781\" xlink:href=\"#DejaVuSans-98\"/>\n       <use x=\"684.277344\" xlink:href=\"#DejaVuSans-115\"/>\n       <use x=\"736.376953\" xlink:href=\"#DejaVuSans-97\"/>\n       <use x=\"797.65625\" xlink:href=\"#DejaVuSans-109\"/>\n       <use x=\"895.068359\" xlink:href=\"#DejaVuSans-112\"/>\n       <use x=\"958.544922\" xlink:href=\"#DejaVuSans-108\"/>\n       <use x=\"986.328125\" xlink:href=\"#DejaVuSans-105\"/>\n       <use x=\"1014.111328\" xlink:href=\"#DejaVuSans-110\"/>\n       <use x=\"1077.490234\" xlink:href=\"#DejaVuSans-103\"/>\n      </g>\n     </g>\n    </g>\n   </g>\n   <g id=\"matplotlib.axis_2\">\n    <g id=\"ytick_1\">\n     <g id=\"line2d_4\">\n      <path clip-path=\"url(#pfbb116ee0c)\" d=\"M 25.442188 350.165315 \nL 416.042188 350.165315 \n\" style=\"fill:none;stroke:#b2b2b2;stroke-dasharray:1.85,0.8;stroke-dashoffset:0;stroke-width:0.5;\"/>\n     </g>\n     <g id=\"line2d_5\">\n      <defs>\n       <path d=\"M 0 0 \nL 3.5 0 \n\" id=\"m5b934001cb\" style=\"stroke:#000000;stroke-width:0.8;\"/>\n      </defs>\n      <g>\n       <use style=\"stroke:#000000;stroke-width:0.8;\" x=\"25.442188\" xlink:href=\"#m5b934001cb\" y=\"350.165315\"/>\n      </g>\n     </g>\n     <g id=\"text_4\">\n      <!-- −5 -->\n      <defs>\n       <path d=\"M 10.59375 35.5 \nL 73.1875 35.5 \nL 73.1875 27.203125 \nL 10.59375 27.203125 \nz\n\" id=\"DejaVuSans-8722\"/>\n       <path d=\"M 10.796875 72.90625 \nL 49.515625 72.90625 \nL 49.515625 64.59375 \nL 19.828125 64.59375 \nL 19.828125 46.734375 \nQ 21.96875 47.46875 24.109375 47.828125 \nQ 26.265625 48.1875 28.421875 48.1875 \nQ 40.625 48.1875 47.75 41.5 \nQ 54.890625 34.8125 54.890625 23.390625 \nQ 54.890625 11.625 47.5625 5.09375 \nQ 40.234375 -1.421875 26.90625 -1.421875 \nQ 22.3125 -1.421875 17.546875 -0.640625 \nQ 12.796875 0.140625 7.71875 1.703125 \nL 7.71875 11.625 \nQ 12.109375 9.234375 16.796875 8.0625 \nQ 21.484375 6.890625 26.703125 6.890625 \nQ 35.15625 6.890625 40.078125 11.328125 \nQ 45.015625 15.765625 45.015625 23.390625 \nQ 45.015625 31 40.078125 35.4375 \nQ 35.15625 39.890625 26.703125 39.890625 \nQ 22.75 39.890625 18.8125 39.015625 \nQ 14.890625 38.140625 10.796875 36.28125 \nz\n\" id=\"DejaVuSans-53\"/>\n      </defs>\n      <g transform=\"translate(7.2 353.964534)scale(0.1 -0.1)\">\n       <use xlink:href=\"#DejaVuSans-8722\"/>\n       <use x=\"83.789062\" xlink:href=\"#DejaVuSans-53\"/>\n      </g>\n     </g>\n    </g>\n    <g id=\"ytick_2\">\n     <g id=\"line2d_6\">\n      <path clip-path=\"url(#pfbb116ee0c)\" d=\"M 25.442188 305.97046 \nL 416.042188 305.97046 \n\" style=\"fill:none;stroke:#b2b2b2;stroke-dasharray:1.85,0.8;stroke-dashoffset:0;stroke-width:0.5;\"/>\n     </g>\n     <g id=\"line2d_7\">\n      <g>\n       <use style=\"stroke:#000000;stroke-width:0.8;\" x=\"25.442188\" xlink:href=\"#m5b934001cb\" y=\"305.97046\"/>\n      </g>\n     </g>\n     <g id=\"text_5\">\n      <!-- −4 -->\n      <defs>\n       <path d=\"M 37.796875 64.3125 \nL 12.890625 25.390625 \nL 37.796875 25.390625 \nz\nM 35.203125 72.90625 \nL 47.609375 72.90625 \nL 47.609375 25.390625 \nL 58.015625 25.390625 \nL 58.015625 17.1875 \nL 47.609375 17.1875 \nL 47.609375 0 \nL 37.796875 0 \nL 37.796875 17.1875 \nL 4.890625 17.1875 \nL 4.890625 26.703125 \nz\n\" id=\"DejaVuSans-52\"/>\n      </defs>\n      <g transform=\"translate(7.2 309.769679)scale(0.1 -0.1)\">\n       <use xlink:href=\"#DejaVuSans-8722\"/>\n       <use x=\"83.789062\" xlink:href=\"#DejaVuSans-52\"/>\n      </g>\n     </g>\n    </g>\n    <g id=\"ytick_3\">\n     <g id=\"line2d_8\">\n      <path clip-path=\"url(#pfbb116ee0c)\" d=\"M 25.442188 261.775605 \nL 416.042188 261.775605 \n\" style=\"fill:none;stroke:#b2b2b2;stroke-dasharray:1.85,0.8;stroke-dashoffset:0;stroke-width:0.5;\"/>\n     </g>\n     <g id=\"line2d_9\">\n      <g>\n       <use style=\"stroke:#000000;stroke-width:0.8;\" x=\"25.442188\" xlink:href=\"#m5b934001cb\" y=\"261.775605\"/>\n      </g>\n     </g>\n     <g id=\"text_6\">\n      <!-- −3 -->\n      <g transform=\"translate(7.2 265.574824)scale(0.1 -0.1)\">\n       <use xlink:href=\"#DejaVuSans-8722\"/>\n       <use x=\"83.789062\" xlink:href=\"#DejaVuSans-51\"/>\n      </g>\n     </g>\n    </g>\n    <g id=\"ytick_4\">\n     <g id=\"line2d_10\">\n      <path clip-path=\"url(#pfbb116ee0c)\" d=\"M 25.442188 217.58075 \nL 416.042188 217.58075 \n\" style=\"fill:none;stroke:#b2b2b2;stroke-dasharray:1.85,0.8;stroke-dashoffset:0;stroke-width:0.5;\"/>\n     </g>\n     <g id=\"line2d_11\">\n      <g>\n       <use style=\"stroke:#000000;stroke-width:0.8;\" x=\"25.442188\" xlink:href=\"#m5b934001cb\" y=\"217.58075\"/>\n      </g>\n     </g>\n     <g id=\"text_7\">\n      <!-- −2 -->\n      <g transform=\"translate(7.2 221.379969)scale(0.1 -0.1)\">\n       <use xlink:href=\"#DejaVuSans-8722\"/>\n       <use x=\"83.789062\" xlink:href=\"#DejaVuSans-50\"/>\n      </g>\n     </g>\n    </g>\n    <g id=\"ytick_5\">\n     <g id=\"line2d_12\">\n      <path clip-path=\"url(#pfbb116ee0c)\" d=\"M 25.442188 173.385895 \nL 416.042188 173.385895 \n\" style=\"fill:none;stroke:#b2b2b2;stroke-dasharray:1.85,0.8;stroke-dashoffset:0;stroke-width:0.5;\"/>\n     </g>\n     <g id=\"line2d_13\">\n      <g>\n       <use style=\"stroke:#000000;stroke-width:0.8;\" x=\"25.442188\" xlink:href=\"#m5b934001cb\" y=\"173.385895\"/>\n      </g>\n     </g>\n     <g id=\"text_8\">\n      <!-- −1 -->\n      <g transform=\"translate(7.2 177.185114)scale(0.1 -0.1)\">\n       <use xlink:href=\"#DejaVuSans-8722\"/>\n       <use x=\"83.789062\" xlink:href=\"#DejaVuSans-49\"/>\n      </g>\n     </g>\n    </g>\n    <g id=\"ytick_6\">\n     <g id=\"line2d_14\">\n      <path clip-path=\"url(#pfbb116ee0c)\" d=\"M 25.442188 129.19104 \nL 416.042188 129.19104 \n\" style=\"fill:none;stroke:#b2b2b2;stroke-dasharray:1.85,0.8;stroke-dashoffset:0;stroke-width:0.5;\"/>\n     </g>\n     <g id=\"line2d_15\">\n      <g>\n       <use style=\"stroke:#000000;stroke-width:0.8;\" x=\"25.442188\" xlink:href=\"#m5b934001cb\" y=\"129.19104\"/>\n      </g>\n     </g>\n     <g id=\"text_9\">\n      <!-- 0 -->\n      <defs>\n       <path d=\"M 31.78125 66.40625 \nQ 24.171875 66.40625 20.328125 58.90625 \nQ 16.5 51.421875 16.5 36.375 \nQ 16.5 21.390625 20.328125 13.890625 \nQ 24.171875 6.390625 31.78125 6.390625 \nQ 39.453125 6.390625 43.28125 13.890625 \nQ 47.125 21.390625 47.125 36.375 \nQ 47.125 51.421875 43.28125 58.90625 \nQ 39.453125 66.40625 31.78125 66.40625 \nz\nM 31.78125 74.21875 \nQ 44.046875 74.21875 50.515625 64.515625 \nQ 56.984375 54.828125 56.984375 36.375 \nQ 56.984375 17.96875 50.515625 8.265625 \nQ 44.046875 -1.421875 31.78125 -1.421875 \nQ 19.53125 -1.421875 13.0625 8.265625 \nQ 6.59375 17.96875 6.59375 36.375 \nQ 6.59375 54.828125 13.0625 64.515625 \nQ 19.53125 74.21875 31.78125 74.21875 \nz\n\" id=\"DejaVuSans-48\"/>\n      </defs>\n      <g transform=\"translate(15.579688 132.990259)scale(0.1 -0.1)\">\n       <use xlink:href=\"#DejaVuSans-48\"/>\n      </g>\n     </g>\n    </g>\n    <g id=\"ytick_7\">\n     <g id=\"line2d_16\">\n      <path clip-path=\"url(#pfbb116ee0c)\" d=\"M 25.442188 84.996185 \nL 416.042188 84.996185 \n\" style=\"fill:none;stroke:#b2b2b2;stroke-dasharray:1.85,0.8;stroke-dashoffset:0;stroke-width:0.5;\"/>\n     </g>\n     <g id=\"line2d_17\">\n      <g>\n       <use style=\"stroke:#000000;stroke-width:0.8;\" x=\"25.442188\" xlink:href=\"#m5b934001cb\" y=\"84.996185\"/>\n      </g>\n     </g>\n     <g id=\"text_10\">\n      <!-- 1 -->\n      <g transform=\"translate(15.579688 88.795404)scale(0.1 -0.1)\">\n       <use xlink:href=\"#DejaVuSans-49\"/>\n      </g>\n     </g>\n    </g>\n    <g id=\"ytick_8\">\n     <g id=\"line2d_18\">\n      <path clip-path=\"url(#pfbb116ee0c)\" d=\"M 25.442188 40.80133 \nL 416.042188 40.80133 \n\" style=\"fill:none;stroke:#b2b2b2;stroke-dasharray:1.85,0.8;stroke-dashoffset:0;stroke-width:0.5;\"/>\n     </g>\n     <g id=\"line2d_19\">\n      <g>\n       <use style=\"stroke:#000000;stroke-width:0.8;\" x=\"25.442188\" xlink:href=\"#m5b934001cb\" y=\"40.80133\"/>\n      </g>\n     </g>\n     <g id=\"text_11\">\n      <!-- 2 -->\n      <g transform=\"translate(15.579688 44.600549)scale(0.1 -0.1)\">\n       <use xlink:href=\"#DejaVuSans-50\"/>\n      </g>\n     </g>\n    </g>\n   </g>\n   <g id=\"line2d_20\">\n    <path clip-path=\"url(#pfbb116ee0c)\" d=\"M 90.542187 211.700386 \nL 90.542187 305.531669 \n\" style=\"fill:none;stroke:#343434;stroke-linecap:square;stroke-width:2;\"/>\n   </g>\n   <g id=\"line2d_21\">\n    <path clip-path=\"url(#pfbb116ee0c)\" d=\"M 90.542187 148.968411 \nL 90.542187 56.174444 \n\" style=\"fill:none;stroke:#343434;stroke-linecap:square;stroke-width:2;\"/>\n   </g>\n   <g id=\"line2d_22\">\n    <path clip-path=\"url(#pfbb116ee0c)\" d=\"M 80.777187 305.531669 \nL 100.307187 305.531669 \n\" style=\"fill:none;stroke:#343434;stroke-linecap:square;stroke-width:2;\"/>\n   </g>\n   <g id=\"line2d_23\">\n    <path clip-path=\"url(#pfbb116ee0c)\" d=\"M 80.777187 56.174444 \nL 100.307187 56.174444 \n\" style=\"fill:none;stroke:#343434;stroke-linecap:square;stroke-width:2;\"/>\n   </g>\n   <g id=\"line2d_24\">\n    <defs>\n     <path d=\"M -0 3.535534 \nL 2.12132 0 \nL -0 -3.535534 \nL -2.12132 -0 \nz\n\" id=\"m2a0030f5ce\" style=\"stroke:#343434;stroke-linejoin:miter;\"/>\n    </defs>\n    <g clip-path=\"url(#pfbb116ee0c)\">\n     <use style=\"fill:#343434;stroke:#343434;stroke-linejoin:miter;\" x=\"90.542187\" xlink:href=\"#m2a0030f5ce\" y=\"335.476295\"/>\n     <use style=\"fill:#343434;stroke:#343434;stroke-linejoin:miter;\" x=\"90.542187\" xlink:href=\"#m2a0030f5ce\" y=\"308.161303\"/>\n     <use style=\"fill:#343434;stroke:#343434;stroke-linejoin:miter;\" x=\"90.542187\" xlink:href=\"#m2a0030f5ce\" y=\"308.574692\"/>\n     <use style=\"fill:#343434;stroke:#343434;stroke-linejoin:miter;\" x=\"90.542187\" xlink:href=\"#m2a0030f5ce\" y=\"333.220312\"/>\n     <use style=\"fill:#343434;stroke:#343434;stroke-linejoin:miter;\" x=\"90.542187\" xlink:href=\"#m2a0030f5ce\" y=\"310.31529\"/>\n     <use style=\"fill:#343434;stroke:#343434;stroke-linejoin:miter;\" x=\"90.542187\" xlink:href=\"#m2a0030f5ce\" y=\"307.035643\"/>\n     <use style=\"fill:#343434;stroke:#343434;stroke-linejoin:miter;\" x=\"90.542187\" xlink:href=\"#m2a0030f5ce\" y=\"307.456554\"/>\n     <use style=\"fill:#343434;stroke:#343434;stroke-linejoin:miter;\" x=\"90.542187\" xlink:href=\"#m2a0030f5ce\" y=\"314.935523\"/>\n     <use style=\"fill:#343434;stroke:#343434;stroke-linejoin:miter;\" x=\"90.542187\" xlink:href=\"#m2a0030f5ce\" y=\"45.793752\"/>\n     <use style=\"fill:#343434;stroke:#343434;stroke-linejoin:miter;\" x=\"90.542187\" xlink:href=\"#m2a0030f5ce\" y=\"47.174477\"/>\n     <use style=\"fill:#343434;stroke:#343434;stroke-linejoin:miter;\" x=\"90.542187\" xlink:href=\"#m2a0030f5ce\" y=\"54.799406\"/>\n     <use style=\"fill:#343434;stroke:#343434;stroke-linejoin:miter;\" x=\"90.542187\" xlink:href=\"#m2a0030f5ce\" y=\"41.871354\"/>\n     <use style=\"fill:#343434;stroke:#343434;stroke-linejoin:miter;\" x=\"90.542187\" xlink:href=\"#m2a0030f5ce\" y=\"38.967205\"/>\n    </g>\n   </g>\n   <g id=\"line2d_25\">\n    <path clip-path=\"url(#pfbb116ee0c)\" d=\"M 220.742188 190.224837 \nL 220.742188 211.301827 \n\" style=\"fill:none;stroke:#343434;stroke-linecap:square;stroke-width:2;\"/>\n   </g>\n   <g id=\"line2d_26\">\n    <path clip-path=\"url(#pfbb116ee0c)\" d=\"M 220.742188 174.805258 \nL 220.742188 151.945991 \n\" style=\"fill:none;stroke:#343434;stroke-linecap:square;stroke-width:2;\"/>\n   </g>\n   <g id=\"line2d_27\">\n    <path clip-path=\"url(#pfbb116ee0c)\" d=\"M 210.977188 211.301827 \nL 230.507187 211.301827 \n\" style=\"fill:none;stroke:#343434;stroke-linecap:square;stroke-width:2;\"/>\n   </g>\n   <g id=\"line2d_28\">\n    <path clip-path=\"url(#pfbb116ee0c)\" d=\"M 210.977188 151.945991 \nL 230.507187 151.945991 \n\" style=\"fill:none;stroke:#343434;stroke-linecap:square;stroke-width:2;\"/>\n   </g>\n   <g id=\"line2d_29\">\n    <g clip-path=\"url(#pfbb116ee0c)\">\n     <use style=\"fill:#343434;stroke:#343434;stroke-linejoin:miter;\" x=\"220.742188\" xlink:href=\"#m2a0030f5ce\" y=\"216.144989\"/>\n     <use style=\"fill:#343434;stroke:#343434;stroke-linejoin:miter;\" x=\"220.742188\" xlink:href=\"#m2a0030f5ce\" y=\"225.320669\"/>\n     <use style=\"fill:#343434;stroke:#343434;stroke-linejoin:miter;\" x=\"220.742188\" xlink:href=\"#m2a0030f5ce\" y=\"217.058218\"/>\n     <use style=\"fill:#343434;stroke:#343434;stroke-linejoin:miter;\" x=\"220.742188\" xlink:href=\"#m2a0030f5ce\" y=\"215.821818\"/>\n     <use style=\"fill:#343434;stroke:#343434;stroke-linejoin:miter;\" x=\"220.742188\" xlink:href=\"#m2a0030f5ce\" y=\"148.448935\"/>\n     <use style=\"fill:#343434;stroke:#343434;stroke-linejoin:miter;\" x=\"220.742188\" xlink:href=\"#m2a0030f5ce\" y=\"150.451108\"/>\n     <use style=\"fill:#343434;stroke:#343434;stroke-linejoin:miter;\" x=\"220.742188\" xlink:href=\"#m2a0030f5ce\" y=\"149.06982\"/>\n     <use style=\"fill:#343434;stroke:#343434;stroke-linejoin:miter;\" x=\"220.742188\" xlink:href=\"#m2a0030f5ce\" y=\"148.051912\"/>\n     <use style=\"fill:#343434;stroke:#343434;stroke-linejoin:miter;\" x=\"220.742188\" xlink:href=\"#m2a0030f5ce\" y=\"143.984159\"/>\n     <use style=\"fill:#343434;stroke:#343434;stroke-linejoin:miter;\" x=\"220.742188\" xlink:href=\"#m2a0030f5ce\" y=\"148.963661\"/>\n    </g>\n   </g>\n   <g id=\"line2d_30\">\n    <path clip-path=\"url(#pfbb116ee0c)\" d=\"M 350.942187 190.298177 \nL 350.942187 212.515845 \n\" style=\"fill:none;stroke:#343434;stroke-linecap:square;stroke-width:2;\"/>\n   </g>\n   <g id=\"line2d_31\">\n    <path clip-path=\"url(#pfbb116ee0c)\" d=\"M 350.942187 174.82795 \nL 350.942187 152.876643 \n\" style=\"fill:none;stroke:#343434;stroke-linecap:square;stroke-width:2;\"/>\n   </g>\n   <g id=\"line2d_32\">\n    <path clip-path=\"url(#pfbb116ee0c)\" d=\"M 341.177188 212.515845 \nL 360.707188 212.515845 \n\" style=\"fill:none;stroke:#343434;stroke-linecap:square;stroke-width:2;\"/>\n   </g>\n   <g id=\"line2d_33\">\n    <path clip-path=\"url(#pfbb116ee0c)\" d=\"M 341.177188 152.876643 \nL 360.707188 152.876643 \n\" style=\"fill:none;stroke:#343434;stroke-linecap:square;stroke-width:2;\"/>\n   </g>\n   <g id=\"line2d_34\">\n    <g clip-path=\"url(#pfbb116ee0c)\">\n     <use style=\"fill:#343434;stroke:#343434;stroke-linejoin:miter;\" x=\"350.942187\" xlink:href=\"#m2a0030f5ce\" y=\"219.703172\"/>\n     <use style=\"fill:#343434;stroke:#343434;stroke-linejoin:miter;\" x=\"350.942187\" xlink:href=\"#m2a0030f5ce\" y=\"150.78347\"/>\n     <use style=\"fill:#343434;stroke:#343434;stroke-linejoin:miter;\" x=\"350.942187\" xlink:href=\"#m2a0030f5ce\" y=\"144.612801\"/>\n    </g>\n   </g>\n   <g id=\"line2d_35\">\n    <path clip-path=\"url(#pfbb116ee0c)\" d=\"M 71.012187 181.798796 \nL 110.072187 181.798796 \n\" style=\"fill:none;stroke:#343434;stroke-linecap:square;stroke-width:2;\"/>\n   </g>\n   <g id=\"line2d_36\">\n    <path clip-path=\"url(#pfbb116ee0c)\" d=\"M 201.212187 182.836565 \nL 240.272187 182.836565 \n\" style=\"fill:none;stroke:#343434;stroke-linecap:square;stroke-width:2;\"/>\n   </g>\n   <g id=\"line2d_37\">\n    <path clip-path=\"url(#pfbb116ee0c)\" d=\"M 331.412188 181.824925 \nL 370.472187 181.824925 \n\" style=\"fill:none;stroke:#343434;stroke-linecap:square;stroke-width:2;\"/>\n   </g>\n   <g id=\"patch_6\">\n    <path d=\"M 25.442188 350.30175 \nL 25.442188 24.14175 \n\" style=\"fill:none;stroke:#bcbcbc;stroke-linecap:square;stroke-linejoin:miter;stroke-width:0.8;\"/>\n   </g>\n   <g id=\"patch_7\">\n    <path d=\"M 416.042188 350.30175 \nL 416.042188 24.14175 \n\" style=\"fill:none;stroke:#bcbcbc;stroke-linecap:square;stroke-linejoin:miter;stroke-width:0.8;\"/>\n   </g>\n   <g id=\"patch_8\">\n    <path d=\"M 25.442188 350.30175 \nL 416.042188 350.30175 \n\" style=\"fill:none;stroke:#bcbcbc;stroke-linecap:square;stroke-linejoin:miter;stroke-width:0.8;\"/>\n   </g>\n   <g id=\"patch_9\">\n    <path d=\"M 25.442188 24.14175 \nL 416.042188 24.14175 \n\" style=\"fill:none;stroke:#bcbcbc;stroke-linecap:square;stroke-linejoin:miter;stroke-width:0.8;\"/>\n   </g>\n   <g id=\"text_12\">\n    <!-- Sample mean distributions for 3 sampling methods -->\n    <defs>\n     <path d=\"M 53.515625 70.515625 \nL 53.515625 60.890625 \nQ 47.90625 63.578125 42.921875 64.890625 \nQ 37.9375 66.21875 33.296875 66.21875 \nQ 25.25 66.21875 20.875 63.09375 \nQ 16.5 59.96875 16.5 54.203125 \nQ 16.5 49.359375 19.40625 46.890625 \nQ 22.3125 44.4375 30.421875 42.921875 \nL 36.375 41.703125 \nQ 47.40625 39.59375 52.65625 34.296875 \nQ 57.90625 29 57.90625 20.125 \nQ 57.90625 9.515625 50.796875 4.046875 \nQ 43.703125 -1.421875 29.984375 -1.421875 \nQ 24.8125 -1.421875 18.96875 -0.25 \nQ 13.140625 0.921875 6.890625 3.21875 \nL 6.890625 13.375 \nQ 12.890625 10.015625 18.65625 8.296875 \nQ 24.421875 6.59375 29.984375 6.59375 \nQ 38.421875 6.59375 43.015625 9.90625 \nQ 47.609375 13.234375 47.609375 19.390625 \nQ 47.609375 24.75 44.3125 27.78125 \nQ 41.015625 30.8125 33.5 32.328125 \nL 27.484375 33.5 \nQ 16.453125 35.6875 11.515625 40.375 \nQ 6.59375 45.0625 6.59375 53.421875 \nQ 6.59375 63.09375 13.40625 68.65625 \nQ 20.21875 74.21875 32.171875 74.21875 \nQ 37.3125 74.21875 42.625 73.28125 \nQ 47.953125 72.359375 53.515625 70.515625 \nz\n\" id=\"DejaVuSans-83\"/>\n     <path d=\"M 56.203125 29.59375 \nL 56.203125 25.203125 \nL 14.890625 25.203125 \nQ 15.484375 15.921875 20.484375 11.0625 \nQ 25.484375 6.203125 34.421875 6.203125 \nQ 39.59375 6.203125 44.453125 7.46875 \nQ 49.3125 8.734375 54.109375 11.28125 \nL 54.109375 2.78125 \nQ 49.265625 0.734375 44.1875 -0.34375 \nQ 39.109375 -1.421875 33.890625 -1.421875 \nQ 20.796875 -1.421875 13.15625 6.1875 \nQ 5.515625 13.8125 5.515625 26.8125 \nQ 5.515625 40.234375 12.765625 48.109375 \nQ 20.015625 56 32.328125 56 \nQ 43.359375 56 49.78125 48.890625 \nQ 56.203125 41.796875 56.203125 29.59375 \nz\nM 47.21875 32.234375 \nQ 47.125 39.59375 43.09375 43.984375 \nQ 39.0625 48.390625 32.421875 48.390625 \nQ 24.90625 48.390625 20.390625 44.140625 \nQ 15.875 39.890625 15.1875 32.171875 \nz\n\" id=\"DejaVuSans-101\"/>\n     <path d=\"M 37.109375 75.984375 \nL 37.109375 68.5 \nL 28.515625 68.5 \nQ 23.6875 68.5 21.796875 66.546875 \nQ 19.921875 64.59375 19.921875 59.515625 \nL 19.921875 54.6875 \nL 34.71875 54.6875 \nL 34.71875 47.703125 \nL 19.921875 47.703125 \nL 19.921875 0 \nL 10.890625 0 \nL 10.890625 47.703125 \nL 2.296875 47.703125 \nL 2.296875 54.6875 \nL 10.890625 54.6875 \nL 10.890625 58.5 \nQ 10.890625 67.625 15.140625 71.796875 \nQ 19.390625 75.984375 28.609375 75.984375 \nz\n\" id=\"DejaVuSans-102\"/>\n     <path d=\"M 54.890625 33.015625 \nL 54.890625 0 \nL 45.90625 0 \nL 45.90625 32.71875 \nQ 45.90625 40.484375 42.875 44.328125 \nQ 39.84375 48.1875 33.796875 48.1875 \nQ 26.515625 48.1875 22.3125 43.546875 \nQ 18.109375 38.921875 18.109375 30.90625 \nL 18.109375 0 \nL 9.078125 0 \nL 9.078125 75.984375 \nL 18.109375 75.984375 \nL 18.109375 46.1875 \nQ 21.34375 51.125 25.703125 53.5625 \nQ 30.078125 56 35.796875 56 \nQ 45.21875 56 50.046875 50.171875 \nQ 54.890625 44.34375 54.890625 33.015625 \nz\n\" id=\"DejaVuSans-104\"/>\n    </defs>\n    <g transform=\"translate(35.896813 18.14175)scale(0.144 -0.144)\">\n     <use xlink:href=\"#DejaVuSans-83\"/>\n     <use x=\"63.476562\" xlink:href=\"#DejaVuSans-97\"/>\n     <use x=\"124.755859\" xlink:href=\"#DejaVuSans-109\"/>\n     <use x=\"222.167969\" xlink:href=\"#DejaVuSans-112\"/>\n     <use x=\"285.644531\" xlink:href=\"#DejaVuSans-108\"/>\n     <use x=\"313.427734\" xlink:href=\"#DejaVuSans-101\"/>\n     <use x=\"374.951172\" xlink:href=\"#DejaVuSans-32\"/>\n     <use x=\"406.738281\" xlink:href=\"#DejaVuSans-109\"/>\n     <use x=\"504.150391\" xlink:href=\"#DejaVuSans-101\"/>\n     <use x=\"565.673828\" xlink:href=\"#DejaVuSans-97\"/>\n     <use x=\"626.953125\" xlink:href=\"#DejaVuSans-110\"/>\n     <use x=\"690.332031\" xlink:href=\"#DejaVuSans-32\"/>\n     <use x=\"722.119141\" xlink:href=\"#DejaVuSans-100\"/>\n     <use x=\"785.595703\" xlink:href=\"#DejaVuSans-105\"/>\n     <use x=\"813.378906\" xlink:href=\"#DejaVuSans-115\"/>\n     <use x=\"865.478516\" xlink:href=\"#DejaVuSans-116\"/>\n     <use x=\"904.6875\" xlink:href=\"#DejaVuSans-114\"/>\n     <use x=\"945.800781\" xlink:href=\"#DejaVuSans-105\"/>\n     <use x=\"973.583984\" xlink:href=\"#DejaVuSans-98\"/>\n     <use x=\"1037.060547\" xlink:href=\"#DejaVuSans-117\"/>\n     <use x=\"1100.439453\" xlink:href=\"#DejaVuSans-116\"/>\n     <use x=\"1139.648438\" xlink:href=\"#DejaVuSans-105\"/>\n     <use x=\"1167.431641\" xlink:href=\"#DejaVuSans-111\"/>\n     <use x=\"1228.613281\" xlink:href=\"#DejaVuSans-110\"/>\n     <use x=\"1291.992188\" xlink:href=\"#DejaVuSans-115\"/>\n     <use x=\"1344.091797\" xlink:href=\"#DejaVuSans-32\"/>\n     <use x=\"1375.878906\" xlink:href=\"#DejaVuSans-102\"/>\n     <use x=\"1411.083984\" xlink:href=\"#DejaVuSans-111\"/>\n     <use x=\"1472.265625\" xlink:href=\"#DejaVuSans-114\"/>\n     <use x=\"1513.378906\" xlink:href=\"#DejaVuSans-32\"/>\n     <use x=\"1545.166016\" xlink:href=\"#DejaVuSans-51\"/>\n     <use x=\"1608.789062\" xlink:href=\"#DejaVuSans-32\"/>\n     <use x=\"1640.576172\" xlink:href=\"#DejaVuSans-115\"/>\n     <use x=\"1692.675781\" xlink:href=\"#DejaVuSans-97\"/>\n     <use x=\"1753.955078\" xlink:href=\"#DejaVuSans-109\"/>\n     <use x=\"1851.367188\" xlink:href=\"#DejaVuSans-112\"/>\n     <use x=\"1914.84375\" xlink:href=\"#DejaVuSans-108\"/>\n     <use x=\"1942.626953\" xlink:href=\"#DejaVuSans-105\"/>\n     <use x=\"1970.410156\" xlink:href=\"#DejaVuSans-110\"/>\n     <use x=\"2033.789062\" xlink:href=\"#DejaVuSans-103\"/>\n     <use x=\"2097.265625\" xlink:href=\"#DejaVuSans-32\"/>\n     <use x=\"2129.052734\" xlink:href=\"#DejaVuSans-109\"/>\n     <use x=\"2226.464844\" xlink:href=\"#DejaVuSans-101\"/>\n     <use x=\"2287.988281\" xlink:href=\"#DejaVuSans-116\"/>\n     <use x=\"2327.197266\" xlink:href=\"#DejaVuSans-104\"/>\n     <use x=\"2390.576172\" xlink:href=\"#DejaVuSans-111\"/>\n     <use x=\"2451.757812\" xlink:href=\"#DejaVuSans-100\"/>\n     <use x=\"2515.234375\" xlink:href=\"#DejaVuSans-115\"/>\n    </g>\n   </g>\n  </g>\n </g>\n <defs>\n  <clipPath id=\"pfbb116ee0c\">\n   <rect height=\"326.16\" width=\"390.6\" x=\"25.442188\" y=\"24.14175\"/>\n  </clipPath>\n </defs>\n</svg>\n"
          },
          "metadata": {
            "tags": [],
            "needs_background": "light"
          }
        }
      ]
    },
    {
      "cell_type": "markdown",
      "metadata": {
        "id": "jXNpszv5ZUvh"
      },
      "source": [
        "**General population with DIFFERENT means and DIFFERENT STDs of strata**  \n",
        "Distribution histogram:"
      ]
    },
    {
      "cell_type": "code",
      "metadata": {
        "colab": {
          "base_uri": "https://localhost:8080/",
          "height": 297
        },
        "id": "OrHPWkohV2PT",
        "outputId": "6c48e526-14d3-4182-b476-77d2ae515ea6"
      },
      "source": [
        "plot_gp_density(emds_population, title_postfix='DMES')"
      ],
      "execution_count": null,
      "outputs": [
        {
          "output_type": "display_data",
          "data": {
            "text/plain": [
              "<Figure size 360x216 with 1 Axes>"
            ],
            "image/svg+xml": "<?xml version=\"1.0\" encoding=\"utf-8\" standalone=\"no\"?>\n<!DOCTYPE svg PUBLIC \"-//W3C//DTD SVG 1.1//EN\"\n  \"http://www.w3.org/Graphics/SVG/1.1/DTD/svg11.dtd\">\n<!-- Created with matplotlib (https://matplotlib.org/) -->\n<svg height=\"207.599875pt\" version=\"1.1\" viewBox=\"0 0 315.9875 207.599875\" width=\"315.9875pt\" xmlns=\"http://www.w3.org/2000/svg\" xmlns:xlink=\"http://www.w3.org/1999/xlink\">\n <defs>\n  <style type=\"text/css\">\n*{stroke-linecap:butt;stroke-linejoin:round;}\n  </style>\n </defs>\n <g id=\"figure_1\">\n  <g id=\"patch_1\">\n   <path d=\"M -0 207.599875 \nL 315.9875 207.599875 \nL 315.9875 0 \nL -0 0 \nz\n\" style=\"fill:none;\"/>\n  </g>\n  <g id=\"axes_1\">\n   <g id=\"patch_2\">\n    <path d=\"M 29.7875 187.22175 \nL 308.7875 187.22175 \nL 308.7875 24.14175 \nL 29.7875 24.14175 \nz\n\" style=\"fill:#eeeeee;\"/>\n   </g>\n   <g id=\"patch_3\">\n    <path clip-path=\"url(#p52344e0281)\" d=\"M 42.469318 187.22175 \nL 59.378409 187.22175 \nL 59.378409 184.371947 \nL 42.469318 184.371947 \nz\n\" style=\"fill:#348abd;\"/>\n   </g>\n   <g id=\"patch_4\">\n    <path clip-path=\"url(#p52344e0281)\" d=\"M 59.378409 187.22175 \nL 76.2875 187.22175 \nL 76.2875 180.097241 \nL 59.378409 180.097241 \nz\n\" style=\"fill:#348abd;\"/>\n   </g>\n   <g id=\"patch_5\">\n    <path clip-path=\"url(#p52344e0281)\" d=\"M 76.2875 187.22175 \nL 93.196591 187.22175 \nL 93.196591 170.12293 \nL 76.2875 170.12293 \nz\n\" style=\"fill:#348abd;\"/>\n   </g>\n   <g id=\"patch_6\">\n    <path clip-path=\"url(#p52344e0281)\" d=\"M 93.196591 187.22175 \nL 110.105682 187.22175 \nL 110.105682 161.573519 \nL 93.196591 161.573519 \nz\n\" style=\"fill:#348abd;\"/>\n   </g>\n   <g id=\"patch_7\">\n    <path clip-path=\"url(#p52344e0281)\" d=\"M 110.105682 187.22175 \nL 127.014773 187.22175 \nL 127.014773 131.650584 \nL 110.105682 131.650584 \nz\n\" style=\"fill:#348abd;\"/>\n   </g>\n   <g id=\"patch_8\">\n    <path clip-path=\"url(#p52344e0281)\" d=\"M 127.014773 187.22175 \nL 143.923864 187.22175 \nL 143.923864 103.152549 \nL 127.014773 103.152549 \nz\n\" style=\"fill:#348abd;\"/>\n   </g>\n   <g id=\"patch_9\">\n    <path clip-path=\"url(#p52344e0281)\" d=\"M 143.923864 187.22175 \nL 160.832955 187.22175 \nL 160.832955 31.907464 \nL 143.923864 31.907464 \nz\n\" style=\"fill:#348abd;\"/>\n   </g>\n   <g id=\"patch_10\">\n    <path clip-path=\"url(#p52344e0281)\" d=\"M 160.832955 187.22175 \nL 177.742045 187.22175 \nL 177.742045 40.456875 \nL 160.832955 40.456875 \nz\n\" style=\"fill:#348abd;\"/>\n   </g>\n   <g id=\"patch_11\">\n    <path clip-path=\"url(#p52344e0281)\" d=\"M 177.742045 187.22175 \nL 194.651136 187.22175 \nL 194.651136 117.401567 \nL 177.742045 117.401567 \nz\n\" style=\"fill:#348abd;\"/>\n   </g>\n   <g id=\"patch_12\">\n    <path clip-path=\"url(#p52344e0281)\" d=\"M 194.651136 187.22175 \nL 211.560227 187.22175 \nL 211.560227 158.723716 \nL 194.651136 158.723716 \nz\n\" style=\"fill:#348abd;\"/>\n   </g>\n   <g id=\"patch_13\">\n    <path clip-path=\"url(#p52344e0281)\" d=\"M 211.560227 187.22175 \nL 228.469318 187.22175 \nL 228.469318 168.698028 \nL 211.560227 168.698028 \nz\n\" style=\"fill:#348abd;\"/>\n   </g>\n   <g id=\"patch_14\">\n    <path clip-path=\"url(#p52344e0281)\" d=\"M 228.469318 187.22175 \nL 245.378409 187.22175 \nL 245.378409 170.12293 \nL 228.469318 170.12293 \nz\n\" style=\"fill:#348abd;\"/>\n   </g>\n   <g id=\"patch_15\">\n    <path clip-path=\"url(#p52344e0281)\" d=\"M 245.378409 187.22175 \nL 262.2875 187.22175 \nL 262.2875 175.822536 \nL 245.378409 175.822536 \nz\n\" style=\"fill:#348abd;\"/>\n   </g>\n   <g id=\"patch_16\">\n    <path clip-path=\"url(#p52344e0281)\" d=\"M 262.2875 187.22175 \nL 279.196591 187.22175 \nL 279.196591 187.22175 \nL 262.2875 187.22175 \nz\n\" style=\"fill:#348abd;\"/>\n   </g>\n   <g id=\"patch_17\">\n    <path clip-path=\"url(#p52344e0281)\" d=\"M 279.196591 187.22175 \nL 296.105682 187.22175 \nL 296.105682 185.796848 \nL 279.196591 185.796848 \nz\n\" style=\"fill:#348abd;\"/>\n   </g>\n   <g id=\"matplotlib.axis_1\">\n    <g id=\"xtick_1\">\n     <g id=\"line2d_1\">\n      <path clip-path=\"url(#p52344e0281)\" d=\"M 31.523061 187.22175 \nL 31.523061 24.14175 \n\" style=\"fill:none;stroke:#b2b2b2;stroke-dasharray:1.85,0.8;stroke-dashoffset:0;stroke-width:0.5;\"/>\n     </g>\n     <g id=\"line2d_2\">\n      <defs>\n       <path d=\"M 0 0 \nL 0 -3.5 \n\" id=\"m4b174594b5\" style=\"stroke:#000000;stroke-width:0.8;\"/>\n      </defs>\n      <g>\n       <use style=\"stroke:#000000;stroke-width:0.8;\" x=\"31.523061\" xlink:href=\"#m4b174594b5\" y=\"187.22175\"/>\n      </g>\n     </g>\n     <g id=\"text_1\">\n      <!-- −30 -->\n      <defs>\n       <path d=\"M 10.59375 35.5 \nL 73.1875 35.5 \nL 73.1875 27.203125 \nL 10.59375 27.203125 \nz\n\" id=\"DejaVuSans-8722\"/>\n       <path d=\"M 40.578125 39.3125 \nQ 47.65625 37.796875 51.625 33 \nQ 55.609375 28.21875 55.609375 21.1875 \nQ 55.609375 10.40625 48.1875 4.484375 \nQ 40.765625 -1.421875 27.09375 -1.421875 \nQ 22.515625 -1.421875 17.65625 -0.515625 \nQ 12.796875 0.390625 7.625 2.203125 \nL 7.625 11.71875 \nQ 11.71875 9.328125 16.59375 8.109375 \nQ 21.484375 6.890625 26.8125 6.890625 \nQ 36.078125 6.890625 40.9375 10.546875 \nQ 45.796875 14.203125 45.796875 21.1875 \nQ 45.796875 27.640625 41.28125 31.265625 \nQ 36.765625 34.90625 28.71875 34.90625 \nL 20.21875 34.90625 \nL 20.21875 43.015625 \nL 29.109375 43.015625 \nQ 36.375 43.015625 40.234375 45.921875 \nQ 44.09375 48.828125 44.09375 54.296875 \nQ 44.09375 59.90625 40.109375 62.90625 \nQ 36.140625 65.921875 28.71875 65.921875 \nQ 24.65625 65.921875 20.015625 65.03125 \nQ 15.375 64.15625 9.8125 62.3125 \nL 9.8125 71.09375 \nQ 15.4375 72.65625 20.34375 73.4375 \nQ 25.25 74.21875 29.59375 74.21875 \nQ 40.828125 74.21875 47.359375 69.109375 \nQ 53.90625 64.015625 53.90625 55.328125 \nQ 53.90625 49.265625 50.4375 45.09375 \nQ 46.96875 40.921875 40.578125 39.3125 \nz\n\" id=\"DejaVuSans-51\"/>\n       <path d=\"M 31.78125 66.40625 \nQ 24.171875 66.40625 20.328125 58.90625 \nQ 16.5 51.421875 16.5 36.375 \nQ 16.5 21.390625 20.328125 13.890625 \nQ 24.171875 6.390625 31.78125 6.390625 \nQ 39.453125 6.390625 43.28125 13.890625 \nQ 47.125 21.390625 47.125 36.375 \nQ 47.125 51.421875 43.28125 58.90625 \nQ 39.453125 66.40625 31.78125 66.40625 \nz\nM 31.78125 74.21875 \nQ 44.046875 74.21875 50.515625 64.515625 \nQ 56.984375 54.828125 56.984375 36.375 \nQ 56.984375 17.96875 50.515625 8.265625 \nQ 44.046875 -1.421875 31.78125 -1.421875 \nQ 19.53125 -1.421875 13.0625 8.265625 \nQ 6.59375 17.96875 6.59375 36.375 \nQ 6.59375 54.828125 13.0625 64.515625 \nQ 19.53125 74.21875 31.78125 74.21875 \nz\n\" id=\"DejaVuSans-48\"/>\n      </defs>\n      <g transform=\"translate(20.970717 198.320188)scale(0.1 -0.1)\">\n       <use xlink:href=\"#DejaVuSans-8722\"/>\n       <use x=\"83.789062\" xlink:href=\"#DejaVuSans-51\"/>\n       <use x=\"147.412109\" xlink:href=\"#DejaVuSans-48\"/>\n      </g>\n     </g>\n    </g>\n    <g id=\"xtick_2\">\n     <g id=\"line2d_3\">\n      <path clip-path=\"url(#p52344e0281)\" d=\"M 74.27018 187.22175 \nL 74.27018 24.14175 \n\" style=\"fill:none;stroke:#b2b2b2;stroke-dasharray:1.85,0.8;stroke-dashoffset:0;stroke-width:0.5;\"/>\n     </g>\n     <g id=\"line2d_4\">\n      <g>\n       <use style=\"stroke:#000000;stroke-width:0.8;\" x=\"74.27018\" xlink:href=\"#m4b174594b5\" y=\"187.22175\"/>\n      </g>\n     </g>\n     <g id=\"text_2\">\n      <!-- −20 -->\n      <defs>\n       <path d=\"M 19.1875 8.296875 \nL 53.609375 8.296875 \nL 53.609375 0 \nL 7.328125 0 \nL 7.328125 8.296875 \nQ 12.9375 14.109375 22.625 23.890625 \nQ 32.328125 33.6875 34.8125 36.53125 \nQ 39.546875 41.84375 41.421875 45.53125 \nQ 43.3125 49.21875 43.3125 52.78125 \nQ 43.3125 58.59375 39.234375 62.25 \nQ 35.15625 65.921875 28.609375 65.921875 \nQ 23.96875 65.921875 18.8125 64.3125 \nQ 13.671875 62.703125 7.8125 59.421875 \nL 7.8125 69.390625 \nQ 13.765625 71.78125 18.9375 73 \nQ 24.125 74.21875 28.421875 74.21875 \nQ 39.75 74.21875 46.484375 68.546875 \nQ 53.21875 62.890625 53.21875 53.421875 \nQ 53.21875 48.921875 51.53125 44.890625 \nQ 49.859375 40.875 45.40625 35.40625 \nQ 44.1875 33.984375 37.640625 27.21875 \nQ 31.109375 20.453125 19.1875 8.296875 \nz\n\" id=\"DejaVuSans-50\"/>\n      </defs>\n      <g transform=\"translate(63.717836 198.320188)scale(0.1 -0.1)\">\n       <use xlink:href=\"#DejaVuSans-8722\"/>\n       <use x=\"83.789062\" xlink:href=\"#DejaVuSans-50\"/>\n       <use x=\"147.412109\" xlink:href=\"#DejaVuSans-48\"/>\n      </g>\n     </g>\n    </g>\n    <g id=\"xtick_3\">\n     <g id=\"line2d_5\">\n      <path clip-path=\"url(#p52344e0281)\" d=\"M 117.017299 187.22175 \nL 117.017299 24.14175 \n\" style=\"fill:none;stroke:#b2b2b2;stroke-dasharray:1.85,0.8;stroke-dashoffset:0;stroke-width:0.5;\"/>\n     </g>\n     <g id=\"line2d_6\">\n      <g>\n       <use style=\"stroke:#000000;stroke-width:0.8;\" x=\"117.017299\" xlink:href=\"#m4b174594b5\" y=\"187.22175\"/>\n      </g>\n     </g>\n     <g id=\"text_3\">\n      <!-- −10 -->\n      <defs>\n       <path d=\"M 12.40625 8.296875 \nL 28.515625 8.296875 \nL 28.515625 63.921875 \nL 10.984375 60.40625 \nL 10.984375 69.390625 \nL 28.421875 72.90625 \nL 38.28125 72.90625 \nL 38.28125 8.296875 \nL 54.390625 8.296875 \nL 54.390625 0 \nL 12.40625 0 \nz\n\" id=\"DejaVuSans-49\"/>\n      </defs>\n      <g transform=\"translate(106.464955 198.320188)scale(0.1 -0.1)\">\n       <use xlink:href=\"#DejaVuSans-8722\"/>\n       <use x=\"83.789062\" xlink:href=\"#DejaVuSans-49\"/>\n       <use x=\"147.412109\" xlink:href=\"#DejaVuSans-48\"/>\n      </g>\n     </g>\n    </g>\n    <g id=\"xtick_4\">\n     <g id=\"line2d_7\">\n      <path clip-path=\"url(#p52344e0281)\" d=\"M 159.764418 187.22175 \nL 159.764418 24.14175 \n\" style=\"fill:none;stroke:#b2b2b2;stroke-dasharray:1.85,0.8;stroke-dashoffset:0;stroke-width:0.5;\"/>\n     </g>\n     <g id=\"line2d_8\">\n      <g>\n       <use style=\"stroke:#000000;stroke-width:0.8;\" x=\"159.764418\" xlink:href=\"#m4b174594b5\" y=\"187.22175\"/>\n      </g>\n     </g>\n     <g id=\"text_4\">\n      <!-- 0 -->\n      <g transform=\"translate(156.583168 198.320188)scale(0.1 -0.1)\">\n       <use xlink:href=\"#DejaVuSans-48\"/>\n      </g>\n     </g>\n    </g>\n    <g id=\"xtick_5\">\n     <g id=\"line2d_9\">\n      <path clip-path=\"url(#p52344e0281)\" d=\"M 202.511538 187.22175 \nL 202.511538 24.14175 \n\" style=\"fill:none;stroke:#b2b2b2;stroke-dasharray:1.85,0.8;stroke-dashoffset:0;stroke-width:0.5;\"/>\n     </g>\n     <g id=\"line2d_10\">\n      <g>\n       <use style=\"stroke:#000000;stroke-width:0.8;\" x=\"202.511538\" xlink:href=\"#m4b174594b5\" y=\"187.22175\"/>\n      </g>\n     </g>\n     <g id=\"text_5\">\n      <!-- 10 -->\n      <g transform=\"translate(196.149038 198.320188)scale(0.1 -0.1)\">\n       <use xlink:href=\"#DejaVuSans-49\"/>\n       <use x=\"63.623047\" xlink:href=\"#DejaVuSans-48\"/>\n      </g>\n     </g>\n    </g>\n    <g id=\"xtick_6\">\n     <g id=\"line2d_11\">\n      <path clip-path=\"url(#p52344e0281)\" d=\"M 245.258657 187.22175 \nL 245.258657 24.14175 \n\" style=\"fill:none;stroke:#b2b2b2;stroke-dasharray:1.85,0.8;stroke-dashoffset:0;stroke-width:0.5;\"/>\n     </g>\n     <g id=\"line2d_12\">\n      <g>\n       <use style=\"stroke:#000000;stroke-width:0.8;\" x=\"245.258657\" xlink:href=\"#m4b174594b5\" y=\"187.22175\"/>\n      </g>\n     </g>\n     <g id=\"text_6\">\n      <!-- 20 -->\n      <g transform=\"translate(238.896157 198.320188)scale(0.1 -0.1)\">\n       <use xlink:href=\"#DejaVuSans-50\"/>\n       <use x=\"63.623047\" xlink:href=\"#DejaVuSans-48\"/>\n      </g>\n     </g>\n    </g>\n    <g id=\"xtick_7\">\n     <g id=\"line2d_13\">\n      <path clip-path=\"url(#p52344e0281)\" d=\"M 288.005776 187.22175 \nL 288.005776 24.14175 \n\" style=\"fill:none;stroke:#b2b2b2;stroke-dasharray:1.85,0.8;stroke-dashoffset:0;stroke-width:0.5;\"/>\n     </g>\n     <g id=\"line2d_14\">\n      <g>\n       <use style=\"stroke:#000000;stroke-width:0.8;\" x=\"288.005776\" xlink:href=\"#m4b174594b5\" y=\"187.22175\"/>\n      </g>\n     </g>\n     <g id=\"text_7\">\n      <!-- 30 -->\n      <g transform=\"translate(281.643276 198.320188)scale(0.1 -0.1)\">\n       <use xlink:href=\"#DejaVuSans-51\"/>\n       <use x=\"63.623047\" xlink:href=\"#DejaVuSans-48\"/>\n      </g>\n     </g>\n    </g>\n   </g>\n   <g id=\"matplotlib.axis_2\">\n    <g id=\"ytick_1\">\n     <g id=\"line2d_15\">\n      <path clip-path=\"url(#p52344e0281)\" d=\"M 29.7875 187.22175 \nL 308.7875 187.22175 \n\" style=\"fill:none;stroke:#b2b2b2;stroke-dasharray:1.85,0.8;stroke-dashoffset:0;stroke-width:0.5;\"/>\n     </g>\n     <g id=\"line2d_16\">\n      <defs>\n       <path d=\"M 0 0 \nL 3.5 0 \n\" id=\"m62d3d2d2d2\" style=\"stroke:#000000;stroke-width:0.8;\"/>\n      </defs>\n      <g>\n       <use style=\"stroke:#000000;stroke-width:0.8;\" x=\"29.7875\" xlink:href=\"#m62d3d2d2d2\" y=\"187.22175\"/>\n      </g>\n     </g>\n     <g id=\"text_8\">\n      <!-- 0 -->\n      <g transform=\"translate(19.925 191.020969)scale(0.1 -0.1)\">\n       <use xlink:href=\"#DejaVuSans-48\"/>\n      </g>\n     </g>\n    </g>\n    <g id=\"ytick_2\">\n     <g id=\"line2d_17\">\n      <path clip-path=\"url(#p52344e0281)\" d=\"M 29.7875 158.723716 \nL 308.7875 158.723716 \n\" style=\"fill:none;stroke:#b2b2b2;stroke-dasharray:1.85,0.8;stroke-dashoffset:0;stroke-width:0.5;\"/>\n     </g>\n     <g id=\"line2d_18\">\n      <g>\n       <use style=\"stroke:#000000;stroke-width:0.8;\" x=\"29.7875\" xlink:href=\"#m62d3d2d2d2\" y=\"158.723716\"/>\n      </g>\n     </g>\n     <g id=\"text_9\">\n      <!-- 20 -->\n      <g transform=\"translate(13.5625 162.522935)scale(0.1 -0.1)\">\n       <use xlink:href=\"#DejaVuSans-50\"/>\n       <use x=\"63.623047\" xlink:href=\"#DejaVuSans-48\"/>\n      </g>\n     </g>\n    </g>\n    <g id=\"ytick_3\">\n     <g id=\"line2d_19\">\n      <path clip-path=\"url(#p52344e0281)\" d=\"M 29.7875 130.225682 \nL 308.7875 130.225682 \n\" style=\"fill:none;stroke:#b2b2b2;stroke-dasharray:1.85,0.8;stroke-dashoffset:0;stroke-width:0.5;\"/>\n     </g>\n     <g id=\"line2d_20\">\n      <g>\n       <use style=\"stroke:#000000;stroke-width:0.8;\" x=\"29.7875\" xlink:href=\"#m62d3d2d2d2\" y=\"130.225682\"/>\n      </g>\n     </g>\n     <g id=\"text_10\">\n      <!-- 40 -->\n      <defs>\n       <path d=\"M 37.796875 64.3125 \nL 12.890625 25.390625 \nL 37.796875 25.390625 \nz\nM 35.203125 72.90625 \nL 47.609375 72.90625 \nL 47.609375 25.390625 \nL 58.015625 25.390625 \nL 58.015625 17.1875 \nL 47.609375 17.1875 \nL 47.609375 0 \nL 37.796875 0 \nL 37.796875 17.1875 \nL 4.890625 17.1875 \nL 4.890625 26.703125 \nz\n\" id=\"DejaVuSans-52\"/>\n      </defs>\n      <g transform=\"translate(13.5625 134.024901)scale(0.1 -0.1)\">\n       <use xlink:href=\"#DejaVuSans-52\"/>\n       <use x=\"63.623047\" xlink:href=\"#DejaVuSans-48\"/>\n      </g>\n     </g>\n    </g>\n    <g id=\"ytick_4\">\n     <g id=\"line2d_21\">\n      <path clip-path=\"url(#p52344e0281)\" d=\"M 29.7875 101.727648 \nL 308.7875 101.727648 \n\" style=\"fill:none;stroke:#b2b2b2;stroke-dasharray:1.85,0.8;stroke-dashoffset:0;stroke-width:0.5;\"/>\n     </g>\n     <g id=\"line2d_22\">\n      <g>\n       <use style=\"stroke:#000000;stroke-width:0.8;\" x=\"29.7875\" xlink:href=\"#m62d3d2d2d2\" y=\"101.727648\"/>\n      </g>\n     </g>\n     <g id=\"text_11\">\n      <!-- 60 -->\n      <defs>\n       <path d=\"M 33.015625 40.375 \nQ 26.375 40.375 22.484375 35.828125 \nQ 18.609375 31.296875 18.609375 23.390625 \nQ 18.609375 15.53125 22.484375 10.953125 \nQ 26.375 6.390625 33.015625 6.390625 \nQ 39.65625 6.390625 43.53125 10.953125 \nQ 47.40625 15.53125 47.40625 23.390625 \nQ 47.40625 31.296875 43.53125 35.828125 \nQ 39.65625 40.375 33.015625 40.375 \nz\nM 52.59375 71.296875 \nL 52.59375 62.3125 \nQ 48.875 64.0625 45.09375 64.984375 \nQ 41.3125 65.921875 37.59375 65.921875 \nQ 27.828125 65.921875 22.671875 59.328125 \nQ 17.53125 52.734375 16.796875 39.40625 \nQ 19.671875 43.65625 24.015625 45.921875 \nQ 28.375 48.1875 33.59375 48.1875 \nQ 44.578125 48.1875 50.953125 41.515625 \nQ 57.328125 34.859375 57.328125 23.390625 \nQ 57.328125 12.15625 50.6875 5.359375 \nQ 44.046875 -1.421875 33.015625 -1.421875 \nQ 20.359375 -1.421875 13.671875 8.265625 \nQ 6.984375 17.96875 6.984375 36.375 \nQ 6.984375 53.65625 15.1875 63.9375 \nQ 23.390625 74.21875 37.203125 74.21875 \nQ 40.921875 74.21875 44.703125 73.484375 \nQ 48.484375 72.75 52.59375 71.296875 \nz\n\" id=\"DejaVuSans-54\"/>\n      </defs>\n      <g transform=\"translate(13.5625 105.526867)scale(0.1 -0.1)\">\n       <use xlink:href=\"#DejaVuSans-54\"/>\n       <use x=\"63.623047\" xlink:href=\"#DejaVuSans-48\"/>\n      </g>\n     </g>\n    </g>\n    <g id=\"ytick_5\">\n     <g id=\"line2d_23\">\n      <path clip-path=\"url(#p52344e0281)\" d=\"M 29.7875 73.229614 \nL 308.7875 73.229614 \n\" style=\"fill:none;stroke:#b2b2b2;stroke-dasharray:1.85,0.8;stroke-dashoffset:0;stroke-width:0.5;\"/>\n     </g>\n     <g id=\"line2d_24\">\n      <g>\n       <use style=\"stroke:#000000;stroke-width:0.8;\" x=\"29.7875\" xlink:href=\"#m62d3d2d2d2\" y=\"73.229614\"/>\n      </g>\n     </g>\n     <g id=\"text_12\">\n      <!-- 80 -->\n      <defs>\n       <path d=\"M 31.78125 34.625 \nQ 24.75 34.625 20.71875 30.859375 \nQ 16.703125 27.09375 16.703125 20.515625 \nQ 16.703125 13.921875 20.71875 10.15625 \nQ 24.75 6.390625 31.78125 6.390625 \nQ 38.8125 6.390625 42.859375 10.171875 \nQ 46.921875 13.96875 46.921875 20.515625 \nQ 46.921875 27.09375 42.890625 30.859375 \nQ 38.875 34.625 31.78125 34.625 \nz\nM 21.921875 38.8125 \nQ 15.578125 40.375 12.03125 44.71875 \nQ 8.5 49.078125 8.5 55.328125 \nQ 8.5 64.0625 14.71875 69.140625 \nQ 20.953125 74.21875 31.78125 74.21875 \nQ 42.671875 74.21875 48.875 69.140625 \nQ 55.078125 64.0625 55.078125 55.328125 \nQ 55.078125 49.078125 51.53125 44.71875 \nQ 48 40.375 41.703125 38.8125 \nQ 48.828125 37.15625 52.796875 32.3125 \nQ 56.78125 27.484375 56.78125 20.515625 \nQ 56.78125 9.90625 50.3125 4.234375 \nQ 43.84375 -1.421875 31.78125 -1.421875 \nQ 19.734375 -1.421875 13.25 4.234375 \nQ 6.78125 9.90625 6.78125 20.515625 \nQ 6.78125 27.484375 10.78125 32.3125 \nQ 14.796875 37.15625 21.921875 38.8125 \nz\nM 18.3125 54.390625 \nQ 18.3125 48.734375 21.84375 45.5625 \nQ 25.390625 42.390625 31.78125 42.390625 \nQ 38.140625 42.390625 41.71875 45.5625 \nQ 45.3125 48.734375 45.3125 54.390625 \nQ 45.3125 60.0625 41.71875 63.234375 \nQ 38.140625 66.40625 31.78125 66.40625 \nQ 25.390625 66.40625 21.84375 63.234375 \nQ 18.3125 60.0625 18.3125 54.390625 \nz\n\" id=\"DejaVuSans-56\"/>\n      </defs>\n      <g transform=\"translate(13.5625 77.028832)scale(0.1 -0.1)\">\n       <use xlink:href=\"#DejaVuSans-56\"/>\n       <use x=\"63.623047\" xlink:href=\"#DejaVuSans-48\"/>\n      </g>\n     </g>\n    </g>\n    <g id=\"ytick_6\">\n     <g id=\"line2d_25\">\n      <path clip-path=\"url(#p52344e0281)\" d=\"M 29.7875 44.73158 \nL 308.7875 44.73158 \n\" style=\"fill:none;stroke:#b2b2b2;stroke-dasharray:1.85,0.8;stroke-dashoffset:0;stroke-width:0.5;\"/>\n     </g>\n     <g id=\"line2d_26\">\n      <g>\n       <use style=\"stroke:#000000;stroke-width:0.8;\" x=\"29.7875\" xlink:href=\"#m62d3d2d2d2\" y=\"44.73158\"/>\n      </g>\n     </g>\n     <g id=\"text_13\">\n      <!-- 100 -->\n      <g transform=\"translate(7.2 48.530798)scale(0.1 -0.1)\">\n       <use xlink:href=\"#DejaVuSans-49\"/>\n       <use x=\"63.623047\" xlink:href=\"#DejaVuSans-48\"/>\n       <use x=\"127.246094\" xlink:href=\"#DejaVuSans-48\"/>\n      </g>\n     </g>\n    </g>\n   </g>\n   <g id=\"patch_18\">\n    <path d=\"M 29.7875 187.22175 \nL 29.7875 24.14175 \n\" style=\"fill:none;stroke:#bcbcbc;stroke-linecap:square;stroke-linejoin:miter;stroke-width:0.8;\"/>\n   </g>\n   <g id=\"patch_19\">\n    <path d=\"M 308.7875 187.22175 \nL 308.7875 24.14175 \n\" style=\"fill:none;stroke:#bcbcbc;stroke-linecap:square;stroke-linejoin:miter;stroke-width:0.8;\"/>\n   </g>\n   <g id=\"patch_20\">\n    <path d=\"M 29.7875 187.22175 \nL 308.7875 187.22175 \n\" style=\"fill:none;stroke:#bcbcbc;stroke-linecap:square;stroke-linejoin:miter;stroke-width:0.8;\"/>\n   </g>\n   <g id=\"patch_21\">\n    <path d=\"M 29.7875 24.14175 \nL 308.7875 24.14175 \n\" style=\"fill:none;stroke:#bcbcbc;stroke-linecap:square;stroke-linejoin:miter;stroke-width:0.8;\"/>\n   </g>\n   <g id=\"text_14\">\n    <!-- Density for DMES GP -->\n    <defs>\n     <path d=\"M 19.671875 64.796875 \nL 19.671875 8.109375 \nL 31.59375 8.109375 \nQ 46.6875 8.109375 53.6875 14.9375 \nQ 60.6875 21.78125 60.6875 36.53125 \nQ 60.6875 51.171875 53.6875 57.984375 \nQ 46.6875 64.796875 31.59375 64.796875 \nz\nM 9.8125 72.90625 \nL 30.078125 72.90625 \nQ 51.265625 72.90625 61.171875 64.09375 \nQ 71.09375 55.28125 71.09375 36.53125 \nQ 71.09375 17.671875 61.125 8.828125 \nQ 51.171875 0 30.078125 0 \nL 9.8125 0 \nz\n\" id=\"DejaVuSans-68\"/>\n     <path d=\"M 56.203125 29.59375 \nL 56.203125 25.203125 \nL 14.890625 25.203125 \nQ 15.484375 15.921875 20.484375 11.0625 \nQ 25.484375 6.203125 34.421875 6.203125 \nQ 39.59375 6.203125 44.453125 7.46875 \nQ 49.3125 8.734375 54.109375 11.28125 \nL 54.109375 2.78125 \nQ 49.265625 0.734375 44.1875 -0.34375 \nQ 39.109375 -1.421875 33.890625 -1.421875 \nQ 20.796875 -1.421875 13.15625 6.1875 \nQ 5.515625 13.8125 5.515625 26.8125 \nQ 5.515625 40.234375 12.765625 48.109375 \nQ 20.015625 56 32.328125 56 \nQ 43.359375 56 49.78125 48.890625 \nQ 56.203125 41.796875 56.203125 29.59375 \nz\nM 47.21875 32.234375 \nQ 47.125 39.59375 43.09375 43.984375 \nQ 39.0625 48.390625 32.421875 48.390625 \nQ 24.90625 48.390625 20.390625 44.140625 \nQ 15.875 39.890625 15.1875 32.171875 \nz\n\" id=\"DejaVuSans-101\"/>\n     <path d=\"M 54.890625 33.015625 \nL 54.890625 0 \nL 45.90625 0 \nL 45.90625 32.71875 \nQ 45.90625 40.484375 42.875 44.328125 \nQ 39.84375 48.1875 33.796875 48.1875 \nQ 26.515625 48.1875 22.3125 43.546875 \nQ 18.109375 38.921875 18.109375 30.90625 \nL 18.109375 0 \nL 9.078125 0 \nL 9.078125 54.6875 \nL 18.109375 54.6875 \nL 18.109375 46.1875 \nQ 21.34375 51.125 25.703125 53.5625 \nQ 30.078125 56 35.796875 56 \nQ 45.21875 56 50.046875 50.171875 \nQ 54.890625 44.34375 54.890625 33.015625 \nz\n\" id=\"DejaVuSans-110\"/>\n     <path d=\"M 44.28125 53.078125 \nL 44.28125 44.578125 \nQ 40.484375 46.53125 36.375 47.5 \nQ 32.28125 48.484375 27.875 48.484375 \nQ 21.1875 48.484375 17.84375 46.4375 \nQ 14.5 44.390625 14.5 40.28125 \nQ 14.5 37.15625 16.890625 35.375 \nQ 19.28125 33.59375 26.515625 31.984375 \nL 29.59375 31.296875 \nQ 39.15625 29.25 43.1875 25.515625 \nQ 47.21875 21.78125 47.21875 15.09375 \nQ 47.21875 7.46875 41.1875 3.015625 \nQ 35.15625 -1.421875 24.609375 -1.421875 \nQ 20.21875 -1.421875 15.453125 -0.5625 \nQ 10.6875 0.296875 5.421875 2 \nL 5.421875 11.28125 \nQ 10.40625 8.6875 15.234375 7.390625 \nQ 20.0625 6.109375 24.8125 6.109375 \nQ 31.15625 6.109375 34.5625 8.28125 \nQ 37.984375 10.453125 37.984375 14.40625 \nQ 37.984375 18.0625 35.515625 20.015625 \nQ 33.0625 21.96875 24.703125 23.78125 \nL 21.578125 24.515625 \nQ 13.234375 26.265625 9.515625 29.90625 \nQ 5.8125 33.546875 5.8125 39.890625 \nQ 5.8125 47.609375 11.28125 51.796875 \nQ 16.75 56 26.8125 56 \nQ 31.78125 56 36.171875 55.265625 \nQ 40.578125 54.546875 44.28125 53.078125 \nz\n\" id=\"DejaVuSans-115\"/>\n     <path d=\"M 9.421875 54.6875 \nL 18.40625 54.6875 \nL 18.40625 0 \nL 9.421875 0 \nz\nM 9.421875 75.984375 \nL 18.40625 75.984375 \nL 18.40625 64.59375 \nL 9.421875 64.59375 \nz\n\" id=\"DejaVuSans-105\"/>\n     <path d=\"M 18.3125 70.21875 \nL 18.3125 54.6875 \nL 36.8125 54.6875 \nL 36.8125 47.703125 \nL 18.3125 47.703125 \nL 18.3125 18.015625 \nQ 18.3125 11.328125 20.140625 9.421875 \nQ 21.96875 7.515625 27.59375 7.515625 \nL 36.8125 7.515625 \nL 36.8125 0 \nL 27.59375 0 \nQ 17.1875 0 13.234375 3.875 \nQ 9.28125 7.765625 9.28125 18.015625 \nL 9.28125 47.703125 \nL 2.6875 47.703125 \nL 2.6875 54.6875 \nL 9.28125 54.6875 \nL 9.28125 70.21875 \nz\n\" id=\"DejaVuSans-116\"/>\n     <path d=\"M 32.171875 -5.078125 \nQ 28.375 -14.84375 24.75 -17.8125 \nQ 21.140625 -20.796875 15.09375 -20.796875 \nL 7.90625 -20.796875 \nL 7.90625 -13.28125 \nL 13.1875 -13.28125 \nQ 16.890625 -13.28125 18.9375 -11.515625 \nQ 21 -9.765625 23.484375 -3.21875 \nL 25.09375 0.875 \nL 2.984375 54.6875 \nL 12.5 54.6875 \nL 29.59375 11.921875 \nL 46.6875 54.6875 \nL 56.203125 54.6875 \nz\n\" id=\"DejaVuSans-121\"/>\n     <path id=\"DejaVuSans-32\"/>\n     <path d=\"M 37.109375 75.984375 \nL 37.109375 68.5 \nL 28.515625 68.5 \nQ 23.6875 68.5 21.796875 66.546875 \nQ 19.921875 64.59375 19.921875 59.515625 \nL 19.921875 54.6875 \nL 34.71875 54.6875 \nL 34.71875 47.703125 \nL 19.921875 47.703125 \nL 19.921875 0 \nL 10.890625 0 \nL 10.890625 47.703125 \nL 2.296875 47.703125 \nL 2.296875 54.6875 \nL 10.890625 54.6875 \nL 10.890625 58.5 \nQ 10.890625 67.625 15.140625 71.796875 \nQ 19.390625 75.984375 28.609375 75.984375 \nz\n\" id=\"DejaVuSans-102\"/>\n     <path d=\"M 30.609375 48.390625 \nQ 23.390625 48.390625 19.1875 42.75 \nQ 14.984375 37.109375 14.984375 27.296875 \nQ 14.984375 17.484375 19.15625 11.84375 \nQ 23.34375 6.203125 30.609375 6.203125 \nQ 37.796875 6.203125 41.984375 11.859375 \nQ 46.1875 17.53125 46.1875 27.296875 \nQ 46.1875 37.015625 41.984375 42.703125 \nQ 37.796875 48.390625 30.609375 48.390625 \nz\nM 30.609375 56 \nQ 42.328125 56 49.015625 48.375 \nQ 55.71875 40.765625 55.71875 27.296875 \nQ 55.71875 13.875 49.015625 6.21875 \nQ 42.328125 -1.421875 30.609375 -1.421875 \nQ 18.84375 -1.421875 12.171875 6.21875 \nQ 5.515625 13.875 5.515625 27.296875 \nQ 5.515625 40.765625 12.171875 48.375 \nQ 18.84375 56 30.609375 56 \nz\n\" id=\"DejaVuSans-111\"/>\n     <path d=\"M 41.109375 46.296875 \nQ 39.59375 47.171875 37.8125 47.578125 \nQ 36.03125 48 33.890625 48 \nQ 26.265625 48 22.1875 43.046875 \nQ 18.109375 38.09375 18.109375 28.8125 \nL 18.109375 0 \nL 9.078125 0 \nL 9.078125 54.6875 \nL 18.109375 54.6875 \nL 18.109375 46.1875 \nQ 20.953125 51.171875 25.484375 53.578125 \nQ 30.03125 56 36.53125 56 \nQ 37.453125 56 38.578125 55.875 \nQ 39.703125 55.765625 41.0625 55.515625 \nz\n\" id=\"DejaVuSans-114\"/>\n     <path d=\"M 9.8125 72.90625 \nL 24.515625 72.90625 \nL 43.109375 23.296875 \nL 61.8125 72.90625 \nL 76.515625 72.90625 \nL 76.515625 0 \nL 66.890625 0 \nL 66.890625 64.015625 \nL 48.09375 14.015625 \nL 38.1875 14.015625 \nL 19.390625 64.015625 \nL 19.390625 0 \nL 9.8125 0 \nz\n\" id=\"DejaVuSans-77\"/>\n     <path d=\"M 9.8125 72.90625 \nL 55.90625 72.90625 \nL 55.90625 64.59375 \nL 19.671875 64.59375 \nL 19.671875 43.015625 \nL 54.390625 43.015625 \nL 54.390625 34.71875 \nL 19.671875 34.71875 \nL 19.671875 8.296875 \nL 56.78125 8.296875 \nL 56.78125 0 \nL 9.8125 0 \nz\n\" id=\"DejaVuSans-69\"/>\n     <path d=\"M 53.515625 70.515625 \nL 53.515625 60.890625 \nQ 47.90625 63.578125 42.921875 64.890625 \nQ 37.9375 66.21875 33.296875 66.21875 \nQ 25.25 66.21875 20.875 63.09375 \nQ 16.5 59.96875 16.5 54.203125 \nQ 16.5 49.359375 19.40625 46.890625 \nQ 22.3125 44.4375 30.421875 42.921875 \nL 36.375 41.703125 \nQ 47.40625 39.59375 52.65625 34.296875 \nQ 57.90625 29 57.90625 20.125 \nQ 57.90625 9.515625 50.796875 4.046875 \nQ 43.703125 -1.421875 29.984375 -1.421875 \nQ 24.8125 -1.421875 18.96875 -0.25 \nQ 13.140625 0.921875 6.890625 3.21875 \nL 6.890625 13.375 \nQ 12.890625 10.015625 18.65625 8.296875 \nQ 24.421875 6.59375 29.984375 6.59375 \nQ 38.421875 6.59375 43.015625 9.90625 \nQ 47.609375 13.234375 47.609375 19.390625 \nQ 47.609375 24.75 44.3125 27.78125 \nQ 41.015625 30.8125 33.5 32.328125 \nL 27.484375 33.5 \nQ 16.453125 35.6875 11.515625 40.375 \nQ 6.59375 45.0625 6.59375 53.421875 \nQ 6.59375 63.09375 13.40625 68.65625 \nQ 20.21875 74.21875 32.171875 74.21875 \nQ 37.3125 74.21875 42.625 73.28125 \nQ 47.953125 72.359375 53.515625 70.515625 \nz\n\" id=\"DejaVuSans-83\"/>\n     <path d=\"M 59.515625 10.40625 \nL 59.515625 29.984375 \nL 43.40625 29.984375 \nL 43.40625 38.09375 \nL 69.28125 38.09375 \nL 69.28125 6.78125 \nQ 63.578125 2.734375 56.6875 0.65625 \nQ 49.8125 -1.421875 42 -1.421875 \nQ 24.90625 -1.421875 15.25 8.5625 \nQ 5.609375 18.5625 5.609375 36.375 \nQ 5.609375 54.25 15.25 64.234375 \nQ 24.90625 74.21875 42 74.21875 \nQ 49.125 74.21875 55.546875 72.453125 \nQ 61.96875 70.703125 67.390625 67.28125 \nL 67.390625 56.78125 \nQ 61.921875 61.421875 55.765625 63.765625 \nQ 49.609375 66.109375 42.828125 66.109375 \nQ 29.4375 66.109375 22.71875 58.640625 \nQ 16.015625 51.171875 16.015625 36.375 \nQ 16.015625 21.625 22.71875 14.15625 \nQ 29.4375 6.6875 42.828125 6.6875 \nQ 48.046875 6.6875 52.140625 7.59375 \nQ 56.25 8.5 59.515625 10.40625 \nz\n\" id=\"DejaVuSans-71\"/>\n     <path d=\"M 19.671875 64.796875 \nL 19.671875 37.40625 \nL 32.078125 37.40625 \nQ 38.96875 37.40625 42.71875 40.96875 \nQ 46.484375 44.53125 46.484375 51.125 \nQ 46.484375 57.671875 42.71875 61.234375 \nQ 38.96875 64.796875 32.078125 64.796875 \nz\nM 9.8125 72.90625 \nL 32.078125 72.90625 \nQ 44.34375 72.90625 50.609375 67.359375 \nQ 56.890625 61.8125 56.890625 51.125 \nQ 56.890625 40.328125 50.609375 34.8125 \nQ 44.34375 29.296875 32.078125 29.296875 \nL 19.671875 29.296875 \nL 19.671875 0 \nL 9.8125 0 \nz\n\" id=\"DejaVuSans-80\"/>\n    </defs>\n    <g transform=\"translate(94.3535 18.14175)scale(0.144 -0.144)\">\n     <use xlink:href=\"#DejaVuSans-68\"/>\n     <use x=\"77.001953\" xlink:href=\"#DejaVuSans-101\"/>\n     <use x=\"138.525391\" xlink:href=\"#DejaVuSans-110\"/>\n     <use x=\"201.904297\" xlink:href=\"#DejaVuSans-115\"/>\n     <use x=\"254.003906\" xlink:href=\"#DejaVuSans-105\"/>\n     <use x=\"281.787109\" xlink:href=\"#DejaVuSans-116\"/>\n     <use x=\"320.996094\" xlink:href=\"#DejaVuSans-121\"/>\n     <use x=\"380.175781\" xlink:href=\"#DejaVuSans-32\"/>\n     <use x=\"411.962891\" xlink:href=\"#DejaVuSans-102\"/>\n     <use x=\"447.167969\" xlink:href=\"#DejaVuSans-111\"/>\n     <use x=\"508.349609\" xlink:href=\"#DejaVuSans-114\"/>\n     <use x=\"549.462891\" xlink:href=\"#DejaVuSans-32\"/>\n     <use x=\"581.25\" xlink:href=\"#DejaVuSans-68\"/>\n     <use x=\"658.251953\" xlink:href=\"#DejaVuSans-77\"/>\n     <use x=\"744.53125\" xlink:href=\"#DejaVuSans-69\"/>\n     <use x=\"807.714844\" xlink:href=\"#DejaVuSans-83\"/>\n     <use x=\"871.191406\" xlink:href=\"#DejaVuSans-32\"/>\n     <use x=\"902.978516\" xlink:href=\"#DejaVuSans-71\"/>\n     <use x=\"980.46875\" xlink:href=\"#DejaVuSans-80\"/>\n    </g>\n   </g>\n  </g>\n </g>\n <defs>\n  <clipPath id=\"p52344e0281\">\n   <rect height=\"163.08\" width=\"279\" x=\"29.7875\" y=\"24.14175\"/>\n  </clipPath>\n </defs>\n</svg>\n"
          },
          "metadata": {
            "tags": [],
            "needs_background": "light"
          }
        }
      ]
    },
    {
      "cell_type": "code",
      "metadata": {
        "colab": {
          "base_uri": "https://localhost:8080/",
          "height": 515
        },
        "id": "C9dBdryJbwJi",
        "outputId": "c02c6ec5-b419-42e5-e47d-390e4437bfa6"
      },
      "source": [
        "plot_boxplots(emds_population, N_SUBSAMPLE)"
      ],
      "execution_count": null,
      "outputs": [
        {
          "output_type": "display_data",
          "data": {
            "text/plain": [
              "<Figure size 504x432 with 1 Axes>"
            ],
            "image/svg+xml": "<?xml version=\"1.0\" encoding=\"utf-8\" standalone=\"no\"?>\n<!DOCTYPE svg PUBLIC \"-//W3C//DTD SVG 1.1//EN\"\n  \"http://www.w3.org/Graphics/SVG/1.1/DTD/svg11.dtd\">\n<!-- Created with matplotlib (https://matplotlib.org/) -->\n<svg height=\"370.679875pt\" version=\"1.1\" viewBox=\"0 0 423.242187 370.679875\" width=\"423.242187pt\" xmlns=\"http://www.w3.org/2000/svg\" xmlns:xlink=\"http://www.w3.org/1999/xlink\">\n <defs>\n  <style type=\"text/css\">\n*{stroke-linecap:butt;stroke-linejoin:round;}\n  </style>\n </defs>\n <g id=\"figure_1\">\n  <g id=\"patch_1\">\n   <path d=\"M 0 370.679875 \nL 423.242187 370.679875 \nL 423.242187 0 \nL 0 0 \nz\n\" style=\"fill:none;\"/>\n  </g>\n  <g id=\"axes_1\">\n   <g id=\"patch_2\">\n    <path d=\"M 25.442188 350.30175 \nL 416.042188 350.30175 \nL 416.042188 24.14175 \nL 25.442188 24.14175 \nz\n\" style=\"fill:#eeeeee;\"/>\n   </g>\n   <g id=\"patch_3\">\n    <path clip-path=\"url(#pb33315bef5)\" d=\"M 71.012187 216.565018 \nL 110.072187 216.565018 \nL 110.072187 162.773859 \nL 71.012187 162.773859 \nL 71.012187 216.565018 \nz\n\" style=\"fill:#4586ac;stroke:#343434;stroke-linejoin:miter;stroke-width:2;\"/>\n   </g>\n   <g id=\"patch_4\">\n    <path clip-path=\"url(#pb33315bef5)\" d=\"M 201.212187 217.212555 \nL 240.272187 217.212555 \nL 240.272187 165.362353 \nL 201.212187 165.362353 \nL 201.212187 217.212555 \nz\n\" style=\"fill:#921a33;stroke:#343434;stroke-linejoin:miter;stroke-width:2;\"/>\n   </g>\n   <g id=\"patch_5\">\n    <path clip-path=\"url(#pb33315bef5)\" d=\"M 331.412188 216.645046 \nL 370.472187 216.645046 \nL 370.472187 168.648201 \nL 331.412188 168.648201 \nL 331.412188 216.645046 \nz\n\" style=\"fill:#7d709e;stroke:#343434;stroke-linejoin:miter;stroke-width:2;\"/>\n   </g>\n   <g id=\"matplotlib.axis_1\">\n    <g id=\"xtick_1\">\n     <g id=\"line2d_1\">\n      <defs>\n       <path d=\"M 0 0 \nL 0 -3.5 \n\" id=\"m82b76fc67e\" style=\"stroke:#000000;stroke-width:0.8;\"/>\n      </defs>\n      <g>\n       <use style=\"stroke:#000000;stroke-width:0.8;\" x=\"90.542187\" xlink:href=\"#m82b76fc67e\" y=\"350.30175\"/>\n      </g>\n     </g>\n     <g id=\"text_1\">\n      <!-- 1 random subsampling -->\n      <defs>\n       <path d=\"M 12.40625 8.296875 \nL 28.515625 8.296875 \nL 28.515625 63.921875 \nL 10.984375 60.40625 \nL 10.984375 69.390625 \nL 28.421875 72.90625 \nL 38.28125 72.90625 \nL 38.28125 8.296875 \nL 54.390625 8.296875 \nL 54.390625 0 \nL 12.40625 0 \nz\n\" id=\"DejaVuSans-49\"/>\n       <path id=\"DejaVuSans-32\"/>\n       <path d=\"M 41.109375 46.296875 \nQ 39.59375 47.171875 37.8125 47.578125 \nQ 36.03125 48 33.890625 48 \nQ 26.265625 48 22.1875 43.046875 \nQ 18.109375 38.09375 18.109375 28.8125 \nL 18.109375 0 \nL 9.078125 0 \nL 9.078125 54.6875 \nL 18.109375 54.6875 \nL 18.109375 46.1875 \nQ 20.953125 51.171875 25.484375 53.578125 \nQ 30.03125 56 36.53125 56 \nQ 37.453125 56 38.578125 55.875 \nQ 39.703125 55.765625 41.0625 55.515625 \nz\n\" id=\"DejaVuSans-114\"/>\n       <path d=\"M 34.28125 27.484375 \nQ 23.390625 27.484375 19.1875 25 \nQ 14.984375 22.515625 14.984375 16.5 \nQ 14.984375 11.71875 18.140625 8.90625 \nQ 21.296875 6.109375 26.703125 6.109375 \nQ 34.1875 6.109375 38.703125 11.40625 \nQ 43.21875 16.703125 43.21875 25.484375 \nL 43.21875 27.484375 \nz\nM 52.203125 31.203125 \nL 52.203125 0 \nL 43.21875 0 \nL 43.21875 8.296875 \nQ 40.140625 3.328125 35.546875 0.953125 \nQ 30.953125 -1.421875 24.3125 -1.421875 \nQ 15.921875 -1.421875 10.953125 3.296875 \nQ 6 8.015625 6 15.921875 \nQ 6 25.140625 12.171875 29.828125 \nQ 18.359375 34.515625 30.609375 34.515625 \nL 43.21875 34.515625 \nL 43.21875 35.40625 \nQ 43.21875 41.609375 39.140625 45 \nQ 35.0625 48.390625 27.6875 48.390625 \nQ 23 48.390625 18.546875 47.265625 \nQ 14.109375 46.140625 10.015625 43.890625 \nL 10.015625 52.203125 \nQ 14.9375 54.109375 19.578125 55.046875 \nQ 24.21875 56 28.609375 56 \nQ 40.484375 56 46.34375 49.84375 \nQ 52.203125 43.703125 52.203125 31.203125 \nz\n\" id=\"DejaVuSans-97\"/>\n       <path d=\"M 54.890625 33.015625 \nL 54.890625 0 \nL 45.90625 0 \nL 45.90625 32.71875 \nQ 45.90625 40.484375 42.875 44.328125 \nQ 39.84375 48.1875 33.796875 48.1875 \nQ 26.515625 48.1875 22.3125 43.546875 \nQ 18.109375 38.921875 18.109375 30.90625 \nL 18.109375 0 \nL 9.078125 0 \nL 9.078125 54.6875 \nL 18.109375 54.6875 \nL 18.109375 46.1875 \nQ 21.34375 51.125 25.703125 53.5625 \nQ 30.078125 56 35.796875 56 \nQ 45.21875 56 50.046875 50.171875 \nQ 54.890625 44.34375 54.890625 33.015625 \nz\n\" id=\"DejaVuSans-110\"/>\n       <path d=\"M 45.40625 46.390625 \nL 45.40625 75.984375 \nL 54.390625 75.984375 \nL 54.390625 0 \nL 45.40625 0 \nL 45.40625 8.203125 \nQ 42.578125 3.328125 38.25 0.953125 \nQ 33.9375 -1.421875 27.875 -1.421875 \nQ 17.96875 -1.421875 11.734375 6.484375 \nQ 5.515625 14.40625 5.515625 27.296875 \nQ 5.515625 40.1875 11.734375 48.09375 \nQ 17.96875 56 27.875 56 \nQ 33.9375 56 38.25 53.625 \nQ 42.578125 51.265625 45.40625 46.390625 \nz\nM 14.796875 27.296875 \nQ 14.796875 17.390625 18.875 11.75 \nQ 22.953125 6.109375 30.078125 6.109375 \nQ 37.203125 6.109375 41.296875 11.75 \nQ 45.40625 17.390625 45.40625 27.296875 \nQ 45.40625 37.203125 41.296875 42.84375 \nQ 37.203125 48.484375 30.078125 48.484375 \nQ 22.953125 48.484375 18.875 42.84375 \nQ 14.796875 37.203125 14.796875 27.296875 \nz\n\" id=\"DejaVuSans-100\"/>\n       <path d=\"M 30.609375 48.390625 \nQ 23.390625 48.390625 19.1875 42.75 \nQ 14.984375 37.109375 14.984375 27.296875 \nQ 14.984375 17.484375 19.15625 11.84375 \nQ 23.34375 6.203125 30.609375 6.203125 \nQ 37.796875 6.203125 41.984375 11.859375 \nQ 46.1875 17.53125 46.1875 27.296875 \nQ 46.1875 37.015625 41.984375 42.703125 \nQ 37.796875 48.390625 30.609375 48.390625 \nz\nM 30.609375 56 \nQ 42.328125 56 49.015625 48.375 \nQ 55.71875 40.765625 55.71875 27.296875 \nQ 55.71875 13.875 49.015625 6.21875 \nQ 42.328125 -1.421875 30.609375 -1.421875 \nQ 18.84375 -1.421875 12.171875 6.21875 \nQ 5.515625 13.875 5.515625 27.296875 \nQ 5.515625 40.765625 12.171875 48.375 \nQ 18.84375 56 30.609375 56 \nz\n\" id=\"DejaVuSans-111\"/>\n       <path d=\"M 52 44.1875 \nQ 55.375 50.25 60.0625 53.125 \nQ 64.75 56 71.09375 56 \nQ 79.640625 56 84.28125 50.015625 \nQ 88.921875 44.046875 88.921875 33.015625 \nL 88.921875 0 \nL 79.890625 0 \nL 79.890625 32.71875 \nQ 79.890625 40.578125 77.09375 44.375 \nQ 74.3125 48.1875 68.609375 48.1875 \nQ 61.625 48.1875 57.5625 43.546875 \nQ 53.515625 38.921875 53.515625 30.90625 \nL 53.515625 0 \nL 44.484375 0 \nL 44.484375 32.71875 \nQ 44.484375 40.625 41.703125 44.40625 \nQ 38.921875 48.1875 33.109375 48.1875 \nQ 26.21875 48.1875 22.15625 43.53125 \nQ 18.109375 38.875 18.109375 30.90625 \nL 18.109375 0 \nL 9.078125 0 \nL 9.078125 54.6875 \nL 18.109375 54.6875 \nL 18.109375 46.1875 \nQ 21.1875 51.21875 25.484375 53.609375 \nQ 29.78125 56 35.6875 56 \nQ 41.65625 56 45.828125 52.96875 \nQ 50 49.953125 52 44.1875 \nz\n\" id=\"DejaVuSans-109\"/>\n       <path d=\"M 44.28125 53.078125 \nL 44.28125 44.578125 \nQ 40.484375 46.53125 36.375 47.5 \nQ 32.28125 48.484375 27.875 48.484375 \nQ 21.1875 48.484375 17.84375 46.4375 \nQ 14.5 44.390625 14.5 40.28125 \nQ 14.5 37.15625 16.890625 35.375 \nQ 19.28125 33.59375 26.515625 31.984375 \nL 29.59375 31.296875 \nQ 39.15625 29.25 43.1875 25.515625 \nQ 47.21875 21.78125 47.21875 15.09375 \nQ 47.21875 7.46875 41.1875 3.015625 \nQ 35.15625 -1.421875 24.609375 -1.421875 \nQ 20.21875 -1.421875 15.453125 -0.5625 \nQ 10.6875 0.296875 5.421875 2 \nL 5.421875 11.28125 \nQ 10.40625 8.6875 15.234375 7.390625 \nQ 20.0625 6.109375 24.8125 6.109375 \nQ 31.15625 6.109375 34.5625 8.28125 \nQ 37.984375 10.453125 37.984375 14.40625 \nQ 37.984375 18.0625 35.515625 20.015625 \nQ 33.0625 21.96875 24.703125 23.78125 \nL 21.578125 24.515625 \nQ 13.234375 26.265625 9.515625 29.90625 \nQ 5.8125 33.546875 5.8125 39.890625 \nQ 5.8125 47.609375 11.28125 51.796875 \nQ 16.75 56 26.8125 56 \nQ 31.78125 56 36.171875 55.265625 \nQ 40.578125 54.546875 44.28125 53.078125 \nz\n\" id=\"DejaVuSans-115\"/>\n       <path d=\"M 8.5 21.578125 \nL 8.5 54.6875 \nL 17.484375 54.6875 \nL 17.484375 21.921875 \nQ 17.484375 14.15625 20.5 10.265625 \nQ 23.53125 6.390625 29.59375 6.390625 \nQ 36.859375 6.390625 41.078125 11.03125 \nQ 45.3125 15.671875 45.3125 23.6875 \nL 45.3125 54.6875 \nL 54.296875 54.6875 \nL 54.296875 0 \nL 45.3125 0 \nL 45.3125 8.40625 \nQ 42.046875 3.421875 37.71875 1 \nQ 33.40625 -1.421875 27.6875 -1.421875 \nQ 18.265625 -1.421875 13.375 4.4375 \nQ 8.5 10.296875 8.5 21.578125 \nz\nM 31.109375 56 \nz\n\" id=\"DejaVuSans-117\"/>\n       <path d=\"M 48.6875 27.296875 \nQ 48.6875 37.203125 44.609375 42.84375 \nQ 40.53125 48.484375 33.40625 48.484375 \nQ 26.265625 48.484375 22.1875 42.84375 \nQ 18.109375 37.203125 18.109375 27.296875 \nQ 18.109375 17.390625 22.1875 11.75 \nQ 26.265625 6.109375 33.40625 6.109375 \nQ 40.53125 6.109375 44.609375 11.75 \nQ 48.6875 17.390625 48.6875 27.296875 \nz\nM 18.109375 46.390625 \nQ 20.953125 51.265625 25.265625 53.625 \nQ 29.59375 56 35.59375 56 \nQ 45.5625 56 51.78125 48.09375 \nQ 58.015625 40.1875 58.015625 27.296875 \nQ 58.015625 14.40625 51.78125 6.484375 \nQ 45.5625 -1.421875 35.59375 -1.421875 \nQ 29.59375 -1.421875 25.265625 0.953125 \nQ 20.953125 3.328125 18.109375 8.203125 \nL 18.109375 0 \nL 9.078125 0 \nL 9.078125 75.984375 \nL 18.109375 75.984375 \nz\n\" id=\"DejaVuSans-98\"/>\n       <path d=\"M 18.109375 8.203125 \nL 18.109375 -20.796875 \nL 9.078125 -20.796875 \nL 9.078125 54.6875 \nL 18.109375 54.6875 \nL 18.109375 46.390625 \nQ 20.953125 51.265625 25.265625 53.625 \nQ 29.59375 56 35.59375 56 \nQ 45.5625 56 51.78125 48.09375 \nQ 58.015625 40.1875 58.015625 27.296875 \nQ 58.015625 14.40625 51.78125 6.484375 \nQ 45.5625 -1.421875 35.59375 -1.421875 \nQ 29.59375 -1.421875 25.265625 0.953125 \nQ 20.953125 3.328125 18.109375 8.203125 \nz\nM 48.6875 27.296875 \nQ 48.6875 37.203125 44.609375 42.84375 \nQ 40.53125 48.484375 33.40625 48.484375 \nQ 26.265625 48.484375 22.1875 42.84375 \nQ 18.109375 37.203125 18.109375 27.296875 \nQ 18.109375 17.390625 22.1875 11.75 \nQ 26.265625 6.109375 33.40625 6.109375 \nQ 40.53125 6.109375 44.609375 11.75 \nQ 48.6875 17.390625 48.6875 27.296875 \nz\n\" id=\"DejaVuSans-112\"/>\n       <path d=\"M 9.421875 75.984375 \nL 18.40625 75.984375 \nL 18.40625 0 \nL 9.421875 0 \nz\n\" id=\"DejaVuSans-108\"/>\n       <path d=\"M 9.421875 54.6875 \nL 18.40625 54.6875 \nL 18.40625 0 \nL 9.421875 0 \nz\nM 9.421875 75.984375 \nL 18.40625 75.984375 \nL 18.40625 64.59375 \nL 9.421875 64.59375 \nz\n\" id=\"DejaVuSans-105\"/>\n       <path d=\"M 45.40625 27.984375 \nQ 45.40625 37.75 41.375 43.109375 \nQ 37.359375 48.484375 30.078125 48.484375 \nQ 22.859375 48.484375 18.828125 43.109375 \nQ 14.796875 37.75 14.796875 27.984375 \nQ 14.796875 18.265625 18.828125 12.890625 \nQ 22.859375 7.515625 30.078125 7.515625 \nQ 37.359375 7.515625 41.375 12.890625 \nQ 45.40625 18.265625 45.40625 27.984375 \nz\nM 54.390625 6.78125 \nQ 54.390625 -7.171875 48.1875 -13.984375 \nQ 42 -20.796875 29.203125 -20.796875 \nQ 24.46875 -20.796875 20.265625 -20.09375 \nQ 16.0625 -19.390625 12.109375 -17.921875 \nL 12.109375 -9.1875 \nQ 16.0625 -11.328125 19.921875 -12.34375 \nQ 23.78125 -13.375 27.78125 -13.375 \nQ 36.625 -13.375 41.015625 -8.765625 \nQ 45.40625 -4.15625 45.40625 5.171875 \nL 45.40625 9.625 \nQ 42.625 4.78125 38.28125 2.390625 \nQ 33.9375 0 27.875 0 \nQ 17.828125 0 11.671875 7.65625 \nQ 5.515625 15.328125 5.515625 27.984375 \nQ 5.515625 40.671875 11.671875 48.328125 \nQ 17.828125 56 27.875 56 \nQ 33.9375 56 38.28125 53.609375 \nQ 42.625 51.21875 45.40625 46.390625 \nL 45.40625 54.6875 \nL 54.390625 54.6875 \nz\n\" id=\"DejaVuSans-103\"/>\n      </defs>\n      <g transform=\"translate(33.008594 361.400187)scale(0.1 -0.1)\">\n       <use xlink:href=\"#DejaVuSans-49\"/>\n       <use x=\"63.623047\" xlink:href=\"#DejaVuSans-32\"/>\n       <use x=\"95.410156\" xlink:href=\"#DejaVuSans-114\"/>\n       <use x=\"136.523438\" xlink:href=\"#DejaVuSans-97\"/>\n       <use x=\"197.802734\" xlink:href=\"#DejaVuSans-110\"/>\n       <use x=\"261.181641\" xlink:href=\"#DejaVuSans-100\"/>\n       <use x=\"324.658203\" xlink:href=\"#DejaVuSans-111\"/>\n       <use x=\"385.839844\" xlink:href=\"#DejaVuSans-109\"/>\n       <use x=\"483.251953\" xlink:href=\"#DejaVuSans-32\"/>\n       <use x=\"515.039062\" xlink:href=\"#DejaVuSans-115\"/>\n       <use x=\"567.138672\" xlink:href=\"#DejaVuSans-117\"/>\n       <use x=\"630.517578\" xlink:href=\"#DejaVuSans-98\"/>\n       <use x=\"693.994141\" xlink:href=\"#DejaVuSans-115\"/>\n       <use x=\"746.09375\" xlink:href=\"#DejaVuSans-97\"/>\n       <use x=\"807.373047\" xlink:href=\"#DejaVuSans-109\"/>\n       <use x=\"904.785156\" xlink:href=\"#DejaVuSans-112\"/>\n       <use x=\"968.261719\" xlink:href=\"#DejaVuSans-108\"/>\n       <use x=\"996.044922\" xlink:href=\"#DejaVuSans-105\"/>\n       <use x=\"1023.828125\" xlink:href=\"#DejaVuSans-110\"/>\n       <use x=\"1087.207031\" xlink:href=\"#DejaVuSans-103\"/>\n      </g>\n     </g>\n    </g>\n    <g id=\"xtick_2\">\n     <g id=\"line2d_2\">\n      <g>\n       <use style=\"stroke:#000000;stroke-width:0.8;\" x=\"220.742188\" xlink:href=\"#m82b76fc67e\" y=\"350.30175\"/>\n      </g>\n     </g>\n     <g id=\"text_2\">\n      <!-- 2 proportional subsampling -->\n      <defs>\n       <path d=\"M 19.1875 8.296875 \nL 53.609375 8.296875 \nL 53.609375 0 \nL 7.328125 0 \nL 7.328125 8.296875 \nQ 12.9375 14.109375 22.625 23.890625 \nQ 32.328125 33.6875 34.8125 36.53125 \nQ 39.546875 41.84375 41.421875 45.53125 \nQ 43.3125 49.21875 43.3125 52.78125 \nQ 43.3125 58.59375 39.234375 62.25 \nQ 35.15625 65.921875 28.609375 65.921875 \nQ 23.96875 65.921875 18.8125 64.3125 \nQ 13.671875 62.703125 7.8125 59.421875 \nL 7.8125 69.390625 \nQ 13.765625 71.78125 18.9375 73 \nQ 24.125 74.21875 28.421875 74.21875 \nQ 39.75 74.21875 46.484375 68.546875 \nQ 53.21875 62.890625 53.21875 53.421875 \nQ 53.21875 48.921875 51.53125 44.890625 \nQ 49.859375 40.875 45.40625 35.40625 \nQ 44.1875 33.984375 37.640625 27.21875 \nQ 31.109375 20.453125 19.1875 8.296875 \nz\n\" id=\"DejaVuSans-50\"/>\n       <path d=\"M 18.3125 70.21875 \nL 18.3125 54.6875 \nL 36.8125 54.6875 \nL 36.8125 47.703125 \nL 18.3125 47.703125 \nL 18.3125 18.015625 \nQ 18.3125 11.328125 20.140625 9.421875 \nQ 21.96875 7.515625 27.59375 7.515625 \nL 36.8125 7.515625 \nL 36.8125 0 \nL 27.59375 0 \nQ 17.1875 0 13.234375 3.875 \nQ 9.28125 7.765625 9.28125 18.015625 \nL 9.28125 47.703125 \nL 2.6875 47.703125 \nL 2.6875 54.6875 \nL 9.28125 54.6875 \nL 9.28125 70.21875 \nz\n\" id=\"DejaVuSans-116\"/>\n      </defs>\n      <g transform=\"translate(152.104688 361.400187)scale(0.1 -0.1)\">\n       <use xlink:href=\"#DejaVuSans-50\"/>\n       <use x=\"63.623047\" xlink:href=\"#DejaVuSans-32\"/>\n       <use x=\"95.410156\" xlink:href=\"#DejaVuSans-112\"/>\n       <use x=\"158.886719\" xlink:href=\"#DejaVuSans-114\"/>\n       <use x=\"197.75\" xlink:href=\"#DejaVuSans-111\"/>\n       <use x=\"258.931641\" xlink:href=\"#DejaVuSans-112\"/>\n       <use x=\"322.408203\" xlink:href=\"#DejaVuSans-111\"/>\n       <use x=\"383.589844\" xlink:href=\"#DejaVuSans-114\"/>\n       <use x=\"424.703125\" xlink:href=\"#DejaVuSans-116\"/>\n       <use x=\"463.912109\" xlink:href=\"#DejaVuSans-105\"/>\n       <use x=\"491.695312\" xlink:href=\"#DejaVuSans-111\"/>\n       <use x=\"552.876953\" xlink:href=\"#DejaVuSans-110\"/>\n       <use x=\"616.255859\" xlink:href=\"#DejaVuSans-97\"/>\n       <use x=\"677.535156\" xlink:href=\"#DejaVuSans-108\"/>\n       <use x=\"705.318359\" xlink:href=\"#DejaVuSans-32\"/>\n       <use x=\"737.105469\" xlink:href=\"#DejaVuSans-115\"/>\n       <use x=\"789.205078\" xlink:href=\"#DejaVuSans-117\"/>\n       <use x=\"852.583984\" xlink:href=\"#DejaVuSans-98\"/>\n       <use x=\"916.060547\" xlink:href=\"#DejaVuSans-115\"/>\n       <use x=\"968.160156\" xlink:href=\"#DejaVuSans-97\"/>\n       <use x=\"1029.439453\" xlink:href=\"#DejaVuSans-109\"/>\n       <use x=\"1126.851562\" xlink:href=\"#DejaVuSans-112\"/>\n       <use x=\"1190.328125\" xlink:href=\"#DejaVuSans-108\"/>\n       <use x=\"1218.111328\" xlink:href=\"#DejaVuSans-105\"/>\n       <use x=\"1245.894531\" xlink:href=\"#DejaVuSans-110\"/>\n       <use x=\"1309.273438\" xlink:href=\"#DejaVuSans-103\"/>\n      </g>\n     </g>\n    </g>\n    <g id=\"xtick_3\">\n     <g id=\"line2d_3\">\n      <g>\n       <use style=\"stroke:#000000;stroke-width:0.8;\" x=\"350.942187\" xlink:href=\"#m82b76fc67e\" y=\"350.30175\"/>\n      </g>\n     </g>\n     <g id=\"text_3\">\n      <!-- 3 optimal subsampling -->\n      <defs>\n       <path d=\"M 40.578125 39.3125 \nQ 47.65625 37.796875 51.625 33 \nQ 55.609375 28.21875 55.609375 21.1875 \nQ 55.609375 10.40625 48.1875 4.484375 \nQ 40.765625 -1.421875 27.09375 -1.421875 \nQ 22.515625 -1.421875 17.65625 -0.515625 \nQ 12.796875 0.390625 7.625 2.203125 \nL 7.625 11.71875 \nQ 11.71875 9.328125 16.59375 8.109375 \nQ 21.484375 6.890625 26.8125 6.890625 \nQ 36.078125 6.890625 40.9375 10.546875 \nQ 45.796875 14.203125 45.796875 21.1875 \nQ 45.796875 27.640625 41.28125 31.265625 \nQ 36.765625 34.90625 28.71875 34.90625 \nL 20.21875 34.90625 \nL 20.21875 43.015625 \nL 29.109375 43.015625 \nQ 36.375 43.015625 40.234375 45.921875 \nQ 44.09375 48.828125 44.09375 54.296875 \nQ 44.09375 59.90625 40.109375 62.90625 \nQ 36.140625 65.921875 28.71875 65.921875 \nQ 24.65625 65.921875 20.015625 65.03125 \nQ 15.375 64.15625 9.8125 62.3125 \nL 9.8125 71.09375 \nQ 15.4375 72.65625 20.34375 73.4375 \nQ 25.25 74.21875 29.59375 74.21875 \nQ 40.828125 74.21875 47.359375 69.109375 \nQ 53.90625 64.015625 53.90625 55.328125 \nQ 53.90625 49.265625 50.4375 45.09375 \nQ 46.96875 40.921875 40.578125 39.3125 \nz\n\" id=\"DejaVuSans-51\"/>\n      </defs>\n      <g transform=\"translate(293.894531 361.400187)scale(0.1 -0.1)\">\n       <use xlink:href=\"#DejaVuSans-51\"/>\n       <use x=\"63.623047\" xlink:href=\"#DejaVuSans-32\"/>\n       <use x=\"95.410156\" xlink:href=\"#DejaVuSans-111\"/>\n       <use x=\"156.591797\" xlink:href=\"#DejaVuSans-112\"/>\n       <use x=\"220.068359\" xlink:href=\"#DejaVuSans-116\"/>\n       <use x=\"259.277344\" xlink:href=\"#DejaVuSans-105\"/>\n       <use x=\"287.060547\" xlink:href=\"#DejaVuSans-109\"/>\n       <use x=\"384.472656\" xlink:href=\"#DejaVuSans-97\"/>\n       <use x=\"445.751953\" xlink:href=\"#DejaVuSans-108\"/>\n       <use x=\"473.535156\" xlink:href=\"#DejaVuSans-32\"/>\n       <use x=\"505.322266\" xlink:href=\"#DejaVuSans-115\"/>\n       <use x=\"557.421875\" xlink:href=\"#DejaVuSans-117\"/>\n       <use x=\"620.800781\" xlink:href=\"#DejaVuSans-98\"/>\n       <use x=\"684.277344\" xlink:href=\"#DejaVuSans-115\"/>\n       <use x=\"736.376953\" xlink:href=\"#DejaVuSans-97\"/>\n       <use x=\"797.65625\" xlink:href=\"#DejaVuSans-109\"/>\n       <use x=\"895.068359\" xlink:href=\"#DejaVuSans-112\"/>\n       <use x=\"958.544922\" xlink:href=\"#DejaVuSans-108\"/>\n       <use x=\"986.328125\" xlink:href=\"#DejaVuSans-105\"/>\n       <use x=\"1014.111328\" xlink:href=\"#DejaVuSans-110\"/>\n       <use x=\"1077.490234\" xlink:href=\"#DejaVuSans-103\"/>\n      </g>\n     </g>\n    </g>\n   </g>\n   <g id=\"matplotlib.axis_2\">\n    <g id=\"ytick_1\">\n     <g id=\"line2d_4\">\n      <path clip-path=\"url(#pb33315bef5)\" d=\"M 25.442188 343.797268 \nL 416.042188 343.797268 \n\" style=\"fill:none;stroke:#b2b2b2;stroke-dasharray:1.85,0.8;stroke-dashoffset:0;stroke-width:0.5;\"/>\n     </g>\n     <g id=\"line2d_5\">\n      <defs>\n       <path d=\"M 0 0 \nL 3.5 0 \n\" id=\"mcddd3a7157\" style=\"stroke:#000000;stroke-width:0.8;\"/>\n      </defs>\n      <g>\n       <use style=\"stroke:#000000;stroke-width:0.8;\" x=\"25.442188\" xlink:href=\"#mcddd3a7157\" y=\"343.797268\"/>\n      </g>\n     </g>\n     <g id=\"text_4\">\n      <!-- −3 -->\n      <defs>\n       <path d=\"M 10.59375 35.5 \nL 73.1875 35.5 \nL 73.1875 27.203125 \nL 10.59375 27.203125 \nz\n\" id=\"DejaVuSans-8722\"/>\n      </defs>\n      <g transform=\"translate(7.2 347.596487)scale(0.1 -0.1)\">\n       <use xlink:href=\"#DejaVuSans-8722\"/>\n       <use x=\"83.789062\" xlink:href=\"#DejaVuSans-51\"/>\n      </g>\n     </g>\n    </g>\n    <g id=\"ytick_2\">\n     <g id=\"line2d_6\">\n      <path clip-path=\"url(#pb33315bef5)\" d=\"M 25.442188 286.030414 \nL 416.042188 286.030414 \n\" style=\"fill:none;stroke:#b2b2b2;stroke-dasharray:1.85,0.8;stroke-dashoffset:0;stroke-width:0.5;\"/>\n     </g>\n     <g id=\"line2d_7\">\n      <g>\n       <use style=\"stroke:#000000;stroke-width:0.8;\" x=\"25.442188\" xlink:href=\"#mcddd3a7157\" y=\"286.030414\"/>\n      </g>\n     </g>\n     <g id=\"text_5\">\n      <!-- −2 -->\n      <g transform=\"translate(7.2 289.829633)scale(0.1 -0.1)\">\n       <use xlink:href=\"#DejaVuSans-8722\"/>\n       <use x=\"83.789062\" xlink:href=\"#DejaVuSans-50\"/>\n      </g>\n     </g>\n    </g>\n    <g id=\"ytick_3\">\n     <g id=\"line2d_8\">\n      <path clip-path=\"url(#pb33315bef5)\" d=\"M 25.442188 228.26356 \nL 416.042188 228.26356 \n\" style=\"fill:none;stroke:#b2b2b2;stroke-dasharray:1.85,0.8;stroke-dashoffset:0;stroke-width:0.5;\"/>\n     </g>\n     <g id=\"line2d_9\">\n      <g>\n       <use style=\"stroke:#000000;stroke-width:0.8;\" x=\"25.442188\" xlink:href=\"#mcddd3a7157\" y=\"228.26356\"/>\n      </g>\n     </g>\n     <g id=\"text_6\">\n      <!-- −1 -->\n      <g transform=\"translate(7.2 232.062779)scale(0.1 -0.1)\">\n       <use xlink:href=\"#DejaVuSans-8722\"/>\n       <use x=\"83.789062\" xlink:href=\"#DejaVuSans-49\"/>\n      </g>\n     </g>\n    </g>\n    <g id=\"ytick_4\">\n     <g id=\"line2d_10\">\n      <path clip-path=\"url(#pb33315bef5)\" d=\"M 25.442188 170.496706 \nL 416.042188 170.496706 \n\" style=\"fill:none;stroke:#b2b2b2;stroke-dasharray:1.85,0.8;stroke-dashoffset:0;stroke-width:0.5;\"/>\n     </g>\n     <g id=\"line2d_11\">\n      <g>\n       <use style=\"stroke:#000000;stroke-width:0.8;\" x=\"25.442188\" xlink:href=\"#mcddd3a7157\" y=\"170.496706\"/>\n      </g>\n     </g>\n     <g id=\"text_7\">\n      <!-- 0 -->\n      <defs>\n       <path d=\"M 31.78125 66.40625 \nQ 24.171875 66.40625 20.328125 58.90625 \nQ 16.5 51.421875 16.5 36.375 \nQ 16.5 21.390625 20.328125 13.890625 \nQ 24.171875 6.390625 31.78125 6.390625 \nQ 39.453125 6.390625 43.28125 13.890625 \nQ 47.125 21.390625 47.125 36.375 \nQ 47.125 51.421875 43.28125 58.90625 \nQ 39.453125 66.40625 31.78125 66.40625 \nz\nM 31.78125 74.21875 \nQ 44.046875 74.21875 50.515625 64.515625 \nQ 56.984375 54.828125 56.984375 36.375 \nQ 56.984375 17.96875 50.515625 8.265625 \nQ 44.046875 -1.421875 31.78125 -1.421875 \nQ 19.53125 -1.421875 13.0625 8.265625 \nQ 6.59375 17.96875 6.59375 36.375 \nQ 6.59375 54.828125 13.0625 64.515625 \nQ 19.53125 74.21875 31.78125 74.21875 \nz\n\" id=\"DejaVuSans-48\"/>\n      </defs>\n      <g transform=\"translate(15.579688 174.295924)scale(0.1 -0.1)\">\n       <use xlink:href=\"#DejaVuSans-48\"/>\n      </g>\n     </g>\n    </g>\n    <g id=\"ytick_5\">\n     <g id=\"line2d_12\">\n      <path clip-path=\"url(#pb33315bef5)\" d=\"M 25.442188 112.729851 \nL 416.042188 112.729851 \n\" style=\"fill:none;stroke:#b2b2b2;stroke-dasharray:1.85,0.8;stroke-dashoffset:0;stroke-width:0.5;\"/>\n     </g>\n     <g id=\"line2d_13\">\n      <g>\n       <use style=\"stroke:#000000;stroke-width:0.8;\" x=\"25.442188\" xlink:href=\"#mcddd3a7157\" y=\"112.729851\"/>\n      </g>\n     </g>\n     <g id=\"text_8\">\n      <!-- 1 -->\n      <g transform=\"translate(15.579688 116.52907)scale(0.1 -0.1)\">\n       <use xlink:href=\"#DejaVuSans-49\"/>\n      </g>\n     </g>\n    </g>\n    <g id=\"ytick_6\">\n     <g id=\"line2d_14\">\n      <path clip-path=\"url(#pb33315bef5)\" d=\"M 25.442188 54.962997 \nL 416.042188 54.962997 \n\" style=\"fill:none;stroke:#b2b2b2;stroke-dasharray:1.85,0.8;stroke-dashoffset:0;stroke-width:0.5;\"/>\n     </g>\n     <g id=\"line2d_15\">\n      <g>\n       <use style=\"stroke:#000000;stroke-width:0.8;\" x=\"25.442188\" xlink:href=\"#mcddd3a7157\" y=\"54.962997\"/>\n      </g>\n     </g>\n     <g id=\"text_9\">\n      <!-- 2 -->\n      <g transform=\"translate(15.579688 58.762216)scale(0.1 -0.1)\">\n       <use xlink:href=\"#DejaVuSans-50\"/>\n      </g>\n     </g>\n    </g>\n   </g>\n   <g id=\"line2d_16\">\n    <path clip-path=\"url(#pb33315bef5)\" d=\"M 90.542187 216.565018 \nL 90.542187 295.041001 \n\" style=\"fill:none;stroke:#343434;stroke-linecap:square;stroke-width:2;\"/>\n   </g>\n   <g id=\"line2d_17\">\n    <path clip-path=\"url(#pb33315bef5)\" d=\"M 90.542187 162.773859 \nL 90.542187 84.883092 \n\" style=\"fill:none;stroke:#343434;stroke-linecap:square;stroke-width:2;\"/>\n   </g>\n   <g id=\"line2d_18\">\n    <path clip-path=\"url(#pb33315bef5)\" d=\"M 80.777187 295.041001 \nL 100.307187 295.041001 \n\" style=\"fill:none;stroke:#343434;stroke-linecap:square;stroke-width:2;\"/>\n   </g>\n   <g id=\"line2d_19\">\n    <path clip-path=\"url(#pb33315bef5)\" d=\"M 80.777187 84.883092 \nL 100.307187 84.883092 \n\" style=\"fill:none;stroke:#343434;stroke-linecap:square;stroke-width:2;\"/>\n   </g>\n   <g id=\"line2d_20\">\n    <defs>\n     <path d=\"M -0 3.535534 \nL 2.12132 0 \nL -0 -3.535534 \nL -2.12132 -0 \nz\n\" id=\"m49f66090f8\" style=\"stroke:#343434;stroke-linejoin:miter;\"/>\n    </defs>\n    <g clip-path=\"url(#pb33315bef5)\">\n     <use style=\"fill:#343434;stroke:#343434;stroke-linejoin:miter;\" x=\"90.542187\" xlink:href=\"#m49f66090f8\" y=\"331.404197\"/>\n     <use style=\"fill:#343434;stroke:#343434;stroke-linejoin:miter;\" x=\"90.542187\" xlink:href=\"#m49f66090f8\" y=\"302.452918\"/>\n     <use style=\"fill:#343434;stroke:#343434;stroke-linejoin:miter;\" x=\"90.542187\" xlink:href=\"#m49f66090f8\" y=\"335.476295\"/>\n     <use style=\"fill:#343434;stroke:#343434;stroke-linejoin:miter;\" x=\"90.542187\" xlink:href=\"#m49f66090f8\" y=\"302.77922\"/>\n     <use style=\"fill:#343434;stroke:#343434;stroke-linejoin:miter;\" x=\"90.542187\" xlink:href=\"#m49f66090f8\" y=\"80.696987\"/>\n     <use style=\"fill:#343434;stroke:#343434;stroke-linejoin:miter;\" x=\"90.542187\" xlink:href=\"#m49f66090f8\" y=\"79.82409\"/>\n     <use style=\"fill:#343434;stroke:#343434;stroke-linejoin:miter;\" x=\"90.542187\" xlink:href=\"#m49f66090f8\" y=\"65.020296\"/>\n     <use style=\"fill:#343434;stroke:#343434;stroke-linejoin:miter;\" x=\"90.542187\" xlink:href=\"#m49f66090f8\" y=\"79.669585\"/>\n     <use style=\"fill:#343434;stroke:#343434;stroke-linejoin:miter;\" x=\"90.542187\" xlink:href=\"#m49f66090f8\" y=\"74.563953\"/>\n     <use style=\"fill:#343434;stroke:#343434;stroke-linejoin:miter;\" x=\"90.542187\" xlink:href=\"#m49f66090f8\" y=\"74.582354\"/>\n    </g>\n   </g>\n   <g id=\"line2d_21\">\n    <path clip-path=\"url(#pb33315bef5)\" d=\"M 220.742188 217.212555 \nL 220.742188 294.12758 \n\" style=\"fill:none;stroke:#343434;stroke-linecap:square;stroke-width:2;\"/>\n   </g>\n   <g id=\"line2d_22\">\n    <path clip-path=\"url(#pb33315bef5)\" d=\"M 220.742188 165.362353 \nL 220.742188 89.476259 \n\" style=\"fill:none;stroke:#343434;stroke-linecap:square;stroke-width:2;\"/>\n   </g>\n   <g id=\"line2d_23\">\n    <path clip-path=\"url(#pb33315bef5)\" d=\"M 210.977188 294.12758 \nL 230.507187 294.12758 \n\" style=\"fill:none;stroke:#343434;stroke-linecap:square;stroke-width:2;\"/>\n   </g>\n   <g id=\"line2d_24\">\n    <path clip-path=\"url(#pb33315bef5)\" d=\"M 210.977188 89.476259 \nL 230.507187 89.476259 \n\" style=\"fill:none;stroke:#343434;stroke-linecap:square;stroke-width:2;\"/>\n   </g>\n   <g id=\"line2d_25\">\n    <g clip-path=\"url(#pb33315bef5)\">\n     <use style=\"fill:#343434;stroke:#343434;stroke-linejoin:miter;\" x=\"220.742188\" xlink:href=\"#m49f66090f8\" y=\"295.4965\"/>\n     <use style=\"fill:#343434;stroke:#343434;stroke-linejoin:miter;\" x=\"220.742188\" xlink:href=\"#m49f66090f8\" y=\"295.337304\"/>\n     <use style=\"fill:#343434;stroke:#343434;stroke-linejoin:miter;\" x=\"220.742188\" xlink:href=\"#m49f66090f8\" y=\"316.364307\"/>\n     <use style=\"fill:#343434;stroke:#343434;stroke-linejoin:miter;\" x=\"220.742188\" xlink:href=\"#m49f66090f8\" y=\"320.047766\"/>\n     <use style=\"fill:#343434;stroke:#343434;stroke-linejoin:miter;\" x=\"220.742188\" xlink:href=\"#m49f66090f8\" y=\"84.440795\"/>\n     <use style=\"fill:#343434;stroke:#343434;stroke-linejoin:miter;\" x=\"220.742188\" xlink:href=\"#m49f66090f8\" y=\"66.166368\"/>\n     <use style=\"fill:#343434;stroke:#343434;stroke-linejoin:miter;\" x=\"220.742188\" xlink:href=\"#m49f66090f8\" y=\"86.499019\"/>\n     <use style=\"fill:#343434;stroke:#343434;stroke-linejoin:miter;\" x=\"220.742188\" xlink:href=\"#m49f66090f8\" y=\"38.967205\"/>\n     <use style=\"fill:#343434;stroke:#343434;stroke-linejoin:miter;\" x=\"220.742188\" xlink:href=\"#m49f66090f8\" y=\"73.756069\"/>\n     <use style=\"fill:#343434;stroke:#343434;stroke-linejoin:miter;\" x=\"220.742188\" xlink:href=\"#m49f66090f8\" y=\"68.534151\"/>\n     <use style=\"fill:#343434;stroke:#343434;stroke-linejoin:miter;\" x=\"220.742188\" xlink:href=\"#m49f66090f8\" y=\"71.38596\"/>\n     <use style=\"fill:#343434;stroke:#343434;stroke-linejoin:miter;\" x=\"220.742188\" xlink:href=\"#m49f66090f8\" y=\"80.732532\"/>\n    </g>\n   </g>\n   <g id=\"line2d_26\">\n    <path clip-path=\"url(#pb33315bef5)\" d=\"M 350.942187 216.645046 \nL 350.942187 288.01766 \n\" style=\"fill:none;stroke:#343434;stroke-linecap:square;stroke-width:2;\"/>\n   </g>\n   <g id=\"line2d_27\">\n    <path clip-path=\"url(#pb33315bef5)\" d=\"M 350.942187 168.648201 \nL 350.942187 99.90828 \n\" style=\"fill:none;stroke:#343434;stroke-linecap:square;stroke-width:2;\"/>\n   </g>\n   <g id=\"line2d_28\">\n    <path clip-path=\"url(#pb33315bef5)\" d=\"M 341.177188 288.01766 \nL 360.707188 288.01766 \n\" style=\"fill:none;stroke:#343434;stroke-linecap:square;stroke-width:2;\"/>\n   </g>\n   <g id=\"line2d_29\">\n    <path clip-path=\"url(#pb33315bef5)\" d=\"M 341.177188 99.90828 \nL 360.707188 99.90828 \n\" style=\"fill:none;stroke:#343434;stroke-linecap:square;stroke-width:2;\"/>\n   </g>\n   <g id=\"line2d_30\">\n    <g clip-path=\"url(#pb33315bef5)\">\n     <use style=\"fill:#343434;stroke:#343434;stroke-linejoin:miter;\" x=\"350.942187\" xlink:href=\"#m49f66090f8\" y=\"292.217929\"/>\n     <use style=\"fill:#343434;stroke:#343434;stroke-linejoin:miter;\" x=\"350.942187\" xlink:href=\"#m49f66090f8\" y=\"83.323131\"/>\n     <use style=\"fill:#343434;stroke:#343434;stroke-linejoin:miter;\" x=\"350.942187\" xlink:href=\"#m49f66090f8\" y=\"91.280213\"/>\n     <use style=\"fill:#343434;stroke:#343434;stroke-linejoin:miter;\" x=\"350.942187\" xlink:href=\"#m49f66090f8\" y=\"68.479991\"/>\n    </g>\n   </g>\n   <g id=\"line2d_31\">\n    <path clip-path=\"url(#pb33315bef5)\" d=\"M 71.012187 190.392241 \nL 110.072187 190.392241 \n\" style=\"fill:none;stroke:#343434;stroke-linecap:square;stroke-width:2;\"/>\n   </g>\n   <g id=\"line2d_32\">\n    <path clip-path=\"url(#pb33315bef5)\" d=\"M 201.212187 192.253667 \nL 240.272187 192.253667 \n\" style=\"fill:none;stroke:#343434;stroke-linecap:square;stroke-width:2;\"/>\n   </g>\n   <g id=\"line2d_33\">\n    <path clip-path=\"url(#pb33315bef5)\" d=\"M 331.412188 192.605382 \nL 370.472187 192.605382 \n\" style=\"fill:none;stroke:#343434;stroke-linecap:square;stroke-width:2;\"/>\n   </g>\n   <g id=\"patch_6\">\n    <path d=\"M 25.442188 350.30175 \nL 25.442188 24.14175 \n\" style=\"fill:none;stroke:#bcbcbc;stroke-linecap:square;stroke-linejoin:miter;stroke-width:0.8;\"/>\n   </g>\n   <g id=\"patch_7\">\n    <path d=\"M 416.042188 350.30175 \nL 416.042188 24.14175 \n\" style=\"fill:none;stroke:#bcbcbc;stroke-linecap:square;stroke-linejoin:miter;stroke-width:0.8;\"/>\n   </g>\n   <g id=\"patch_8\">\n    <path d=\"M 25.442188 350.30175 \nL 416.042188 350.30175 \n\" style=\"fill:none;stroke:#bcbcbc;stroke-linecap:square;stroke-linejoin:miter;stroke-width:0.8;\"/>\n   </g>\n   <g id=\"patch_9\">\n    <path d=\"M 25.442188 24.14175 \nL 416.042188 24.14175 \n\" style=\"fill:none;stroke:#bcbcbc;stroke-linecap:square;stroke-linejoin:miter;stroke-width:0.8;\"/>\n   </g>\n   <g id=\"text_10\">\n    <!-- Sample mean distributions for 3 sampling methods -->\n    <defs>\n     <path d=\"M 53.515625 70.515625 \nL 53.515625 60.890625 \nQ 47.90625 63.578125 42.921875 64.890625 \nQ 37.9375 66.21875 33.296875 66.21875 \nQ 25.25 66.21875 20.875 63.09375 \nQ 16.5 59.96875 16.5 54.203125 \nQ 16.5 49.359375 19.40625 46.890625 \nQ 22.3125 44.4375 30.421875 42.921875 \nL 36.375 41.703125 \nQ 47.40625 39.59375 52.65625 34.296875 \nQ 57.90625 29 57.90625 20.125 \nQ 57.90625 9.515625 50.796875 4.046875 \nQ 43.703125 -1.421875 29.984375 -1.421875 \nQ 24.8125 -1.421875 18.96875 -0.25 \nQ 13.140625 0.921875 6.890625 3.21875 \nL 6.890625 13.375 \nQ 12.890625 10.015625 18.65625 8.296875 \nQ 24.421875 6.59375 29.984375 6.59375 \nQ 38.421875 6.59375 43.015625 9.90625 \nQ 47.609375 13.234375 47.609375 19.390625 \nQ 47.609375 24.75 44.3125 27.78125 \nQ 41.015625 30.8125 33.5 32.328125 \nL 27.484375 33.5 \nQ 16.453125 35.6875 11.515625 40.375 \nQ 6.59375 45.0625 6.59375 53.421875 \nQ 6.59375 63.09375 13.40625 68.65625 \nQ 20.21875 74.21875 32.171875 74.21875 \nQ 37.3125 74.21875 42.625 73.28125 \nQ 47.953125 72.359375 53.515625 70.515625 \nz\n\" id=\"DejaVuSans-83\"/>\n     <path d=\"M 56.203125 29.59375 \nL 56.203125 25.203125 \nL 14.890625 25.203125 \nQ 15.484375 15.921875 20.484375 11.0625 \nQ 25.484375 6.203125 34.421875 6.203125 \nQ 39.59375 6.203125 44.453125 7.46875 \nQ 49.3125 8.734375 54.109375 11.28125 \nL 54.109375 2.78125 \nQ 49.265625 0.734375 44.1875 -0.34375 \nQ 39.109375 -1.421875 33.890625 -1.421875 \nQ 20.796875 -1.421875 13.15625 6.1875 \nQ 5.515625 13.8125 5.515625 26.8125 \nQ 5.515625 40.234375 12.765625 48.109375 \nQ 20.015625 56 32.328125 56 \nQ 43.359375 56 49.78125 48.890625 \nQ 56.203125 41.796875 56.203125 29.59375 \nz\nM 47.21875 32.234375 \nQ 47.125 39.59375 43.09375 43.984375 \nQ 39.0625 48.390625 32.421875 48.390625 \nQ 24.90625 48.390625 20.390625 44.140625 \nQ 15.875 39.890625 15.1875 32.171875 \nz\n\" id=\"DejaVuSans-101\"/>\n     <path d=\"M 37.109375 75.984375 \nL 37.109375 68.5 \nL 28.515625 68.5 \nQ 23.6875 68.5 21.796875 66.546875 \nQ 19.921875 64.59375 19.921875 59.515625 \nL 19.921875 54.6875 \nL 34.71875 54.6875 \nL 34.71875 47.703125 \nL 19.921875 47.703125 \nL 19.921875 0 \nL 10.890625 0 \nL 10.890625 47.703125 \nL 2.296875 47.703125 \nL 2.296875 54.6875 \nL 10.890625 54.6875 \nL 10.890625 58.5 \nQ 10.890625 67.625 15.140625 71.796875 \nQ 19.390625 75.984375 28.609375 75.984375 \nz\n\" id=\"DejaVuSans-102\"/>\n     <path d=\"M 54.890625 33.015625 \nL 54.890625 0 \nL 45.90625 0 \nL 45.90625 32.71875 \nQ 45.90625 40.484375 42.875 44.328125 \nQ 39.84375 48.1875 33.796875 48.1875 \nQ 26.515625 48.1875 22.3125 43.546875 \nQ 18.109375 38.921875 18.109375 30.90625 \nL 18.109375 0 \nL 9.078125 0 \nL 9.078125 75.984375 \nL 18.109375 75.984375 \nL 18.109375 46.1875 \nQ 21.34375 51.125 25.703125 53.5625 \nQ 30.078125 56 35.796875 56 \nQ 45.21875 56 50.046875 50.171875 \nQ 54.890625 44.34375 54.890625 33.015625 \nz\n\" id=\"DejaVuSans-104\"/>\n    </defs>\n    <g transform=\"translate(35.896813 18.14175)scale(0.144 -0.144)\">\n     <use xlink:href=\"#DejaVuSans-83\"/>\n     <use x=\"63.476562\" xlink:href=\"#DejaVuSans-97\"/>\n     <use x=\"124.755859\" xlink:href=\"#DejaVuSans-109\"/>\n     <use x=\"222.167969\" xlink:href=\"#DejaVuSans-112\"/>\n     <use x=\"285.644531\" xlink:href=\"#DejaVuSans-108\"/>\n     <use x=\"313.427734\" xlink:href=\"#DejaVuSans-101\"/>\n     <use x=\"374.951172\" xlink:href=\"#DejaVuSans-32\"/>\n     <use x=\"406.738281\" xlink:href=\"#DejaVuSans-109\"/>\n     <use x=\"504.150391\" xlink:href=\"#DejaVuSans-101\"/>\n     <use x=\"565.673828\" xlink:href=\"#DejaVuSans-97\"/>\n     <use x=\"626.953125\" xlink:href=\"#DejaVuSans-110\"/>\n     <use x=\"690.332031\" xlink:href=\"#DejaVuSans-32\"/>\n     <use x=\"722.119141\" xlink:href=\"#DejaVuSans-100\"/>\n     <use x=\"785.595703\" xlink:href=\"#DejaVuSans-105\"/>\n     <use x=\"813.378906\" xlink:href=\"#DejaVuSans-115\"/>\n     <use x=\"865.478516\" xlink:href=\"#DejaVuSans-116\"/>\n     <use x=\"904.6875\" xlink:href=\"#DejaVuSans-114\"/>\n     <use x=\"945.800781\" xlink:href=\"#DejaVuSans-105\"/>\n     <use x=\"973.583984\" xlink:href=\"#DejaVuSans-98\"/>\n     <use x=\"1037.060547\" xlink:href=\"#DejaVuSans-117\"/>\n     <use x=\"1100.439453\" xlink:href=\"#DejaVuSans-116\"/>\n     <use x=\"1139.648438\" xlink:href=\"#DejaVuSans-105\"/>\n     <use x=\"1167.431641\" xlink:href=\"#DejaVuSans-111\"/>\n     <use x=\"1228.613281\" xlink:href=\"#DejaVuSans-110\"/>\n     <use x=\"1291.992188\" xlink:href=\"#DejaVuSans-115\"/>\n     <use x=\"1344.091797\" xlink:href=\"#DejaVuSans-32\"/>\n     <use x=\"1375.878906\" xlink:href=\"#DejaVuSans-102\"/>\n     <use x=\"1411.083984\" xlink:href=\"#DejaVuSans-111\"/>\n     <use x=\"1472.265625\" xlink:href=\"#DejaVuSans-114\"/>\n     <use x=\"1513.378906\" xlink:href=\"#DejaVuSans-32\"/>\n     <use x=\"1545.166016\" xlink:href=\"#DejaVuSans-51\"/>\n     <use x=\"1608.789062\" xlink:href=\"#DejaVuSans-32\"/>\n     <use x=\"1640.576172\" xlink:href=\"#DejaVuSans-115\"/>\n     <use x=\"1692.675781\" xlink:href=\"#DejaVuSans-97\"/>\n     <use x=\"1753.955078\" xlink:href=\"#DejaVuSans-109\"/>\n     <use x=\"1851.367188\" xlink:href=\"#DejaVuSans-112\"/>\n     <use x=\"1914.84375\" xlink:href=\"#DejaVuSans-108\"/>\n     <use x=\"1942.626953\" xlink:href=\"#DejaVuSans-105\"/>\n     <use x=\"1970.410156\" xlink:href=\"#DejaVuSans-110\"/>\n     <use x=\"2033.789062\" xlink:href=\"#DejaVuSans-103\"/>\n     <use x=\"2097.265625\" xlink:href=\"#DejaVuSans-32\"/>\n     <use x=\"2129.052734\" xlink:href=\"#DejaVuSans-109\"/>\n     <use x=\"2226.464844\" xlink:href=\"#DejaVuSans-101\"/>\n     <use x=\"2287.988281\" xlink:href=\"#DejaVuSans-116\"/>\n     <use x=\"2327.197266\" xlink:href=\"#DejaVuSans-104\"/>\n     <use x=\"2390.576172\" xlink:href=\"#DejaVuSans-111\"/>\n     <use x=\"2451.757812\" xlink:href=\"#DejaVuSans-100\"/>\n     <use x=\"2515.234375\" xlink:href=\"#DejaVuSans-115\"/>\n    </g>\n   </g>\n  </g>\n </g>\n <defs>\n  <clipPath id=\"pb33315bef5\">\n   <rect height=\"326.16\" width=\"390.6\" x=\"25.442188\" y=\"24.14175\"/>\n  </clipPath>\n </defs>\n</svg>\n"
          },
          "metadata": {
            "tags": [],
            "needs_background": "light"
          }
        }
      ]
    },
    {
      "cell_type": "markdown",
      "metadata": {
        "id": "Trq-MZeYZa9g"
      },
      "source": [
        "Boxplots for sample mean:"
      ]
    },
    {
      "cell_type": "markdown",
      "metadata": {
        "id": "m9bbaGwFeiXA"
      },
      "source": [
        "With the experiments conducted and statistics estimated we can generate these <b>conclusions</b>: \n",
        "\n",
        "* Sample volume estimation based on proportional sampling method allows to noticeably reduce mean Dispersion for every strata, provided ME for each strata are different and Dispersion within a strata is lower than Dispertion between all strata; \n",
        "\n",
        "* Providing all strata have different ME and Dispersion, optimal sampling shows slightly better results than proportional sampling method. But during the experiments statistical difference between them was not proved. \n",
        "\n",
        "* Experimental point estimations are very close to Theoretical estimations. But Empirical Dispersion for sample mean is much larger than Theoretical estimation when ME for strata are different."
      ]
    },
    {
      "cell_type": "markdown",
      "metadata": {
        "id": "ktLUlkWLeiXA"
      },
      "source": [
        "# Task 2\n",
        "\n",
        "\n",
        "\n",
        "### Part 1\n",
        "Using [this criteria](https://support.minitab.com/en-us/minitab-express/1/help-and-how-to/modeling-statistics/regression/how-to/correlation/interpret-the-results/#:~:text=For%20the%20Pearson%20correlation%2C%20an,linear%20relationship%20between%20the%20variables.&text=If%20both%20variables%20tend%20to,represents%20the%20correlation%20slopes%20upward.), check whether there is a correlation between a brain size and intelligence for a dataset consisted both of men and women objects. Also check it for men and women subsamples separately.\n",
        "\n",
        "**Data is in `HW1_task2_brain_data.tsv`**\n",
        "\n",
        "### Part 2\n",
        "Using $Chi^2$ criteria check whether there is a statistical difference between men's and women's choice of auto.  (Features `Sex` и `PreferCar`)\n",
        "\n",
        "**Data is in `HW1_task2_car_prefs_data.tsv`**"
      ]
    },
    {
      "cell_type": "markdown",
      "metadata": {
        "id": "qO3LPf9beiXA"
      },
      "source": [
        "## Solution for Task 2.1:"
      ]
    },
    {
      "cell_type": "code",
      "metadata": {
        "colab": {
          "base_uri": "https://localhost:8080/"
        },
        "id": "1Vh-iM60igT9",
        "outputId": "9febbff2-0db3-47de-ffe0-69d44898e170"
      },
      "source": [
        "import sys\n",
        "sys.path"
      ],
      "execution_count": null,
      "outputs": [
        {
          "output_type": "execute_result",
          "data": {
            "text/plain": [
              "['',\n",
              " '/content',\n",
              " '/env/python',\n",
              " '/usr/lib/python37.zip',\n",
              " '/usr/lib/python3.7',\n",
              " '/usr/lib/python3.7/lib-dynload',\n",
              " '/usr/local/lib/python3.7/dist-packages',\n",
              " '/usr/lib/python3/dist-packages',\n",
              " '/usr/local/lib/python3.7/dist-packages/IPython/extensions',\n",
              " '/root/.ipython']"
            ]
          },
          "metadata": {
            "tags": []
          },
          "execution_count": 13
        }
      ]
    },
    {
      "cell_type": "code",
      "metadata": {
        "id": "a9l5xuaQeiXB"
      },
      "source": [
        "df = pd.read_csv('data/HW1_task2_brain_data.tsv', sep='\\t')\n",
        "df.head()"
      ],
      "execution_count": null,
      "outputs": []
    },
    {
      "cell_type": "markdown",
      "metadata": {
        "id": "pDGoSVGSeiXC"
      },
      "source": [
        "#### Feature description:\n",
        "Description for the dataset: https://www3.nd.edu/~busiforc/handouts/Data%20and%20Stories/correlation/Brain%20Size/brainsize.html\n",
        "\n",
        "1.Gender: Male or Female\n",
        "\n",
        "2.FSIQ: Full Scale IQ scores based on the four Wechsler (1981) subtests\n",
        "\n",
        "3.VIQ: Verbal IQ scores based on the four Wechsler (1981) subtests\n",
        "\n",
        "4.PIQ: Performance IQ scores based on the four Wechsler (1981) subtests\n",
        "\n",
        "5.Weight: body weight in pounds\n",
        "\n",
        "6.Height: height in inches\n",
        "\n",
        "7.MRI_Count: total pixel Count from the 18 MRI scans"
      ]
    },
    {
      "cell_type": "code",
      "metadata": {
        "id": "ZlJqawfZeiXD"
      },
      "source": [
        "df.info()"
      ],
      "execution_count": null,
      "outputs": []
    },
    {
      "cell_type": "markdown",
      "metadata": {
        "id": "5EkL9ZQheiXE"
      },
      "source": [
        "There are non-numerical values for features Weight and Height, so these have object type. But for our research they are out of interest."
      ]
    },
    {
      "cell_type": "markdown",
      "metadata": {
        "id": "NcGsZBUYeiXF"
      },
      "source": [
        "#### We should analyse correlation between brain size and intelligence\n",
        "\n",
        "Brain size is presented by pixel number on MRI: <b>MRI_Count</b>\n",
        "\n",
        "Intelligence can be estimated basing on these features: <b>FSIQ</b>, <b>VIQ</b> и <b>PIQ</b>"
      ]
    },
    {
      "cell_type": "markdown",
      "metadata": {
        "id": "IeY4_yMaeiXF"
      },
      "source": [
        "#### Separated samples for males and females:"
      ]
    },
    {
      "cell_type": "code",
      "metadata": {
        "id": "gOn2whC-eiXF"
      },
      "source": [
        "df_male = df[df.Gender == 'Male'].reset_index(drop=True)\n",
        "df_male.shape"
      ],
      "execution_count": null,
      "outputs": []
    },
    {
      "cell_type": "code",
      "metadata": {
        "id": "I9iBIvGoeiXH"
      },
      "source": [
        "df_male.head()"
      ],
      "execution_count": null,
      "outputs": []
    },
    {
      "cell_type": "code",
      "metadata": {
        "id": "aGRCjCwheiXJ"
      },
      "source": [
        "df_female = df[df.Gender == 'Female'].reset_index(drop=True)\n",
        "df_female.shape"
      ],
      "execution_count": null,
      "outputs": []
    },
    {
      "cell_type": "code",
      "metadata": {
        "scrolled": true,
        "id": "xmaYAxZteiXL"
      },
      "source": [
        "df_female.head()"
      ],
      "execution_count": null,
      "outputs": []
    },
    {
      "cell_type": "markdown",
      "metadata": {
        "id": "caNOeklFeiXN"
      },
      "source": [
        "### Analysis with plots:"
      ]
    },
    {
      "cell_type": "markdown",
      "metadata": {
        "id": "2m6yOgS0eiXN"
      },
      "source": [
        "##### Plots for original, non-separated by sex data:"
      ]
    },
    {
      "cell_type": "code",
      "metadata": {
        "id": "l7hY8XyTeiXN"
      },
      "source": [
        "iqs = ['FSIQ', 'VIQ', 'PIQ']\n",
        "yticks = list(range(60,170,10))\n",
        "\n",
        "fig, axes = plt.subplots(nrows=1, ncols=3, figsize=(12, 4))\n",
        "for ax, iq in zip(axes, iqs):\n",
        "    ax.scatter(df['MRI_Count'], df[iq])\n",
        "    ax.set_title('MRI_Count vs ' + iq)\n",
        "    ax.set_xlabel('MRI_Count')\n",
        "    ax.set_ylabel(iq)\n",
        "    ax.set_yticks(yticks)\n",
        "\n",
        "plt.show()"
      ],
      "execution_count": null,
      "outputs": []
    },
    {
      "cell_type": "markdown",
      "metadata": {
        "id": "W6njcMaDeiXP"
      },
      "source": [
        "##### Plots only for males:"
      ]
    },
    {
      "cell_type": "code",
      "metadata": {
        "id": "S8tPzX-aeiXP"
      },
      "source": [
        "iqs = ['FSIQ', 'VIQ', 'PIQ']\n",
        "yticks = list(range(70,160,10))\n",
        "\n",
        "fig, axes = plt.subplots(nrows=1, ncols=3, figsize=(12, 4))\n",
        "for ax, iq in zip(axes, iqs):\n",
        "    ax.scatter(df_male['MRI_Count'], df_male[iq])\n",
        "    ax.set_title('MRI_Count vs ' + iq + ' [Male]')\n",
        "    ax.set_xlabel('MRI_Count')\n",
        "    ax.set_ylabel(iq)\n",
        "    ax.set_yticks(yticks)\n",
        "\n",
        "plt.show():"
      ],
      "execution_count": null,
      "outputs": []
    },
    {
      "cell_type": "markdown",
      "metadata": {
        "id": "IhSYmq_UeiXR"
      },
      "source": [
        "##### Plots only for females:"
      ]
    },
    {
      "cell_type": "code",
      "metadata": {
        "id": "MSN43leDeiXS"
      },
      "source": [
        "iqs = ['FSIQ', 'VIQ', 'PIQ']\n",
        "yticks = list(range(70,150,10))\n",
        "\n",
        "fig, axes = plt.subplots(nrows=1, ncols=3, figsize=(12, 4))\n",
        "for ax, iq in zip(axes, iqs):\n",
        "    ax.scatter(df_female['MRI_Count'], df_female[iq])\n",
        "    ax.set_title('MRI_Count vs ' + iq + ' [Female]')\n",
        "    ax.set_xlabel('MRI_Count')\n",
        "    ax.set_ylabel(iq)\n",
        "    ax.set_yticks(yticks)\n",
        "\n",
        "plt.show()"
      ],
      "execution_count": null,
      "outputs": []
    },
    {
      "cell_type": "markdown",
      "metadata": {
        "id": "u0DJK7FmeiXT"
      },
      "source": [
        "In general, there is a medium correlation found.\n",
        "Also we can notice the lower correlation between brain size and intelligence for women than for males."
      ]
    },
    {
      "cell_type": "markdown",
      "metadata": {
        "id": "v1ZlrkzVeiXU"
      },
      "source": [
        "### Formulas for Pearson correlation coefficient:"
      ]
    },
    {
      "cell_type": "markdown",
      "metadata": {
        "id": "bzEKzIqUeiXU"
      },
      "source": [
        "Sample $r$ :"
      ]
    },
    {
      "cell_type": "markdown",
      "metadata": {
        "id": "bokU-oLyeiXU"
      },
      "source": [
        "$$\n",
        "r = \\frac{\\sum_{i=1}^n (X_i - \\bar{X}) (Y_i - \\bar{Y})}{\\sqrt{\\sum_{i=1}^n (X_i - \\bar{X})^2} {\\sqrt{\\sum_{i=1}^n (Y_i - \\bar{Y})^2}}}\n",
        "$$"
      ]
    },
    {
      "cell_type": "markdown",
      "metadata": {
        "id": "MHGQcbPyeiXV"
      },
      "source": [
        "where sample mean estimations:"
      ]
    },
    {
      "cell_type": "markdown",
      "metadata": {
        "id": "3vs7sSjIeiXV"
      },
      "source": [
        "$$\n",
        "    \\bar{x} = \\frac{1}{n}\\sum_{i=1}^n x_i\n",
        "$$"
      ]
    },
    {
      "cell_type": "markdown",
      "metadata": {
        "id": "D-BqrSy-eiXV"
      },
      "source": [
        "$$\n",
        "    \\bar{y} = \\frac{1}{n}\\sum_{i=1}^n y_i\n",
        "$$"
      ]
    },
    {
      "cell_type": "markdown",
      "metadata": {
        "id": "lHF56tfkeiXW"
      },
      "source": [
        "Distribution for $r$ can be transformed into:"
      ]
    },
    {
      "cell_type": "markdown",
      "metadata": {
        "id": "jnCxDE0NeiXW"
      },
      "source": [
        "$$\n",
        "t = \\frac{r}{\\sqrt{1 - {r}^2}}\\sqrt{n - 2} \\sim t_{n-2}\n",
        "$$"
      ]
    },
    {
      "cell_type": "markdown",
      "metadata": {
        "id": "9a7snFs-eiXW"
      },
      "source": [
        "So, sample distribution of this statistic is Student distribution with $n-2$ degrees of freedom."
      ]
    },
    {
      "cell_type": "code",
      "metadata": {
        "id": "-zuHTbgneiXX"
      },
      "source": [
        "def pearson_corr_coef(xs, ys):\n",
        "    x_hat = 1/len(xs) * sum(xs)\n",
        "    y_hat = 1/len(ys) * sum(ys)\n",
        "    \n",
        "    sum_numerator = 0\n",
        "    for i in range(len(xs)):\n",
        "        delta_x = xs[i] - x_hat\n",
        "        delta_y = ys[i] - y_hat\n",
        "        sum_numerator += delta_x * delta_y\n",
        "    \n",
        "    denom1 = math.sqrt(sum([(x_i - x_hat)**2 for x_i in xs]))\n",
        "    denom2 = math.sqrt(sum([(y_i - y_hat)**2 for y_i in ys]))\n",
        "    \n",
        "    r = sum_numerator/(denom1*denom2)\n",
        "    return r"
      ],
      "execution_count": null,
      "outputs": []
    },
    {
      "cell_type": "code",
      "metadata": {
        "id": "uN-vnoiNeiXY"
      },
      "source": [
        "def student_t(r, n):\n",
        "    t = r/(math.sqrt(1-r**2)) * math.sqrt(n-2)\n",
        "    return t"
      ],
      "execution_count": null,
      "outputs": []
    },
    {
      "cell_type": "markdown",
      "metadata": {
        "id": "IAMA-g0ReiXb"
      },
      "source": [
        "### Pearson correlation estimation and it's significance:"
      ]
    },
    {
      "cell_type": "markdown",
      "metadata": {
        "id": "Z_znC4s6eiXb"
      },
      "source": [
        "Let's assume that null hypothesis means $r$==0 (thus, alternative hypothesis means it is not equal to 0):"
      ]
    },
    {
      "cell_type": "markdown",
      "metadata": {
        "id": "5b_BbKIoeiXb"
      },
      "source": [
        "$H_0: r = 0$"
      ]
    },
    {
      "cell_type": "code",
      "metadata": {
        "id": "_bZ1B8XNeiXc"
      },
      "source": [
        "def count_corr_coef(df):\n",
        "    r_FSIQ = pearson_corr_coef(df.MRI_Count, df.FSIQ)\n",
        "    r_VIQ = pearson_corr_coef(df.MRI_Count, df.VIQ)\n",
        "    r_PIQ = pearson_corr_coef(df.MRI_Count, df.PIQ)\n",
        "\n",
        "    n = df.shape[0]\n",
        "\n",
        "    t_FSIQ = student_t(r_FSIQ, n)\n",
        "    t_VIQ = student_t(r_VIQ, n)\n",
        "    t_PIQ = student_t(r_PIQ, n)\n",
        "\n",
        "    print('Correlation between Brain Size and each Intelligence feature:')\n",
        "    print('FSIQ: r =', r_FSIQ, ', t =', t_FSIQ)\n",
        "    print('VIQ: r =', r_VIQ, ', t =', t_VIQ)\n",
        "    print('PIQ: r =', r_PIQ, ', t =', t_PIQ)\n",
        "\n",
        "    print(str.format('\\nCritical values of t for distribution with {0} degrees of freedom and significance level (alpha) 0.05',\n",
        "                 n-2))\n",
        "    print(st.t(n-2).ppf([0.025, 0.975]))"
      ],
      "execution_count": null,
      "outputs": []
    },
    {
      "cell_type": "markdown",
      "metadata": {
        "id": "GHQK-39yeiXe"
      },
      "source": [
        "#### Pearson correlation coefficient for data consists of both males and females:"
      ]
    },
    {
      "cell_type": "code",
      "metadata": {
        "id": "OVwijLgveiXe"
      },
      "source": [
        "count_corr_coef(df)"
      ],
      "execution_count": null,
      "outputs": []
    },
    {
      "cell_type": "markdown",
      "metadata": {
        "id": "mZvD35IqeiXg"
      },
      "source": [
        "In all three cases, the values of the criterion t exceed the critical value for a significance level of 0.05. Therefore, we can reject the null hypothesis and take the values of the correlation coefficient for a joint sample of men and women:\n",
        "\n",
        "* between brain size and FSIQ test results of 0.358\n",
        "* between brain size and VIQ test results of 0.337\n",
        "* between brain size and PIQ test results of 0.387"
      ]
    },
    {
      "cell_type": "markdown",
      "metadata": {
        "id": "ITXLi37JeiXg"
      },
      "source": [
        "#### Pearson correlation coefficient for males:"
      ]
    },
    {
      "cell_type": "code",
      "metadata": {
        "id": "AJI8ZZfneiXg"
      },
      "source": [
        "count_corr_coef(df_male)"
      ],
      "execution_count": null,
      "outputs": []
    },
    {
      "cell_type": "markdown",
      "metadata": {
        "id": "e1lCl22PeiXl"
      },
      "source": [
        "For a male sample, the significance of the correlation coefficient between brain size and the FSIQ test result, as well as between brain size and the PIQ test result, can be accepted. And for the VIQ test, the significance level was low.\n",
        "\n",
        "* The correlation coefficient for men between brain size and FSIQ test results is 0.498\n",
        "* The correlation coefficient for men between brain size and PIQ test results is 0.568"
      ]
    },
    {
      "cell_type": "markdown",
      "metadata": {
        "id": "7hwE8xp6eiXl"
      },
      "source": [
        "#### For females:"
      ]
    },
    {
      "cell_type": "code",
      "metadata": {
        "id": "zONPxarMeiXl"
      },
      "source": [
        "count_corr_coef(df_female)"
      ],
      "execution_count": null,
      "outputs": []
    },
    {
      "cell_type": "markdown",
      "metadata": {
        "id": "ilDZSmnBeiXo"
      },
      "source": [
        "\n",
        "All t values for correlation in women subsample is not greater than a critical value. "
      ]
    },
    {
      "cell_type": "markdown",
      "metadata": {
        "id": "xfxKusqyeiXp"
      },
      "source": [
        "<b>Summary</b>: there is a correlation between brain size and IQ tests results for subsample consisting both men and women objects and for one consisting only men objects. But the correlation for women subsample equal to 0."
      ]
    },
    {
      "cell_type": "markdown",
      "metadata": {
        "id": "lsePKxw1eiXp"
      },
      "source": [
        "## Task 4.2"
      ]
    },
    {
      "cell_type": "code",
      "metadata": {
        "id": "f5e9rpsheiXq"
      },
      "source": [
        "df = pd.read_csv('./data/HW1_task4_car_prefs_data.tsv', sep='\\t')\n",
        "df.head()"
      ],
      "execution_count": null,
      "outputs": []
    },
    {
      "cell_type": "code",
      "metadata": {
        "id": "lsWBgMmYeiXs"
      },
      "source": [
        "df[['Sex', 'PreferCar']].head()"
      ],
      "execution_count": null,
      "outputs": []
    },
    {
      "cell_type": "code",
      "metadata": {
        "id": "BQgO88EFeiX5"
      },
      "source": [
        "# all values for Sex and their counts\n",
        "df.Sex.value_counts()"
      ],
      "execution_count": null,
      "outputs": []
    },
    {
      "cell_type": "code",
      "metadata": {
        "id": "tg4gmq1UeiX6"
      },
      "source": [
        "# all values PreferCar and their counts\n",
        "df.PreferCar.value_counts()"
      ],
      "execution_count": null,
      "outputs": []
    },
    {
      "cell_type": "markdown",
      "metadata": {
        "id": "I3MHbbyCeiX8"
      },
      "source": [
        "There are 4*2=8 combinations of Sex:PreferCar"
      ]
    },
    {
      "cell_type": "markdown",
      "metadata": {
        "id": "NYoIRAnDeiX8"
      },
      "source": [
        "#### Contingency table (with absolute frequencies of values) for Sex and PreferCar"
      ]
    },
    {
      "cell_type": "code",
      "metadata": {
        "id": "kOiuJIhweiX9"
      },
      "source": [
        "sex1_list = []\n",
        "sex2_list = []\n",
        "\n",
        "for i in range(df.Sex.value_counts().count()):\n",
        "    for j in range(df.PreferCar.value_counts().count()):\n",
        "        nij = df[(df.Sex == i+1) & (df.PreferCar == j+1)].count()[0]\n",
        "        if(i == 0):\n",
        "            sex1_list.append(nij)\n",
        "        else:\n",
        "            sex2_list.append(nij)\n",
        "\n",
        "crosstable = {'1': sex1_list, '2': sex2_list}\n",
        "df_crosstab = pd.DataFrame(data=crosstable)\n",
        "df_crosstab"
      ],
      "execution_count": null,
      "outputs": []
    },
    {
      "cell_type": "code",
      "metadata": {
        "id": "WStuyrqHeiX_"
      },
      "source": [
        "# Name the rows and the columns:\n",
        "df_crosstab.columns.name = 'Sex'\n",
        "df_crosstab.index = range(1, 5)\n",
        "df_crosstab.index.name = 'PreferCar'\n",
        "df_crosstab"
      ],
      "execution_count": null,
      "outputs": []
    },
    {
      "cell_type": "code",
      "metadata": {
        "id": "q7swYLaneiYA"
      },
      "source": [
        "n = df_crosstab.sum().sum()\n",
        "print('Total count of values =', n)"
      ],
      "execution_count": null,
      "outputs": []
    },
    {
      "cell_type": "code",
      "metadata": {
        "id": "vEuwNPrBeiYC"
      },
      "source": [
        "K = df_crosstab.shape[0]\n",
        "print('Row number = ', K)"
      ],
      "execution_count": null,
      "outputs": []
    },
    {
      "cell_type": "code",
      "metadata": {
        "id": "kE0TrwR8eiYD"
      },
      "source": [
        "L = df_crosstab.shape[1]\n",
        "print('Columns number = ', L)"
      ],
      "execution_count": null,
      "outputs": []
    },
    {
      "cell_type": "code",
      "metadata": {
        "id": "_sV8M0mHeiYE"
      },
      "source": [
        "# sum over rows:\n",
        "ni = [df_crosstab.iloc[i].sum() for i in range(K)]\n",
        "ni"
      ],
      "execution_count": null,
      "outputs": []
    },
    {
      "cell_type": "code",
      "metadata": {
        "id": "xSgto04QeiYH"
      },
      "source": [
        "# sum over columns:\n",
        "nj = [df_crosstab[str(j+1)].sum() for j in range(L)]\n",
        "nj"
      ],
      "execution_count": null,
      "outputs": []
    },
    {
      "cell_type": "markdown",
      "metadata": {
        "id": "K1rT-PH8eiYI"
      },
      "source": [
        "### Checking the hypothesis:"
      ]
    },
    {
      "cell_type": "markdown",
      "metadata": {
        "id": "y3tm-swreiYJ"
      },
      "source": [
        "$H_0$: there is no statistical relationship btwn Gender and Preferable car\n",
        "\n",
        "$Н_1$: there is statistical relationship"
      ]
    },
    {
      "cell_type": "markdown",
      "metadata": {
        "id": "Ht2RdlG9eiYJ"
      },
      "source": [
        "#### Chi2 criterion:"
      ]
    },
    {
      "cell_type": "markdown",
      "metadata": {
        "id": "9JkW0a-xeiYJ"
      },
      "source": [
        "Statistic for $X^2$ :"
      ]
    },
    {
      "cell_type": "markdown",
      "metadata": {
        "id": "QSQyDf9veiYK"
      },
      "source": [
        "$$\n",
        "X^2 = n (\\sum_{i=1}^K \\sum_{j=1}^L \\frac{n_{ij}^2}{n_i n_j} - 1) \\sim \\chi_{(K-1)(L-1)}^2\n",
        "$$"
      ]
    },
    {
      "cell_type": "markdown",
      "metadata": {
        "id": "EggGcHSMeiYL"
      },
      "source": [
        "K - row number in the contingency table, L - columns number in the table"
      ]
    },
    {
      "cell_type": "code",
      "metadata": {
        "id": "MW-vUsaQeiYL"
      },
      "source": [
        "summ = 0\n",
        "for i in range(K):\n",
        "    for j in range(L):\n",
        "        summ += (df_crosstab.iloc[i,j]**2)/(ni[i]*nj[j])\n",
        "X2 = n*(summ - 1)\n",
        "X2"
      ],
      "execution_count": null,
      "outputs": []
    },
    {
      "cell_type": "markdown",
      "metadata": {
        "id": "nUiTdAJfeiYM"
      },
      "source": [
        "$$\\chi_{(K-1)(L-1)}^2 = \\chi_{(4-1)(2-1)}^2 = \\chi_3^2$$"
      ]
    },
    {
      "cell_type": "code",
      "metadata": {
        "id": "9OGKagVEeiYM"
      },
      "source": [
        "degfreed = 3\n",
        "st.chi2(degfreed).ppf([0.025, 0.975])"
      ],
      "execution_count": null,
      "outputs": []
    },
    {
      "cell_type": "markdown",
      "metadata": {
        "id": "hzD6w8d5eiYN"
      },
      "source": [
        "<b>Symmary:</b> value of $X^2$ is highly greater than a critical value for  $\\chi_3^2$ for significance level == 0.05.\n",
        "\n",
        "It means we can reject the null hypothesis and accept the alternative one meaning there is a relationship between gender and prefferable car."
      ]
    },
    {
      "cell_type": "markdown",
      "metadata": {
        "id": "s3VEId_FeiYO"
      },
      "source": [
        "# Task 3\n",
        "\n",
        "You can find and download a dataset there:\n",
        "https://www.kaggle.com/russellyates88/suicide-rates-overview-1985-to-2016\n",
        "\n",
        "\n",
        "1) For any country (you are free to choose any of the presented) \n",
        " *  Visualize a feature **suicides_no** considering other features: **sex**, **age** (or **generation**) and year;\n",
        " *  Check whether there is statistical difference for suicide number between these groups: men / women. If it is found, can we claim that people of certain sex are more prone to suicides or do we need additional information?\n",
        "\n",
        "2) For 2016: divide countries into 3-4 groups according to the values of the **gdp_per_capita** feature (use statistical characteristics to determine how to divide the data into groups), check if the suicides / 100k pop indicator differs in these groups. Do not forget that for each country you have several values and they need to be aggregated or checked for each group separately."
      ]
    },
    {
      "cell_type": "code",
      "metadata": {
        "id": "gkjeDPbfeiYO"
      },
      "source": [
        "# suicides = pd.read_csv('./master.csv')\n",
        "suicides = read_drive_dataset(*HOMEWORK_DATASETS['suicide_rates'])  # PART 2\n",
        "sweden = suicides.loc[suicides.country == 'Sweden']\n",
        "sweden.head()"
      ],
      "execution_count": null,
      "outputs": []
    },
    {
      "cell_type": "code",
      "metadata": {
        "id": "NA4mlmu90Gv5"
      },
      "source": [
        "sweden.query('sex==\"male\" and year == \"2006\"')"
      ],
      "execution_count": null,
      "outputs": []
    },
    {
      "cell_type": "markdown",
      "metadata": {
        "id": "vVUjSsIFeiYY"
      },
      "source": [
        "## 1:\n",
        "### 1.1. Visualization of `suicides_no`:"
      ]
    },
    {
      "cell_type": "code",
      "metadata": {
        "id": "YGpKqEQweiYY"
      },
      "source": [
        "# Encode age feature: \n",
        "cats = {}\n",
        "for i, age in enumerate(sorted(set(sweden.age))):\n",
        "    cats[age] = i\n",
        "sweden['age_cats'] = sweden.age.map(cats) \n",
        "\n",
        "# Some visul stuff:\n",
        "markers_dict = {'female': '*', 'male': 'o'}\n",
        "size_dict = {'female': 200, 'male': 70}\n",
        "\n",
        "plt.figure(figsize=(15, 15))\n",
        "\n",
        "for sp, group in sweden.groupby(\"sex\"):\n",
        "    sc = plt.scatter(x='year', y='suicides_no', c='age_cats', alpha=0.8,\n",
        "                     data=group, cmap='gist_ncar', edgecolor='k', \n",
        "                     linewidth=0.6, \n",
        "                     s = size_dict[sp], \n",
        "                     marker=markers_dict[sp],\n",
        "                     label=sp)\n",
        "    \n",
        "plt.legend()\n",
        "cbar = plt.colorbar(sc)\n",
        "cbar.ax.set_ylabel(\"age\", rotation=270, fontsize=12)\n",
        "cbar.ax.set_yticklabels(cats, fontsize=12)\n",
        "\n",
        "axes = plt.gca()\n",
        "axes.set_xlabel('Year', fontsize=12)\n",
        "axes.set_ylabel('Suicide numbers', fontsize=12)\n",
        "axes.set_title('Suicide numbers dependency', fontsize=12)"
      ],
      "execution_count": null,
      "outputs": []
    },
    {
      "cell_type": "markdown",
      "metadata": {
        "id": "vQGMGVmQeiYa"
      },
      "source": [
        "Interesting that tendency to change number of suicide depending on age group is equal for both genders. One could also notice that frequencies for men is greater that for women for all age groups by ~2."
      ]
    },
    {
      "cell_type": "code",
      "metadata": {
        "tags": [],
        "id": "R1Hz0z6deiYa"
      },
      "source": [
        "# Для проверки гипотезы о статистически значимых различиях сгруппируем данные по полам и годам:\n",
        "# Group data for checking a hypothesis: \n",
        "sex_suicides = sweden.groupby(['sex', 'year'])['suicides_no'].mean()\n",
        "\n",
        "alpha = 0.05\n",
        "\n",
        "# Test for STDs of samples:\n",
        "stat, p_d = st.levene(sex_suicides['female'], sex_suicides['male'])\n",
        "\n",
        "if p_d <= alpha:\n",
        "    print(f'(P-value == {p_d}) <= (alpha=={alpha})')\n",
        "    print('H0 (dispersions are equal) is rejected.')\n",
        "else:\n",
        "    print(f'(P-value == {p_d}) > (alpha=={alpha})')\n",
        "    print('There are no evidences for rejecting H0.')"
      ],
      "execution_count": null,
      "outputs": []
    },
    {
      "cell_type": "code",
      "metadata": {
        "tags": [],
        "id": "d2Wbd70_eiYc"
      },
      "source": [
        "# Since dispersions are equal, we can use T-test:\n",
        "stat, p = st.ttest_ind(sex_suicides['female'], sex_suicides['male'], equal_var=True)\n",
        "\n",
        "if p <= alpha:\n",
        "    print(f'(P-value == {p}) <= (alpha=={alpha})')\n",
        "    print('H0 (mean values are equal) is rejected.')\n",
        "else:\n",
        "    print(f'(P-value == {p}) > (alpha=={alpha})')\n",
        "    print('There are no evidences for rejecting H0.') "
      ],
      "execution_count": null,
      "outputs": []
    },
    {
      "cell_type": "markdown",
      "metadata": {
        "id": "m319jY9GeiYd"
      },
      "source": [
        "Statistical differences between mean values of suicide number for both genders are proven for Sweden. Analogous tests are required for the rest of the countries."
      ]
    },
    {
      "cell_type": "markdown",
      "metadata": {
        "id": "Eco37BJ4eiYd"
      },
      "source": [
        "## 2: "
      ]
    },
    {
      "cell_type": "code",
      "metadata": {
        "tags": [],
        "id": "NosBgAaOeiYd"
      },
      "source": [
        "# Get 2016 year:\n",
        "suicides2k16 = suicides.loc[suicides.year==2016]\n",
        "\n",
        "# How many countries?\n",
        "print(f'Number of countries: {suicides2k16[\"country\"].nunique()}')\n",
        "\n",
        "# How these 2 features differ across all the counties:\n",
        "suicides2k16.groupby('country')['suicides/100k pop', 'gdp_per_capita ($)'].std()"
      ],
      "execution_count": null,
      "outputs": []
    },
    {
      "cell_type": "code",
      "metadata": {
        "id": "RfFvMnXLeiYf"
      },
      "source": [
        "# Their mean values sorted by `gdp_per_capita`:\n",
        "suicides2k16.groupby('country')['suicides/100k pop', 'gdp_per_capita ($)'].mean().sort_values(by='gdp_per_capita ($)', ascending=False)"
      ],
      "execution_count": null,
      "outputs": []
    },
    {
      "cell_type": "markdown",
      "metadata": {
        "id": "2ChD4_uMeiYh"
      },
      "source": [
        "We have a single value of GPD for each country. One approach to split countries is using quantiles of GPD -- we will get 4 groups of countries. Preliminary we can suppose that in countries with low GPD suicide number is greater.   \n",
        "**BUT!**   \n",
        "For each country we have several age groups with different `suicides/100k pop` and averaging these values is not a quite proper way because values of this feature could differ between age groups greatly. Instead, we will aggregate values of `suicides/100k pop` between genders within one age group.  \n",
        "Thus we will get 6 datasets and 6 hypothesis to check."
      ]
    },
    {
      "cell_type": "code",
      "metadata": {
        "id": "qst1a9zM2YLs"
      },
      "source": [
        "groupedby_country_and_age = suicides2k16.groupby(['country', 'age'], as_index=False)[['suicides/100k pop',  'gdp_per_capita ($)']].mean()\n",
        "groupedby_country_and_age.sample(5)"
      ],
      "execution_count": null,
      "outputs": []
    },
    {
      "cell_type": "code",
      "metadata": {
        "id": "hviV44M35lsd"
      },
      "source": [
        "def run_tests_over_age_groups(dataset: pd.DataFrame):\n",
        "  alpha = 0.05\n",
        "\n",
        "  for age_group in dataset.age.unique():\n",
        "    countires_of_age_group =dataset.query('age==@age_group')\n",
        "    quantiles_series = pd.qcut(countires_of_age_group['gdp_per_capita ($)'], [0, .25, .5, .75, 1.])\n",
        "    quantiles_unique = set(quantiles_series)\n",
        "\n",
        "    # Encode intervals into labels: \n",
        "    countires_of_age_group.loc[:, 'quantiles'] = quantiles_series.replace({q : i for i, q in enumerate(sorted(quantiles_unique))})\n",
        "\n",
        "    # Now we have groups without aggregating over countries:\n",
        "    groups = [countires_of_age_group.loc[countires_of_age_group.quantiles == i, :] for i in range(len(quantiles_unique))]\n",
        "\n",
        "    # The aggregate number of suicides whithin each group:\n",
        "    groups_aggr = [groups[i].groupby('country')['suicides/100k pop'].mean() for i in range(len(quantiles_unique))]\n",
        "\n",
        "\n",
        "    # Tests for dispersions:\n",
        "    stat, p_g = st.levene(*groups_aggr)\n",
        "\n",
        "    print(f\"Tests for group: {age_group}\\n\")\n",
        "    if p_g <= alpha:\n",
        "        print(f'--- (P-value == {p_g}) <= (alpha=={alpha})')\n",
        "        print('--- H0 (dispersions are equal) is rejected. \\n--- ANOVA could not be implemented!\\n')\n",
        "    else:\n",
        "        print(f'--- (P-value == {p_g}) > (alpha=={alpha})')\n",
        "        print('--- There are no proofs for rejecting H0 (dispersions are equal).\\n')\n",
        "\n",
        "        stat, p_anova = st.f_oneway(*groups_aggr)\n",
        "        if p_anova <= alpha:\n",
        "            print(f'--- (P-value == {p_g}) <= (alpha=={alpha})')\n",
        "            print('--- H0 (sample means are equal) is rejected.\\n\\n')\n",
        "        else:\n",
        "            print(f'--- (P-value == {p_g}) > (alpha=={alpha})')\n",
        "            print('--- There are no proofs for rejecting H0 (sample means are equal).\\n\\n')"
      ],
      "execution_count": null,
      "outputs": []
    },
    {
      "cell_type": "code",
      "metadata": {
        "id": "xnNTSxX-7Ixf"
      },
      "source": [
        "run_tests_over_age_groups(groupedby_country_and_age)"
      ],
      "execution_count": null,
      "outputs": []
    },
    {
      "cell_type": "markdown",
      "metadata": {
        "id": "5E1ao1z08UXf"
      },
      "source": [
        "We cannot reject null hypothesis about equal sample mean of `suicide number over 100k population`  between countries split by GPD by capita for these age groups:\n",
        "* 15-24 years\n",
        "* 25-34 years \n",
        "* 35-54 years\n",
        "* 55-74 years\n",
        "\n",
        "And there are differences in number of suicides for group: `75+ years` if we divide countries by GPD per capita. These results should be analysed additionally."
      ]
    }
  ]
}