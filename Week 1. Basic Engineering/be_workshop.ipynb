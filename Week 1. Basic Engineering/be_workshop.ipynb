{
  "nbformat": 4,
  "nbformat_minor": 0,
  "metadata": {
    "kernelspec": {
      "display_name": "Python 3",
      "language": "python",
      "name": "python3"
    },
    "language_info": {
      "codemirror_mode": {
        "name": "ipython",
        "version": 3
      },
      "file_extension": ".py",
      "mimetype": "text/x-python",
      "name": "python",
      "nbconvert_exporter": "python",
      "pygments_lexer": "ipython3",
      "version": "3.7.7"
    },
    "toc": {
      "base_numbering": 1,
      "nav_menu": {},
      "number_sections": true,
      "sideBar": true,
      "skip_h1_title": false,
      "title_cell": "Table of Contents",
      "title_sidebar": "Contents",
      "toc_cell": false,
      "toc_position": {},
      "toc_section_display": true,
      "toc_window_display": false
    },
    "varInspector": {
      "cols": {
        "lenName": 16,
        "lenType": 16,
        "lenVar": 40
      },
      "kernels_config": {
        "python": {
          "delete_cmd_postfix": "",
          "delete_cmd_prefix": "del ",
          "library": "var_list.py",
          "varRefreshCmd": "print(var_dic_list())"
        },
        "r": {
          "delete_cmd_postfix": ") ",
          "delete_cmd_prefix": "rm(",
          "library": "var_list.r",
          "varRefreshCmd": "cat(var_dic_list()) "
        }
      },
      "types_to_exclude": [
        "module",
        "function",
        "builtin_function_or_method",
        "instance",
        "_Feature"
      ],
      "window_display": false
    },
    "colab": {
      "name": "be-workshop.ipynb",
      "provenance": []
    }
  },
  "cells": [
    {
      "cell_type": "markdown",
      "metadata": {
        "id": "o2wMVHudjX6g"
      },
      "source": [
        "# Basic Engineering\n",
        "\n",
        "## Introduction\n",
        "\n",
        "In this notbook you will go through the process of environment setup and try packages mentioned in the theory part of the module.\n",
        "\n",
        "> We assume that you created fresh environment and installed notebook package on top of it."
      ]
    },
    {
      "cell_type": "markdown",
      "metadata": {
        "id": "BGOzfS3gjX62"
      },
      "source": [
        "## Conda environment\n",
        "\n",
        "At this point you already have a working environment since you opened this notebook. The only packaged installed is **notebook** which is a part of jupyter ecosystem. Lets proceed with installation of other packages."
      ]
    },
    {
      "cell_type": "markdown",
      "metadata": {
        "id": "hFalipR_jX65"
      },
      "source": [
        "## Using shell commands from the notebook\n",
        "\n",
        "First lets install numpy via pip. We can do it as easy as:\n",
        "\n",
        "```bash\n",
        "pip install numpy\n",
        "```\n",
        "\n",
        "To run this and any other shell commands use ! symbol before the command itself."
      ]
    },
    {
      "cell_type": "code",
      "metadata": {
        "tags": [],
        "id": "ScpGH4VBjX69"
      },
      "source": [
        "!pip install numpy"
      ],
      "execution_count": null,
      "outputs": []
    },
    {
      "cell_type": "markdown",
      "metadata": {
        "id": "QtsXiX4SjX7C"
      },
      "source": [
        "To install pandas we are going to use conda instead. Look at command below:\n",
        "- You must use `-y` parameter when running `conda install` inside the notebook. Conda will prompt you to agree to installation. If you provide `-y` parameter, this will be omitted.\n",
        "- We also use `-c conda-forge` to install from specific conda channel. The channel is just a place where conda packages are stored. Many packages are not available in the official channels, however they are most likely available if conda-forge. Note, that pandas is available in official channel, but we use conda-forge just to get in touch.\n",
        "- The numbers after the package name is the version of the package which is going to be installed. Here we have pandas version 1.0.5."
      ]
    },
    {
      "cell_type": "code",
      "metadata": {
        "tags": [],
        "id": "rr2lujFujX7H"
      },
      "source": [
        "!conda install -y -c conda-forge pandas==1.0.5"
      ],
      "execution_count": null,
      "outputs": []
    },
    {
      "cell_type": "markdown",
      "metadata": {
        "ExecuteTime": {
          "end_time": "2020-07-19T05:25:08.253624Z",
          "start_time": "2020-07-19T05:25:08.247626Z"
        },
        "id": "efYKHmsBjX7L"
      },
      "source": [
        "## Numpy, vectorization\n",
        "\n",
        "Numpy is rich and powerfull library. The idea behind it are optimized operations with matrices (or tensors when there are more than 2 dimentions). It is written in C, thus providing much better peformance than pure Python. Same (or similar) interface is used in the most popular deep learning libraries like TensorFlow and PyTorch.\n",
        "\n",
        "The core principle of Numpy is vectorization. Instead of calculating matrix operations in for cycle one number by one, Numpy parallelize this operations obtaining much better performance.\n",
        "\n",
        "Lets see it for ourselves. First we create a 100x100 matrix with integers ranging from 0 to 100. Then measure the time of matrix multiplication in two cases:\n",
        "- Matrix as list of list in pure Python\n",
        "- Matrix as optimized numpy array."
      ]
    },
    {
      "cell_type": "code",
      "metadata": {
        "ExecuteTime": {
          "end_time": "2020-07-19T05:56:41.944945Z",
          "start_time": "2020-07-19T05:56:41.938944Z"
        },
        "id": "jiufifDqjX7P"
      },
      "source": [
        "import numpy as np\n",
        "\n",
        "mtx = np.random.randint(0, 100, size=(200, 200))"
      ],
      "execution_count": null,
      "outputs": []
    },
    {
      "cell_type": "code",
      "metadata": {
        "ExecuteTime": {
          "end_time": "2020-07-19T05:56:43.976458Z",
          "start_time": "2020-07-19T05:56:43.964456Z"
        },
        "id": "DnVeEV8KjX7U"
      },
      "source": [
        "print(f'Shape: {mtx.shape}')\n",
        "mtx"
      ],
      "execution_count": null,
      "outputs": []
    },
    {
      "cell_type": "code",
      "metadata": {
        "ExecuteTime": {
          "end_time": "2020-07-19T05:56:45.986462Z",
          "start_time": "2020-07-19T05:56:45.969458Z"
        },
        "id": "xltCLaKHjX7V"
      },
      "source": [
        "mtx_as_list = mtx.tolist()"
      ],
      "execution_count": null,
      "outputs": []
    },
    {
      "cell_type": "code",
      "metadata": {
        "ExecuteTime": {
          "end_time": "2020-07-19T06:12:37.250909Z",
          "start_time": "2020-07-19T06:12:32.077911Z"
        },
        "id": "VpdSusDLjX7Y"
      },
      "source": [
        "%%time\n",
        "result = np.zeros_like(mtx).tolist()\n",
        "for i in range(len(mtx_as_list)):\n",
        "    for j in range(len(mtx_as_list)):\n",
        "        for k in range(len(mtx_as_list)):\n",
        "             result[i][j] += mtx_as_list[i][k] * mtx_as_list[k][j]"
      ],
      "execution_count": null,
      "outputs": []
    },
    {
      "cell_type": "code",
      "metadata": {
        "ExecuteTime": {
          "end_time": "2020-07-19T06:12:26.904909Z",
          "start_time": "2020-07-19T06:12:26.878915Z"
        },
        "id": "DBIkiWaejX7b"
      },
      "source": [
        "%%time\n",
        "# @ - matrix multiplication operation in Numpy\n",
        "numpy_result = mtx @ mtx"
      ],
      "execution_count": null,
      "outputs": []
    },
    {
      "cell_type": "markdown",
      "metadata": {
        "ExecuteTime": {
          "end_time": "2020-07-19T05:56:35.968454Z",
          "start_time": "2020-07-19T05:53:23.166Z"
        },
        "id": "WdZKOmZijX7f"
      },
      "source": [
        "As you can see matrix operation in Numpy are very optimized. Many other libraries, like Pandas, build their operations on top of numpy."
      ]
    },
    {
      "cell_type": "markdown",
      "metadata": {
        "ExecuteTime": {
          "end_time": "2020-07-19T05:56:35.999456Z",
          "start_time": "2020-07-19T05:56:03.173Z"
        },
        "id": "nre8BE-6jX7g"
      },
      "source": [
        "## Pandas\n",
        "\n",
        "Now lets look at Pandas. It's like a swiss army knife for data wrangling and analysis. We'll go through indexing, column creation, data saving and loading, and custom functions."
      ]
    },
    {
      "cell_type": "code",
      "metadata": {
        "id": "8AFZJrE5jX7i"
      },
      "source": [
        "!pip install bds_courseware"
      ],
      "execution_count": null,
      "outputs": []
    },
    {
      "cell_type": "code",
      "metadata": {
        "ExecuteTime": {
          "end_time": "2020-07-28T11:39:23.459132Z",
          "start_time": "2020-07-28T11:39:21.504539Z"
        },
        "id": "4NwxA-AQjX7k"
      },
      "source": [
        "from bds_courseware import get_msft_store_dataset\n",
        "import pandas as pd\n",
        "\n",
        "df = get_msft_store_dataset()\n",
        "df.head()"
      ],
      "execution_count": null,
      "outputs": []
    },
    {
      "cell_type": "markdown",
      "metadata": {
        "id": "WpUNNvWijX7l"
      },
      "source": [
        "Frequently, data is stored as a plain text in a comma separated format. It is plain, human-readable format.\n",
        "\n",
        "Pandas parser support many options to read such files. When reading csv file with known structure it is best to parse every column on reading step (e.g. timestamps). See documentation of `pandas.read_csv` for all options."
      ]
    },
    {
      "cell_type": "code",
      "metadata": {
        "ExecuteTime": {
          "end_time": "2020-07-27T08:30:19.280890Z",
          "start_time": "2020-07-27T08:30:18.516216Z"
        },
        "id": "5ypKltJDjX7m"
      },
      "source": [
        "df.to_csv('data.csv', index=False)"
      ],
      "execution_count": null,
      "outputs": []
    },
    {
      "cell_type": "code",
      "metadata": {
        "ExecuteTime": {
          "end_time": "2020-07-27T08:30:19.665235Z",
          "start_time": "2020-07-27T08:30:19.596187Z"
        },
        "id": "p1F1HDC-jX7n"
      },
      "source": [
        "pd.read_csv('data.csv')"
      ],
      "execution_count": null,
      "outputs": []
    },
    {
      "cell_type": "markdown",
      "metadata": {
        "ExecuteTime": {
          "end_time": "2020-07-27T09:22:57.516223Z",
          "start_time": "2020-07-27T09:22:57.500615Z"
        },
        "id": "hyeSK6KGjX7p"
      },
      "source": [
        "You can reffer to a columns by name like a dictionary or an attribute. The returned object is a **pandas.Series**. You can treat it like a data vector."
      ]
    },
    {
      "cell_type": "code",
      "metadata": {
        "ExecuteTime": {
          "end_time": "2020-07-27T09:23:38.106187Z",
          "start_time": "2020-07-27T09:23:38.074935Z"
        },
        "id": "2I_61xB9jX7r"
      },
      "source": [
        "df[\"Name\"]\n",
        "# or\n",
        "df.Name"
      ],
      "execution_count": null,
      "outputs": []
    },
    {
      "cell_type": "markdown",
      "metadata": {
        "ExecuteTime": {
          "end_time": "2020-07-27T09:24:21.551967Z",
          "start_time": "2020-07-27T09:24:21.536305Z"
        },
        "id": "O1JsZ9A8jX7s"
      },
      "source": [
        "You can see that some name are truncated. When working with text data it is useful to remove truncation with the next command"
      ]
    },
    {
      "cell_type": "code",
      "metadata": {
        "ExecuteTime": {
          "end_time": "2020-07-27T08:32:05.561833Z",
          "start_time": "2020-07-27T08:32:05.524172Z"
        },
        "id": "QAL8Qei-jX7t"
      },
      "source": [
        "pd.options.display.max_colwidth = None"
      ],
      "execution_count": null,
      "outputs": []
    },
    {
      "cell_type": "markdown",
      "metadata": {
        "ExecuteTime": {
          "end_time": "2020-07-27T09:25:37.050182Z",
          "start_time": "2020-07-27T09:25:37.034590Z"
        },
        "id": "NE9Q14jfjX7t"
      },
      "source": [
        "**Series** support common math and boolean opperations."
      ]
    },
    {
      "cell_type": "code",
      "metadata": {
        "ExecuteTime": {
          "end_time": "2020-07-27T08:38:05.740507Z",
          "start_time": "2020-07-27T08:38:05.702740Z"
        },
        "id": "v5qOFIe6jX7t"
      },
      "source": [
        "df[\"Rating\"] < 2"
      ],
      "execution_count": null,
      "outputs": []
    },
    {
      "cell_type": "code",
      "metadata": {
        "ExecuteTime": {
          "end_time": "2020-07-27T08:37:26.856526Z",
          "start_time": "2020-07-27T08:37:26.825243Z"
        },
        "id": "eGPlG-aOjX7v"
      },
      "source": [
        "df[\"Rating\"] * 10"
      ],
      "execution_count": null,
      "outputs": []
    },
    {
      "cell_type": "markdown",
      "metadata": {
        "ExecuteTime": {
          "end_time": "2020-07-27T09:26:31.355734Z",
          "start_time": "2020-07-27T09:26:31.340072Z"
        },
        "id": "qlTGTQsgjX7w"
      },
      "source": [
        "Another useful function is `value_counts()`. Use it to calculate frequencies of each unique values in a **Series**."
      ]
    },
    {
      "cell_type": "code",
      "metadata": {
        "ExecuteTime": {
          "end_time": "2020-07-27T08:34:46.288898Z",
          "start_time": "2020-07-27T08:34:46.273267Z"
        },
        "id": "hzcrwz9AjX7w"
      },
      "source": [
        "df[\"Rating\"].value_counts()"
      ],
      "execution_count": null,
      "outputs": []
    },
    {
      "cell_type": "code",
      "metadata": {
        "id": "rKRsR_6kjX7x"
      },
      "source": [
        "# Calculate percentage of each rating number instead of absolute value\n",
        "###\n",
        "### YOUR CODE HERE\n",
        "###"
      ],
      "execution_count": null,
      "outputs": []
    },
    {
      "cell_type": "markdown",
      "metadata": {
        "ExecuteTime": {
          "end_time": "2020-07-27T09:27:29.679737Z",
          "start_time": "2020-07-27T09:27:29.641910Z"
        },
        "id": "sBvq1r6EjX7x"
      },
      "source": [
        "You can create new or update existing column using simple assignment. Another way is to use `.assign()` function. Assign is very useful it pair with long chained expressions."
      ]
    },
    {
      "cell_type": "code",
      "metadata": {
        "ExecuteTime": {
          "end_time": "2020-07-27T09:29:12.082122Z",
          "start_time": "2020-07-27T09:29:12.051024Z"
        },
        "id": "A3RsRDXRjX70"
      },
      "source": [
        "df['rating_power']  = df[\"Rating\"] * df[\"No of people Rated\"]\n",
        "# or\n",
        "df  = df.assign(rating_power=lambda this_df: this_df[\"Rating\"] * this_df[\"No of people Rated\"])\n",
        "df.head()"
      ],
      "execution_count": null,
      "outputs": []
    },
    {
      "cell_type": "markdown",
      "metadata": {
        "ExecuteTime": {
          "end_time": "2020-07-27T09:30:28.789412Z",
          "start_time": "2020-07-27T09:30:28.758142Z"
        },
        "id": "TBKnzB-LjX71"
      },
      "source": [
        "There are common chart implemented in Pandas. You can access them using `.plot.`. You can use it with a Dataframe or a Series."
      ]
    },
    {
      "cell_type": "code",
      "metadata": {
        "ExecuteTime": {
          "end_time": "2020-07-27T08:47:12.184527Z",
          "start_time": "2020-07-27T08:47:11.856979Z"
        },
        "id": "Xbr5lYz0jX71"
      },
      "source": [
        "df.rating_power.plot.hist(bins=50)"
      ],
      "execution_count": null,
      "outputs": []
    },
    {
      "cell_type": "markdown",
      "metadata": {
        "ExecuteTime": {
          "end_time": "2020-07-27T09:31:00.951272Z",
          "start_time": "2020-07-27T09:31:00.935643Z"
        },
        "id": "A2B9FziKjX71"
      },
      "source": [
        "If you need to know what unique labels are in the column, you can use `.unique()`"
      ]
    },
    {
      "cell_type": "code",
      "metadata": {
        "ExecuteTime": {
          "end_time": "2020-07-27T08:48:45.459900Z",
          "start_time": "2020-07-27T08:48:45.444255Z"
        },
        "id": "d5Ql37a8jX71"
      },
      "source": [
        "df['Category'].unique()"
      ],
      "execution_count": null,
      "outputs": []
    },
    {
      "cell_type": "markdown",
      "metadata": {
        "ExecuteTime": {
          "end_time": "2020-07-27T09:54:06.320116Z",
          "start_time": "2020-07-27T09:54:06.304491Z"
        },
        "id": "PfIRJRCfjX72"
      },
      "source": [
        "One of the most frequent operations in Pandas is filtering. You can do it using boolean indexing or `.query()` function."
      ]
    },
    {
      "cell_type": "code",
      "metadata": {
        "ExecuteTime": {
          "end_time": "2020-07-27T08:48:53.267726Z",
          "start_time": "2020-07-27T08:48:53.220852Z"
        },
        "id": "NaJ11DK4jX73"
      },
      "source": [
        "df.loc[df['Category'] == 'Music']"
      ],
      "execution_count": null,
      "outputs": []
    },
    {
      "cell_type": "code",
      "metadata": {
        "ExecuteTime": {
          "end_time": "2020-07-27T08:51:12.285244Z",
          "start_time": "2020-07-27T08:51:12.247458Z"
        },
        "id": "ve6WJNrZjX8C"
      },
      "source": [
        "df.loc[df['Category'] == 'Music'].sort_values('rating_power', ascending=False)"
      ],
      "execution_count": null,
      "outputs": []
    },
    {
      "cell_type": "code",
      "metadata": {
        "ExecuteTime": {
          "end_time": "2020-07-27T08:51:36.055830Z",
          "start_time": "2020-07-27T08:51:35.986797Z"
        },
        "id": "NKcPt_YwjX8H"
      },
      "source": [
        "df.query('Category == \"Music\"')"
      ],
      "execution_count": null,
      "outputs": []
    },
    {
      "cell_type": "code",
      "metadata": {
        "ExecuteTime": {
          "end_time": "2020-07-27T09:18:27.827020Z",
          "start_time": "2020-07-27T09:18:27.795906Z"
        },
        "id": "46yLhHgKjX8I"
      },
      "source": [
        "# Find Lifestyle apps with best rating\n",
        "###\n",
        "### Your code here\n",
        "###"
      ],
      "execution_count": null,
      "outputs": []
    },
    {
      "cell_type": "code",
      "metadata": {
        "ExecuteTime": {
          "end_time": "2020-07-27T09:18:29.769617Z",
          "start_time": "2020-07-27T09:18:29.753972Z"
        },
        "id": "QgMJUuMbjX8K"
      },
      "source": [
        "# Find all apps from `Health and Fitness` category with more than 600 people rated\n",
        "###\n",
        "### Your code here\n",
        "###"
      ],
      "execution_count": null,
      "outputs": []
    },
    {
      "cell_type": "markdown",
      "metadata": {
        "ExecuteTime": {
          "end_time": "2020-07-27T09:55:12.057641Z",
          "start_time": "2020-07-27T09:55:12.019901Z"
        },
        "id": "tFXI0kmJjX8K"
      },
      "source": [
        "Another common use case is applying cusom function via `.apply()`. You can apply any function to dataframe row- or column-wise."
      ]
    },
    {
      "cell_type": "code",
      "metadata": {
        "ExecuteTime": {
          "end_time": "2020-07-27T08:52:26.159448Z",
          "start_time": "2020-07-27T08:52:25.996752Z"
        },
        "id": "bfsaKytUjX8K"
      },
      "source": [
        "df.apply(lambda this_df: this_df.Price != 'Free', axis=1)"
      ],
      "execution_count": null,
      "outputs": []
    },
    {
      "cell_type": "code",
      "metadata": {
        "ExecuteTime": {
          "end_time": "2020-07-27T09:18:37.755306Z",
          "start_time": "2020-07-27T09:18:37.724047Z"
        },
        "id": "gtjTQUywjX8L"
      },
      "source": [
        "def price_to_num(p):\n",
        "    \"\"\"\n",
        "    Function to convert price columns to float values.\n",
        "    In case of free app set price to zero.\n",
        "    Leave NaNs as is.\n",
        "    \"\"\"\n",
        "    ###\n",
        "    ### Your code here\n",
        "    ###\n",
        "\n",
        "df.Price.apply(price_to_num)"
      ],
      "execution_count": null,
      "outputs": []
    },
    {
      "cell_type": "markdown",
      "metadata": {
        "ExecuteTime": {
          "end_time": "2020-07-27T09:56:04.421117Z",
          "start_time": "2020-07-27T09:56:04.405491Z"
        },
        "id": "olRV541-jX8M"
      },
      "source": [
        "That's it for now. Pandas has user guide with best practices for all functionality. Find it [here](https://pandas.pydata.org/docs/user_guide/index.html). Pandas is one of the vitals for data scientist, spending more time to learn it is highly recommended."
      ]
    }
  ]
}